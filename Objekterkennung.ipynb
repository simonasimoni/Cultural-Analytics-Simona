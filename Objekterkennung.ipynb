{
 "cells": [
  {
   "cell_type": "markdown",
   "id": "dee403dd-19bb-4612-bf41-391b40ddcf2f",
   "metadata": {
    "id": "dee403dd-19bb-4612-bf41-391b40ddcf2f"
   },
   "source": [
    "#  Objekterkennung"
   ]
  },
  {
   "cell_type": "markdown",
   "id": "8b0163f5-b809-4dea-88cc-53ddd9c05477",
   "metadata": {
    "id": "8b0163f5-b809-4dea-88cc-53ddd9c05477"
   },
   "source": [
    "## Objekt- und Personenerkennung auf den politischen Plakaten"
   ]
  },
  {
   "cell_type": "code",
   "execution_count": null,
   "id": "8af92908-b05f-4e8a-9f2f-32ec546f6056",
   "metadata": {
    "executionInfo": {
     "elapsed": 18,
     "status": "ok",
     "timestamp": 1742254970367,
     "user": {
      "displayName": "Simona Simoni",
      "userId": "03680606385837659687"
     },
     "user_tz": -60
    },
    "id": "8af92908-b05f-4e8a-9f2f-32ec546f6056"
   },
   "outputs": [],
   "source": [
    "import os\n",
    "from PIL import Image\n",
    "import torch\n",
    "from ultralytics import YOLO\n",
    "import yaml\n",
    "import matplotlib.pyplot as plt\n",
    "import csv\n",
    "import pandas as pd\n",
    "from collections import defaultdict\n",
    "import itertools\n",
    "import seaborn as sns\n",
    "\n",
    "root_dir = '/home/sc.uni-leipzig.de/lj25vapa/Cultural Analytics'"
   ]
  },
  {
   "cell_type": "code",
   "execution_count": 14,
   "id": "a5db82cc-d97d-420e-8d82-28cf47e3ea30",
   "metadata": {
    "executionInfo": {
     "elapsed": 64,
     "status": "ok",
     "timestamp": 1742249468215,
     "user": {
      "displayName": "Simona Simoni",
      "userId": "03680606385837659687"
     },
     "user_tz": -60
    },
    "id": "a5db82cc-d97d-420e-8d82-28cf47e3ea30"
   },
   "outputs": [],
   "source": [
    "# Das Model laden\n",
    "model = YOLO(\"yolo11n.pt\")"
   ]
  },
  {
   "cell_type": "code",
   "execution_count": 15,
   "id": "3fb245ad-d02f-4baf-ab2d-b67f39e8e4e1",
   "metadata": {
    "colab": {
     "base_uri": "https://localhost:8080/"
    },
    "executionInfo": {
     "elapsed": 1335841,
     "status": "ok",
     "timestamp": 1742250823900,
     "user": {
      "displayName": "Simona Simoni",
      "userId": "03680606385837659687"
     },
     "user_tz": -60
    },
    "id": "3fb245ad-d02f-4baf-ab2d-b67f39e8e4e1",
    "outputId": "0b5b9bc4-5b80-47d4-ba17-df82fbc93d2a"
   },
   "outputs": [
    {
     "name": "stdout",
     "output_type": "stream",
     "text": [
      "Ultralytics 8.3.92 🚀 Python-3.11.11 torch-2.6.0+cu124 CUDA:0 (Tesla T4, 15095MiB)\n",
      "\u001b[34m\u001b[1mengine/trainer: \u001b[0mtask=detect, mode=train, model=yolo11n.pt, data=/content/gdrive/MyDrive/Colab Notebooks/config.yaml, epochs=100, time=None, patience=10, batch=16, imgsz=640, save=True, save_period=-1, cache=False, device=0, workers=8, project=None, name=train, exist_ok=False, pretrained=True, optimizer=AdamW, verbose=True, seed=0, deterministic=True, single_cls=False, rect=False, cos_lr=False, close_mosaic=10, resume=False, amp=True, fraction=1.0, profile=False, freeze=None, multi_scale=False, overlap_mask=True, mask_ratio=4, dropout=0.2, val=True, split=val, save_json=False, save_hybrid=False, conf=None, iou=0.7, max_det=300, half=False, dnn=False, plots=True, source=None, vid_stride=1, stream_buffer=False, visualize=False, augment=False, agnostic_nms=False, classes=None, retina_masks=False, embed=None, show=False, save_frames=False, save_txt=False, save_conf=False, save_crop=False, show_labels=True, show_conf=True, show_boxes=True, line_width=None, format=torchscript, keras=False, optimize=False, int8=False, dynamic=False, simplify=True, opset=None, workspace=None, nms=False, lr0=0.001, lrf=0.1, momentum=0.937, weight_decay=0.0002, warmup_epochs=3.0, warmup_momentum=0.8, warmup_bias_lr=0.1, box=7.5, cls=0.5, dfl=1.5, pose=12.0, kobj=1.0, nbs=64, hsv_h=0.015, hsv_s=0.7, hsv_v=0.4, degrees=0.0, translate=0.1, scale=0.5, shear=0.0, perspective=0.0, flipud=0.0, fliplr=0.5, bgr=0.0, mosaic=1.0, mixup=0.0, copy_paste=0.0, copy_paste_mode=flip, auto_augment=randaugment, erasing=0.4, crop_fraction=1.0, cfg=None, tracker=botsort.yaml, save_dir=runs/detect/train\n",
      "Overriding model.yaml nc=80 with nc=22\n",
      "\n",
      "                   from  n    params  module                                       arguments                     \n",
      "  0                  -1  1       464  ultralytics.nn.modules.conv.Conv             [3, 16, 3, 2]                 \n",
      "  1                  -1  1      4672  ultralytics.nn.modules.conv.Conv             [16, 32, 3, 2]                \n",
      "  2                  -1  1      6640  ultralytics.nn.modules.block.C3k2            [32, 64, 1, False, 0.25]      \n",
      "  3                  -1  1     36992  ultralytics.nn.modules.conv.Conv             [64, 64, 3, 2]                \n",
      "  4                  -1  1     26080  ultralytics.nn.modules.block.C3k2            [64, 128, 1, False, 0.25]     \n",
      "  5                  -1  1    147712  ultralytics.nn.modules.conv.Conv             [128, 128, 3, 2]              \n",
      "  6                  -1  1     87040  ultralytics.nn.modules.block.C3k2            [128, 128, 1, True]           \n",
      "  7                  -1  1    295424  ultralytics.nn.modules.conv.Conv             [128, 256, 3, 2]              \n",
      "  8                  -1  1    346112  ultralytics.nn.modules.block.C3k2            [256, 256, 1, True]           \n",
      "  9                  -1  1    164608  ultralytics.nn.modules.block.SPPF            [256, 256, 5]                 \n",
      " 10                  -1  1    249728  ultralytics.nn.modules.block.C2PSA           [256, 256, 1]                 \n",
      " 11                  -1  1         0  torch.nn.modules.upsampling.Upsample         [None, 2, 'nearest']          \n",
      " 12             [-1, 6]  1         0  ultralytics.nn.modules.conv.Concat           [1]                           \n",
      " 13                  -1  1    111296  ultralytics.nn.modules.block.C3k2            [384, 128, 1, False]          \n",
      " 14                  -1  1         0  torch.nn.modules.upsampling.Upsample         [None, 2, 'nearest']          \n",
      " 15             [-1, 4]  1         0  ultralytics.nn.modules.conv.Concat           [1]                           \n",
      " 16                  -1  1     32096  ultralytics.nn.modules.block.C3k2            [256, 64, 1, False]           \n",
      " 17                  -1  1     36992  ultralytics.nn.modules.conv.Conv             [64, 64, 3, 2]                \n",
      " 18            [-1, 13]  1         0  ultralytics.nn.modules.conv.Concat           [1]                           \n",
      " 19                  -1  1     86720  ultralytics.nn.modules.block.C3k2            [192, 128, 1, False]          \n",
      " 20                  -1  1    147712  ultralytics.nn.modules.conv.Conv             [128, 128, 3, 2]              \n",
      " 21            [-1, 10]  1         0  ultralytics.nn.modules.conv.Concat           [1]                           \n",
      " 22                  -1  1    378880  ultralytics.nn.modules.block.C3k2            [384, 256, 1, True]           \n",
      " 23        [16, 19, 22]  1    434962  ultralytics.nn.modules.head.Detect           [22, [64, 128, 256]]          \n",
      "YOLO11n summary: 181 layers, 2,594,130 parameters, 2,594,114 gradients, 6.5 GFLOPs\n",
      "\n",
      "Transferred 448/499 items from pretrained weights\n",
      "\u001b[34m\u001b[1mTensorBoard: \u001b[0mStart with 'tensorboard --logdir runs/detect/train', view at http://localhost:6006/\n",
      "Freezing layer 'model.23.dfl.conv.weight'\n",
      "\u001b[34m\u001b[1mAMP: \u001b[0mrunning Automatic Mixed Precision (AMP) checks...\n",
      "\u001b[34m\u001b[1mAMP: \u001b[0mchecks passed ✅\n"
     ]
    },
    {
     "name": "stderr",
     "output_type": "stream",
     "text": [
      "\u001b[34m\u001b[1mtrain: \u001b[0mScanning /content/gdrive/MyDrive/Colab Notebooks/yolo/train/labels.cache... 804 images, 9 backgrounds, 0 corrupt: 100%|██████████| 813/813 [00:00<?, ?it/s]"
     ]
    },
    {
     "name": "stdout",
     "output_type": "stream",
     "text": [
      "WARNING ⚠️ Box and segment counts should be equal, but got len(segments) = 75, len(boxes) = 2054. To resolve this only boxes will be used and all segments will be removed. To avoid this please supply either a detect or segment dataset, not a detect-segment mixed dataset.\n",
      "\u001b[34m\u001b[1malbumentations: \u001b[0mBlur(p=0.01, blur_limit=(3, 7)), MedianBlur(p=0.01, blur_limit=(3, 7)), ToGray(p=0.01, num_output_channels=3, method='weighted_average'), CLAHE(p=0.01, clip_limit=(1.0, 4.0), tile_grid_size=(8, 8))\n"
     ]
    },
    {
     "name": "stderr",
     "output_type": "stream",
     "text": [
      "\n",
      "\u001b[34m\u001b[1mval: \u001b[0mScanning /content/gdrive/MyDrive/Colab Notebooks/yolo/validation/labels.cache... 108 images, 1 backgrounds, 0 corrupt: 100%|██████████| 109/109 [00:00<?, ?it/s]\n"
     ]
    },
    {
     "name": "stdout",
     "output_type": "stream",
     "text": [
      "Plotting labels to runs/detect/train/labels.jpg... \n",
      "\u001b[34m\u001b[1moptimizer:\u001b[0m AdamW(lr=0.001, momentum=0.937) with parameter groups 81 weight(decay=0.0), 88 weight(decay=0.0002), 87 bias(decay=0.0)\n",
      "\u001b[34m\u001b[1mTensorBoard: \u001b[0mmodel graph visualization added ✅\n",
      "Image sizes 640 train, 640 val\n",
      "Using 2 dataloader workers\n",
      "Logging results to \u001b[1mruns/detect/train\u001b[0m\n",
      "Starting training for 100 epochs...\n",
      "\n",
      "      Epoch    GPU_mem   box_loss   cls_loss   dfl_loss  Instances       Size\n"
     ]
    },
    {
     "name": "stderr",
     "output_type": "stream",
     "text": [
      "      1/100       2.5G      1.906      4.261      1.987         70        640: 100%|██████████| 51/51 [00:25<00:00,  2.03it/s]\n",
      "                 Class     Images  Instances      Box(P          R      mAP50  mAP50-95): 100%|██████████| 4/4 [00:01<00:00,  2.32it/s]"
     ]
    },
    {
     "name": "stdout",
     "output_type": "stream",
     "text": [
      "                   all        109        331   0.000351      0.089     0.0018   0.000442\n"
     ]
    },
    {
     "name": "stderr",
     "output_type": "stream",
     "text": [
      "\n"
     ]
    },
    {
     "name": "stdout",
     "output_type": "stream",
     "text": [
      "\n",
      "      Epoch    GPU_mem   box_loss   cls_loss   dfl_loss  Instances       Size\n"
     ]
    },
    {
     "name": "stderr",
     "output_type": "stream",
     "text": [
      "      2/100      2.89G      1.895          4      1.991         69        640: 100%|██████████| 51/51 [00:22<00:00,  2.28it/s]\n",
      "                 Class     Images  Instances      Box(P          R      mAP50  mAP50-95): 100%|██████████| 4/4 [00:02<00:00,  1.40it/s]"
     ]
    },
    {
     "name": "stdout",
     "output_type": "stream",
     "text": [
      "                   all        109        331      0.463     0.0325    0.00684    0.00219\n"
     ]
    },
    {
     "name": "stderr",
     "output_type": "stream",
     "text": [
      "\n"
     ]
    },
    {
     "name": "stdout",
     "output_type": "stream",
     "text": [
      "\n",
      "      Epoch    GPU_mem   box_loss   cls_loss   dfl_loss  Instances       Size\n"
     ]
    },
    {
     "name": "stderr",
     "output_type": "stream",
     "text": [
      "      3/100      2.89G      1.917      3.853      2.015         76        640: 100%|██████████| 51/51 [00:20<00:00,  2.52it/s]\n",
      "                 Class     Images  Instances      Box(P          R      mAP50  mAP50-95): 100%|██████████| 4/4 [00:02<00:00,  1.42it/s]"
     ]
    },
    {
     "name": "stdout",
     "output_type": "stream",
     "text": [
      "                   all        109        331      0.408     0.0417    0.00647    0.00217\n"
     ]
    },
    {
     "name": "stderr",
     "output_type": "stream",
     "text": [
      "\n"
     ]
    },
    {
     "name": "stdout",
     "output_type": "stream",
     "text": [
      "\n",
      "      Epoch    GPU_mem   box_loss   cls_loss   dfl_loss  Instances       Size\n"
     ]
    },
    {
     "name": "stderr",
     "output_type": "stream",
     "text": [
      "      4/100      2.89G      1.912      3.764      2.037         70        640: 100%|██████████| 51/51 [00:22<00:00,  2.30it/s]\n",
      "                 Class     Images  Instances      Box(P          R      mAP50  mAP50-95): 100%|██████████| 4/4 [00:02<00:00,  1.76it/s]"
     ]
    },
    {
     "name": "stdout",
     "output_type": "stream",
     "text": [
      "                   all        109        331      0.569     0.0508     0.0126    0.00403\n"
     ]
    },
    {
     "name": "stderr",
     "output_type": "stream",
     "text": [
      "\n"
     ]
    },
    {
     "name": "stdout",
     "output_type": "stream",
     "text": [
      "\n",
      "      Epoch    GPU_mem   box_loss   cls_loss   dfl_loss  Instances       Size\n"
     ]
    },
    {
     "name": "stderr",
     "output_type": "stream",
     "text": [
      "      5/100      2.89G      1.879      3.613      2.018         65        640: 100%|██████████| 51/51 [00:21<00:00,  2.37it/s]\n",
      "                 Class     Images  Instances      Box(P          R      mAP50  mAP50-95): 100%|██████████| 4/4 [00:02<00:00,  1.33it/s]"
     ]
    },
    {
     "name": "stdout",
     "output_type": "stream",
     "text": [
      "                   all        109        331      0.569     0.0325     0.0227    0.00709\n"
     ]
    },
    {
     "name": "stderr",
     "output_type": "stream",
     "text": [
      "\n"
     ]
    },
    {
     "name": "stdout",
     "output_type": "stream",
     "text": [
      "\n",
      "      Epoch    GPU_mem   box_loss   cls_loss   dfl_loss  Instances       Size\n"
     ]
    },
    {
     "name": "stderr",
     "output_type": "stream",
     "text": [
      "      6/100      2.89G      1.854      3.491      1.997         52        640: 100%|██████████| 51/51 [00:20<00:00,  2.46it/s]\n",
      "                 Class     Images  Instances      Box(P          R      mAP50  mAP50-95): 100%|██████████| 4/4 [00:01<00:00,  2.02it/s]"
     ]
    },
    {
     "name": "stdout",
     "output_type": "stream",
     "text": [
      "                   all        109        331     0.0191     0.0835     0.0214      0.008\n"
     ]
    },
    {
     "name": "stderr",
     "output_type": "stream",
     "text": [
      "\n"
     ]
    },
    {
     "name": "stdout",
     "output_type": "stream",
     "text": [
      "\n",
      "      Epoch    GPU_mem   box_loss   cls_loss   dfl_loss  Instances       Size\n"
     ]
    },
    {
     "name": "stderr",
     "output_type": "stream",
     "text": [
      "      7/100      2.89G      1.836      3.446      2.001         58        640: 100%|██████████| 51/51 [00:21<00:00,  2.34it/s]\n",
      "                 Class     Images  Instances      Box(P          R      mAP50  mAP50-95): 100%|██████████| 4/4 [00:02<00:00,  1.90it/s]"
     ]
    },
    {
     "name": "stdout",
     "output_type": "stream",
     "text": [
      "                   all        109        331       0.33     0.0813     0.0321     0.0119\n"
     ]
    },
    {
     "name": "stderr",
     "output_type": "stream",
     "text": [
      "\n"
     ]
    },
    {
     "name": "stdout",
     "output_type": "stream",
     "text": [
      "\n",
      "      Epoch    GPU_mem   box_loss   cls_loss   dfl_loss  Instances       Size\n"
     ]
    },
    {
     "name": "stderr",
     "output_type": "stream",
     "text": [
      "      8/100      2.89G      1.807      3.338      1.981         58        640: 100%|██████████| 51/51 [00:21<00:00,  2.37it/s]\n",
      "                 Class     Images  Instances      Box(P          R      mAP50  mAP50-95): 100%|██████████| 4/4 [00:01<00:00,  2.04it/s]"
     ]
    },
    {
     "name": "stdout",
     "output_type": "stream",
     "text": [
      "                   all        109        331      0.296     0.0693     0.0367     0.0141\n"
     ]
    },
    {
     "name": "stderr",
     "output_type": "stream",
     "text": [
      "\n"
     ]
    },
    {
     "name": "stdout",
     "output_type": "stream",
     "text": [
      "\n",
      "      Epoch    GPU_mem   box_loss   cls_loss   dfl_loss  Instances       Size\n"
     ]
    },
    {
     "name": "stderr",
     "output_type": "stream",
     "text": [
      "      9/100      2.89G      1.784      3.242      1.908         30        640: 100%|██████████| 51/51 [00:20<00:00,  2.50it/s]\n",
      "                 Class     Images  Instances      Box(P          R      mAP50  mAP50-95): 100%|██████████| 4/4 [00:01<00:00,  2.35it/s]\n"
     ]
    },
    {
     "name": "stdout",
     "output_type": "stream",
     "text": [
      "                   all        109        331      0.234     0.0604     0.0241    0.00882\n",
      "\n",
      "      Epoch    GPU_mem   box_loss   cls_loss   dfl_loss  Instances       Size\n"
     ]
    },
    {
     "name": "stderr",
     "output_type": "stream",
     "text": [
      "     10/100      2.89G      1.747      3.191      1.907         65        640: 100%|██████████| 51/51 [00:22<00:00,  2.30it/s]\n",
      "                 Class     Images  Instances      Box(P          R      mAP50  mAP50-95): 100%|██████████| 4/4 [00:01<00:00,  2.08it/s]"
     ]
    },
    {
     "name": "stdout",
     "output_type": "stream",
     "text": [
      "                   all        109        331       0.21     0.0932     0.0536     0.0218\n"
     ]
    },
    {
     "name": "stderr",
     "output_type": "stream",
     "text": [
      "\n"
     ]
    },
    {
     "name": "stdout",
     "output_type": "stream",
     "text": [
      "\n",
      "      Epoch    GPU_mem   box_loss   cls_loss   dfl_loss  Instances       Size\n"
     ]
    },
    {
     "name": "stderr",
     "output_type": "stream",
     "text": [
      "     11/100      2.89G      1.744      3.117      1.901         41        640: 100%|██████████| 51/51 [00:20<00:00,  2.53it/s]\n",
      "                 Class     Images  Instances      Box(P          R      mAP50  mAP50-95): 100%|██████████| 4/4 [00:03<00:00,  1.27it/s]"
     ]
    },
    {
     "name": "stdout",
     "output_type": "stream",
     "text": [
      "                   all        109        331      0.238      0.118     0.0477     0.0172\n"
     ]
    },
    {
     "name": "stderr",
     "output_type": "stream",
     "text": [
      "\n"
     ]
    },
    {
     "name": "stdout",
     "output_type": "stream",
     "text": [
      "\n",
      "      Epoch    GPU_mem   box_loss   cls_loss   dfl_loss  Instances       Size\n"
     ]
    },
    {
     "name": "stderr",
     "output_type": "stream",
     "text": [
      "     12/100      2.89G        1.7      3.051      1.876         79        640: 100%|██████████| 51/51 [00:20<00:00,  2.54it/s]\n",
      "                 Class     Images  Instances      Box(P          R      mAP50  mAP50-95): 100%|██████████| 4/4 [00:01<00:00,  2.15it/s]"
     ]
    },
    {
     "name": "stdout",
     "output_type": "stream",
     "text": [
      "                   all        109        331      0.246     0.0743     0.0461     0.0179\n"
     ]
    },
    {
     "name": "stderr",
     "output_type": "stream",
     "text": [
      "\n"
     ]
    },
    {
     "name": "stdout",
     "output_type": "stream",
     "text": [
      "\n",
      "      Epoch    GPU_mem   box_loss   cls_loss   dfl_loss  Instances       Size\n"
     ]
    },
    {
     "name": "stderr",
     "output_type": "stream",
     "text": [
      "     13/100       2.9G      1.715      2.983       1.88         59        640: 100%|██████████| 51/51 [00:22<00:00,  2.31it/s]\n",
      "                 Class     Images  Instances      Box(P          R      mAP50  mAP50-95): 100%|██████████| 4/4 [00:01<00:00,  2.34it/s]"
     ]
    },
    {
     "name": "stdout",
     "output_type": "stream",
     "text": [
      "                   all        109        331      0.401      0.124     0.0504     0.0214\n"
     ]
    },
    {
     "name": "stderr",
     "output_type": "stream",
     "text": [
      "\n"
     ]
    },
    {
     "name": "stdout",
     "output_type": "stream",
     "text": [
      "\n",
      "      Epoch    GPU_mem   box_loss   cls_loss   dfl_loss  Instances       Size\n"
     ]
    },
    {
     "name": "stderr",
     "output_type": "stream",
     "text": [
      "     14/100       2.9G      1.721      2.954      1.882         53        640: 100%|██████████| 51/51 [00:20<00:00,  2.49it/s]\n",
      "                 Class     Images  Instances      Box(P          R      mAP50  mAP50-95): 100%|██████████| 4/4 [00:02<00:00,  1.37it/s]\n"
     ]
    },
    {
     "name": "stdout",
     "output_type": "stream",
     "text": [
      "                   all        109        331      0.175     0.0939     0.0522     0.0205\n",
      "\n",
      "      Epoch    GPU_mem   box_loss   cls_loss   dfl_loss  Instances       Size\n"
     ]
    },
    {
     "name": "stderr",
     "output_type": "stream",
     "text": [
      "     15/100       2.9G      1.708      2.855      1.866         34        640: 100%|██████████| 51/51 [00:19<00:00,  2.58it/s]\n",
      "                 Class     Images  Instances      Box(P          R      mAP50  mAP50-95): 100%|██████████| 4/4 [00:01<00:00,  2.35it/s]"
     ]
    },
    {
     "name": "stdout",
     "output_type": "stream",
     "text": [
      "                   all        109        331      0.242      0.144     0.0641     0.0235\n"
     ]
    },
    {
     "name": "stderr",
     "output_type": "stream",
     "text": [
      "\n"
     ]
    },
    {
     "name": "stdout",
     "output_type": "stream",
     "text": [
      "\n",
      "      Epoch    GPU_mem   box_loss   cls_loss   dfl_loss  Instances       Size\n"
     ]
    },
    {
     "name": "stderr",
     "output_type": "stream",
     "text": [
      "     16/100      2.91G      1.669      2.789      1.842         57        640: 100%|██████████| 51/51 [00:21<00:00,  2.34it/s]\n",
      "                 Class     Images  Instances      Box(P          R      mAP50  mAP50-95): 100%|██████████| 4/4 [00:01<00:00,  2.09it/s]\n"
     ]
    },
    {
     "name": "stdout",
     "output_type": "stream",
     "text": [
      "                   all        109        331      0.195      0.129     0.0611     0.0222\n",
      "\n",
      "      Epoch    GPU_mem   box_loss   cls_loss   dfl_loss  Instances       Size\n"
     ]
    },
    {
     "name": "stderr",
     "output_type": "stream",
     "text": [
      "     17/100      2.92G      1.635       2.76      1.821         59        640: 100%|██████████| 51/51 [00:20<00:00,  2.54it/s]\n",
      "                 Class     Images  Instances      Box(P          R      mAP50  mAP50-95): 100%|██████████| 4/4 [00:02<00:00,  1.90it/s]\n"
     ]
    },
    {
     "name": "stdout",
     "output_type": "stream",
     "text": [
      "                   all        109        331      0.367      0.134     0.0677     0.0214\n",
      "\n",
      "      Epoch    GPU_mem   box_loss   cls_loss   dfl_loss  Instances       Size\n"
     ]
    },
    {
     "name": "stderr",
     "output_type": "stream",
     "text": [
      "     18/100      2.92G       1.65      2.728      1.823         64        640: 100%|██████████| 51/51 [00:20<00:00,  2.46it/s]\n",
      "                 Class     Images  Instances      Box(P          R      mAP50  mAP50-95): 100%|██████████| 4/4 [00:01<00:00,  2.25it/s]"
     ]
    },
    {
     "name": "stdout",
     "output_type": "stream",
     "text": [
      "                   all        109        331       0.17      0.113     0.0648     0.0254\n"
     ]
    },
    {
     "name": "stderr",
     "output_type": "stream",
     "text": [
      "\n"
     ]
    },
    {
     "name": "stdout",
     "output_type": "stream",
     "text": [
      "\n",
      "      Epoch    GPU_mem   box_loss   cls_loss   dfl_loss  Instances       Size\n"
     ]
    },
    {
     "name": "stderr",
     "output_type": "stream",
     "text": [
      "     19/100      2.92G      1.626      2.634      1.794         57        640: 100%|██████████| 51/51 [00:21<00:00,  2.39it/s]\n",
      "                 Class     Images  Instances      Box(P          R      mAP50  mAP50-95): 100%|██████████| 4/4 [00:02<00:00,  1.82it/s]"
     ]
    },
    {
     "name": "stdout",
     "output_type": "stream",
     "text": [
      "                   all        109        331      0.254      0.117     0.0901     0.0414\n"
     ]
    },
    {
     "name": "stderr",
     "output_type": "stream",
     "text": [
      "\n"
     ]
    },
    {
     "name": "stdout",
     "output_type": "stream",
     "text": [
      "\n",
      "      Epoch    GPU_mem   box_loss   cls_loss   dfl_loss  Instances       Size\n"
     ]
    },
    {
     "name": "stderr",
     "output_type": "stream",
     "text": [
      "     20/100      2.92G      1.571      2.553       1.75         62        640: 100%|██████████| 51/51 [00:20<00:00,  2.53it/s]\n",
      "                 Class     Images  Instances      Box(P          R      mAP50  mAP50-95): 100%|██████████| 4/4 [00:01<00:00,  2.05it/s]"
     ]
    },
    {
     "name": "stdout",
     "output_type": "stream",
     "text": [
      "                   all        109        331      0.213      0.155     0.0928     0.0385\n"
     ]
    },
    {
     "name": "stderr",
     "output_type": "stream",
     "text": [
      "\n"
     ]
    },
    {
     "name": "stdout",
     "output_type": "stream",
     "text": [
      "\n",
      "      Epoch    GPU_mem   box_loss   cls_loss   dfl_loss  Instances       Size\n"
     ]
    },
    {
     "name": "stderr",
     "output_type": "stream",
     "text": [
      "     21/100      2.92G      1.581      2.528      1.751         52        640: 100%|██████████| 51/51 [00:21<00:00,  2.34it/s]\n",
      "                 Class     Images  Instances      Box(P          R      mAP50  mAP50-95): 100%|██████████| 4/4 [00:01<00:00,  2.24it/s]"
     ]
    },
    {
     "name": "stdout",
     "output_type": "stream",
     "text": [
      "                   all        109        331      0.219      0.117     0.0791     0.0334\n"
     ]
    },
    {
     "name": "stderr",
     "output_type": "stream",
     "text": [
      "\n"
     ]
    },
    {
     "name": "stdout",
     "output_type": "stream",
     "text": [
      "\n",
      "      Epoch    GPU_mem   box_loss   cls_loss   dfl_loss  Instances       Size\n"
     ]
    },
    {
     "name": "stderr",
     "output_type": "stream",
     "text": [
      "     22/100      2.92G      1.566       2.47      1.757         73        640: 100%|██████████| 51/51 [00:20<00:00,  2.53it/s]\n",
      "                 Class     Images  Instances      Box(P          R      mAP50  mAP50-95): 100%|██████████| 4/4 [00:02<00:00,  1.44it/s]\n"
     ]
    },
    {
     "name": "stdout",
     "output_type": "stream",
     "text": [
      "                   all        109        331      0.253      0.141     0.0938     0.0325\n",
      "\n",
      "      Epoch    GPU_mem   box_loss   cls_loss   dfl_loss  Instances       Size\n"
     ]
    },
    {
     "name": "stderr",
     "output_type": "stream",
     "text": [
      "     23/100      2.92G      1.576      2.433      1.745         74        640: 100%|██████████| 51/51 [00:19<00:00,  2.57it/s]\n",
      "                 Class     Images  Instances      Box(P          R      mAP50  mAP50-95): 100%|██████████| 4/4 [00:01<00:00,  2.16it/s]"
     ]
    },
    {
     "name": "stdout",
     "output_type": "stream",
     "text": [
      "                   all        109        331      0.364        0.1     0.0817     0.0318\n"
     ]
    },
    {
     "name": "stderr",
     "output_type": "stream",
     "text": [
      "\n"
     ]
    },
    {
     "name": "stdout",
     "output_type": "stream",
     "text": [
      "\n",
      "      Epoch    GPU_mem   box_loss   cls_loss   dfl_loss  Instances       Size\n"
     ]
    },
    {
     "name": "stderr",
     "output_type": "stream",
     "text": [
      "     24/100      2.92G      1.526      2.409      1.716         35        640: 100%|██████████| 51/51 [00:21<00:00,  2.37it/s]\n",
      "                 Class     Images  Instances      Box(P          R      mAP50  mAP50-95): 100%|██████████| 4/4 [00:01<00:00,  2.72it/s]"
     ]
    },
    {
     "name": "stdout",
     "output_type": "stream",
     "text": [
      "                   all        109        331      0.216      0.124     0.0841     0.0335\n"
     ]
    },
    {
     "name": "stderr",
     "output_type": "stream",
     "text": [
      "\n"
     ]
    },
    {
     "name": "stdout",
     "output_type": "stream",
     "text": [
      "\n",
      "      Epoch    GPU_mem   box_loss   cls_loss   dfl_loss  Instances       Size\n"
     ]
    },
    {
     "name": "stderr",
     "output_type": "stream",
     "text": [
      "     25/100      2.92G      1.543      2.365      1.719         76        640: 100%|██████████| 51/51 [00:19<00:00,  2.56it/s]\n",
      "                 Class     Images  Instances      Box(P          R      mAP50  mAP50-95): 100%|██████████| 4/4 [00:02<00:00,  1.74it/s]"
     ]
    },
    {
     "name": "stdout",
     "output_type": "stream",
     "text": [
      "                   all        109        331      0.276      0.148      0.103     0.0391\n"
     ]
    },
    {
     "name": "stderr",
     "output_type": "stream",
     "text": [
      "\n"
     ]
    },
    {
     "name": "stdout",
     "output_type": "stream",
     "text": [
      "\n",
      "      Epoch    GPU_mem   box_loss   cls_loss   dfl_loss  Instances       Size\n"
     ]
    },
    {
     "name": "stderr",
     "output_type": "stream",
     "text": [
      "     26/100      2.92G      1.549      2.334      1.742         78        640: 100%|██████████| 51/51 [00:20<00:00,  2.50it/s]\n",
      "                 Class     Images  Instances      Box(P          R      mAP50  mAP50-95): 100%|██████████| 4/4 [00:01<00:00,  2.39it/s]\n"
     ]
    },
    {
     "name": "stdout",
     "output_type": "stream",
     "text": [
      "                   all        109        331      0.402       0.12     0.0868     0.0368\n",
      "\n",
      "      Epoch    GPU_mem   box_loss   cls_loss   dfl_loss  Instances       Size\n"
     ]
    },
    {
     "name": "stderr",
     "output_type": "stream",
     "text": [
      "     27/100      2.92G      1.476      2.256      1.688         49        640: 100%|██████████| 51/51 [00:20<00:00,  2.50it/s]\n",
      "                 Class     Images  Instances      Box(P          R      mAP50  mAP50-95): 100%|██████████| 4/4 [00:02<00:00,  1.64it/s]"
     ]
    },
    {
     "name": "stdout",
     "output_type": "stream",
     "text": [
      "                   all        109        331      0.164      0.117     0.0765     0.0332\n"
     ]
    },
    {
     "name": "stderr",
     "output_type": "stream",
     "text": [
      "\n"
     ]
    },
    {
     "name": "stdout",
     "output_type": "stream",
     "text": [
      "\n",
      "      Epoch    GPU_mem   box_loss   cls_loss   dfl_loss  Instances       Size\n"
     ]
    },
    {
     "name": "stderr",
     "output_type": "stream",
     "text": [
      "     28/100      2.92G      1.517      2.184      1.697         49        640: 100%|██████████| 51/51 [00:19<00:00,  2.61it/s]\n",
      "                 Class     Images  Instances      Box(P          R      mAP50  mAP50-95): 100%|██████████| 4/4 [00:01<00:00,  2.35it/s]\n"
     ]
    },
    {
     "name": "stdout",
     "output_type": "stream",
     "text": [
      "                   all        109        331      0.106      0.177     0.0953     0.0445\n",
      "\n",
      "      Epoch    GPU_mem   box_loss   cls_loss   dfl_loss  Instances       Size\n"
     ]
    },
    {
     "name": "stderr",
     "output_type": "stream",
     "text": [
      "     29/100      2.92G      1.497      2.107      1.663         63        640: 100%|██████████| 51/51 [00:21<00:00,  2.36it/s]\n",
      "                 Class     Images  Instances      Box(P          R      mAP50  mAP50-95): 100%|██████████| 4/4 [00:01<00:00,  2.44it/s]"
     ]
    },
    {
     "name": "stdout",
     "output_type": "stream",
     "text": [
      "                   all        109        331      0.223      0.126     0.0826     0.0369\n"
     ]
    },
    {
     "name": "stderr",
     "output_type": "stream",
     "text": [
      "\n"
     ]
    },
    {
     "name": "stdout",
     "output_type": "stream",
     "text": [
      "\n",
      "      Epoch    GPU_mem   box_loss   cls_loss   dfl_loss  Instances       Size\n"
     ]
    },
    {
     "name": "stderr",
     "output_type": "stream",
     "text": [
      "     30/100      2.92G      1.471       2.09      1.652         42        640: 100%|██████████| 51/51 [00:19<00:00,  2.60it/s]\n",
      "                 Class     Images  Instances      Box(P          R      mAP50  mAP50-95): 100%|██████████| 4/4 [00:02<00:00,  1.97it/s]"
     ]
    },
    {
     "name": "stdout",
     "output_type": "stream",
     "text": [
      "                   all        109        331      0.204      0.142     0.0937     0.0441\n"
     ]
    },
    {
     "name": "stderr",
     "output_type": "stream",
     "text": [
      "\n"
     ]
    },
    {
     "name": "stdout",
     "output_type": "stream",
     "text": [
      "\n",
      "      Epoch    GPU_mem   box_loss   cls_loss   dfl_loss  Instances       Size\n"
     ]
    },
    {
     "name": "stderr",
     "output_type": "stream",
     "text": [
      "     31/100      2.92G      1.452      2.059      1.648         57        640: 100%|██████████| 51/51 [00:20<00:00,  2.45it/s]\n",
      "                 Class     Images  Instances      Box(P          R      mAP50  mAP50-95): 100%|██████████| 4/4 [00:01<00:00,  2.25it/s]"
     ]
    },
    {
     "name": "stdout",
     "output_type": "stream",
     "text": [
      "                   all        109        331      0.329      0.125     0.0896      0.043\n"
     ]
    },
    {
     "name": "stderr",
     "output_type": "stream",
     "text": [
      "\n"
     ]
    },
    {
     "name": "stdout",
     "output_type": "stream",
     "text": [
      "\n",
      "      Epoch    GPU_mem   box_loss   cls_loss   dfl_loss  Instances       Size\n"
     ]
    },
    {
     "name": "stderr",
     "output_type": "stream",
     "text": [
      "     32/100      2.92G      1.433      2.014      1.632         56        640: 100%|██████████| 51/51 [00:19<00:00,  2.58it/s]\n",
      "                 Class     Images  Instances      Box(P          R      mAP50  mAP50-95): 100%|██████████| 4/4 [00:02<00:00,  1.36it/s]"
     ]
    },
    {
     "name": "stdout",
     "output_type": "stream",
     "text": [
      "                   all        109        331      0.326     0.0862      0.103     0.0504\n"
     ]
    },
    {
     "name": "stderr",
     "output_type": "stream",
     "text": [
      "\n"
     ]
    },
    {
     "name": "stdout",
     "output_type": "stream",
     "text": [
      "\n",
      "      Epoch    GPU_mem   box_loss   cls_loss   dfl_loss  Instances       Size\n"
     ]
    },
    {
     "name": "stderr",
     "output_type": "stream",
     "text": [
      "     33/100      2.92G      1.408       1.93      1.608         49        640: 100%|██████████| 51/51 [00:19<00:00,  2.55it/s]\n",
      "                 Class     Images  Instances      Box(P          R      mAP50  mAP50-95): 100%|██████████| 4/4 [00:01<00:00,  2.58it/s]"
     ]
    },
    {
     "name": "stdout",
     "output_type": "stream",
     "text": [
      "                   all        109        331      0.223      0.116      0.113     0.0525\n"
     ]
    },
    {
     "name": "stderr",
     "output_type": "stream",
     "text": [
      "\n"
     ]
    },
    {
     "name": "stdout",
     "output_type": "stream",
     "text": [
      "\n",
      "      Epoch    GPU_mem   box_loss   cls_loss   dfl_loss  Instances       Size\n"
     ]
    },
    {
     "name": "stderr",
     "output_type": "stream",
     "text": [
      "     34/100      2.94G      1.415      1.906      1.603         74        640: 100%|██████████| 51/51 [00:21<00:00,  2.34it/s]\n",
      "                 Class     Images  Instances      Box(P          R      mAP50  mAP50-95): 100%|██████████| 4/4 [00:01<00:00,  2.72it/s]\n"
     ]
    },
    {
     "name": "stdout",
     "output_type": "stream",
     "text": [
      "                   all        109        331      0.285      0.104      0.108     0.0487\n",
      "\n",
      "      Epoch    GPU_mem   box_loss   cls_loss   dfl_loss  Instances       Size\n"
     ]
    },
    {
     "name": "stderr",
     "output_type": "stream",
     "text": [
      "     35/100      2.94G      1.419      1.872        1.6         42        640: 100%|██████████| 51/51 [00:20<00:00,  2.49it/s]\n",
      "                 Class     Images  Instances      Box(P          R      mAP50  mAP50-95): 100%|██████████| 4/4 [00:02<00:00,  1.56it/s]"
     ]
    },
    {
     "name": "stdout",
     "output_type": "stream",
     "text": [
      "                   all        109        331      0.191      0.144     0.0973     0.0369\n"
     ]
    },
    {
     "name": "stderr",
     "output_type": "stream",
     "text": [
      "\n"
     ]
    },
    {
     "name": "stdout",
     "output_type": "stream",
     "text": [
      "\n",
      "      Epoch    GPU_mem   box_loss   cls_loss   dfl_loss  Instances       Size\n"
     ]
    },
    {
     "name": "stderr",
     "output_type": "stream",
     "text": [
      "     36/100      2.94G      1.386      1.838      1.578         37        640: 100%|██████████| 51/51 [00:20<00:00,  2.43it/s]\n",
      "                 Class     Images  Instances      Box(P          R      mAP50  mAP50-95): 100%|██████████| 4/4 [00:01<00:00,  2.34it/s]"
     ]
    },
    {
     "name": "stdout",
     "output_type": "stream",
     "text": [
      "                   all        109        331      0.167       0.14     0.0922     0.0342\n"
     ]
    },
    {
     "name": "stderr",
     "output_type": "stream",
     "text": [
      "\n"
     ]
    },
    {
     "name": "stdout",
     "output_type": "stream",
     "text": [
      "\n",
      "      Epoch    GPU_mem   box_loss   cls_loss   dfl_loss  Instances       Size\n"
     ]
    },
    {
     "name": "stderr",
     "output_type": "stream",
     "text": [
      "     37/100      2.94G      1.366      1.828      1.564         74        640: 100%|██████████| 51/51 [00:21<00:00,  2.42it/s]\n",
      "                 Class     Images  Instances      Box(P          R      mAP50  mAP50-95): 100%|██████████| 4/4 [00:01<00:00,  2.00it/s]"
     ]
    },
    {
     "name": "stdout",
     "output_type": "stream",
     "text": [
      "                   all        109        331      0.353      0.131      0.117     0.0454\n"
     ]
    },
    {
     "name": "stderr",
     "output_type": "stream",
     "text": [
      "\n"
     ]
    },
    {
     "name": "stdout",
     "output_type": "stream",
     "text": [
      "\n",
      "      Epoch    GPU_mem   box_loss   cls_loss   dfl_loss  Instances       Size\n"
     ]
    },
    {
     "name": "stderr",
     "output_type": "stream",
     "text": [
      "     38/100      2.94G      1.393      1.834      1.591         61        640: 100%|██████████| 51/51 [00:19<00:00,  2.59it/s]\n",
      "                 Class     Images  Instances      Box(P          R      mAP50  mAP50-95): 100%|██████████| 4/4 [00:01<00:00,  2.34it/s]"
     ]
    },
    {
     "name": "stdout",
     "output_type": "stream",
     "text": [
      "                   all        109        331      0.276      0.139      0.109     0.0546\n"
     ]
    },
    {
     "name": "stderr",
     "output_type": "stream",
     "text": [
      "\n"
     ]
    },
    {
     "name": "stdout",
     "output_type": "stream",
     "text": [
      "\n",
      "      Epoch    GPU_mem   box_loss   cls_loss   dfl_loss  Instances       Size\n"
     ]
    },
    {
     "name": "stderr",
     "output_type": "stream",
     "text": [
      "     39/100      2.94G       1.34       1.73      1.544         47        640: 100%|██████████| 51/51 [00:21<00:00,  2.39it/s]\n",
      "                 Class     Images  Instances      Box(P          R      mAP50  mAP50-95): 100%|██████████| 4/4 [00:01<00:00,  2.38it/s]"
     ]
    },
    {
     "name": "stdout",
     "output_type": "stream",
     "text": [
      "                   all        109        331       0.27      0.163     0.0984     0.0419\n"
     ]
    },
    {
     "name": "stderr",
     "output_type": "stream",
     "text": [
      "\n"
     ]
    },
    {
     "name": "stdout",
     "output_type": "stream",
     "text": [
      "\n",
      "      Epoch    GPU_mem   box_loss   cls_loss   dfl_loss  Instances       Size\n"
     ]
    },
    {
     "name": "stderr",
     "output_type": "stream",
     "text": [
      "     40/100      2.94G      1.331      1.719      1.537         54        640: 100%|██████████| 51/51 [00:19<00:00,  2.63it/s]\n",
      "                 Class     Images  Instances      Box(P          R      mAP50  mAP50-95): 100%|██████████| 4/4 [00:02<00:00,  1.79it/s]\n"
     ]
    },
    {
     "name": "stdout",
     "output_type": "stream",
     "text": [
      "                   all        109        331      0.421        0.1      0.108     0.0438\n",
      "\n",
      "      Epoch    GPU_mem   box_loss   cls_loss   dfl_loss  Instances       Size\n"
     ]
    },
    {
     "name": "stderr",
     "output_type": "stream",
     "text": [
      "     41/100      2.94G      1.335      1.697      1.556         48        640: 100%|██████████| 51/51 [00:20<00:00,  2.49it/s]\n",
      "                 Class     Images  Instances      Box(P          R      mAP50  mAP50-95): 100%|██████████| 4/4 [00:01<00:00,  2.57it/s]"
     ]
    },
    {
     "name": "stdout",
     "output_type": "stream",
     "text": [
      "                   all        109        331      0.284      0.144      0.103     0.0423\n"
     ]
    },
    {
     "name": "stderr",
     "output_type": "stream",
     "text": [
      "\n"
     ]
    },
    {
     "name": "stdout",
     "output_type": "stream",
     "text": [
      "\n",
      "      Epoch    GPU_mem   box_loss   cls_loss   dfl_loss  Instances       Size\n"
     ]
    },
    {
     "name": "stderr",
     "output_type": "stream",
     "text": [
      "     42/100      2.94G      1.309      1.698      1.519         51        640: 100%|██████████| 51/51 [00:20<00:00,  2.52it/s]\n",
      "                 Class     Images  Instances      Box(P          R      mAP50  mAP50-95): 100%|██████████| 4/4 [00:02<00:00,  1.80it/s]"
     ]
    },
    {
     "name": "stdout",
     "output_type": "stream",
     "text": [
      "                   all        109        331      0.443      0.138      0.131     0.0571\n"
     ]
    },
    {
     "name": "stderr",
     "output_type": "stream",
     "text": [
      "\n"
     ]
    },
    {
     "name": "stdout",
     "output_type": "stream",
     "text": [
      "\n",
      "      Epoch    GPU_mem   box_loss   cls_loss   dfl_loss  Instances       Size\n"
     ]
    },
    {
     "name": "stderr",
     "output_type": "stream",
     "text": [
      "     43/100      2.94G      1.306      1.632      1.511         56        640: 100%|██████████| 51/51 [00:19<00:00,  2.62it/s]\n",
      "                 Class     Images  Instances      Box(P          R      mAP50  mAP50-95): 100%|██████████| 4/4 [00:01<00:00,  2.44it/s]"
     ]
    },
    {
     "name": "stdout",
     "output_type": "stream",
     "text": [
      "                   all        109        331      0.303      0.139      0.118     0.0545\n"
     ]
    },
    {
     "name": "stderr",
     "output_type": "stream",
     "text": [
      "\n"
     ]
    },
    {
     "name": "stdout",
     "output_type": "stream",
     "text": [
      "\n",
      "      Epoch    GPU_mem   box_loss   cls_loss   dfl_loss  Instances       Size\n"
     ]
    },
    {
     "name": "stderr",
     "output_type": "stream",
     "text": [
      "     44/100      2.94G      1.301      1.626      1.513         46        640: 100%|██████████| 51/51 [00:20<00:00,  2.45it/s]\n",
      "                 Class     Images  Instances      Box(P          R      mAP50  mAP50-95): 100%|██████████| 4/4 [00:01<00:00,  2.45it/s]"
     ]
    },
    {
     "name": "stdout",
     "output_type": "stream",
     "text": [
      "                   all        109        331      0.329      0.109        0.1     0.0431\n"
     ]
    },
    {
     "name": "stderr",
     "output_type": "stream",
     "text": [
      "\n"
     ]
    },
    {
     "name": "stdout",
     "output_type": "stream",
     "text": [
      "\n",
      "      Epoch    GPU_mem   box_loss   cls_loss   dfl_loss  Instances       Size\n"
     ]
    },
    {
     "name": "stderr",
     "output_type": "stream",
     "text": [
      "     45/100      2.94G      1.294      1.573      1.506         47        640: 100%|██████████| 51/51 [00:19<00:00,  2.65it/s]\n",
      "                 Class     Images  Instances      Box(P          R      mAP50  mAP50-95): 100%|██████████| 4/4 [00:01<00:00,  2.58it/s]"
     ]
    },
    {
     "name": "stdout",
     "output_type": "stream",
     "text": [
      "                   all        109        331      0.249      0.152      0.107     0.0464\n"
     ]
    },
    {
     "name": "stderr",
     "output_type": "stream",
     "text": [
      "\n"
     ]
    },
    {
     "name": "stdout",
     "output_type": "stream",
     "text": [
      "\n",
      "      Epoch    GPU_mem   box_loss   cls_loss   dfl_loss  Instances       Size\n"
     ]
    },
    {
     "name": "stderr",
     "output_type": "stream",
     "text": [
      "     46/100      2.94G      1.254      1.527      1.467         58        640: 100%|██████████| 51/51 [00:21<00:00,  2.41it/s]\n",
      "                 Class     Images  Instances      Box(P          R      mAP50  mAP50-95): 100%|██████████| 4/4 [00:01<00:00,  2.53it/s]"
     ]
    },
    {
     "name": "stdout",
     "output_type": "stream",
     "text": [
      "                   all        109        331      0.371      0.144      0.149     0.0655\n"
     ]
    },
    {
     "name": "stderr",
     "output_type": "stream",
     "text": [
      "\n"
     ]
    },
    {
     "name": "stdout",
     "output_type": "stream",
     "text": [
      "\n",
      "      Epoch    GPU_mem   box_loss   cls_loss   dfl_loss  Instances       Size\n"
     ]
    },
    {
     "name": "stderr",
     "output_type": "stream",
     "text": [
      "     47/100      2.94G      1.251      1.504      1.475         69        640: 100%|██████████| 51/51 [00:19<00:00,  2.65it/s]\n",
      "                 Class     Images  Instances      Box(P          R      mAP50  mAP50-95): 100%|██████████| 4/4 [00:02<00:00,  1.74it/s]"
     ]
    },
    {
     "name": "stdout",
     "output_type": "stream",
     "text": [
      "                   all        109        331      0.258      0.144      0.116     0.0526\n"
     ]
    },
    {
     "name": "stderr",
     "output_type": "stream",
     "text": [
      "\n"
     ]
    },
    {
     "name": "stdout",
     "output_type": "stream",
     "text": [
      "\n",
      "      Epoch    GPU_mem   box_loss   cls_loss   dfl_loss  Instances       Size\n"
     ]
    },
    {
     "name": "stderr",
     "output_type": "stream",
     "text": [
      "     48/100      2.94G       1.27      1.536      1.503         48        640: 100%|██████████| 51/51 [00:19<00:00,  2.59it/s]\n",
      "                 Class     Images  Instances      Box(P          R      mAP50  mAP50-95): 100%|██████████| 4/4 [00:01<00:00,  2.40it/s]"
     ]
    },
    {
     "name": "stdout",
     "output_type": "stream",
     "text": [
      "                   all        109        331      0.153      0.204      0.133     0.0545\n"
     ]
    },
    {
     "name": "stderr",
     "output_type": "stream",
     "text": [
      "\n"
     ]
    },
    {
     "name": "stdout",
     "output_type": "stream",
     "text": [
      "\n",
      "      Epoch    GPU_mem   box_loss   cls_loss   dfl_loss  Instances       Size\n"
     ]
    },
    {
     "name": "stderr",
     "output_type": "stream",
     "text": [
      "     49/100      2.95G      1.218      1.437      1.445         64        640: 100%|██████████| 51/51 [00:18<00:00,  2.71it/s]\n",
      "                 Class     Images  Instances      Box(P          R      mAP50  mAP50-95): 100%|██████████| 4/4 [00:02<00:00,  1.43it/s]"
     ]
    },
    {
     "name": "stdout",
     "output_type": "stream",
     "text": [
      "                   all        109        331       0.47      0.139      0.152     0.0634\n"
     ]
    },
    {
     "name": "stderr",
     "output_type": "stream",
     "text": [
      "\n"
     ]
    },
    {
     "name": "stdout",
     "output_type": "stream",
     "text": [
      "\n",
      "      Epoch    GPU_mem   box_loss   cls_loss   dfl_loss  Instances       Size\n"
     ]
    },
    {
     "name": "stderr",
     "output_type": "stream",
     "text": [
      "     50/100      2.95G      1.236      1.461      1.468         47        640: 100%|██████████| 51/51 [00:19<00:00,  2.67it/s]\n",
      "                 Class     Images  Instances      Box(P          R      mAP50  mAP50-95): 100%|██████████| 4/4 [00:01<00:00,  2.84it/s]"
     ]
    },
    {
     "name": "stdout",
     "output_type": "stream",
     "text": [
      "                   all        109        331      0.338      0.115      0.118       0.05\n"
     ]
    },
    {
     "name": "stderr",
     "output_type": "stream",
     "text": [
      "\n"
     ]
    },
    {
     "name": "stdout",
     "output_type": "stream",
     "text": [
      "\n",
      "      Epoch    GPU_mem   box_loss   cls_loss   dfl_loss  Instances       Size\n"
     ]
    },
    {
     "name": "stderr",
     "output_type": "stream",
     "text": [
      "     51/100      2.95G      1.209      1.424       1.45         58        640: 100%|██████████| 51/51 [00:19<00:00,  2.55it/s]\n",
      "                 Class     Images  Instances      Box(P          R      mAP50  mAP50-95): 100%|██████████| 4/4 [00:02<00:00,  1.82it/s]"
     ]
    },
    {
     "name": "stdout",
     "output_type": "stream",
     "text": [
      "                   all        109        331      0.194      0.147      0.112     0.0507\n"
     ]
    },
    {
     "name": "stderr",
     "output_type": "stream",
     "text": [
      "\n"
     ]
    },
    {
     "name": "stdout",
     "output_type": "stream",
     "text": [
      "\n",
      "      Epoch    GPU_mem   box_loss   cls_loss   dfl_loss  Instances       Size\n"
     ]
    },
    {
     "name": "stderr",
     "output_type": "stream",
     "text": [
      "     52/100      2.95G      1.201      1.431      1.439         53        640: 100%|██████████| 51/51 [00:19<00:00,  2.62it/s]\n",
      "                 Class     Images  Instances      Box(P          R      mAP50  mAP50-95): 100%|██████████| 4/4 [00:01<00:00,  2.41it/s]"
     ]
    },
    {
     "name": "stdout",
     "output_type": "stream",
     "text": [
      "                   all        109        331      0.315      0.125      0.119     0.0508\n"
     ]
    },
    {
     "name": "stderr",
     "output_type": "stream",
     "text": [
      "\n"
     ]
    },
    {
     "name": "stdout",
     "output_type": "stream",
     "text": [
      "\n",
      "      Epoch    GPU_mem   box_loss   cls_loss   dfl_loss  Instances       Size\n"
     ]
    },
    {
     "name": "stderr",
     "output_type": "stream",
     "text": [
      "     53/100      2.95G      1.217        1.4      1.434         50        640: 100%|██████████| 51/51 [00:20<00:00,  2.49it/s]\n",
      "                 Class     Images  Instances      Box(P          R      mAP50  mAP50-95): 100%|██████████| 4/4 [00:01<00:00,  2.59it/s]"
     ]
    },
    {
     "name": "stdout",
     "output_type": "stream",
     "text": [
      "                   all        109        331      0.302      0.142      0.123     0.0525\n"
     ]
    },
    {
     "name": "stderr",
     "output_type": "stream",
     "text": [
      "\n"
     ]
    },
    {
     "name": "stdout",
     "output_type": "stream",
     "text": [
      "\n",
      "      Epoch    GPU_mem   box_loss   cls_loss   dfl_loss  Instances       Size\n"
     ]
    },
    {
     "name": "stderr",
     "output_type": "stream",
     "text": [
      "     54/100      2.95G       1.17      1.368      1.398         58        640: 100%|██████████| 51/51 [00:18<00:00,  2.69it/s]\n",
      "                 Class     Images  Instances      Box(P          R      mAP50  mAP50-95): 100%|██████████| 4/4 [00:01<00:00,  2.61it/s]"
     ]
    },
    {
     "name": "stdout",
     "output_type": "stream",
     "text": [
      "                   all        109        331      0.411       0.11      0.136      0.059\n"
     ]
    },
    {
     "name": "stderr",
     "output_type": "stream",
     "text": [
      "\n"
     ]
    },
    {
     "name": "stdout",
     "output_type": "stream",
     "text": [
      "\n",
      "      Epoch    GPU_mem   box_loss   cls_loss   dfl_loss  Instances       Size\n"
     ]
    },
    {
     "name": "stderr",
     "output_type": "stream",
     "text": [
      "     55/100      2.95G      1.203      1.382       1.44         56        640: 100%|██████████| 51/51 [00:20<00:00,  2.48it/s]\n",
      "                 Class     Images  Instances      Box(P          R      mAP50  mAP50-95): 100%|██████████| 4/4 [00:01<00:00,  2.56it/s]"
     ]
    },
    {
     "name": "stdout",
     "output_type": "stream",
     "text": [
      "                   all        109        331      0.197      0.147      0.113      0.047\n"
     ]
    },
    {
     "name": "stderr",
     "output_type": "stream",
     "text": [
      "\n"
     ]
    },
    {
     "name": "stdout",
     "output_type": "stream",
     "text": [
      "\n",
      "      Epoch    GPU_mem   box_loss   cls_loss   dfl_loss  Instances       Size\n"
     ]
    },
    {
     "name": "stderr",
     "output_type": "stream",
     "text": [
      "     56/100      2.95G      1.153      1.305      1.403         75        640: 100%|██████████| 51/51 [00:19<00:00,  2.68it/s]\n",
      "                 Class     Images  Instances      Box(P          R      mAP50  mAP50-95): 100%|██████████| 4/4 [00:01<00:00,  2.67it/s]"
     ]
    },
    {
     "name": "stdout",
     "output_type": "stream",
     "text": [
      "                   all        109        331      0.365      0.113      0.102     0.0436\n",
      "\u001b[34m\u001b[1mEarlyStopping: \u001b[0mTraining stopped early as no improvement observed in last 10 epochs. Best results observed at epoch 46, best model saved as best.pt.\n",
      "To update EarlyStopping(patience=10) pass a new patience value, i.e. `patience=300` or use `patience=0` to disable EarlyStopping.\n"
     ]
    },
    {
     "name": "stderr",
     "output_type": "stream",
     "text": [
      "\n"
     ]
    },
    {
     "name": "stdout",
     "output_type": "stream",
     "text": [
      "\n",
      "56 epochs completed in 0.365 hours.\n",
      "Optimizer stripped from runs/detect/train/weights/last.pt, 5.5MB\n",
      "Optimizer stripped from runs/detect/train/weights/best.pt, 5.5MB\n",
      "\n",
      "Validating runs/detect/train/weights/best.pt...\n",
      "Ultralytics 8.3.92 🚀 Python-3.11.11 torch-2.6.0+cu124 CUDA:0 (Tesla T4, 15095MiB)\n",
      "YOLO11n summary (fused): 100 layers, 2,586,442 parameters, 0 gradients, 6.3 GFLOPs\n"
     ]
    },
    {
     "name": "stderr",
     "output_type": "stream",
     "text": [
      "                 Class     Images  Instances      Box(P          R      mAP50  mAP50-95): 100%|██████████| 4/4 [00:04<00:00,  1.06s/it]\n"
     ]
    },
    {
     "name": "stdout",
     "output_type": "stream",
     "text": [
      "                   all        109        331      0.371      0.144      0.149     0.0656\n",
      " agricultural labourer         25         27      0.391      0.704      0.453      0.177\n",
      "                  book          5          7          1      0.413      0.521      0.292\n",
      "              building         10         14      0.192     0.0714     0.0409     0.0243\n",
      "                 crane         13         21      0.201     0.0952     0.0703      0.033\n",
      "        factory worker         29         33       0.27      0.333      0.296      0.129\n",
      "                  flag         16         19     0.0611      0.105     0.0428     0.0126\n",
      "                flower         10         23          1          0    0.00634    0.00345\n",
      "                 grass          7         13      0.418     0.0769     0.0413     0.0234\n",
      "                hammer         15         15      0.431        0.2      0.295      0.117\n",
      "             headscarf         13         14       0.31      0.162      0.267     0.0561\n",
      "                 horse          7          7          0          0     0.0533     0.0216\n",
      "             machinery          8          8        0.2      0.125      0.144     0.0807\n",
      "              military         14         22       0.31     0.0455     0.0776     0.0165\n",
      "              mountain         10         14          1          0    0.00892     0.0024\n",
      "         office worker         17         25          0          0     0.0718     0.0211\n",
      "                sickle         17         17          1      0.277       0.35      0.214\n",
      "                   sky         13         14      0.324      0.143      0.096     0.0189\n",
      "                  star         13         15       0.24      0.048     0.0874     0.0577\n",
      "                weapon         11         14     0.0689     0.0714     0.0499    0.00691\n",
      "                 wheat          8          9          0          0     0.0119    0.00408\n",
      "Speed: 0.4ms preprocess, 5.9ms inference, 0.0ms loss, 8.9ms postprocess per image\n",
      "Results saved to \u001b[1mruns/detect/train\u001b[0m\n"
     ]
    }
   ],
   "source": [
    "# Das Model mit dem Datensatz für 100 Epochen trainieren\n",
    "train = model.train(data=os.path.join(root_dir, \"config.yaml\"), epochs=100, batch=16, imgsz=640, device='0', optimizer='AdamW', patience=10, dropout=0.2, weight_decay=0.0002, lr0=0.001, lrf=0.1)"
   ]
  },
  {
   "cell_type": "code",
   "execution_count": 52,
   "id": "O0jRKUMYg0zu",
   "metadata": {
    "executionInfo": {
     "elapsed": 3,
     "status": "ok",
     "timestamp": 1742257251076,
     "user": {
      "displayName": "Simona Simoni",
      "userId": "03680606385837659687"
     },
     "user_tz": -60
    },
    "id": "O0jRKUMYg0zu"
   },
   "outputs": [],
   "source": [
    "def save_detections_to_csv(results, output_csv):\n",
    "  rows = []\n",
    "  image_counter = 1\n",
    "\n",
    "  for result in results:\n",
    "    image_filename = result.path\n",
    "    boxes = result.boxes  # Boxes object for bounding box outputs\n",
    "    boxes_str = \"\"\n",
    "\n",
    "    for detection in boxes:\n",
    "      class_id = int(detection.cls)\n",
    "      class_name = result.names[class_id]\n",
    "      boxes_str += f\"{class_name}, \"\n",
    "\n",
    "    boxes_str = boxes_str.rstrip(\", \")\n",
    "\n",
    "    rows.append([image_filename, f\"Bild {image_counter}\", boxes_str])\n",
    "    image_counter += 1\n",
    "\n",
    "    masks = result.masks  # Masks object for segmentation masks outputs\n",
    "    keypoints = result.keypoints  # Keypoints object for pose outputs\n",
    "    obb = result.obb  # Oriented boxes object for OBB outputs\n",
    "#   result.show()  # display to screen\n",
    "\n",
    "  with open(output_csv, mode=\"w\", newline=\"\", encoding=\"utf-8\") as file:\n",
    "    csv_writer = csv.writer(file)\n",
    "    csv_writer.writerow([\"Dateiname\", \"Bild\",  \"Erkannte Objekte\"])\n",
    "    csv_writer.writerows(rows)\n",
    "\n",
    "  print(f\"CSV-Datei '{output_csv}' wurde erfolgreich erstellt.\")"
   ]
  },
  {
   "cell_type": "code",
   "execution_count": 53,
   "id": "nhfrUSDaebQ-",
   "metadata": {
    "executionInfo": {
     "elapsed": 4,
     "status": "ok",
     "timestamp": 1742257254010,
     "user": {
      "displayName": "Simona Simoni",
      "userId": "03680606385837659687"
     },
     "user_tz": -60
    },
    "id": "nhfrUSDaebQ-"
   },
   "outputs": [],
   "source": [
    "def detect_class_correlations(csv_file):\n",
    "    df = pd.read_csv(csv_file)\n",
    "\n",
    "    class_counts = defaultdict(lambda: defaultdict(int))\n",
    "\n",
    "    for index, row in df.iterrows():\n",
    "        detected_classes = row[\"Erkannte Objekte\"]\n",
    "\n",
    "        if isinstance(detected_classes, str) and detected_classes.strip():\n",
    "            detected_classes = detected_classes.split(\", \")\n",
    "        else:\n",
    "            detected_classes = []\n",
    "            continue\n",
    "\n",
    "        for cls1, cls2 in itertools.combinations(detected_classes, 2):\n",
    "            class_counts[cls1][cls2] += 1\n",
    "            class_counts[cls2][cls1] += 1\n",
    "\n",
    "    correlation_matrix = pd.DataFrame(class_counts).fillna(0)\n",
    "\n",
    "    plt.figure(figsize=(10, 8))\n",
    "    sns.heatmap(correlation_matrix, annot=True, cmap=\"YlGnBu\", cbar=True)\n",
    "    plt.title(\"Korrelationen zwischen Objekten\")\n",
    "    plt.xlabel(\"Erkannte Objekte\")\n",
    "    plt.ylabel(\"Erkannte Objekte\")\n",
    "    plt.show()\n",
    "\n",
    "    return correlation_matrix"
   ]
  },
  {
   "cell_type": "code",
   "execution_count": null,
   "id": "6e500e5f-37e0-43cc-8306-f4bf74347dc6",
   "metadata": {
    "colab": {
     "base_uri": "https://localhost:8080/"
    },
    "executionInfo": {
     "elapsed": 31941,
     "status": "ok",
     "timestamp": 1742257289227,
     "user": {
      "displayName": "Simona Simoni",
      "userId": "03680606385837659687"
     },
     "user_tz": -60
    },
    "id": "6e500e5f-37e0-43cc-8306-f4bf74347dc6",
    "outputId": "2a7932d4-0565-4eea-ee8c-7b0b2f862dba"
   },
   "outputs": [
    {
     "name": "stdout",
     "output_type": "stream",
     "text": [
      "\n",
      "image 1/932 /content/gdrive/MyDrive/Colab Notebooks/yolo/test/USSR/10th_five_year_plan.jpg: 640x640 1 flag, 13.9ms\n",
      "image 2/932 /content/gdrive/MyDrive/Colab Notebooks/yolo/test/USSR/11th_vertov.jpg: 640x640 1 factory worker, 10.0ms\n",
      "image 3/932 /content/gdrive/MyDrive/Colab Notebooks/yolo/test/USSR/15th_anniversary.jpg: 640x640 (no detections), 10.1ms\n",
      "image 4/932 /content/gdrive/MyDrive/Colab Notebooks/yolo/test/USSR/1980_olympic_games.jpg: 640x640 1 military, 10.3ms\n",
      "image 5/932 /content/gdrive/MyDrive/Colab Notebooks/yolo/test/USSR/27th_kpss.jpg: 640x640 (no detections), 10.6ms\n",
      "image 6/932 /content/gdrive/MyDrive/Colab Notebooks/yolo/test/USSR/2plus2equals5.jpg: 640x640 1 flag, 1 military, 1 weapon, 10.0ms\n",
      "image 7/932 /content/gdrive/MyDrive/Colab Notebooks/yolo/test/USSR/2x2_vodka.jpg: 640x640 (no detections), 10.0ms\n",
      "image 8/932 /content/gdrive/MyDrive/Colab Notebooks/yolo/test/USSR/6th_festival.jpg: 640x640 1 building, 1 weapon, 9.9ms\n",
      "image 9/932 /content/gdrive/MyDrive/Colab Notebooks/yolo/test/USSR/800_moscow.jpg: 640x640 2 militarys, 9.6ms\n",
      "image 10/932 /content/gdrive/MyDrive/Colab Notebooks/yolo/test/USSR/8th_of_march.jpg: 640x640 2 flowers, 1 office worker, 1 sky, 27.8ms\n",
      "image 11/932 /content/gdrive/MyDrive/Colab Notebooks/yolo/test/USSR/Der-Transsibirische-Express.jpg: 640x640 (no detections), 11.1ms\n",
      "image 12/932 /content/gdrive/MyDrive/Colab Notebooks/yolo/test/USSR/Mao_Zedong_Stalin.jpg: 640x640 2 militarys, 10.9ms\n",
      "image 13/932 /content/gdrive/MyDrive/Colab Notebooks/yolo/test/USSR/ads_on_trolley.jpg: 640x640 (no detections), 10.7ms\n",
      "image 14/932 /content/gdrive/MyDrive/Colab Notebooks/yolo/test/USSR/aim_for_peace.jpg: 640x640 1 agricultural labourer, 3 weapons, 10.8ms\n",
      "image 15/932 /content/gdrive/MyDrive/Colab Notebooks/yolo/test/USSR/alcohol_poisoning.jpg: 640x640 (no detections), 10.9ms\n",
      "image 16/932 /content/gdrive/MyDrive/Colab Notebooks/yolo/test/USSR/alert_soldier.jpg: 640x640 2 weapons, 12.8ms\n",
      "image 17/932 /content/gdrive/MyDrive/Colab Notebooks/yolo/test/USSR/all_for_elections.jpg: 640x640 2 agricultural labourers, 1 factory worker, 2 headscarfs, 1 office worker, 1 weapon, 10.7ms\n",
      "image 18/932 /content/gdrive/MyDrive/Colab Notebooks/yolo/test/USSR/all_people_brothers.jpg: 640x640 1 military, 11.1ms\n",
      "image 19/932 /content/gdrive/MyDrive/Colab Notebooks/yolo/test/USSR/all_to_elections.jpg: 640x640 2 factory workers, 2 headscarfs, 4 skys, 10.7ms\n",
      "image 20/932 /content/gdrive/MyDrive/Colab Notebooks/yolo/test/USSR/antoine_exupery.jpg: 640x640 (no detections), 10.7ms\n",
      "image 21/932 /content/gdrive/MyDrive/Colab Notebooks/yolo/test/USSR/arms-race.jpg: 640x640 1 factory worker, 10.2ms\n",
      "image 22/932 /content/gdrive/MyDrive/Colab Notebooks/yolo/test/USSR/asia_peace.jpg: 640x640 2 weapons, 10.4ms\n",
      "image 23/932 /content/gdrive/MyDrive/Colab Notebooks/yolo/test/USSR/baikal_amur.jpg: 640x640 1 factory worker, 1 military, 1 office worker, 11.1ms\n",
      "image 24/932 /content/gdrive/MyDrive/Colab Notebooks/yolo/test/USSR/bam-real-job.jpg: 640x640 (no detections), 13.0ms\n",
      "image 25/932 /content/gdrive/MyDrive/Colab Notebooks/yolo/test/USSR/bam_mainline.jpg: 640x640 1 agricultural labourer, 1 book, 1 factory worker, 10.2ms\n",
      "image 26/932 /content/gdrive/MyDrive/Colab Notebooks/yolo/test/USSR/be_frugal.jpg: 640x640 (no detections), 10.8ms\n",
      "image 27/932 /content/gdrive/MyDrive/Colab Notebooks/yolo/test/USSR/be_worthy.jpg: 640x640 1 flag, 10.6ms\n",
      "image 28/932 /content/gdrive/MyDrive/Colab Notebooks/yolo/test/USSR/beers_soft_drinks.jpg: 640x640 (no detections), 10.6ms\n",
      "image 29/932 /content/gdrive/MyDrive/Colab Notebooks/yolo/test/USSR/belinskiy.jpg: 640x640 (no detections), 10.2ms\n",
      "image 30/932 /content/gdrive/MyDrive/Colab Notebooks/yolo/test/USSR/better_living.jpg: 640x640 1 headscarf, 10.1ms\n",
      "image 31/932 /content/gdrive/MyDrive/Colab Notebooks/yolo/test/USSR/black_crows.jpg: 640x640 (no detections), 10.6ms\n",
      "image 32/932 /content/gdrive/MyDrive/Colab Notebooks/yolo/test/USSR/black_friend.png: 640x640 1 building, 1 factory worker, 1 office worker, 10.5ms\n",
      "image 33/932 /content/gdrive/MyDrive/Colab Notebooks/yolo/test/USSR/book_bazaar.jpg: 640x640 1 factory worker, 2 flags, 10.3ms\n",
      "image 34/932 /content/gdrive/MyDrive/Colab Notebooks/yolo/test/USSR/book_for_girl_woman.jpg: 640x640 1 agricultural labourer, 1 factory worker, 2 grasss, 10.3ms\n",
      "image 35/932 /content/gdrive/MyDrive/Colab Notebooks/yolo/test/USSR/book_for_soldier.jpg: 640x640 1 wheat, 13.4ms\n",
      "image 36/932 /content/gdrive/MyDrive/Colab Notebooks/yolo/test/USSR/book_is_not_kitchen.jpg: 640x640 1 machinery, 14.6ms\n",
      "image 37/932 /content/gdrive/MyDrive/Colab Notebooks/yolo/test/USSR/book_is_not_pocket.jpg: 640x640 1 weapon, 17.5ms\n",
      "image 38/932 /content/gdrive/MyDrive/Colab Notebooks/yolo/test/USSR/book_lottery.jpg: 640x640 1 book, 1 weapon, 10.5ms\n",
      "image 39/932 /content/gdrive/MyDrive/Colab Notebooks/yolo/test/USSR/book_source_knowledge.jpg: 640x640 2 cranes, 1 factory worker, 10.8ms\n",
      "image 40/932 /content/gdrive/MyDrive/Colab Notebooks/yolo/test/USSR/builder.jpg: 640x640 1 building, 1 crane, 1 factory worker, 1 weapon, 10.6ms\n",
      "image 41/932 /content/gdrive/MyDrive/Colab Notebooks/yolo/test/USSR/calendar_5.jpg: 640x640 1 military, 11.0ms\n",
      "image 42/932 /content/gdrive/MyDrive/Colab Notebooks/yolo/test/USSR/carrying-idol.jpg: 640x640 1 hammer, 3 militarys, 4 sickles, 10.6ms\n",
      "image 43/932 /content/gdrive/MyDrive/Colab Notebooks/yolo/test/USSR/cause_of_defect.jpg: 640x640 1 office worker, 10.6ms\n",
      "image 44/932 /content/gdrive/MyDrive/Colab Notebooks/yolo/test/USSR/chains-of-slavery.jpg: 640x640 1 book, 1 building, 10.1ms\n",
      "image 45/932 /content/gdrive/MyDrive/Colab Notebooks/yolo/test/USSR/cheluskin.jpg: 640x640 1 military, 10.7ms\n",
      "image 46/932 /content/gdrive/MyDrive/Colab Notebooks/yolo/test/USSR/cholera_death.jpg: 640x640 1 factory worker, 1 military, 2 office workers, 1 weapon, 10.7ms\n",
      "image 47/932 /content/gdrive/MyDrive/Colab Notebooks/yolo/test/USSR/citrus-juice.jpg: 640x640 (no detections), 10.6ms\n",
      "image 48/932 /content/gdrive/MyDrive/Colab Notebooks/yolo/test/USSR/collaboration_cooperation.jpg: 640x640 5 flowers, 10.0ms\n",
      "image 49/932 /content/gdrive/MyDrive/Colab Notebooks/yolo/test/USSR/collectivization_1929.jpg: 640x640 (no detections), 10.5ms\n",
      "image 50/932 /content/gdrive/MyDrive/Colab Notebooks/yolo/test/USSR/come-to-construction-site.jpg: 640x640 1 factory worker, 1 weapon, 12.5ms\n",
      "image 51/932 /content/gdrive/MyDrive/Colab Notebooks/yolo/test/USSR/come_with_us.jpg: 640x640 1 factory worker, 10.5ms\n",
      "image 52/932 /content/gdrive/MyDrive/Colab Notebooks/yolo/test/USSR/comrades_lumberjacks.jpg: 640x640 2 factory workers, 1 headscarf, 10.2ms\n",
      "image 53/932 /content/gdrive/MyDrive/Colab Notebooks/yolo/test/USSR/constitution_usa.jpg: 640x640 (no detections), 11.2ms\n",
      "image 54/932 /content/gdrive/MyDrive/Colab Notebooks/yolo/test/USSR/cosmos_be_peaceful.jpg: 640x640 (no detections), 9.8ms\n",
      "image 55/932 /content/gdrive/MyDrive/Colab Notebooks/yolo/test/USSR/cosmos_peaceful.jpg: 640x640 (no detections), 10.6ms\n",
      "image 56/932 /content/gdrive/MyDrive/Colab Notebooks/yolo/test/USSR/cranes_flying.jpg: 640x640 (no detections), 10.2ms\n",
      "image 57/932 /content/gdrive/MyDrive/Colab Notebooks/yolo/test/USSR/crash_mercilessly.jpg: 640x640 1 objects, 10.2ms\n",
      "image 58/932 /content/gdrive/MyDrive/Colab Notebooks/yolo/test/USSR/creative_labor.jpg: 640x640 1 office worker, 10.3ms\n",
      "image 59/932 /content/gdrive/MyDrive/Colab Notebooks/yolo/test/USSR/criminal_slaughter.jpg: 640x640 1 factory worker, 9.8ms\n",
      "image 60/932 /content/gdrive/MyDrive/Colab Notebooks/yolo/test/USSR/daesh.jpg: 640x640 1 building, 2 cranes, 3 office workers, 9.8ms\n",
      "image 61/932 /content/gdrive/MyDrive/Colab Notebooks/yolo/test/USSR/daily_plan.jpg: 640x640 1 factory worker, 1 weapon, 9.4ms\n",
      "image 62/932 /content/gdrive/MyDrive/Colab Notebooks/yolo/test/USSR/death-to-imperializm.jpg: 640x640 1 building, 9.7ms\n",
      "image 63/932 /content/gdrive/MyDrive/Colab Notebooks/yolo/test/USSR/death_to_capital.jpg: 640x640 1 factory worker, 2 flags, 10.0ms\n",
      "image 64/932 /content/gdrive/MyDrive/Colab Notebooks/yolo/test/USSR/decree-on-peace.jpg: 640x640 6 cranes, 11.7ms\n",
      "image 65/932 /content/gdrive/MyDrive/Colab Notebooks/yolo/test/USSR/demand_beer.jpg: 640x640 (no detections), 9.6ms\n",
      "image 66/932 /content/gdrive/MyDrive/Colab Notebooks/yolo/test/USSR/deni_rot_front.jpg: 640x640 (no detections), 10.3ms\n",
      "image 67/932 /content/gdrive/MyDrive/Colab Notebooks/yolo/test/USSR/deputy_servant.jpg: 640x640 1 factory worker, 1 headscarf, 1 office worker, 10.1ms\n",
      "image 68/932 /content/gdrive/MyDrive/Colab Notebooks/yolo/test/USSR/deserter_dishonor.jpg: 640x640 1 factory worker, 1 flag, 1 wheat, 10.0ms\n",
      "image 69/932 /content/gdrive/MyDrive/Colab Notebooks/yolo/test/USSR/develop_pig_farming.jpg: 640x640 1 factory worker, 9.9ms\n",
      "image 70/932 /content/gdrive/MyDrive/Colab Notebooks/yolo/test/USSR/dictate_of_proletariat.jpg: 640x640 1 agricultural labourer, 2 wheats, 10.6ms\n",
      "image 71/932 /content/gdrive/MyDrive/Colab Notebooks/yolo/test/USSR/disarmament_dicate.jpg: 640x640 1 weapon, 10.3ms\n",
      "image 72/932 /content/gdrive/MyDrive/Colab Notebooks/yolo/test/USSR/disarmament_dictate.jpg: 640x640 (no detections), 10.0ms\n",
      "image 73/932 /content/gdrive/MyDrive/Colab Notebooks/yolo/test/USSR/do-not-get-distracted.jpg: 640x640 (no detections), 9.9ms\n",
      "image 74/932 /content/gdrive/MyDrive/Colab Notebooks/yolo/test/USSR/do_not_admit.jpg: 640x640 (no detections), 10.3ms\n",
      "image 75/932 /content/gdrive/MyDrive/Colab Notebooks/yolo/test/USSR/donbass.jpg: 640x640 (no detections), 14.3ms\n",
      "image 76/932 /content/gdrive/MyDrive/Colab Notebooks/yolo/test/USSR/down-with-the-autocracy.jpg: 640x640 2 factory workers, 14.0ms\n",
      "image 77/932 /content/gdrive/MyDrive/Colab Notebooks/yolo/test/USSR/drunk_and_vodka.jpg: 640x640 (no detections), 15.3ms\n",
      "image 78/932 /content/gdrive/MyDrive/Colab Notebooks/yolo/test/USSR/drunk_driving.jpg: 640x640 (no detections), 23.5ms\n",
      "image 79/932 /content/gdrive/MyDrive/Colab Notebooks/yolo/test/USSR/enemy_help.jpg: 640x640 2 factory workers, 1 office worker, 10.4ms\n",
      "image 80/932 /content/gdrive/MyDrive/Colab Notebooks/yolo/test/USSR/equal_rights.jpg: 640x640 1 factory worker, 3 office workers, 11.0ms\n",
      "image 81/932 /content/gdrive/MyDrive/Colab Notebooks/yolo/test/USSR/evolution_of_human.jpg: 640x640 (no detections), 10.3ms\n",
      "image 82/932 /content/gdrive/MyDrive/Colab Notebooks/yolo/test/USSR/exercise.jpg: 640x640 1 factory worker, 1 office worker, 10.5ms\n",
      "image 83/932 /content/gdrive/MyDrive/Colab Notebooks/yolo/test/USSR/experienced_workers.jpg: 640x640 1 factory worker, 1 weapon, 10.0ms\n",
      "image 84/932 /content/gdrive/MyDrive/Colab Notebooks/yolo/test/USSR/famale_cook_lenin.jpg: 640x640 1 factory worker, 2 headscarfs, 9.6ms\n",
      "image 85/932 /content/gdrive/MyDrive/Colab Notebooks/yolo/test/USSR/family-honor.jpg: 640x640 2 factory workers, 10.3ms\n",
      "image 86/932 /content/gdrive/MyDrive/Colab Notebooks/yolo/test/USSR/fascism-enemy.jpg: 640x640 1 military, 10.5ms\n",
      "image 87/932 /content/gdrive/MyDrive/Colab Notebooks/yolo/test/USSR/fight-facism.jpg: 640x640 1 flag, 2 weapons, 10.1ms\n",
      "image 88/932 /content/gdrive/MyDrive/Colab Notebooks/yolo/test/USSR/fight_alcoholism.jpg: 640x640 (no detections), 10.0ms\n",
      "image 89/932 /content/gdrive/MyDrive/Colab Notebooks/yolo/test/USSR/fight_cholera.jpg: 640x640 1 office worker, 10.8ms\n",
      "image 90/932 /content/gdrive/MyDrive/Colab Notebooks/yolo/test/USSR/fight_the_illiteracy.jpg: 640x640 1 weapon, 10.4ms\n",
      "image 91/932 /content/gdrive/MyDrive/Colab Notebooks/yolo/test/USSR/firght_for_harvest.jpg: 640x640 1 building, 1 factory worker, 1 machinery, 10.4ms\n",
      "image 92/932 /content/gdrive/MyDrive/Colab Notebooks/yolo/test/USSR/five_year_plan_in_four_years.jpg: 640x640 (no detections), 10.5ms\n",
      "image 93/932 /content/gdrive/MyDrive/Colab Notebooks/yolo/test/USSR/flying-ship.jpg: 640x640 (no detections), 10.3ms\n",
      "image 94/932 /content/gdrive/MyDrive/Colab Notebooks/yolo/test/USSR/for_book_against_vodka.jpg: 640x640 1 office worker, 10.1ms\n",
      "image 95/932 /content/gdrive/MyDrive/Colab Notebooks/yolo/test/USSR/for_bookshelf.jpg: 640x640 1 factory worker, 10.2ms\n",
      "image 96/932 /content/gdrive/MyDrive/Colab Notebooks/yolo/test/USSR/for_health.jpg: 640x640 (no detections), 9.9ms\n",
      "image 97/932 /content/gdrive/MyDrive/Colab Notebooks/yolo/test/USSR/for_the_life_on_earth.jpg: 640x640 1 plane, 1 weapon, 10.1ms\n",
      "image 98/932 /content/gdrive/MyDrive/Colab Notebooks/yolo/test/USSR/forgiveness_aggressor.jpg: 640x640 (no detections), 10.5ms\n",
      "image 99/932 /content/gdrive/MyDrive/Colab Notebooks/yolo/test/USSR/freedom-loan.jpg: 640x640 1 factory worker, 10.3ms\n",
      "image 100/932 /content/gdrive/MyDrive/Colab Notebooks/yolo/test/USSR/freedom_loan.jpg: 640x640 2 factory workers, 1 military, 9.8ms\n",
      "image 101/932 /content/gdrive/MyDrive/Colab Notebooks/yolo/test/USSR/freshness_skin.jpg: 640x640 2 books, 1 factory worker, 2 headscarfs, 10.3ms\n",
      "image 102/932 /content/gdrive/MyDrive/Colab Notebooks/yolo/test/USSR/gagarin_cosmos_serve_people.jpg: 640x640 (no detections), 10.5ms\n",
      "image 103/932 /content/gdrive/MyDrive/Colab Notebooks/yolo/test/USSR/gagarin_looking_at_earth.jpg: 640x640 1 agricultural labourer, 1 flower, 10.4ms\n",
      "image 104/932 /content/gdrive/MyDrive/Colab Notebooks/yolo/test/USSR/gagarin_world.jpg: 640x640 1 objects, 12.7ms\n",
      "image 105/932 /content/gdrive/MyDrive/Colab Notebooks/yolo/test/USSR/get_be_ready.jpg: 640x640 1 factory worker, 1 machinery, 10.4ms\n",
      "image 106/932 /content/gdrive/MyDrive/Colab Notebooks/yolo/test/USSR/get_to_work.jpg: 640x640 1 office worker, 10.7ms\n",
      "image 107/932 /content/gdrive/MyDrive/Colab Notebooks/yolo/test/USSR/glory-to-motherland.jpg: 640x640 1 star, 10.7ms\n",
      "image 108/932 /content/gdrive/MyDrive/Colab Notebooks/yolo/test/USSR/glory-to-partisan.jpg: 640x640 1 military, 2 weapons, 10.3ms\n",
      "image 109/932 /content/gdrive/MyDrive/Colab Notebooks/yolo/test/USSR/glory-to-women.jpg: 640x640 3 militarys, 1 office worker, 1 weapon, 9.9ms\n",
      "image 110/932 /content/gdrive/MyDrive/Colab Notebooks/yolo/test/USSR/goebbles_lies.jpg: 640x640 1 machinery, 10.4ms\n",
      "image 111/932 /content/gdrive/MyDrive/Colab Notebooks/yolo/test/USSR/gpu_deni.jpg: 640x640 1 weapon, 10.0ms\n",
      "image 112/932 /content/gdrive/MyDrive/Colab Notebooks/yolo/test/USSR/great_job.jpg: 640x640 1 factory worker, 1 flag, 10.4ms\n",
      "image 113/932 /content/gdrive/MyDrive/Colab Notebooks/yolo/test/USSR/hamlet.jpg: 640x640 1 military, 10.1ms\n",
      "image 114/932 /content/gdrive/MyDrive/Colab Notebooks/yolo/test/USSR/happy_new_year_1957.jpg: 640x640 (no detections), 16.1ms\n",
      "image 115/932 /content/gdrive/MyDrive/Colab Notebooks/yolo/test/USSR/healthy-worker.jpg: 640x640 (no detections), 15.3ms\n",
      "image 116/932 /content/gdrive/MyDrive/Colab Notebooks/yolo/test/USSR/hello-to_stalin.jpg: 640x640 2 flags, 14.0ms\n",
      "image 117/932 /content/gdrive/MyDrive/Colab Notebooks/yolo/test/USSR/hello_to_stalin.jpg: 640x640 2 flags, 10.8ms\n",
      "image 118/932 /content/gdrive/MyDrive/Colab Notebooks/yolo/test/USSR/help_starving.jpg: 640x640 (no detections), 10.3ms\n",
      "image 119/932 /content/gdrive/MyDrive/Colab Notebooks/yolo/test/USSR/herring_ad.jpg: 640x640 1 flag, 1 objects, 18.7ms\n",
      "image 120/932 /content/gdrive/MyDrive/Colab Notebooks/yolo/test/USSR/high_harvest_of_victory.jpg: 640x640 1 grass, 2 machinerys, 10.5ms\n",
      "image 121/932 /content/gdrive/MyDrive/Colab Notebooks/yolo/test/USSR/hit_the_enemy_hammer.jpg: 640x640 1 factory worker, 10.6ms\n",
      "image 122/932 /content/gdrive/MyDrive/Colab Notebooks/yolo/test/USSR/hitler_teeth.jpg: 640x640 1 machinery, 10.2ms\n",
      "image 123/932 /content/gdrive/MyDrive/Colab Notebooks/yolo/test/USSR/how_was_how_will.jpg: 640x640 2 weapons, 1 wheat, 10.1ms\n",
      "image 124/932 /content/gdrive/MyDrive/Colab Notebooks/yolo/test/USSR/how_well_you_worked.jpg: 640x640 1 military, 10.2ms\n",
      "image 125/932 /content/gdrive/MyDrive/Colab Notebooks/yolo/test/USSR/human_to_human.jpg: 640x640 5 factory workers, 1 office worker, 10.2ms\n",
      "image 126/932 /content/gdrive/MyDrive/Colab Notebooks/yolo/test/USSR/ice_cream.jpg: 640x640 (no detections), 11.6ms\n",
      "image 127/932 /content/gdrive/MyDrive/Colab Notebooks/yolo/test/USSR/idler_profit.jpg: 640x640 1 factory worker, 1 machinery, 9.7ms\n",
      "image 128/932 /content/gdrive/MyDrive/Colab Notebooks/yolo/test/USSR/illiteral_to_school.jpg: 640x640 1 factory worker, 10.1ms\n",
      "image 129/932 /content/gdrive/MyDrive/Colab Notebooks/yolo/test/USSR/inclination40.jpg: 640x640 1 weapon, 10.5ms\n",
      "image 130/932 /content/gdrive/MyDrive/Colab Notebooks/yolo/test/USSR/international_day.jpg: 640x640 5 agricultural labourers, 10 headscarfs, 11.4ms\n",
      "image 131/932 /content/gdrive/MyDrive/Colab Notebooks/yolo/test/USSR/ivan_vasilievich_changes_profession.jpg: 640x640 1 factory worker, 1 office worker, 10.2ms\n",
      "image 132/932 /content/gdrive/MyDrive/Colab Notebooks/yolo/test/USSR/kick_kulak_away.jpg: 640x640 1 agricultural labourer, 1 factory worker, 1 weapon, 9.9ms\n",
      "image 133/932 /content/gdrive/MyDrive/Colab Notebooks/yolo/test/USSR/knife_under_earth.jpg: 640x640 (no detections), 10.3ms\n",
      "image 134/932 /content/gdrive/MyDrive/Colab Notebooks/yolo/test/USSR/knowledge-to-everyone.jpg: 640x640 (no detections), 10.7ms\n",
      "image 135/932 /content/gdrive/MyDrive/Colab Notebooks/yolo/test/USSR/kodak.jpg: 640x640 (no detections), 10.3ms\n",
      "image 136/932 /content/gdrive/MyDrive/Colab Notebooks/yolo/test/USSR/konstantin_yuon.jpg: 640x640 1 building, 1 factory worker, 1 flag, 1 machinery, 10.3ms\n",
      "image 137/932 /content/gdrive/MyDrive/Colab Notebooks/yolo/test/USSR/korean_nation.jpg: 640x640 1 factory worker, 1 office worker, 1 weapon, 10.3ms\n",
      "image 138/932 /content/gdrive/MyDrive/Colab Notebooks/yolo/test/USSR/kpss_komsomol.jpg: 640x640 1 military, 1 weapon, 11.2ms\n",
      "image 139/932 /content/gdrive/MyDrive/Colab Notebooks/yolo/test/USSR/labor_victories.jpg: 640x640 3 flags, 10.7ms\n",
      "image 140/932 /content/gdrive/MyDrive/Colab Notebooks/yolo/test/USSR/learn_work.jpg: 640x640 (no detections), 10.4ms\n",
      "image 141/932 /content/gdrive/MyDrive/Colab Notebooks/yolo/test/USSR/leisure.jpg: 640x640 (no detections), 10.3ms\n",
      "image 142/932 /content/gdrive/MyDrive/Colab Notebooks/yolo/test/USSR/lenin-kpss.jpg: 640x640 1 factory worker, 1 weapon, 9.9ms\n",
      "image 143/932 /content/gdrive/MyDrive/Colab Notebooks/yolo/test/USSR/lenin_1870.jpg: 640x640 1 military, 10.7ms\n",
      "image 144/932 /content/gdrive/MyDrive/Colab Notebooks/yolo/test/USSR/lenin_ghost.jpg: 640x640 1 building, 1 crane, 2 flags, 1 military, 1 office worker, 9.9ms\n",
      "image 145/932 /content/gdrive/MyDrive/Colab Notebooks/yolo/test/USSR/lenin_promise.jpg: 640x640 1 military, 9.9ms\n",
      "image 146/932 /content/gdrive/MyDrive/Colab Notebooks/yolo/test/USSR/lenin_speeches.jpg: 640x640 1 building, 3 factory workers, 1 office worker, 12.4ms\n",
      "image 147/932 /content/gdrive/MyDrive/Colab Notebooks/yolo/test/USSR/lenin_sweeping.jpg: 640x640 1 factory worker, 1 headscarf, 1 office worker, 1 weapon, 2 wheats, 18.6ms\n",
      "image 148/932 /content/gdrive/MyDrive/Colab Notebooks/yolo/test/USSR/leninas_su_mumis.jpg: 640x640 2 militarys, 1 office worker, 15.6ms\n",
      "image 149/932 /content/gdrive/MyDrive/Colab Notebooks/yolo/test/USSR/lenins_komsomol.jpg: 640x640 1 factory worker, 17.9ms\n",
      "image 150/932 /content/gdrive/MyDrive/Colab Notebooks/yolo/test/USSR/lets_take_it.jpg: 640x640 1 factory worker, 17.7ms\n",
      "image 151/932 /content/gdrive/MyDrive/Colab Notebooks/yolo/test/USSR/lithuania_march8.jpg: 640x640 (no detections), 16.3ms\n",
      "image 152/932 /content/gdrive/MyDrive/Colab Notebooks/yolo/test/USSR/long_live_soviet_sport.jpg: 640x640 1 building, 3 flags, 1 sky, 18.0ms\n",
      "image 153/932 /content/gdrive/MyDrive/Colab Notebooks/yolo/test/USSR/looting.jpg: 640x640 1 flower, 17.4ms\n",
      "image 154/932 /content/gdrive/MyDrive/Colab Notebooks/yolo/test/USSR/make-suggestions.jpg: 640x640 1 factory worker, 20.8ms\n",
      "image 155/932 /content/gdrive/MyDrive/Colab Notebooks/yolo/test/USSR/manage_skillfully.jpg: 640x640 1 objects, 16.2ms\n",
      "image 156/932 /content/gdrive/MyDrive/Colab Notebooks/yolo/test/USSR/mao.jpg: 640x640 2 factory workers, 3 office workers, 18.7ms\n",
      "image 157/932 /content/gdrive/MyDrive/Colab Notebooks/yolo/test/USSR/may_1st_workers_day.jpg: 640x640 1 factory worker, 1 flag, 1 wheat, 19.8ms\n",
      "image 158/932 /content/gdrive/MyDrive/Colab Notebooks/yolo/test/USSR/may_first.jpg: 640x640 10 flowers, 1 weapon, 14.2ms\n",
      "image 159/932 /content/gdrive/MyDrive/Colab Notebooks/yolo/test/USSR/medvedev_strongmen.jpg: 640x640 (no detections), 12.5ms\n",
      "image 160/932 /content/gdrive/MyDrive/Colab Notebooks/yolo/test/USSR/men_help_women.jpg: 640x640 (no detections), 12.5ms\n",
      "image 161/932 /content/gdrive/MyDrive/Colab Notebooks/yolo/test/USSR/mighty_nation.jpg: 640x640 1 factory worker, 13.7ms\n",
      "image 162/932 /content/gdrive/MyDrive/Colab Notebooks/yolo/test/USSR/mind_honor_conscience.jpg: 640x640 (no detections), 14.6ms\n",
      "image 163/932 /content/gdrive/MyDrive/Colab Notebooks/yolo/test/USSR/moscow-beijing.jpg: 640x640 2 agricultural labourers, 1 factory worker, 14.0ms\n",
      "image 164/932 /content/gdrive/MyDrive/Colab Notebooks/yolo/test/USSR/moscow-competition.jpg: 640x640 (no detections), 12.7ms\n",
      "image 165/932 /content/gdrive/MyDrive/Colab Notebooks/yolo/test/USSR/moscow_is_the_capital.jpg: 640x640 (no detections), 12.7ms\n",
      "image 166/932 /content/gdrive/MyDrive/Colab Notebooks/yolo/test/USSR/motherland_orders.jpg: 640x640 1 building, 1 factory worker, 12.7ms\n",
      "image 167/932 /content/gdrive/MyDrive/Colab Notebooks/yolo/test/USSR/my_planet.jpg: 640x640 (no detections), 12.4ms\n",
      "image 168/932 /content/gdrive/MyDrive/Colab Notebooks/yolo/test/USSR/my_pupil.jpg: 640x640 1 agricultural labourer, 1 factory worker, 1 military, 1 star, 12.8ms\n",
      "image 169/932 /content/gdrive/MyDrive/Colab Notebooks/yolo/test/USSR/napping_at-_work.jpg: 640x640 1 wheat, 12.9ms\n",
      "image 170/932 /content/gdrive/MyDrive/Colab Notebooks/yolo/test/USSR/narkompisheprom_sssr.jpg: 640x640 1 sky, 12.1ms\n",
      "image 171/932 /content/gdrive/MyDrive/Colab Notebooks/yolo/test/USSR/nasty_job.jpg: 640x640 2 factory workers, 12.4ms\n",
      "image 172/932 /content/gdrive/MyDrive/Colab Notebooks/yolo/test/USSR/national_profit.jpg: 640x640 2 factory workers, 1 machinery, 12.6ms\n",
      "image 173/932 /content/gdrive/MyDrive/Colab Notebooks/yolo/test/USSR/nations_waiting.jpg: 640x640 1 book, 1 factory worker, 1 grass, 1 hammer, 1 sickle, 12.4ms\n",
      "image 174/932 /content/gdrive/MyDrive/Colab Notebooks/yolo/test/USSR/nationwide_spartakiada.jpg: 640x640 (no detections), 14.4ms\n",
      "image 175/932 /content/gdrive/MyDrive/Colab Notebooks/yolo/test/USSR/native_council.jpg: 640x640 (no detections), 14.4ms\n",
      "image 176/932 /content/gdrive/MyDrive/Colab Notebooks/yolo/test/USSR/nato_money.jpg: 640x640 1 plane, 14.1ms\n",
      "image 177/932 /content/gdrive/MyDrive/Colab Notebooks/yolo/test/USSR/never-forget.jpg: 640x640 1 military, 12.6ms\n",
      "image 178/932 /content/gdrive/MyDrive/Colab Notebooks/yolo/test/USSR/nevsky_alexandr.jpg: 640x640 1 factory worker, 11.9ms\n",
      "image 179/932 /content/gdrive/MyDrive/Colab Notebooks/yolo/test/USSR/new_achievments.jpg: 640x640 1 sky, 12.0ms\n",
      "image 180/932 /content/gdrive/MyDrive/Colab Notebooks/yolo/test/USSR/new_victories.jpg: 640x640 1 factory worker, 12.3ms\n",
      "image 181/932 /content/gdrive/MyDrive/Colab Notebooks/yolo/test/USSR/newspaper_dawn.jpg: 640x640 (no detections), 14.6ms\n",
      "image 182/932 /content/gdrive/MyDrive/Colab Notebooks/yolo/test/USSR/nipples.jpg: 640x640 1 agricultural labourer, 1 factory worker, 16.8ms\n",
      "image 183/932 /content/gdrive/MyDrive/Colab Notebooks/yolo/test/USSR/no_alcohol_snake.jpg: 640x640 (no detections), 15.7ms\n",
      "image 184/932 /content/gdrive/MyDrive/Colab Notebooks/yolo/test/USSR/no_nuclear_bomb.jpg: 640x640 (no detections), 13.6ms\n",
      "image 185/932 /content/gdrive/MyDrive/Colab Notebooks/yolo/test/USSR/no_to_nuclear_bomb.jpg: 640x640 (no detections), 14.1ms\n",
      "image 186/932 /content/gdrive/MyDrive/Colab Notebooks/yolo/test/USSR/normal_weight.jpg: 640x640 (no detections), 13.5ms\n",
      "image 187/932 /content/gdrive/MyDrive/Colab Notebooks/yolo/test/USSR/nothing_forgotten.jpg: 640x640 1 factory worker, 2 stars, 12.9ms\n",
      "image 188/932 /content/gdrive/MyDrive/Colab Notebooks/yolo/test/USSR/nuclear_weapons_21.jpg: 640x640 (no detections), 13.7ms\n",
      "image 189/932 /content/gdrive/MyDrive/Colab Notebooks/yolo/test/USSR/october_movie.jpg: 640x640 2 machinerys, 17.4ms\n",
      "image 190/932 /content/gdrive/MyDrive/Colab Notebooks/yolo/test/USSR/october_revolution_anniversary.jpg: 640x640 1 factory worker, 1 flag, 15.6ms\n",
      "image 191/932 /content/gdrive/MyDrive/Colab Notebooks/yolo/test/USSR/october_revolution_gives.jpg: 640x640 1 building, 1 factory worker, 18.0ms\n",
      "image 192/932 /content/gdrive/MyDrive/Colab Notebooks/yolo/test/USSR/october_victory_main_event.jpg: 640x640 1 flag, 1 office worker, 13.6ms\n",
      "image 193/932 /content/gdrive/MyDrive/Colab Notebooks/yolo/test/USSR/old_man.jpg: 640x640 1 factory worker, 1 weapon, 21.4ms\n",
      "image 194/932 /content/gdrive/MyDrive/Colab Notebooks/yolo/test/USSR/one_child_two.jpg: 640x640 1 factory worker, 1 office worker, 19.8ms\n",
      "image 195/932 /content/gdrive/MyDrive/Colab Notebooks/yolo/test/USSR/our_first_task_stalin.jpg: 640x640 1 building, 1 military, 1 star, 1 weapon, 17.1ms\n",
      "image 196/932 /content/gdrive/MyDrive/Colab Notebooks/yolo/test/USSR/our_world.jpg: 640x640 1 factory worker, 1 flag, 22.3ms\n",
      "image 197/932 /content/gdrive/MyDrive/Colab Notebooks/yolo/test/USSR/our_world_records.jpg: 640x640 1 factory worker, 1 flag, 1 headscarf, 19.7ms\n",
      "image 198/932 /content/gdrive/MyDrive/Colab Notebooks/yolo/test/USSR/park_of_culture.jpg: 640x640 1 weapon, 15.3ms\n",
      "image 199/932 /content/gdrive/MyDrive/Colab Notebooks/yolo/test/USSR/party_congress.jpg: 640x640 (no detections), 14.8ms\n",
      "image 200/932 /content/gdrive/MyDrive/Colab Notebooks/yolo/test/USSR/party_lenin_brothers.jpg: 640x640 1 office worker, 15.0ms\n",
      "image 201/932 /content/gdrive/MyDrive/Colab Notebooks/yolo/test/USSR/path_lenin.jpg: 640x640 1 military, 14.5ms\n",
      "image 202/932 /content/gdrive/MyDrive/Colab Notebooks/yolo/test/USSR/peace_chalk_boy.jpg: 640x640 1 agricultural labourer, 14.7ms\n",
      "image 203/932 /content/gdrive/MyDrive/Colab Notebooks/yolo/test/USSR/peace_names.jpg: 640x640 1 military, 17.5ms\n",
      "image 204/932 /content/gdrive/MyDrive/Colab Notebooks/yolo/test/USSR/peace_sign_flower.jpg: 640x640 (no detections), 13.6ms\n",
      "image 205/932 /content/gdrive/MyDrive/Colab Notebooks/yolo/test/USSR/peace_to_children_of_earth.jpg: 640x640 (no detections), 13.6ms\n",
      "image 206/932 /content/gdrive/MyDrive/Colab Notebooks/yolo/test/USSR/peace_to_nations.jpg: 640x640 (no detections), 14.2ms\n",
      "image 207/932 /content/gdrive/MyDrive/Colab Notebooks/yolo/test/USSR/pencil_mospoligraf.jpg: 640x640 1 building, 2 cranes, 13.6ms\n",
      "image 208/932 /content/gdrive/MyDrive/Colab Notebooks/yolo/test/USSR/people_and_party_are_united.jpg: 640x640 (no detections), 14.3ms\n",
      "image 209/932 /content/gdrive/MyDrive/Colab Notebooks/yolo/test/USSR/people_rule.jpg: 640x640 2 militarys, 14.0ms\n",
      "image 210/932 /content/gdrive/MyDrive/Colab Notebooks/yolo/test/USSR/people_will_peace.jpg: 640x640 (no detections), 13.8ms\n",
      "image 211/932 /content/gdrive/MyDrive/Colab Notebooks/yolo/test/USSR/peoples-militia.jpg: 640x640 1 military, 1 weapon, 1 wheat, 22.8ms\n",
      "image 212/932 /content/gdrive/MyDrive/Colab Notebooks/yolo/test/USSR/pershing_missile.jpg: 640x640 (no detections), 19.7ms\n",
      "image 213/932 /content/gdrive/MyDrive/Colab Notebooks/yolo/test/USSR/petrograd_no_giveup.jpg: 640x640 1 building, 2 factory workers, 1 flag, 1 hammer, 1 plane, 17.6ms\n",
      "image 214/932 /content/gdrive/MyDrive/Colab Notebooks/yolo/test/USSR/phrases_bases.jpg: 640x640 1 factory worker, 1 machinery, 16.0ms\n",
      "image 215/932 /content/gdrive/MyDrive/Colab Notebooks/yolo/test/USSR/plenty_for_rich.jpg: 640x640 1 factory worker, 12.9ms\n",
      "image 216/932 /content/gdrive/MyDrive/Colab Notebooks/yolo/test/USSR/politics_of_peace.jpg: 640x640 1 flag, 13.0ms\n",
      "image 217/932 /content/gdrive/MyDrive/Colab Notebooks/yolo/test/USSR/popup_10026_den.jpg: 640x640 1 weapon, 13.2ms\n",
      "image 218/932 /content/gdrive/MyDrive/Colab Notebooks/yolo/test/USSR/popup_1251647417lenin_flag.jpg: 640x640 1 agricultural labourer, 13.4ms\n",
      "image 219/932 /content/gdrive/MyDrive/Colab Notebooks/yolo/test/USSR/popup_1268759838nato_neutron.jpg: 640x640 (no detections), 14.0ms\n",
      "image 220/932 /content/gdrive/MyDrive/Colab Notebooks/yolo/test/USSR/popup_1521855725gagarin.jpg: 640x640 1 weapon, 19.8ms\n",
      "image 221/932 /content/gdrive/MyDrive/Colab Notebooks/yolo/test/USSR/popup_1521856238kolhoz.jpg: 640x640 2 agricultural labourers, 1 headscarf, 16.9ms\n",
      "image 222/932 /content/gdrive/MyDrive/Colab Notebooks/yolo/test/USSR/popup_1525946205replace.jpg: 640x640 1 factory worker, 15.6ms\n",
      "image 223/932 /content/gdrive/MyDrive/Colab Notebooks/yolo/test/USSR/popup_1526566151lenin.jpg: 640x640 1 factory worker, 14.4ms\n",
      "image 224/932 /content/gdrive/MyDrive/Colab Notebooks/yolo/test/USSR/popup_1530060514ballade_soldier.jpg: 640x640 1 factory worker, 13.4ms\n",
      "image 225/932 /content/gdrive/MyDrive/Colab Notebooks/yolo/test/USSR/popup_1531048734stalin_cremlin.jpg: 640x640 1 book, 1 office worker, 1 star, 13.3ms\n",
      "image 226/932 /content/gdrive/MyDrive/Colab Notebooks/yolo/test/USSR/popup_1531672692mozerovskie_watches.jpg: 640x640 5 objectss, 13.2ms\n",
      "image 227/932 /content/gdrive/MyDrive/Colab Notebooks/yolo/test/USSR/popup_1534252495quality.jpg: 640x640 (no detections), 18.2ms\n",
      "image 228/932 /content/gdrive/MyDrive/Colab Notebooks/yolo/test/USSR/popup_1537599402beer_ad.jpg: 640x640 1 office worker, 15.6ms\n",
      "image 229/932 /content/gdrive/MyDrive/Colab Notebooks/yolo/test/USSR/popup_1538394038breaking_bomb.jpg: 640x640 (no detections), 21.6ms\n",
      "image 230/932 /content/gdrive/MyDrive/Colab Notebooks/yolo/test/USSR/popup_1549279897vietnam_war.jpg: 640x640 1 crane, 2 factory workers, 19.1ms\n",
      "image 231/932 /content/gdrive/MyDrive/Colab Notebooks/yolo/test/USSR/popup_1559845049labor_peace.jpg: 640x640 (no detections), 15.0ms\n",
      "image 232/932 /content/gdrive/MyDrive/Colab Notebooks/yolo/test/USSR/popup_15643524035in4plan.jpg: 640x640 1 factory worker, 1 plane, 1 wheat, 16.0ms\n",
      "image 233/932 /content/gdrive/MyDrive/Colab Notebooks/yolo/test/USSR/popup_1575343088lenin_kremlin.jpg: 640x640 1 crane, 1 flag, 1 military, 1 star, 2 weapons, 20.2ms\n",
      "image 234/932 /content/gdrive/MyDrive/Colab Notebooks/yolo/test/USSR/popup_1914_1941.jpg: 640x640 1 weapon, 20.4ms\n",
      "image 235/932 /content/gdrive/MyDrive/Colab Notebooks/yolo/test/USSR/popup_1917.jpg: 640x640 (no detections), 19.3ms\n",
      "image 236/932 /content/gdrive/MyDrive/Colab Notebooks/yolo/test/USSR/popup_1945_1985.jpg: 640x640 2 flags, 1 star, 19.3ms\n",
      "image 237/932 /content/gdrive/MyDrive/Colab Notebooks/yolo/test/USSR/popup_1st_of_may.jpg: 640x640 1 flag, 19.0ms\n",
      "image 238/932 /content/gdrive/MyDrive/Colab Notebooks/yolo/test/USSR/popup_1stmay.jpg: 640x640 1 flag, 1 military, 17.2ms\n",
      "image 239/932 /content/gdrive/MyDrive/Colab Notebooks/yolo/test/USSR/popup_20000000.jpg: 640x640 (no detections), 20.7ms\n",
      "image 240/932 /content/gdrive/MyDrive/Colab Notebooks/yolo/test/USSR/popup_25_kpss.jpg: 640x640 (no detections), 19.9ms\n",
      "image 241/932 /content/gdrive/MyDrive/Colab Notebooks/yolo/test/USSR/popup_26congress.jpg: 640x640 1 weapon, 19.7ms\n",
      "image 242/932 /content/gdrive/MyDrive/Colab Notebooks/yolo/test/USSR/popup_26kpss.jpg: 640x640 1 factory worker, 1 military, 1 office worker, 14.0ms\n",
      "image 243/932 /content/gdrive/MyDrive/Colab Notebooks/yolo/test/USSR/popup_26th_kpss.jpg: 640x640 1 agricultural labourer, 1 flag, 13.5ms\n",
      "image 244/932 /content/gdrive/MyDrive/Colab Notebooks/yolo/test/USSR/popup_27congress.jpg: 640x640 (no detections), 13.8ms\n",
      "image 245/932 /content/gdrive/MyDrive/Colab Notebooks/yolo/test/USSR/popup_8_march.jpg: 640x640 (no detections), 12.9ms\n",
      "image 246/932 /content/gdrive/MyDrive/Colab Notebooks/yolo/test/USSR/popup_8th_march_women.jpg: 640x640 1 building, 12.7ms\n",
      "image 247/932 /content/gdrive/MyDrive/Colab Notebooks/yolo/test/USSR/popup_9_days_movie.jpg: 640x640 (no detections), 19.7ms\n",
      "image 248/932 /content/gdrive/MyDrive/Colab Notebooks/yolo/test/USSR/popup_Apollo-Soyuz.jpg: 640x640 (no detections), 19.7ms\n",
      "image 249/932 /content/gdrive/MyDrive/Colab Notebooks/yolo/test/USSR/popup_Br_002.jpg: 640x640 (no detections), 17.1ms\n",
      "image 250/932 /content/gdrive/MyDrive/Colab Notebooks/yolo/test/USSR/popup_Br_003.jpg: 640x640 (no detections), 16.1ms\n",
      "image 251/932 /content/gdrive/MyDrive/Colab Notebooks/yolo/test/USSR/popup_Br_005.jpg: 640x640 2 hammers, 21.5ms\n",
      "image 252/932 /content/gdrive/MyDrive/Colab Notebooks/yolo/test/USSR/popup_Br_007.jpg: 640x640 1 flag, 14.4ms\n",
      "image 253/932 /content/gdrive/MyDrive/Colab Notebooks/yolo/test/USSR/popup_Br_031.jpg: 640x640 1 flag, 3 hammers, 1 weapon, 17.8ms\n",
      "image 254/932 /content/gdrive/MyDrive/Colab Notebooks/yolo/test/USSR/popup_Br_096.jpg: 640x640 (no detections), 16.7ms\n",
      "image 255/932 /content/gdrive/MyDrive/Colab Notebooks/yolo/test/USSR/popup_Br_239.jpg: 640x640 1 weapon, 16.9ms\n",
      "image 256/932 /content/gdrive/MyDrive/Colab Notebooks/yolo/test/USSR/popup_Br_276.jpg: 640x640 1 flag, 2 weapons, 18.2ms\n",
      "image 257/932 /content/gdrive/MyDrive/Colab Notebooks/yolo/test/USSR/popup_Br_284.jpg: 640x640 1 weapon, 17.3ms\n",
      "image 258/932 /content/gdrive/MyDrive/Colab Notebooks/yolo/test/USSR/popup_Br_285.jpg: 640x640 1 agricultural labourer, 1 weapon, 17.2ms\n",
      "image 259/932 /content/gdrive/MyDrive/Colab Notebooks/yolo/test/USSR/popup_Br_286.jpg: 640x640 (no detections), 17.3ms\n",
      "image 260/932 /content/gdrive/MyDrive/Colab Notebooks/yolo/test/USSR/popup_Br_289.jpg: 640x640 1 agricultural labourer, 17.3ms\n",
      "image 261/932 /content/gdrive/MyDrive/Colab Notebooks/yolo/test/USSR/popup_Br_300.jpg: 640x640 1 mountain, 1 wheat, 18.1ms\n",
      "image 262/932 /content/gdrive/MyDrive/Colab Notebooks/yolo/test/USSR/popup_Br_302.jpg: 640x640 1 weapon, 19.7ms\n",
      "image 263/932 /content/gdrive/MyDrive/Colab Notebooks/yolo/test/USSR/popup_Br_303.jpg: 640x640 1 military, 1 wheat, 11.6ms\n",
      "image 264/932 /content/gdrive/MyDrive/Colab Notebooks/yolo/test/USSR/popup_Br_304.jpg: 640x640 1 agricultural labourer, 1 flag, 10.5ms\n",
      "image 265/932 /content/gdrive/MyDrive/Colab Notebooks/yolo/test/USSR/popup_Br_310.jpg: 640x640 1 weapon, 10.6ms\n",
      "image 266/932 /content/gdrive/MyDrive/Colab Notebooks/yolo/test/USSR/popup_Br_312.jpg: 640x640 (no detections), 10.8ms\n",
      "image 267/932 /content/gdrive/MyDrive/Colab Notebooks/yolo/test/USSR/popup_Br_318.jpg: 640x640 (no detections), 10.5ms\n",
      "image 268/932 /content/gdrive/MyDrive/Colab Notebooks/yolo/test/USSR/popup_Br_319.jpg: 640x640 (no detections), 10.5ms\n",
      "image 269/932 /content/gdrive/MyDrive/Colab Notebooks/yolo/test/USSR/popup_Br_320.jpg: 640x640 1 factory worker, 1 weapon, 16.6ms\n",
      "image 270/932 /content/gdrive/MyDrive/Colab Notebooks/yolo/test/USSR/popup_Br_334.jpg: 640x640 1 factory worker, 1 headscarf, 1 military, 1 office worker, 15.4ms\n",
      "image 271/932 /content/gdrive/MyDrive/Colab Notebooks/yolo/test/USSR/popup_Br_336.jpg: 640x640 1 military, 2 stars, 15.7ms\n",
      "image 272/932 /content/gdrive/MyDrive/Colab Notebooks/yolo/test/USSR/popup_Br_337.jpg: 640x640 1 weapon, 11.4ms\n",
      "image 273/932 /content/gdrive/MyDrive/Colab Notebooks/yolo/test/USSR/popup_Br_343.jpg: 640x640 2 factory workers, 10.6ms\n",
      "image 274/932 /content/gdrive/MyDrive/Colab Notebooks/yolo/test/USSR/popup_Br_344.jpg: 640x640 2 agricultural labourers, 1 flag, 1 headscarf, 11.2ms\n",
      "image 275/932 /content/gdrive/MyDrive/Colab Notebooks/yolo/test/USSR/popup_Br_357.jpg: 640x640 1 factory worker, 1 flag, 1 military, 10.7ms\n",
      "image 276/932 /content/gdrive/MyDrive/Colab Notebooks/yolo/test/USSR/popup_Br_363.jpg: 640x640 1 weapon, 10.4ms\n",
      "image 277/932 /content/gdrive/MyDrive/Colab Notebooks/yolo/test/USSR/popup_Br_364.jpg: 640x640 1 factory worker, 10.3ms\n",
      "image 278/932 /content/gdrive/MyDrive/Colab Notebooks/yolo/test/USSR/popup_Br_370.jpg: 640x640 (no detections), 10.5ms\n",
      "image 279/932 /content/gdrive/MyDrive/Colab Notebooks/yolo/test/USSR/popup_Br_371.jpg: 640x640 1 star, 11.1ms\n",
      "image 280/932 /content/gdrive/MyDrive/Colab Notebooks/yolo/test/USSR/popup_Go_009.jpg: 640x640 1 office worker, 10.7ms\n",
      "image 281/932 /content/gdrive/MyDrive/Colab Notebooks/yolo/test/USSR/popup_Go_022.jpg: 640x640 (no detections), 11.2ms\n",
      "image 282/932 /content/gdrive/MyDrive/Colab Notebooks/yolo/test/USSR/popup_Go_024.jpg: 640x640 (no detections), 11.2ms\n",
      "image 283/932 /content/gdrive/MyDrive/Colab Notebooks/yolo/test/USSR/popup_Go_055.jpg: 640x640 (no detections), 11.7ms\n",
      "image 284/932 /content/gdrive/MyDrive/Colab Notebooks/yolo/test/USSR/popup_Go_061.jpg: 640x640 1 wheat, 11.8ms\n",
      "image 285/932 /content/gdrive/MyDrive/Colab Notebooks/yolo/test/USSR/popup_Go_065.jpg: 640x640 (no detections), 10.5ms\n",
      "image 286/932 /content/gdrive/MyDrive/Colab Notebooks/yolo/test/USSR/popup_Go_078.jpg: 640x640 1 flag, 18.3ms\n",
      "image 287/932 /content/gdrive/MyDrive/Colab Notebooks/yolo/test/USSR/popup_Hr_006.jpg: 640x640 1 flag, 1 military, 11.3ms\n",
      "image 288/932 /content/gdrive/MyDrive/Colab Notebooks/yolo/test/USSR/popup_Hr_007.jpg: 640x640 1 factory worker, 2 flags, 1 headscarf, 10.9ms\n",
      "image 289/932 /content/gdrive/MyDrive/Colab Notebooks/yolo/test/USSR/popup_Hr_009.jpg: 640x640 1 factory worker, 11.5ms\n",
      "image 290/932 /content/gdrive/MyDrive/Colab Notebooks/yolo/test/USSR/popup_Hr_015.jpg: 640x640 1 agricultural labourer, 1 headscarf, 10.6ms\n",
      "image 291/932 /content/gdrive/MyDrive/Colab Notebooks/yolo/test/USSR/popup_Le_003.jpg: 640x640 (no detections), 10.4ms\n",
      "image 292/932 /content/gdrive/MyDrive/Colab Notebooks/yolo/test/USSR/popup_Le_004.jpg: 640x640 (no detections), 11.1ms\n",
      "image 293/932 /content/gdrive/MyDrive/Colab Notebooks/yolo/test/USSR/popup_Le_006.jpg: 640x640 1 factory worker, 10.6ms\n",
      "image 294/932 /content/gdrive/MyDrive/Colab Notebooks/yolo/test/USSR/popup_Le_007.jpg: 640x640 1 star, 11.1ms\n",
      "image 295/932 /content/gdrive/MyDrive/Colab Notebooks/yolo/test/USSR/popup_Le_009.jpg: 640x640 1 factory worker, 10.3ms\n",
      "image 296/932 /content/gdrive/MyDrive/Colab Notebooks/yolo/test/USSR/popup_Le_012.jpg: 640x640 4 headscarfs, 10.9ms\n",
      "image 297/932 /content/gdrive/MyDrive/Colab Notebooks/yolo/test/USSR/popup_Le_017.jpg: 640x640 (no detections), 10.9ms\n",
      "image 298/932 /content/gdrive/MyDrive/Colab Notebooks/yolo/test/USSR/popup_Le_018.jpg: 640x640 1 machinery, 10.2ms\n",
      "image 299/932 /content/gdrive/MyDrive/Colab Notebooks/yolo/test/USSR/popup_Le_022.jpg: 640x640 1 weapon, 12.8ms\n",
      "image 300/932 /content/gdrive/MyDrive/Colab Notebooks/yolo/test/USSR/popup_Le_023.jpg: 640x640 (no detections), 11.2ms\n",
      "image 301/932 /content/gdrive/MyDrive/Colab Notebooks/yolo/test/USSR/popup_Le_028.jpg: 640x640 1 factory worker, 10.1ms\n",
      "image 302/932 /content/gdrive/MyDrive/Colab Notebooks/yolo/test/USSR/popup_Le_029.jpg: 640x640 (no detections), 10.4ms\n",
      "image 303/932 /content/gdrive/MyDrive/Colab Notebooks/yolo/test/USSR/popup_Le_030.jpg: 640x640 1 book, 10.6ms\n",
      "image 304/932 /content/gdrive/MyDrive/Colab Notebooks/yolo/test/USSR/popup_Le_031.jpg: 640x640 1 weapon, 1 wheat, 10.0ms\n",
      "image 305/932 /content/gdrive/MyDrive/Colab Notebooks/yolo/test/USSR/popup_Le_034.jpg: 640x640 1 machinery, 10.0ms\n",
      "image 306/932 /content/gdrive/MyDrive/Colab Notebooks/yolo/test/USSR/popup_Le_036.jpg: 640x640 (no detections), 13.6ms\n",
      "image 307/932 /content/gdrive/MyDrive/Colab Notebooks/yolo/test/USSR/popup_Le_040.jpg: 640x640 2 factory workers, 17.3ms\n",
      "image 308/932 /content/gdrive/MyDrive/Colab Notebooks/yolo/test/USSR/popup_Le_043.jpg: 640x640 (no detections), 16.0ms\n",
      "image 309/932 /content/gdrive/MyDrive/Colab Notebooks/yolo/test/USSR/popup_Le_044.jpg: 640x640 1 military, 10.6ms\n",
      "image 310/932 /content/gdrive/MyDrive/Colab Notebooks/yolo/test/USSR/popup_Le_048.jpg: 640x640 (no detections), 10.7ms\n",
      "image 311/932 /content/gdrive/MyDrive/Colab Notebooks/yolo/test/USSR/popup_Le_050.jpg: 640x640 (no detections), 10.8ms\n",
      "image 312/932 /content/gdrive/MyDrive/Colab Notebooks/yolo/test/USSR/popup_Le_051.jpg: 640x640 1 grass, 11.6ms\n",
      "image 313/932 /content/gdrive/MyDrive/Colab Notebooks/yolo/test/USSR/popup_Le_055.jpg: 640x640 1 flag, 1 military, 11.6ms\n",
      "image 314/932 /content/gdrive/MyDrive/Colab Notebooks/yolo/test/USSR/popup_Le_058.jpg: 640x640 1 factory worker, 10.5ms\n",
      "image 315/932 /content/gdrive/MyDrive/Colab Notebooks/yolo/test/USSR/popup_Le_060.jpg: 640x640 1 flag, 1 military, 1 office worker, 3 weapons, 10.8ms\n",
      "image 316/932 /content/gdrive/MyDrive/Colab Notebooks/yolo/test/USSR/popup_Le_062.jpg: 640x640 (no detections), 10.9ms\n",
      "image 317/932 /content/gdrive/MyDrive/Colab Notebooks/yolo/test/USSR/popup_Le_064.jpg: 640x640 1 weapon, 11.2ms\n",
      "image 318/932 /content/gdrive/MyDrive/Colab Notebooks/yolo/test/USSR/popup_Le_068.jpg: 640x640 (no detections), 12.4ms\n",
      "image 319/932 /content/gdrive/MyDrive/Colab Notebooks/yolo/test/USSR/popup_Le_073.jpg: 640x640 (no detections), 10.2ms\n",
      "image 320/932 /content/gdrive/MyDrive/Colab Notebooks/yolo/test/USSR/popup_Le_074.jpg: 640x640 (no detections), 10.6ms\n",
      "image 321/932 /content/gdrive/MyDrive/Colab Notebooks/yolo/test/USSR/popup_Le_075.jpg: 640x640 (no detections), 11.2ms\n",
      "image 322/932 /content/gdrive/MyDrive/Colab Notebooks/yolo/test/USSR/popup_Le_076.jpg: 640x640 (no detections), 10.0ms\n",
      "image 323/932 /content/gdrive/MyDrive/Colab Notebooks/yolo/test/USSR/popup_Le_077.jpg: 640x640 1 factory worker, 9.5ms\n",
      "image 324/932 /content/gdrive/MyDrive/Colab Notebooks/yolo/test/USSR/popup_Le_082.jpg: 640x640 1 building, 1 factory worker, 10.0ms\n",
      "image 325/932 /content/gdrive/MyDrive/Colab Notebooks/yolo/test/USSR/popup_Le_086.jpg: 640x640 1 factory worker, 1 weapon, 17.7ms\n",
      "image 326/932 /content/gdrive/MyDrive/Colab Notebooks/yolo/test/USSR/popup_St_014.jpg: 640x640 1 agricultural labourer, 10.7ms\n",
      "image 327/932 /content/gdrive/MyDrive/Colab Notebooks/yolo/test/USSR/popup_St_021.jpg: 640x640 (no detections), 10.2ms\n",
      "image 328/932 /content/gdrive/MyDrive/Colab Notebooks/yolo/test/USSR/popup_St_022.jpg: 640x640 (no detections), 10.4ms\n",
      "image 329/932 /content/gdrive/MyDrive/Colab Notebooks/yolo/test/USSR/popup_St_025.jpg: 640x640 1 agricultural labourer, 10.0ms\n",
      "image 330/932 /content/gdrive/MyDrive/Colab Notebooks/yolo/test/USSR/popup_St_026.jpg: 640x640 1 star, 2 weapons, 11.3ms\n",
      "image 331/932 /content/gdrive/MyDrive/Colab Notebooks/yolo/test/USSR/popup_St_031.jpg: 640x640 1 military, 10.6ms\n",
      "image 332/932 /content/gdrive/MyDrive/Colab Notebooks/yolo/test/USSR/popup_St_032.jpg: 640x640 2 factory workers, 9.7ms\n",
      "image 333/932 /content/gdrive/MyDrive/Colab Notebooks/yolo/test/USSR/popup_St_033.jpg: 640x640 1 weapon, 10.5ms\n",
      "image 334/932 /content/gdrive/MyDrive/Colab Notebooks/yolo/test/USSR/popup_St_035.jpg: 640x640 (no detections), 10.0ms\n",
      "image 335/932 /content/gdrive/MyDrive/Colab Notebooks/yolo/test/USSR/popup_St_036.jpg: 640x640 (no detections), 10.1ms\n",
      "image 336/932 /content/gdrive/MyDrive/Colab Notebooks/yolo/test/USSR/popup_St_038.jpg: 640x640 1 agricultural labourer, 9.9ms\n",
      "image 337/932 /content/gdrive/MyDrive/Colab Notebooks/yolo/test/USSR/popup_St_043.jpg: 640x640 1 crane, 1 military, 2 weapons, 10.7ms\n",
      "image 338/932 /content/gdrive/MyDrive/Colab Notebooks/yolo/test/USSR/popup_St_044.jpg: 640x640 1 agricultural labourer, 1 factory worker, 1 sky, 10.6ms\n",
      "image 339/932 /content/gdrive/MyDrive/Colab Notebooks/yolo/test/USSR/popup_St_045.jpg: 640x640 1 weapon, 10.6ms\n",
      "image 340/932 /content/gdrive/MyDrive/Colab Notebooks/yolo/test/USSR/popup_St_049.jpg: 640x640 (no detections), 10.3ms\n",
      "image 341/932 /content/gdrive/MyDrive/Colab Notebooks/yolo/test/USSR/popup_St_050.jpg: 640x640 2 agricultural labourers, 4 factory workers, 10.3ms\n",
      "image 342/932 /content/gdrive/MyDrive/Colab Notebooks/yolo/test/USSR/popup_St_052.jpg: 640x640 (no detections), 11.0ms\n",
      "image 343/932 /content/gdrive/MyDrive/Colab Notebooks/yolo/test/USSR/popup_St_053.jpg: 640x640 1 weapon, 10.3ms\n",
      "image 344/932 /content/gdrive/MyDrive/Colab Notebooks/yolo/test/USSR/popup_St_055.jpg: 640x640 1 agricultural labourer, 1 headscarf, 9.9ms\n",
      "image 345/932 /content/gdrive/MyDrive/Colab Notebooks/yolo/test/USSR/popup_St_056.jpg: 640x640 2 factory workers, 1 military, 1 star, 14.5ms\n",
      "image 346/932 /content/gdrive/MyDrive/Colab Notebooks/yolo/test/USSR/popup_St_059.jpg: 640x640 (no detections), 14.6ms\n",
      "image 347/932 /content/gdrive/MyDrive/Colab Notebooks/yolo/test/USSR/popup_St_068.jpg: 640x640 1 agricultural labourer, 1 headscarf, 14.4ms\n",
      "image 348/932 /content/gdrive/MyDrive/Colab Notebooks/yolo/test/USSR/popup_WellLiveTillMonday.jpg: 640x640 2 office workers, 12.3ms\n",
      "image 349/932 /content/gdrive/MyDrive/Colab Notebooks/yolo/test/USSR/popup_above_the.jpg: 640x640 2 planes, 3 skys, 9.8ms\n",
      "image 350/932 /content/gdrive/MyDrive/Colab Notebooks/yolo/test/USSR/popup_absence_work.jpg: 640x640 2 factory workers, 1 hammer, 1 wheat, 10.6ms\n",
      "image 351/932 /content/gdrive/MyDrive/Colab Notebooks/yolo/test/USSR/popup_agriculture.jpg: 640x640 1 objects, 10.8ms\n",
      "image 352/932 /content/gdrive/MyDrive/Colab Notebooks/yolo/test/USSR/popup_airplane_flag.jpg: 640x640 (no detections), 10.9ms\n",
      "image 353/932 /content/gdrive/MyDrive/Colab Notebooks/yolo/test/USSR/popup_american_flag.jpg: 640x640 (no detections), 11.1ms\n",
      "image 354/932 /content/gdrive/MyDrive/Colab Notebooks/yolo/test/USSR/popup_anti-alcohol_campaign.jpg: 640x640 1 book, 1 building, 1 factory worker, 10.9ms\n",
      "image 355/932 /content/gdrive/MyDrive/Colab Notebooks/yolo/test/USSR/popup_apartheid.jpg: 640x640 (no detections), 11.8ms\n",
      "image 356/932 /content/gdrive/MyDrive/Colab Notebooks/yolo/test/USSR/popup_apple_worm.jpg: 640x640 (no detections), 11.3ms\n",
      "image 357/932 /content/gdrive/MyDrive/Colab Notebooks/yolo/test/USSR/popup_arms_race.jpg: 640x640 (no detections), 11.1ms\n",
      "image 358/932 /content/gdrive/MyDrive/Colab Notebooks/yolo/test/USSR/popup_aviation.jpg: 640x640 1 flag, 22.8ms\n",
      "image 359/932 /content/gdrive/MyDrive/Colab Notebooks/yolo/test/USSR/popup_aviators-march.jpg: 640x640 1 agricultural labourer, 1 weapon, 11.8ms\n",
      "image 360/932 /content/gdrive/MyDrive/Colab Notebooks/yolo/test/USSR/popup_baby_earth.jpg: 640x640 (no detections), 11.1ms\n",
      "image 361/932 /content/gdrive/MyDrive/Colab Notebooks/yolo/test/USSR/popup_baloon.jpg: 640x640 (no detections), 10.8ms\n",
      "image 362/932 /content/gdrive/MyDrive/Colab Notebooks/yolo/test/USSR/popup_be_a_hero.jpg: 640x640 1 agricultural labourer, 1 headscarf, 1 military, 1 weapon, 10.8ms\n",
      "image 363/932 /content/gdrive/MyDrive/Colab Notebooks/yolo/test/USSR/popup_be_alert.jpg: 640x640 1 military, 1 star, 3 weapons, 10.7ms\n",
      "image 364/932 /content/gdrive/MyDrive/Colab Notebooks/yolo/test/USSR/popup_believe-anniversary.jpg: 640x640 1 hammer, 1 military, 1 sickle, 1 weapon, 18.4ms\n",
      "image 365/932 /content/gdrive/MyDrive/Colab Notebooks/yolo/test/USSR/popup_bell_mir.jpg: 640x640 (no detections), 10.9ms\n",
      "image 366/932 /content/gdrive/MyDrive/Colab Notebooks/yolo/test/USSR/popup_billiards.jpg: 640x640 (no detections), 10.5ms\n",
      "image 367/932 /content/gdrive/MyDrive/Colab Notebooks/yolo/test/USSR/popup_bird_house.jpg: 640x640 (no detections), 10.6ms\n",
      "image 368/932 /content/gdrive/MyDrive/Colab Notebooks/yolo/test/USSR/popup_birth.jpg: 640x640 (no detections), 10.7ms\n",
      "image 369/932 /content/gdrive/MyDrive/Colab Notebooks/yolo/test/USSR/popup_blabber.jpg: 640x640 1 military, 1 wheat, 9.9ms\n",
      "image 370/932 /content/gdrive/MyDrive/Colab Notebooks/yolo/test/USSR/popup_black-caviar.jpg: 640x640 (no detections), 10.2ms\n",
      "image 371/932 /content/gdrive/MyDrive/Colab Notebooks/yolo/test/USSR/popup_black_caviar.jpg: 640x640 (no detections), 11.0ms\n",
      "image 372/932 /content/gdrive/MyDrive/Colab Notebooks/yolo/test/USSR/popup_black_kassa.jpg: 640x640 1 office worker, 10.8ms\n",
      "image 373/932 /content/gdrive/MyDrive/Colab Notebooks/yolo/test/USSR/popup_bomb_cage.jpg: 640x640 (no detections), 10.9ms\n",
      "image 374/932 /content/gdrive/MyDrive/Colab Notebooks/yolo/test/USSR/popup_bomb_hand.jpg: 640x640 (no detections), 10.7ms\n",
      "image 375/932 /content/gdrive/MyDrive/Colab Notebooks/yolo/test/USSR/popup_bomb_no.jpg: 640x640 (no detections), 13.4ms\n",
      "image 376/932 /content/gdrive/MyDrive/Colab Notebooks/yolo/test/USSR/popup_bomb_on_earth.jpg: 640x640 1 plane, 12.3ms\n",
      "image 377/932 /content/gdrive/MyDrive/Colab Notebooks/yolo/test/USSR/popup_brave.jpg: 640x640 1 crane, 2 factory workers, 1 hammer, 10.7ms\n",
      "image 378/932 /content/gdrive/MyDrive/Colab Notebooks/yolo/test/USSR/popup_bread_for_workers.jpg: 640x640 (no detections), 11.2ms\n",
      "image 379/932 /content/gdrive/MyDrive/Colab Notebooks/yolo/test/USSR/popup_bread_labor.jpg: 640x640 1 agricultural labourer, 2 headscarfs, 1 weapon, 11.5ms\n",
      "image 380/932 /content/gdrive/MyDrive/Colab Notebooks/yolo/test/USSR/popup_bread_motherland.jpg: 640x640 1 agricultural labourer, 3 headscarfs, 1 wheat, 10.5ms\n",
      "image 381/932 /content/gdrive/MyDrive/Colab Notebooks/yolo/test/USSR/popup_bread_respect.jpg: 640x640 1 military, 11.1ms\n",
      "image 382/932 /content/gdrive/MyDrive/Colab Notebooks/yolo/test/USSR/popup_breed_rabbits.jpg: 640x640 1 factory worker, 14.8ms\n",
      "image 383/932 /content/gdrive/MyDrive/Colab Notebooks/yolo/test/USSR/popup_brezhnev.jpg: 640x640 1 military, 1 office worker, 14.6ms\n",
      "image 384/932 /content/gdrive/MyDrive/Colab Notebooks/yolo/test/USSR/popup_brother.jpg: 640x640 2 agricultural labourers, 13.1ms\n",
      "image 385/932 /content/gdrive/MyDrive/Colab Notebooks/yolo/test/USSR/popup_built_to_last.jpg: 640x640 2 cranes, 1 factory worker, 9.7ms\n",
      "image 386/932 /content/gdrive/MyDrive/Colab Notebooks/yolo/test/USSR/popup_bureaucracy.jpg: 640x640 1 military, 1 office worker, 1 weapon, 10.1ms\n",
      "image 387/932 /content/gdrive/MyDrive/Colab Notebooks/yolo/test/USSR/popup_candidate_plans.jpg: 640x640 1 weapon, 9.5ms\n",
      "image 388/932 /content/gdrive/MyDrive/Colab Notebooks/yolo/test/USSR/popup_canned_sturgeon.jpg: 640x640 (no detections), 10.0ms\n",
      "image 389/932 /content/gdrive/MyDrive/Colab Notebooks/yolo/test/USSR/popup_capitalism_socialism.jpg: 640x640 2 factory workers, 4 office workers, 1 weapon, 9.6ms\n",
      "image 390/932 /content/gdrive/MyDrive/Colab Notebooks/yolo/test/USSR/popup_captains.jpg: 640x640 1 office worker, 9.7ms\n",
      "image 391/932 /content/gdrive/MyDrive/Colab Notebooks/yolo/test/USSR/popup_care_to_people.jpg: 640x640 (no detections), 10.0ms\n",
      "image 392/932 /content/gdrive/MyDrive/Colab Notebooks/yolo/test/USSR/popup_cast_iron.jpg: 640x640 (no detections), 11.5ms\n",
      "image 393/932 /content/gdrive/MyDrive/Colab Notebooks/yolo/test/USSR/popup_castro_hrushev.jpg: 640x640 1 flag, 1 hammer, 1 military, 1 sickle, 1 star, 4 weapons, 9.6ms\n",
      "image 394/932 /content/gdrive/MyDrive/Colab Notebooks/yolo/test/USSR/popup_cccp_birds.jpg: 640x640 (no detections), 10.7ms\n",
      "image 395/932 /content/gdrive/MyDrive/Colab Notebooks/yolo/test/USSR/popup_cccp_lenin.jpg: 640x640 (no detections), 10.7ms\n",
      "image 396/932 /content/gdrive/MyDrive/Colab Notebooks/yolo/test/USSR/popup_chances.jpg: 640x640 (no detections), 10.8ms\n",
      "image 397/932 /content/gdrive/MyDrive/Colab Notebooks/yolo/test/USSR/popup_checkmate.jpg: 640x640 (no detections), 10.8ms\n",
      "image 398/932 /content/gdrive/MyDrive/Colab Notebooks/yolo/test/USSR/popup_cheese-ad.jpg: 640x640 (no detections), 10.8ms\n",
      "image 399/932 /content/gdrive/MyDrive/Colab Notebooks/yolo/test/USSR/popup_child.jpg: 640x640 2 agricultural labourers, 11.1ms\n",
      "image 400/932 /content/gdrive/MyDrive/Colab Notebooks/yolo/test/USSR/popup_child_draw.jpg: 640x640 (no detections), 11.7ms\n",
      "image 401/932 /content/gdrive/MyDrive/Colab Notebooks/yolo/test/USSR/popup_child_earth.jpg: 640x640 (no detections), 10.6ms\n",
      "image 402/932 /content/gdrive/MyDrive/Colab Notebooks/yolo/test/USSR/popup_child_helmet.jpg: 640x640 1 factory worker, 10.8ms\n",
      "image 403/932 /content/gdrive/MyDrive/Colab Notebooks/yolo/test/USSR/popup_child_mother.jpg: 640x640 (no detections), 11.0ms\n",
      "image 404/932 /content/gdrive/MyDrive/Colab Notebooks/yolo/test/USSR/popup_children_protest.jpg: 640x640 1 factory worker, 1 flag, 10.6ms\n",
      "image 405/932 /content/gdrive/MyDrive/Colab Notebooks/yolo/test/USSR/popup_chili.jpg: 640x640 (no detections), 15.6ms\n",
      "image 406/932 /content/gdrive/MyDrive/Colab Notebooks/yolo/test/USSR/popup_chocking_snake.jpg: 640x640 (no detections), 10.5ms\n",
      "image 407/932 /content/gdrive/MyDrive/Colab Notebooks/yolo/test/USSR/popup_christmas.jpg: 640x640 1 flag, 3 militarys, 1 star, 10.6ms\n",
      "image 408/932 /content/gdrive/MyDrive/Colab Notebooks/yolo/test/USSR/popup_cigarettes_guns.jpg: 640x640 1 machinery, 1 plane, 10.8ms\n",
      "image 409/932 /content/gdrive/MyDrive/Colab Notebooks/yolo/test/USSR/popup_cinema_to_masses.jpg: 640x640 1 headscarf, 1 military, 9.9ms\n",
      "image 410/932 /content/gdrive/MyDrive/Colab Notebooks/yolo/test/USSR/popup_cinsovpost_00003.jpg: 640x640 (no detections), 11.0ms\n",
      "image 411/932 /content/gdrive/MyDrive/Colab Notebooks/yolo/test/USSR/popup_cinsovpost_00004.jpg: 640x640 1 factory worker, 1 weapon, 10.5ms\n",
      "image 412/932 /content/gdrive/MyDrive/Colab Notebooks/yolo/test/USSR/popup_cinsovpost_00005.jpg: 640x640 1 factory worker, 10.3ms\n",
      "image 413/932 /content/gdrive/MyDrive/Colab Notebooks/yolo/test/USSR/popup_cinsovpost_00006.jpg: 640x640 1 machinery, 3 weapons, 10.6ms\n",
      "image 414/932 /content/gdrive/MyDrive/Colab Notebooks/yolo/test/USSR/popup_cinsovpost_00008.jpg: 640x640 1 agricultural labourer, 3 factory workers, 11.5ms\n",
      "image 415/932 /content/gdrive/MyDrive/Colab Notebooks/yolo/test/USSR/popup_cinsovpost_00009.jpg: 640x640 1 agricultural labourer, 12.3ms\n",
      "image 416/932 /content/gdrive/MyDrive/Colab Notebooks/yolo/test/USSR/popup_cinsovpost_00011.jpg: 640x640 1 office worker, 2 weapons, 11.3ms\n",
      "image 417/932 /content/gdrive/MyDrive/Colab Notebooks/yolo/test/USSR/popup_cinsovpost_00017.jpg: 640x640 1 book, 11.3ms\n",
      "image 418/932 /content/gdrive/MyDrive/Colab Notebooks/yolo/test/USSR/popup_cinsovpost_00019.jpg: 640x640 1 factory worker, 1 military, 1 office worker, 11.2ms\n",
      "image 419/932 /content/gdrive/MyDrive/Colab Notebooks/yolo/test/USSR/popup_cinsovpost_00020.jpg: 640x640 1 military, 10.6ms\n",
      "image 420/932 /content/gdrive/MyDrive/Colab Notebooks/yolo/test/USSR/popup_cinsovpost_00024.jpg: 640x640 1 machinery, 10.3ms\n",
      "image 421/932 /content/gdrive/MyDrive/Colab Notebooks/yolo/test/USSR/popup_cinsovpost_00028.jpg: 640x640 1 factory worker, 1 flag, 13.8ms\n",
      "image 422/932 /content/gdrive/MyDrive/Colab Notebooks/yolo/test/USSR/popup_cinsovpost_00029.jpg: 640x640 1 factory worker, 1 headscarf, 15.8ms\n",
      "image 423/932 /content/gdrive/MyDrive/Colab Notebooks/yolo/test/USSR/popup_circuit.jpg: 640x640 (no detections), 15.2ms\n",
      "image 424/932 /content/gdrive/MyDrive/Colab Notebooks/yolo/test/USSR/popup_class_enemy.jpg: 640x640 1 agricultural labourer, 1 factory worker, 12.9ms\n",
      "image 425/932 /content/gdrive/MyDrive/Colab Notebooks/yolo/test/USSR/popup_clean_sky.jpg: 640x640 (no detections), 10.3ms\n",
      "image 426/932 /content/gdrive/MyDrive/Colab Notebooks/yolo/test/USSR/popup_clear_sky.jpg: 640x640 (no detections), 10.6ms\n",
      "image 427/932 /content/gdrive/MyDrive/Colab Notebooks/yolo/test/USSR/popup_closer_to_life.jpg: 640x640 1 factory worker, 11.2ms\n",
      "image 428/932 /content/gdrive/MyDrive/Colab Notebooks/yolo/test/USSR/popup_combat_pilots.jpg: 640x640 1 factory worker, 2 planes, 12.4ms\n",
      "image 429/932 /content/gdrive/MyDrive/Colab Notebooks/yolo/test/USSR/popup_communism-studying.jpg: 640x640 1 building, 1 flag, 1 star, 11.3ms\n",
      "image 430/932 /content/gdrive/MyDrive/Colab Notebooks/yolo/test/USSR/popup_construction.jpg: 640x640 1 weapon, 11.6ms\n",
      "image 431/932 /content/gdrive/MyDrive/Colab Notebooks/yolo/test/USSR/popup_corn_source.jpg: 640x640 1 agricultural labourer, 2 headscarfs, 14.0ms\n",
      "image 432/932 /content/gdrive/MyDrive/Colab Notebooks/yolo/test/USSR/popup_corvalan_l.jpg: 640x640 (no detections), 20.5ms\n",
      "image 433/932 /content/gdrive/MyDrive/Colab Notebooks/yolo/test/USSR/popup_cosmonaut.jpg: 640x640 1 headscarf, 11.2ms\n",
      "image 434/932 /content/gdrive/MyDrive/Colab Notebooks/yolo/test/USSR/popup_cow.jpg: 640x640 1 weapon, 11.3ms\n",
      "image 435/932 /content/gdrive/MyDrive/Colab Notebooks/yolo/test/USSR/popup_cows_farms.jpg: 640x640 1 factory worker, 11.8ms\n",
      "image 436/932 /content/gdrive/MyDrive/Colab Notebooks/yolo/test/USSR/popup_criminal.jpg: 640x640 (no detections), 10.5ms\n",
      "image 437/932 /content/gdrive/MyDrive/Colab Notebooks/yolo/test/USSR/popup_crutches.jpg: 640x640 1 weapon, 10.6ms\n",
      "image 438/932 /content/gdrive/MyDrive/Colab Notebooks/yolo/test/USSR/popup_cultsovpost_00002.jpg: 640x640 (no detections), 10.3ms\n",
      "image 439/932 /content/gdrive/MyDrive/Colab Notebooks/yolo/test/USSR/popup_cultsovpost_00004.jpg: 640x640 1 agricultural labourer, 1 headscarf, 2 wheats, 9.9ms\n",
      "image 440/932 /content/gdrive/MyDrive/Colab Notebooks/yolo/test/USSR/popup_cultsovpost_00005.jpg: 640x640 1 building, 1 crane, 1 factory worker, 10.4ms\n",
      "image 441/932 /content/gdrive/MyDrive/Colab Notebooks/yolo/test/USSR/popup_cultsovpost_00006.jpg: 640x640 (no detections), 10.1ms\n",
      "image 442/932 /content/gdrive/MyDrive/Colab Notebooks/yolo/test/USSR/popup_cultsovpost_00009.jpg: 640x640 1 factory worker, 13.5ms\n",
      "image 443/932 /content/gdrive/MyDrive/Colab Notebooks/yolo/test/USSR/popup_cultsovpost_00010.jpg: 640x640 1 factory worker, 1 flag, 13.6ms\n",
      "image 444/932 /content/gdrive/MyDrive/Colab Notebooks/yolo/test/USSR/popup_cultsovpost_00011.jpg: 640x640 (no detections), 11.9ms\n",
      "image 445/932 /content/gdrive/MyDrive/Colab Notebooks/yolo/test/USSR/popup_cultsovpost_00012.jpg: 640x640 (no detections), 10.2ms\n",
      "image 446/932 /content/gdrive/MyDrive/Colab Notebooks/yolo/test/USSR/popup_cultsovpost_00015.jpg: 640x640 (no detections), 10.4ms\n",
      "image 447/932 /content/gdrive/MyDrive/Colab Notebooks/yolo/test/USSR/popup_cultsovpost_00018.jpg: 640x640 1 star, 11.0ms\n",
      "image 448/932 /content/gdrive/MyDrive/Colab Notebooks/yolo/test/USSR/popup_cultural_revolution.jpg: 640x640 1 factory worker, 10.2ms\n",
      "image 449/932 /content/gdrive/MyDrive/Colab Notebooks/yolo/test/USSR/popup_dad_drink.jpg: 640x640 2 sickles, 10.2ms\n",
      "image 450/932 /content/gdrive/MyDrive/Colab Notebooks/yolo/test/USSR/popup_death_to_invaders.jpg: 640x640 1 star, 1 weapon, 9.8ms\n",
      "image 451/932 /content/gdrive/MyDrive/Colab Notebooks/yolo/test/USSR/popup_decree_peace.jpg: 640x640 1 agricultural labourer, 10.0ms\n",
      "image 452/932 /content/gdrive/MyDrive/Colab Notebooks/yolo/test/USSR/popup_defend_soviet_russia.jpg: 640x640 1 sky, 3 stars, 5 weapons, 10.6ms\n",
      "image 453/932 /content/gdrive/MyDrive/Colab Notebooks/yolo/test/USSR/popup_derbi.jpg: 640x640 (no detections), 10.4ms\n",
      "image 454/932 /content/gdrive/MyDrive/Colab Notebooks/yolo/test/USSR/popup_desert.jpg: 640x640 (no detections), 10.5ms\n",
      "image 455/932 /content/gdrive/MyDrive/Colab Notebooks/yolo/test/USSR/popup_dialogue.jpg: 640x640 (no detections), 14.5ms\n",
      "image 456/932 /content/gdrive/MyDrive/Colab Notebooks/yolo/test/USSR/popup_dnipro_water.jpg: 640x640 1 military, 2 weapons, 14.6ms\n",
      "image 457/932 /content/gdrive/MyDrive/Colab Notebooks/yolo/test/USSR/popup_do_not_blab.jpg: 640x640 1 factory worker, 1 headscarf, 15.0ms\n",
      "image 458/932 /content/gdrive/MyDrive/Colab Notebooks/yolo/test/USSR/popup_do_not_lie.jpg: 640x640 (no detections), 10.4ms\n",
      "image 459/932 /content/gdrive/MyDrive/Colab Notebooks/yolo/test/USSR/popup_dobrolet_sssr.jpg: 640x640 1 military, 9.9ms\n",
      "image 460/932 /content/gdrive/MyDrive/Colab Notebooks/yolo/test/USSR/popup_doll.jpg: 640x640 1 factory worker, 10.3ms\n",
      "image 461/932 /content/gdrive/MyDrive/Colab Notebooks/yolo/test/USSR/popup_down_with_drunks.jpg: 640x640 1 factory worker, 2 weapons, 10.8ms\n",
      "image 462/932 /content/gdrive/MyDrive/Colab Notebooks/yolo/test/USSR/popup_drunks_pigs.jpg: 640x640 1 headscarf, 10.5ms\n",
      "image 463/932 /content/gdrive/MyDrive/Colab Notebooks/yolo/test/USSR/popup_duck_farming.jpg: 640x640 1 weapon, 11.5ms\n",
      "image 464/932 /content/gdrive/MyDrive/Colab Notebooks/yolo/test/USSR/popup_dziga_vetrov_kinoeye.jpg: 640x640 2 factory workers, 3 weapons, 10.7ms\n",
      "image 465/932 /content/gdrive/MyDrive/Colab Notebooks/yolo/test/USSR/popup_dzvko.jpg: 640x640 (no detections), 11.1ms\n",
      "image 466/932 /content/gdrive/MyDrive/Colab Notebooks/yolo/test/USSR/popup_eagle_pigeon.jpg: 640x640 1 headscarf, 1 military, 1 star, 9.9ms\n",
      "image 467/932 /content/gdrive/MyDrive/Colab Notebooks/yolo/test/USSR/popup_earn_as_worked.jpg: 640x640 2 factory workers, 11.4ms\n",
      "image 468/932 /content/gdrive/MyDrive/Colab Notebooks/yolo/test/USSR/popup_earn_thanks.jpg: 640x640 2 agricultural labourers, 2 factory workers, 12.5ms\n",
      "image 469/932 /content/gdrive/MyDrive/Colab Notebooks/yolo/test/USSR/popup_earth.jpg: 640x640 (no detections), 10.8ms\n",
      "image 470/932 /content/gdrive/MyDrive/Colab Notebooks/yolo/test/USSR/popup_earth_palms.jpg: 640x640 (no detections), 10.5ms\n",
      "image 471/932 /content/gdrive/MyDrive/Colab Notebooks/yolo/test/USSR/popup_edinolichniki.jpg: 640x640 1 book, 1 military, 10.4ms\n",
      "image 472/932 /content/gdrive/MyDrive/Colab Notebooks/yolo/test/USSR/popup_elect.jpg: 640x640 2 factory workers, 10.4ms\n",
      "image 473/932 /content/gdrive/MyDrive/Colab Notebooks/yolo/test/USSR/popup_elephant.jpg: 640x640 1 flag, 1 weapon, 9.9ms\n",
      "image 474/932 /content/gdrive/MyDrive/Colab Notebooks/yolo/test/USSR/popup_enemy_invader.jpg: 640x640 1 military, 2 weapons, 10.3ms\n",
      "image 475/932 /content/gdrive/MyDrive/Colab Notebooks/yolo/test/USSR/popup_enemyalert.jpg: 640x640 1 military, 2 weapons, 11.2ms\n",
      "image 476/932 /content/gdrive/MyDrive/Colab Notebooks/yolo/test/USSR/popup_engineer.jpg: 640x640 (no detections), 11.1ms\n",
      "image 477/932 /content/gdrive/MyDrive/Colab Notebooks/yolo/test/USSR/popup_eridicate_evil.jpg: 640x640 1 factory worker, 1 headscarf, 10.9ms\n",
      "image 478/932 /content/gdrive/MyDrive/Colab Notebooks/yolo/test/USSR/popup_europe_nuclear.jpg: 640x640 (no detections), 10.1ms\n",
      "image 479/932 /content/gdrive/MyDrive/Colab Notebooks/yolo/test/USSR/popup_europe_peace.jpg: 640x640 (no detections), 18.2ms\n",
      "image 480/932 /content/gdrive/MyDrive/Colab Notebooks/yolo/test/USSR/popup_europe_rocket.jpg: 640x640 1 crane, 11.0ms\n",
      "image 481/932 /content/gdrive/MyDrive/Colab Notebooks/yolo/test/USSR/popup_europe_target.jpg: 640x640 2 skys, 11.0ms\n",
      "image 482/932 /content/gdrive/MyDrive/Colab Notebooks/yolo/test/USSR/popup_evolution_tools.jpg: 640x640 1 weapon, 10.1ms\n",
      "image 483/932 /content/gdrive/MyDrive/Colab Notebooks/yolo/test/USSR/popup_export_usa.jpg: 640x640 (no detections), 11.0ms\n",
      "image 484/932 /content/gdrive/MyDrive/Colab Notebooks/yolo/test/USSR/popup_family_new_lands.jpg: 640x640 1 book, 10.1ms\n",
      "image 485/932 /content/gdrive/MyDrive/Colab Notebooks/yolo/test/USSR/popup_fascism-is.jpg: 640x640 (no detections), 11.1ms\n",
      "image 486/932 /content/gdrive/MyDrive/Colab Notebooks/yolo/test/USSR/popup_fascist_beast.jpg: 640x640 2 flags, 10.8ms\n",
      "image 487/932 /content/gdrive/MyDrive/Colab Notebooks/yolo/test/USSR/popup_festival_theatral.jpg: 640x640 1 flag, 12.1ms\n",
      "image 488/932 /content/gdrive/MyDrive/Colab Notebooks/yolo/test/USSR/popup_field_wait.jpg: 640x640 1 agricultural labourer, 1 headscarf, 10.2ms\n",
      "image 489/932 /content/gdrive/MyDrive/Colab Notebooks/yolo/test/USSR/popup_fight_for_peace.jpg: 640x640 1 agricultural labourer, 10.6ms\n",
      "image 490/932 /content/gdrive/MyDrive/Colab Notebooks/yolo/test/USSR/popup_fight_hooligans.jpg: 640x640 1 factory worker, 10.1ms\n",
      "image 491/932 /content/gdrive/MyDrive/Colab Notebooks/yolo/test/USSR/popup_fist_pigeon.jpg: 640x640 (no detections), 10.5ms\n",
      "image 492/932 /content/gdrive/MyDrive/Colab Notebooks/yolo/test/USSR/popup_five_year_plan.jpg: 640x640 1 star, 1 wheat, 10.8ms\n",
      "image 493/932 /content/gdrive/MyDrive/Colab Notebooks/yolo/test/USSR/popup_flag_lenin.jpg: 640x640 1 factory worker, 10.5ms\n",
      "image 494/932 /content/gdrive/MyDrive/Colab Notebooks/yolo/test/USSR/popup_flag_of_victory.jpg: 640x640 1 military, 1 office worker, 1 weapon, 13.9ms\n",
      "image 495/932 /content/gdrive/MyDrive/Colab Notebooks/yolo/test/USSR/popup_flag_wrap.jpg: 640x640 (no detections), 13.4ms\n",
      "image 496/932 /content/gdrive/MyDrive/Colab Notebooks/yolo/test/USSR/popup_flagholders.jpg: 640x640 (no detections), 14.5ms\n",
      "image 497/932 /content/gdrive/MyDrive/Colab Notebooks/yolo/test/USSR/popup_flowers_vase.jpg: 640x640 (no detections), 14.8ms\n",
      "image 498/932 /content/gdrive/MyDrive/Colab Notebooks/yolo/test/USSR/popup_foods_stores.jpg: 640x640 (no detections), 10.6ms\n",
      "image 499/932 /content/gdrive/MyDrive/Colab Notebooks/yolo/test/USSR/popup_for_motherland.jpg: 640x640 1 flag, 4 militarys, 1 sky, 2 weapons, 10.1ms\n",
      "image 500/932 /content/gdrive/MyDrive/Colab Notebooks/yolo/test/USSR/popup_for_the_peace.jpg: 640x640 1 flag, 12.2ms\n",
      "image 501/932 /content/gdrive/MyDrive/Colab Notebooks/yolo/test/USSR/popup_freedom_arab.jpg: 640x640 1 factory worker, 2 weapons, 10.3ms\n",
      "image 502/932 /content/gdrive/MyDrive/Colab Notebooks/yolo/test/USSR/popup_gavno_shit.jpg: 640x640 1 office worker, 10.4ms\n",
      "image 503/932 /content/gdrive/MyDrive/Colab Notebooks/yolo/test/USSR/popup_glory_aviation.jpg: 640x640 1 flag, 1 military, 1 star, 1 weapon, 10.1ms\n",
      "image 504/932 /content/gdrive/MyDrive/Colab Notebooks/yolo/test/USSR/popup_glory_soviet_railroad.jpg: 640x640 2 factory workers, 11.4ms\n",
      "image 505/932 /content/gdrive/MyDrive/Colab Notebooks/yolo/test/USSR/popup_glory_to_russian.jpg: 640x640 1 book, 1 factory worker, 1 office worker, 1 weapon, 10.6ms\n",
      "image 506/932 /content/gdrive/MyDrive/Colab Notebooks/yolo/test/USSR/popup_glory_to_soviet.jpg: 640x640 (no detections), 10.7ms\n",
      "image 507/932 /content/gdrive/MyDrive/Colab Notebooks/yolo/test/USSR/popup_glory_to_victor.jpg: 640x640 1 military, 1 star, 11.8ms\n",
      "image 508/932 /content/gdrive/MyDrive/Colab Notebooks/yolo/test/USSR/popup_glory_work.jpg: 640x640 2 militarys, 4 weapons, 11.0ms\n",
      "image 509/932 /content/gdrive/MyDrive/Colab Notebooks/yolo/test/USSR/popup_golden_age.jpg: 640x640 1 military, 12.3ms\n",
      "image 510/932 /content/gdrive/MyDrive/Colab Notebooks/yolo/test/USSR/popup_good_life.jpg: 640x640 3 factory workers, 1 headscarf, 1 weapon, 11.6ms\n",
      "image 511/932 /content/gdrive/MyDrive/Colab Notebooks/yolo/test/USSR/popup_happiness.jpg: 640x640 1 factory worker, 1 objects, 10.7ms\n",
      "image 512/932 /content/gdrive/MyDrive/Colab Notebooks/yolo/test/USSR/popup_happy-customers.jpg: 640x640 3 factory workers, 11.1ms\n",
      "image 513/932 /content/gdrive/MyDrive/Colab Notebooks/yolo/test/USSR/popup_happy_child.jpg: 640x640 4 factory workers, 1 weapon, 10.7ms\n",
      "image 514/932 /content/gdrive/MyDrive/Colab Notebooks/yolo/test/USSR/popup_happy_life.jpg: 640x640 3 militarys, 3 weapons, 10.3ms\n",
      "image 515/932 /content/gdrive/MyDrive/Colab Notebooks/yolo/test/USSR/popup_hats_ad.jpg: 640x640 1 flag, 10.3ms\n",
      "image 516/932 /content/gdrive/MyDrive/Colab Notebooks/yolo/test/USSR/popup_healers.jpg: 640x640 1 military, 2 office workers, 13.8ms\n",
      "image 517/932 /content/gdrive/MyDrive/Colab Notebooks/yolo/test/USSR/popup_heig.jpg: 640x640 2 agricultural labourers, 10.2ms\n",
      "image 518/932 /content/gdrive/MyDrive/Colab Notebooks/yolo/test/USSR/popup_help_front.jpg: 640x640 1 military, 1 star, 4 weapons, 15.6ms\n",
      "image 519/932 /content/gdrive/MyDrive/Colab Notebooks/yolo/test/USSR/popup_hi-motherland.jpg: 640x640 3 agricultural labourers, 1 factory worker, 1 headscarf, 1 sky, 1 star, 10.6ms\n",
      "image 520/932 /content/gdrive/MyDrive/Colab Notebooks/yolo/test/USSR/popup_hi_members.jpg: 640x640 1 factory worker, 1 military, 10.5ms\n",
      "image 521/932 /content/gdrive/MyDrive/Colab Notebooks/yolo/test/USSR/popup_high_yield.jpg: 640x640 1 agricultural labourer, 3 headscarfs, 1 sky, 3 wheats, 11.1ms\n",
      "image 522/932 /content/gdrive/MyDrive/Colab Notebooks/yolo/test/USSR/popup_higher_further_faster.jpg: 640x640 3 weapons, 10.7ms\n",
      "image 523/932 /content/gdrive/MyDrive/Colab Notebooks/yolo/test/USSR/popup_higher_the_flag.jpg: 640x640 2 militarys, 10.0ms\n",
      "image 524/932 /content/gdrive/MyDrive/Colab Notebooks/yolo/test/USSR/popup_hit.jpg: 640x640 1 weapon, 10.1ms\n",
      "image 525/932 /content/gdrive/MyDrive/Colab Notebooks/yolo/test/USSR/popup_hit_harvesting.jpg: 640x640 2 agricultural labourers, 10.9ms\n",
      "image 526/932 /content/gdrive/MyDrive/Colab Notebooks/yolo/test/USSR/popup_hit_the_enemy.jpg: 640x640 1 factory worker, 1 hammer, 10.5ms\n",
      "image 527/932 /content/gdrive/MyDrive/Colab Notebooks/yolo/test/USSR/popup_hit_to_death (1).jpg: 640x640 2 militarys, 2 wheats, 10.5ms\n",
      "image 528/932 /content/gdrive/MyDrive/Colab Notebooks/yolo/test/USSR/popup_hit_to_death.jpg: 640x640 2 militarys, 2 wheats, 10.0ms\n",
      "image 529/932 /content/gdrive/MyDrive/Colab Notebooks/yolo/test/USSR/popup_hlebozagotovka.jpg: 640x640 1 factory worker, 11.2ms\n",
      "image 530/932 /content/gdrive/MyDrive/Colab Notebooks/yolo/test/USSR/popup_hooligan.jpg: 640x640 (no detections), 11.1ms\n",
      "image 531/932 /content/gdrive/MyDrive/Colab Notebooks/yolo/test/USSR/popup_idiot_movie_poster.jpg: 640x640 (no detections), 15.2ms\n",
      "image 532/932 /content/gdrive/MyDrive/Colab Notebooks/yolo/test/USSR/popup_if_war_was_tomorrow.jpg: 640x640 1 military, 1 weapon, 15.2ms\n",
      "image 533/932 /content/gdrive/MyDrive/Colab Notebooks/yolo/test/USSR/popup_illiteral_blind.jpg: 640x640 (no detections), 14.5ms\n",
      "image 534/932 /content/gdrive/MyDrive/Colab Notebooks/yolo/test/USSR/popup_illiterate_child_shame.jpg: 640x640 (no detections), 10.2ms\n",
      "image 535/932 /content/gdrive/MyDrive/Colab Notebooks/yolo/test/USSR/popup_industrysovpost_00011.jpg: 640x640 4 cranes, 1 flag, 10.9ms\n",
      "image 536/932 /content/gdrive/MyDrive/Colab Notebooks/yolo/test/USSR/popup_industrysovpost_00014.jpg: 640x640 1 factory worker, 11.3ms\n",
      "image 537/932 /content/gdrive/MyDrive/Colab Notebooks/yolo/test/USSR/popup_industrysovpost_00016.jpg: 640x640 1 factory worker, 1 machinery, 11.6ms\n",
      "image 538/932 /content/gdrive/MyDrive/Colab Notebooks/yolo/test/USSR/popup_industrysovpost_00017.jpg: 640x640 1 factory worker, 10.6ms\n",
      "image 539/932 /content/gdrive/MyDrive/Colab Notebooks/yolo/test/USSR/popup_industrysovpost_00018.jpg: 640x640 1 weapon, 10.0ms\n",
      "image 540/932 /content/gdrive/MyDrive/Colab Notebooks/yolo/test/USSR/popup_international_communist.jpg: 640x640 (no detections), 10.4ms\n",
      "image 541/932 /content/gdrive/MyDrive/Colab Notebooks/yolo/test/USSR/popup_iris_candy_ad.jpg: 640x640 1 book, 2 factory workers, 10.2ms\n",
      "image 542/932 /content/gdrive/MyDrive/Colab Notebooks/yolo/test/USSR/popup_jorney_mars.jpg: 640x640 1 weapon, 9.9ms\n",
      "image 543/932 /content/gdrive/MyDrive/Colab Notebooks/yolo/test/USSR/popup_june_1st.jpg: 640x640 2 agricultural labourers, 11.8ms\n",
      "image 544/932 /content/gdrive/MyDrive/Colab Notebooks/yolo/test/USSR/popup_karachentsov_petr.jpg: 640x640 1 plane, 11.5ms\n",
      "image 545/932 /content/gdrive/MyDrive/Colab Notebooks/yolo/test/USSR/popup_keep_secrets.jpg: 640x640 1 factory worker, 3 weapons, 13.7ms\n",
      "image 546/932 /content/gdrive/MyDrive/Colab Notebooks/yolo/test/USSR/popup_kill_enemy_nomercy.jpg: 640x640 1 military, 1 weapon, 11.7ms\n",
      "image 547/932 /content/gdrive/MyDrive/Colab Notebooks/yolo/test/USSR/popup_kitchen_slavery.jpg: 640x640 1 building, 1 crane, 1 grass, 10.6ms\n",
      "image 548/932 /content/gdrive/MyDrive/Colab Notebooks/yolo/test/USSR/popup_knowledge_to_everyone.jpg: 640x640 (no detections), 10.6ms\n",
      "image 549/932 /content/gdrive/MyDrive/Colab Notebooks/yolo/test/USSR/popup_kolhoz_women.jpg: 640x640 1 factory worker, 10.2ms\n",
      "image 550/932 /content/gdrive/MyDrive/Colab Notebooks/yolo/test/USSR/popup_komsomol.jpg: 640x640 1 weapon, 10.5ms\n",
      "image 551/932 /content/gdrive/MyDrive/Colab Notebooks/yolo/test/USSR/popup_kpss_mohov.jpg: 640x640 3 agricultural labourers, 2 cranes, 10.4ms\n",
      "image 552/932 /content/gdrive/MyDrive/Colab Notebooks/yolo/test/USSR/popup_ksssrpost_0004.jpg: 640x640 1 factory worker, 9.9ms\n",
      "image 553/932 /content/gdrive/MyDrive/Colab Notebooks/yolo/test/USSR/popup_ksssrpost_0007.jpg: 640x640 1 plane, 9.7ms\n",
      "image 554/932 /content/gdrive/MyDrive/Colab Notebooks/yolo/test/USSR/popup_ksssrpost_0008_den.jpg: 640x640 1 headscarf, 1 office worker, 9.9ms\n",
      "image 555/932 /content/gdrive/MyDrive/Colab Notebooks/yolo/test/USSR/popup_ksssrpost_0009.jpg: 640x640 1 factory worker, 10.4ms\n",
      "image 556/932 /content/gdrive/MyDrive/Colab Notebooks/yolo/test/USSR/popup_ksssrpost_0016.jpg: 640x640 1 factory worker, 11.0ms\n",
      "image 557/932 /content/gdrive/MyDrive/Colab Notebooks/yolo/test/USSR/popup_ksssrpost_0017.jpg: 640x640 1 objects, 12.6ms\n",
      "image 558/932 /content/gdrive/MyDrive/Colab Notebooks/yolo/test/USSR/popup_ksssrpost_0020.jpg: 640x640 (no detections), 16.0ms\n",
      "image 559/932 /content/gdrive/MyDrive/Colab Notebooks/yolo/test/USSR/popup_ksssrpost_0025.jpg: 640x640 5 machinerys, 3 wheats, 10.9ms\n",
      "image 560/932 /content/gdrive/MyDrive/Colab Notebooks/yolo/test/USSR/popup_ksssrpost_0026.jpg: 640x640 (no detections), 9.9ms\n",
      "image 561/932 /content/gdrive/MyDrive/Colab Notebooks/yolo/test/USSR/popup_ksssrpost_0027.jpg: 640x640 1 factory worker, 10.3ms\n",
      "image 562/932 /content/gdrive/MyDrive/Colab Notebooks/yolo/test/USSR/popup_ksssrpost_0032.jpg: 640x640 1 objects, 10.4ms\n",
      "image 563/932 /content/gdrive/MyDrive/Colab Notebooks/yolo/test/USSR/popup_ksssrpost_0037.jpg: 640x640 (no detections), 12.4ms\n",
      "image 564/932 /content/gdrive/MyDrive/Colab Notebooks/yolo/test/USSR/popup_ksssrpost_0038.jpg: 640x640 2 factory workers, 10.2ms\n",
      "image 565/932 /content/gdrive/MyDrive/Colab Notebooks/yolo/test/USSR/popup_ksssrpost_0041.jpg: 640x640 (no detections), 10.3ms\n",
      "image 566/932 /content/gdrive/MyDrive/Colab Notebooks/yolo/test/USSR/popup_ksssrpost_0050.jpg: 640x640 (no detections), 10.6ms\n",
      "image 567/932 /content/gdrive/MyDrive/Colab Notebooks/yolo/test/USSR/popup_ksssrpost_0053.jpg: 640x640 2 factory workers, 1 flag, 1 military, 10.8ms\n",
      "image 568/932 /content/gdrive/MyDrive/Colab Notebooks/yolo/test/USSR/popup_ksssrpost_0056.jpg: 640x640 1 factory worker, 12.1ms\n",
      "image 569/932 /content/gdrive/MyDrive/Colab Notebooks/yolo/test/USSR/popup_ksssrpost_0057.jpg: 640x640 1 factory worker, 1 plane, 10.7ms\n",
      "image 570/932 /content/gdrive/MyDrive/Colab Notebooks/yolo/test/USSR/popup_kvas.jpg: 640x640 1 machinery, 1 office worker, 15.0ms\n",
      "image 571/932 /content/gdrive/MyDrive/Colab Notebooks/yolo/test/USSR/popup_labor_rights.jpg: 640x640 1 crane, 1 factory worker, 1 military, 1 office worker, 15.2ms\n",
      "image 572/932 /content/gdrive/MyDrive/Colab Notebooks/yolo/test/USSR/popup_laziness.jpg: 640x640 1 flag, 12.3ms\n",
      "image 573/932 /content/gdrive/MyDrive/Colab Notebooks/yolo/test/USSR/popup_league_of_nations.jpg: 640x640 1 wheat, 10.5ms\n",
      "image 574/932 /content/gdrive/MyDrive/Colab Notebooks/yolo/test/USSR/popup_lenin_1924.jpg: 640x640 1 factory worker, 1 weapon, 12.1ms\n",
      "image 575/932 /content/gdrive/MyDrive/Colab Notebooks/yolo/test/USSR/popup_lenin_1973.jpg: 640x640 (no detections), 11.4ms\n",
      "image 576/932 /content/gdrive/MyDrive/Colab Notebooks/yolo/test/USSR/popup_lenin_bw.jpg: 640x640 (no detections), 10.9ms\n",
      "image 577/932 /content/gdrive/MyDrive/Colab Notebooks/yolo/test/USSR/popup_lenin_electrification.jpg: 640x640 1 factory worker, 11.0ms\n",
      "image 578/932 /content/gdrive/MyDrive/Colab Notebooks/yolo/test/USSR/popup_lenin_hand.jpg: 640x640 (no detections), 11.5ms\n",
      "image 579/932 /content/gdrive/MyDrive/Colab Notebooks/yolo/test/USSR/popup_lenin_head.jpg: 640x640 2 agricultural labourers, 10.9ms\n",
      "image 580/932 /content/gdrive/MyDrive/Colab Notebooks/yolo/test/USSR/popup_lenin_lived.jpg: 640x640 1 hammer, 1 military, 1 star, 2 weapons, 10.4ms\n",
      "image 581/932 /content/gdrive/MyDrive/Colab Notebooks/yolo/test/USSR/popup_lenin_ushanka.jpg: 640x640 (no detections), 11.3ms\n",
      "image 582/932 /content/gdrive/MyDrive/Colab Notebooks/yolo/test/USSR/popup_let_be_me.jpg: 640x640 1 flag, 1 office worker, 11.1ms\n",
      "image 583/932 /content/gdrive/MyDrive/Colab Notebooks/yolo/test/USSR/popup_libirated.jpg: 640x640 1 agricultural labourer, 5 weapons, 12.5ms\n",
      "image 584/932 /content/gdrive/MyDrive/Colab Notebooks/yolo/test/USSR/popup_life_back.jpg: 640x640 1 agricultural labourer, 1 flag, 1 military, 1 star, 2 weapons, 10.9ms\n",
      "image 585/932 /content/gdrive/MyDrive/Colab Notebooks/yolo/test/USSR/popup_locomotives.jpg: 640x640 1 factory worker, 2 weapons, 10.7ms\n",
      "image 586/932 /content/gdrive/MyDrive/Colab Notebooks/yolo/test/USSR/popup_long_kesh.jpg: 640x640 1 military, 11.4ms\n",
      "image 587/932 /content/gdrive/MyDrive/Colab Notebooks/yolo/test/USSR/popup_love_books.jpg: 640x640 1 factory worker, 1 weapon, 10.3ms\n",
      "image 588/932 /content/gdrive/MyDrive/Colab Notebooks/yolo/test/USSR/popup_marx_engels_lenin.jpg: 640x640 2 militarys, 10.6ms\n",
      "image 589/932 /content/gdrive/MyDrive/Colab Notebooks/yolo/test/USSR/popup_master.jpg: 640x640 1 military, 10.8ms\n",
      "image 590/932 /content/gdrive/MyDrive/Colab Notebooks/yolo/test/USSR/popup_militarism_bomb.jpg: 640x640 (no detections), 11.3ms\n",
      "image 591/932 /content/gdrive/MyDrive/Colab Notebooks/yolo/test/USSR/popup_military_secret.jpg: 640x640 1 book, 1 factory worker, 10.5ms\n",
      "image 592/932 /content/gdrive/MyDrive/Colab Notebooks/yolo/test/USSR/popup_milk_cow.jpg: 640x640 1 agricultural labourer, 1 building, 1 factory worker, 10.8ms\n",
      "image 593/932 /content/gdrive/MyDrive/Colab Notebooks/yolo/test/USSR/popup_mir_peace.jpg: 640x640 (no detections), 11.2ms\n",
      "image 594/932 /content/gdrive/MyDrive/Colab Notebooks/yolo/test/USSR/popup_more_metall.jpg: 640x640 1 factory worker, 10.2ms\n",
      "image 595/932 /content/gdrive/MyDrive/Colab Notebooks/yolo/test/USSR/popup_mors.jpg: 640x640 1 factory worker, 9.5ms\n",
      "image 596/932 /content/gdrive/MyDrive/Colab Notebooks/yolo/test/USSR/popup_moscow_subway.jpg: 640x640 1 headscarf, 1 military, 16.0ms\n",
      "image 597/932 /content/gdrive/MyDrive/Colab Notebooks/yolo/test/USSR/popup_mosselprom.jpg: 640x640 1 factory worker, 10.1ms\n",
      "image 598/932 /content/gdrive/MyDrive/Colab Notebooks/yolo/test/USSR/popup_mother-heroine.jpg: 640x640 4 factory workers, 1 military, 1 office worker, 9.5ms\n",
      "image 599/932 /content/gdrive/MyDrive/Colab Notebooks/yolo/test/USSR/popup_mother_daughter.jpg: 640x640 1 agricultural labourer, 2 factory workers, 9.9ms\n",
      "image 600/932 /content/gdrive/MyDrive/Colab Notebooks/yolo/test/USSR/popup_motherland.jpg: 640x640 1 book, 1 factory worker, 3 headscarfs, 12.2ms\n",
      "image 601/932 /content/gdrive/MyDrive/Colab Notebooks/yolo/test/USSR/popup_movie_girls.jpg: 640x640 1 factory worker, 10.0ms\n",
      "image 602/932 /content/gdrive/MyDrive/Colab Notebooks/yolo/test/USSR/popup_myth-reality.jpg: 640x640 (no detections), 10.5ms\n",
      "image 603/932 /content/gdrive/MyDrive/Colab Notebooks/yolo/test/USSR/popup_nations_of_world.jpg: 640x640 1 building, 1 factory worker, 2 flags, 2 hammers, 10.3ms\n",
      "image 604/932 /content/gdrive/MyDrive/Colab Notebooks/yolo/test/USSR/popup_nato_airplanes.jpg: 640x640 1 plane, 1 weapon, 11.0ms\n",
      "image 605/932 /content/gdrive/MyDrive/Colab Notebooks/yolo/test/USSR/popup_nato_bw.jpg: 640x640 1 weapon, 9.7ms\n",
      "image 606/932 /content/gdrive/MyDrive/Colab Notebooks/yolo/test/USSR/popup_nato_tree.jpg: 640x640 1 weapon, 10.0ms\n",
      "image 607/932 /content/gdrive/MyDrive/Colab Notebooks/yolo/test/USSR/popup_natural_gas.jpg: 640x640 2 flags, 14.8ms\n",
      "image 608/932 /content/gdrive/MyDrive/Colab Notebooks/yolo/test/USSR/popup_net_no.jpg: 640x640 (no detections), 14.7ms\n",
      "image 609/932 /content/gdrive/MyDrive/Colab Notebooks/yolo/test/USSR/popup_night_job.jpg: 640x640 1 factory worker, 14.8ms\n",
      "image 610/932 /content/gdrive/MyDrive/Colab Notebooks/yolo/test/USSR/popup_nkp.jpg: 640x640 1 military, 1 weapon, 10.4ms\n",
      "image 611/932 /content/gdrive/MyDrive/Colab Notebooks/yolo/test/USSR/popup_no-to-fascism.jpg: 640x640 (no detections), 11.7ms\n",
      "image 612/932 /content/gdrive/MyDrive/Colab Notebooks/yolo/test/USSR/popup_no_to_bomb.jpg: 640x640 (no detections), 10.5ms\n",
      "image 613/932 /content/gdrive/MyDrive/Colab Notebooks/yolo/test/USSR/popup_no_to_vodka.jpg: 640x640 1 agricultural labourer, 10.2ms\n",
      "image 614/932 /content/gdrive/MyDrive/Colab Notebooks/yolo/test/USSR/popup_no_war_ivanov.jpg: 640x640 1 headscarf, 10.1ms\n",
      "image 615/932 /content/gdrive/MyDrive/Colab Notebooks/yolo/test/USSR/popup_nostalgy.jpg: 640x640 (no detections), 10.3ms\n",
      "image 616/932 /content/gdrive/MyDrive/Colab Notebooks/yolo/test/USSR/popup_not_a_drop.jpg: 640x640 1 factory worker, 10.2ms\n",
      "image 617/932 /content/gdrive/MyDrive/Colab Notebooks/yolo/test/USSR/popup_not_lose.jpg: 640x640 (no detections), 9.8ms\n",
      "image 618/932 /content/gdrive/MyDrive/Colab Notebooks/yolo/test/USSR/popup_nuclear_engineering.jpg: 640x640 (no detections), 9.7ms\n",
      "image 619/932 /content/gdrive/MyDrive/Colab Notebooks/yolo/test/USSR/popup_oblomov.jpg: 640x640 (no detections), 10.4ms\n",
      "image 620/932 /content/gdrive/MyDrive/Colab Notebooks/yolo/test/USSR/popup_october.jpg: 640x640 1 flag, 1 grass, 10.0ms\n",
      "image 621/932 /content/gdrive/MyDrive/Colab Notebooks/yolo/test/USSR/popup_october_revolution.jpg: 640x640 1 weapon, 11.6ms\n",
      "image 622/932 /content/gdrive/MyDrive/Colab Notebooks/yolo/test/USSR/popup_october_revolution_conquest.jpg: 640x640 3 weapons, 11.4ms\n",
      "image 623/932 /content/gdrive/MyDrive/Colab Notebooks/yolo/test/USSR/popup_oldruspost_0001.jpg: 640x640 (no detections), 10.9ms\n",
      "image 624/932 /content/gdrive/MyDrive/Colab Notebooks/yolo/test/USSR/popup_oldruspost_0002.jpg: 640x640 (no detections), 10.8ms\n",
      "image 625/932 /content/gdrive/MyDrive/Colab Notebooks/yolo/test/USSR/popup_oldruspost_0003.jpg: 640x640 1 wheat, 9.4ms\n",
      "image 626/932 /content/gdrive/MyDrive/Colab Notebooks/yolo/test/USSR/popup_oldruspost_0004.jpg: 640x640 (no detections), 9.6ms\n",
      "image 627/932 /content/gdrive/MyDrive/Colab Notebooks/yolo/test/USSR/popup_oldruspost_0005.jpg: 640x640 1 crane, 9.6ms\n",
      "image 628/932 /content/gdrive/MyDrive/Colab Notebooks/yolo/test/USSR/popup_oldruspost_0006.jpg: 640x640 (no detections), 9.9ms\n",
      "image 629/932 /content/gdrive/MyDrive/Colab Notebooks/yolo/test/USSR/popup_oldruspost_0007.jpg: 640x640 (no detections), 9.9ms\n",
      "image 630/932 /content/gdrive/MyDrive/Colab Notebooks/yolo/test/USSR/popup_oldruspost_0008.jpg: 640x640 (no detections), 10.1ms\n",
      "image 631/932 /content/gdrive/MyDrive/Colab Notebooks/yolo/test/USSR/popup_oldruspost_0009.jpg: 640x640 1 agricultural labourer, 11.2ms\n",
      "image 632/932 /content/gdrive/MyDrive/Colab Notebooks/yolo/test/USSR/popup_oldruspost_0011.jpg: 640x640 1 flag, 10.0ms\n",
      "image 633/932 /content/gdrive/MyDrive/Colab Notebooks/yolo/test/USSR/popup_oldruspost_0012.jpg: 640x640 1 factory worker, 2 machinerys, 1 military, 10.6ms\n",
      "image 634/932 /content/gdrive/MyDrive/Colab Notebooks/yolo/test/USSR/popup_oldruspost_0013.jpg: 640x640 (no detections), 10.9ms\n",
      "image 635/932 /content/gdrive/MyDrive/Colab Notebooks/yolo/test/USSR/popup_oldruspost_0014.jpg: 640x640 (no detections), 10.9ms\n",
      "image 636/932 /content/gdrive/MyDrive/Colab Notebooks/yolo/test/USSR/popup_oldruspost_0016.jpg: 640x640 1 military, 1 office worker, 1 weapon, 10.6ms\n",
      "image 637/932 /content/gdrive/MyDrive/Colab Notebooks/yolo/test/USSR/popup_oldruspost_0017.jpg: 640x640 1 factory worker, 1 weapon, 11.2ms\n",
      "image 638/932 /content/gdrive/MyDrive/Colab Notebooks/yolo/test/USSR/popup_oldruspost_0018.jpg: 640x640 (no detections), 17.0ms\n",
      "image 639/932 /content/gdrive/MyDrive/Colab Notebooks/yolo/test/USSR/popup_oldruspost_0019.jpg: 640x640 (no detections), 9.8ms\n",
      "image 640/932 /content/gdrive/MyDrive/Colab Notebooks/yolo/test/USSR/popup_oldruspost_0020.jpg: 640x640 (no detections), 10.0ms\n",
      "image 641/932 /content/gdrive/MyDrive/Colab Notebooks/yolo/test/USSR/popup_oldruspost_0021.jpg: 640x640 1 factory worker, 24.0ms\n",
      "image 642/932 /content/gdrive/MyDrive/Colab Notebooks/yolo/test/USSR/popup_oldruspost_0022.jpg: 640x640 1 building, 18.6ms\n",
      "image 643/932 /content/gdrive/MyDrive/Colab Notebooks/yolo/test/USSR/popup_oldruspost_0024.jpg: 640x640 2 skys, 14.8ms\n",
      "image 644/932 /content/gdrive/MyDrive/Colab Notebooks/yolo/test/USSR/popup_oldruspost_0025.jpg: 640x640 1 military, 20.0ms\n",
      "image 645/932 /content/gdrive/MyDrive/Colab Notebooks/yolo/test/USSR/popup_oldruspost_0026.jpg: 640x640 1 crane, 1 factory worker, 1 sky, 1 weapon, 23.9ms\n",
      "image 646/932 /content/gdrive/MyDrive/Colab Notebooks/yolo/test/USSR/popup_oldruspost_0027.jpg: 640x640 1 building, 1 factory worker, 15.4ms\n",
      "image 647/932 /content/gdrive/MyDrive/Colab Notebooks/yolo/test/USSR/popup_oldruspost_0028.jpg: 640x640 1 agricultural labourer, 22.0ms\n",
      "image 648/932 /content/gdrive/MyDrive/Colab Notebooks/yolo/test/USSR/popup_oldruspost_0029.jpg: 640x640 (no detections), 15.4ms\n",
      "image 649/932 /content/gdrive/MyDrive/Colab Notebooks/yolo/test/USSR/popup_oldruspost_0030.jpg: 640x640 (no detections), 13.0ms\n",
      "image 650/932 /content/gdrive/MyDrive/Colab Notebooks/yolo/test/USSR/popup_oldruspost_0031.jpg: 640x640 1 weapon, 20.4ms\n",
      "image 651/932 /content/gdrive/MyDrive/Colab Notebooks/yolo/test/USSR/popup_oldruspost_0032.jpg: 640x640 1 factory worker, 13.8ms\n",
      "image 652/932 /content/gdrive/MyDrive/Colab Notebooks/yolo/test/USSR/popup_oldruspost_0033.jpg: 640x640 (no detections), 12.9ms\n",
      "image 653/932 /content/gdrive/MyDrive/Colab Notebooks/yolo/test/USSR/popup_oldruspost_0034.jpg: 640x640 (no detections), 13.3ms\n",
      "image 654/932 /content/gdrive/MyDrive/Colab Notebooks/yolo/test/USSR/popup_oldruspost_0036.jpg: 640x640 (no detections), 13.7ms\n",
      "image 655/932 /content/gdrive/MyDrive/Colab Notebooks/yolo/test/USSR/popup_oldruspost_0037.jpg: 640x640 (no detections), 13.7ms\n",
      "image 656/932 /content/gdrive/MyDrive/Colab Notebooks/yolo/test/USSR/popup_oldruspost_0038.jpg: 640x640 (no detections), 19.4ms\n",
      "image 657/932 /content/gdrive/MyDrive/Colab Notebooks/yolo/test/USSR/popup_oldruspost_0039.jpg: 640x640 (no detections), 14.2ms\n",
      "image 658/932 /content/gdrive/MyDrive/Colab Notebooks/yolo/test/USSR/popup_oldruspost_0041.jpg: 640x640 2 factory workers, 1 office worker, 14.8ms\n",
      "image 659/932 /content/gdrive/MyDrive/Colab Notebooks/yolo/test/USSR/popup_oldruspost_0042.jpg: 640x640 (no detections), 14.7ms\n",
      "image 660/932 /content/gdrive/MyDrive/Colab Notebooks/yolo/test/USSR/popup_oldruspost_0044.jpg: 640x640 1 flag, 14.2ms\n",
      "image 661/932 /content/gdrive/MyDrive/Colab Notebooks/yolo/test/USSR/popup_oldruspost_0046.jpg: 640x640 (no detections), 15.0ms\n",
      "image 662/932 /content/gdrive/MyDrive/Colab Notebooks/yolo/test/USSR/popup_oldruspost_0047.jpg: 640x640 1 factory worker, 2 weapons, 15.2ms\n",
      "image 663/932 /content/gdrive/MyDrive/Colab Notebooks/yolo/test/USSR/popup_on_duty.jpg: 640x640 1 military, 14.6ms\n",
      "image 664/932 /content/gdrive/MyDrive/Colab Notebooks/yolo/test/USSR/popup_only_party_can.jpg: 640x640 (no detections), 14.7ms\n",
      "image 665/932 /content/gdrive/MyDrive/Colab Notebooks/yolo/test/USSR/popup_onto_tractor.jpg: 640x640 1 factory worker, 2 weapons, 14.9ms\n",
      "image 666/932 /content/gdrive/MyDrive/Colab Notebooks/yolo/test/USSR/popup_our_profit.jpg: 640x640 1 crane, 1 flag, 14.2ms\n",
      "image 667/932 /content/gdrive/MyDrive/Colab Notebooks/yolo/test/USSR/popup_our_request.jpg: 640x640 (no detections), 16.2ms\n",
      "image 668/932 /content/gdrive/MyDrive/Colab Notebooks/yolo/test/USSR/popup_our_weapon.jpg: 640x640 1 factory worker, 18.9ms\n",
      "image 669/932 /content/gdrive/MyDrive/Colab Notebooks/yolo/test/USSR/popup_paint_brush.jpg: 640x640 1 sky, 13.3ms\n",
      "image 670/932 /content/gdrive/MyDrive/Colab Notebooks/yolo/test/USSR/popup_paix.jpg: 640x640 (no detections), 15.6ms\n",
      "image 671/932 /content/gdrive/MyDrive/Colab Notebooks/yolo/test/USSR/popup_palm_branch.jpg: 640x640 (no detections), 13.4ms\n",
      "image 672/932 /content/gdrive/MyDrive/Colab Notebooks/yolo/test/USSR/popup_parenthoodsovpost_00005.jpg: 640x640 1 flag, 13.7ms\n",
      "image 673/932 /content/gdrive/MyDrive/Colab Notebooks/yolo/test/USSR/popup_parenthoodsovpost_00006.jpg: 640x640 1 factory worker, 23.3ms\n",
      "image 674/932 /content/gdrive/MyDrive/Colab Notebooks/yolo/test/USSR/popup_parenthoodsovpost_00011.jpg: 640x640 (no detections), 14.2ms\n",
      "image 675/932 /content/gdrive/MyDrive/Colab Notebooks/yolo/test/USSR/popup_parenthoodsovpost_00014.jpg: 640x640 3 factory workers, 14.0ms\n",
      "image 676/932 /content/gdrive/MyDrive/Colab Notebooks/yolo/test/USSR/popup_parenthoodsovpost_00019.jpg: 640x640 1 agricultural labourer, 14.6ms\n",
      "image 677/932 /content/gdrive/MyDrive/Colab Notebooks/yolo/test/USSR/popup_parenthoodsovpost_00022.jpg: 640x640 5 agricultural labourers, 1 headscarf, 20.3ms\n",
      "image 678/932 /content/gdrive/MyDrive/Colab Notebooks/yolo/test/USSR/popup_parenthoodsovpost_00026.jpg: 640x640 1 agricultural labourer, 14.0ms\n",
      "image 679/932 /content/gdrive/MyDrive/Colab Notebooks/yolo/test/USSR/popup_parenthoodsovpost_00028.jpg: 640x640 1 factory worker, 14.0ms\n",
      "image 680/932 /content/gdrive/MyDrive/Colab Notebooks/yolo/test/USSR/popup_parenthoodsovpost_00030.jpg: 640x640 2 agricultural labourers, 13.4ms\n",
      "image 681/932 /content/gdrive/MyDrive/Colab Notebooks/yolo/test/USSR/popup_parenthoodsovpost_00032.jpg: 640x640 2 agricultural labourers, 2 factory workers, 1 headscarf, 13.4ms\n",
      "image 682/932 /content/gdrive/MyDrive/Colab Notebooks/yolo/test/USSR/popup_parenthoodsovpost_00033.jpg: 640x640 1 agricultural labourer, 1 factory worker, 13.8ms\n",
      "image 683/932 /content/gdrive/MyDrive/Colab Notebooks/yolo/test/USSR/popup_parenthoodsovpost_00037.jpg: 640x640 1 factory worker, 1 military, 13.6ms\n",
      "image 684/932 /content/gdrive/MyDrive/Colab Notebooks/yolo/test/USSR/popup_parenthoodsovpost_00038.jpg: 640x640 (no detections), 13.4ms\n",
      "image 685/932 /content/gdrive/MyDrive/Colab Notebooks/yolo/test/USSR/popup_parenthoodsovpost_00040.jpg: 640x640 1 military, 16.8ms\n",
      "image 686/932 /content/gdrive/MyDrive/Colab Notebooks/yolo/test/USSR/popup_parenthoodsovpost_00043.jpg: 640x640 1 factory worker, 19.1ms\n",
      "image 687/932 /content/gdrive/MyDrive/Colab Notebooks/yolo/test/USSR/popup_parenthoodsovpost_00045.jpg: 640x640 (no detections), 15.0ms\n",
      "image 688/932 /content/gdrive/MyDrive/Colab Notebooks/yolo/test/USSR/popup_party_beginning.jpg: 640x640 (no detections), 16.5ms\n",
      "image 689/932 /content/gdrive/MyDrive/Colab Notebooks/yolo/test/USSR/popup_peace_birds.jpg: 640x640 (no detections), 13.9ms\n",
      "image 690/932 /content/gdrive/MyDrive/Colab Notebooks/yolo/test/USSR/popup_peace_mother_sun.jpg: 640x640 (no detections), 13.6ms\n",
      "image 691/932 /content/gdrive/MyDrive/Colab Notebooks/yolo/test/USSR/popup_peace_needed.jpg: 640x640 1 crane, 13.9ms\n",
      "image 692/932 /content/gdrive/MyDrive/Colab Notebooks/yolo/test/USSR/popup_peace_october.jpg: 640x640 (no detections), 13.9ms\n",
      "image 693/932 /content/gdrive/MyDrive/Colab Notebooks/yolo/test/USSR/popup_peace_planet.jpg: 640x640 (no detections), 13.5ms\n",
      "image 694/932 /content/gdrive/MyDrive/Colab Notebooks/yolo/test/USSR/popup_peace_vote.jpg: 640x640 1 factory worker, 14.3ms\n",
      "image 695/932 /content/gdrive/MyDrive/Colab Notebooks/yolo/test/USSR/popup_peace_work.jpg: 640x640 (no detections), 14.2ms\n",
      "image 696/932 /content/gdrive/MyDrive/Colab Notebooks/yolo/test/USSR/popup_peace_world.jpg: 640x640 (no detections), 18.7ms\n",
      "image 697/932 /content/gdrive/MyDrive/Colab Notebooks/yolo/test/USSR/popup_peaceful_people.jpg: 640x640 (no detections), 19.4ms\n",
      "image 698/932 /content/gdrive/MyDrive/Colab Notebooks/yolo/test/USSR/popup_pelmeni_food.jpg: 640x640 1 flag, 16.5ms\n",
      "image 699/932 /content/gdrive/MyDrive/Colab Notebooks/yolo/test/USSR/popup_pilot.jpg: 640x640 (no detections), 14.4ms\n",
      "image 700/932 /content/gdrive/MyDrive/Colab Notebooks/yolo/test/USSR/popup_pioneer.jpg: 640x640 1 factory worker, 1 weapon, 19.6ms\n",
      "image 701/932 /content/gdrive/MyDrive/Colab Notebooks/yolo/test/USSR/popup_plan_great_works.jpg: 640x640 1 machinery, 16.8ms\n",
      "image 702/932 /content/gdrive/MyDrive/Colab Notebooks/yolo/test/USSR/popup_planet_peace.jpg: 640x640 (no detections), 14.1ms\n",
      "image 703/932 /content/gdrive/MyDrive/Colab Notebooks/yolo/test/USSR/popup_plugged.jpg: 640x640 (no detections), 12.7ms\n",
      "image 704/932 /content/gdrive/MyDrive/Colab Notebooks/yolo/test/USSR/popup_police_alert.jpg: 640x640 1 agricultural labourer, 1 factory worker, 14.1ms\n",
      "image 705/932 /content/gdrive/MyDrive/Colab Notebooks/yolo/test/USSR/popup_potemkin.jpg: 640x640 1 agricultural labourer, 13.4ms\n",
      "image 706/932 /content/gdrive/MyDrive/Colab Notebooks/yolo/test/USSR/popup_proletarian_army.jpg: 640x640 1 military, 13.8ms\n",
      "image 707/932 /content/gdrive/MyDrive/Colab Notebooks/yolo/test/USSR/popup_protect_peace.jpg: 640x640 1 flag, 1 military, 21.9ms\n",
      "image 708/932 /content/gdrive/MyDrive/Colab Notebooks/yolo/test/USSR/popup_protect_petrograd.jpg: 640x640 1 military, 4 wheats, 13.2ms\n",
      "image 709/932 /content/gdrive/MyDrive/Colab Notebooks/yolo/test/USSR/popup_protect_world.jpg: 640x640 (no detections), 13.3ms\n",
      "image 710/932 /content/gdrive/MyDrive/Colab Notebooks/yolo/test/USSR/popup_proud_of_son.jpg: 640x640 1 factory worker, 13.6ms\n",
      "image 711/932 /content/gdrive/MyDrive/Colab Notebooks/yolo/test/USSR/popup_puzzle.jpg: 640x640 (no detections), 24.0ms\n",
      "image 712/932 /content/gdrive/MyDrive/Colab Notebooks/yolo/test/USSR/popup_pyshka.jpg: 640x640 (no detections), 20.1ms\n",
      "image 713/932 /content/gdrive/MyDrive/Colab Notebooks/yolo/test/USSR/popup_quit_smoking.jpg: 640x640 (no detections), 15.4ms\n",
      "image 714/932 /content/gdrive/MyDrive/Colab Notebooks/yolo/test/USSR/popup_rainbow_olympic_colors.jpg: 640x640 (no detections), 20.2ms\n",
      "image 715/932 /content/gdrive/MyDrive/Colab Notebooks/yolo/test/USSR/popup_red_army.jpg: 640x640 (no detections), 18.0ms\n",
      "image 716/932 /content/gdrive/MyDrive/Colab Notebooks/yolo/test/USSR/popup_red_army_broom.jpg: 640x640 2 weapons, 1 wheat, 17.3ms\n",
      "image 717/932 /content/gdrive/MyDrive/Colab Notebooks/yolo/test/USSR/popup_red_book_nature.jpg: 640x640 3 weapons, 13.7ms\n",
      "image 718/932 /content/gdrive/MyDrive/Colab Notebooks/yolo/test/USSR/popup_red_hit_white.jpg: 640x640 1 weapon, 26.0ms\n",
      "image 719/932 /content/gdrive/MyDrive/Colab Notebooks/yolo/test/USSR/popup_red_moscow.jpg: 640x640 (no detections), 15.2ms\n",
      "image 720/932 /content/gdrive/MyDrive/Colab Notebooks/yolo/test/USSR/popup_rest.jpg: 640x640 (no detections), 20.5ms\n",
      "image 721/932 /content/gdrive/MyDrive/Colab Notebooks/yolo/test/USSR/popup_rich_harvest.jpg: 640x640 2 agricultural labourers, 2 headscarfs, 1 wheat, 20.5ms\n",
      "image 722/932 /content/gdrive/MyDrive/Colab Notebooks/yolo/test/USSR/popup_russian_airplane.jpg: 640x640 2 flags, 1 star, 19.8ms\n",
      "image 723/932 /content/gdrive/MyDrive/Colab Notebooks/yolo/test/USSR/popup_save_us_red_army.jpg: 640x640 1 military, 19.5ms\n",
      "image 724/932 /content/gdrive/MyDrive/Colab Notebooks/yolo/test/USSR/popup_save_water.jpg: 640x640 (no detections), 20.9ms\n",
      "image 725/932 /content/gdrive/MyDrive/Colab Notebooks/yolo/test/USSR/popup_saying.jpg: 640x640 1 sky, 25.9ms\n",
      "image 726/932 /content/gdrive/MyDrive/Colab Notebooks/yolo/test/USSR/popup_seaman_hero.jpg: 640x640 2 skys, 1 star, 23.8ms\n",
      "image 727/932 /content/gdrive/MyDrive/Colab Notebooks/yolo/test/USSR/popup_second_five_year_plan.jpg: 640x640 1 factory worker, 42.8ms\n",
      "image 728/932 /content/gdrive/MyDrive/Colab Notebooks/yolo/test/USSR/popup_secure_fields.jpg: 640x640 1 agricultural labourer, 3 buildings, 42.2ms\n",
      "image 729/932 /content/gdrive/MyDrive/Colab Notebooks/yolo/test/USSR/popup_shame.jpg: 640x640 1 factory worker, 2 office workers, 21.7ms\n",
      "image 730/932 /content/gdrive/MyDrive/Colab Notebooks/yolo/test/USSR/popup_skating.jpg: 640x640 (no detections), 25.5ms\n",
      "image 731/932 /content/gdrive/MyDrive/Colab Notebooks/yolo/test/USSR/popup_ski.jpg: 640x640 (no detections), 25.8ms\n",
      "image 732/932 /content/gdrive/MyDrive/Colab Notebooks/yolo/test/USSR/popup_small_glass.jpg: 640x640 1 weapon, 28.6ms\n",
      "image 733/932 /content/gdrive/MyDrive/Colab Notebooks/yolo/test/USSR/popup_smoking_pipe.jpg: 640x640 1 weapon, 24.9ms\n",
      "image 734/932 /content/gdrive/MyDrive/Colab Notebooks/yolo/test/USSR/popup_smoking_wasted.jpg: 640x640 2 flags, 20.2ms\n",
      "image 735/932 /content/gdrive/MyDrive/Colab Notebooks/yolo/test/USSR/popup_socialism-communism.jpg: 640x640 (no detections), 23.7ms\n",
      "image 736/932 /content/gdrive/MyDrive/Colab Notebooks/yolo/test/USSR/popup_socialism_build.jpg: 640x640 1 building, 20.1ms\n",
      "image 737/932 /content/gdrive/MyDrive/Colab Notebooks/yolo/test/USSR/popup_socialism_communism.jpg: 640x640 1 weapon, 22.3ms\n",
      "image 738/932 /content/gdrive/MyDrive/Colab Notebooks/yolo/test/USSR/popup_socialism_vs_capitalism.jpg: 640x640 2 factory workers, 27.6ms\n",
      "image 739/932 /content/gdrive/MyDrive/Colab Notebooks/yolo/test/USSR/popup_song_soul_movie.jpg: 640x640 (no detections), 28.7ms\n",
      "image 740/932 /content/gdrive/MyDrive/Colab Notebooks/yolo/test/USSR/popup_soski.jpg: 640x640 (no detections), 20.5ms\n",
      "image 741/932 /content/gdrive/MyDrive/Colab Notebooks/yolo/test/USSR/popup_soviet-flag.jpg: 640x640 (no detections), 18.5ms\n",
      "image 742/932 /content/gdrive/MyDrive/Colab Notebooks/yolo/test/USSR/popup_soviet_army_warrior.jpg: 640x640 1 factory worker, 1 military, 2 weapons, 18.1ms\n",
      "image 743/932 /content/gdrive/MyDrive/Colab Notebooks/yolo/test/USSR/popup_soviet_authors.jpg: 640x640 1 military, 4 office workers, 20.5ms\n",
      "image 744/932 /content/gdrive/MyDrive/Colab Notebooks/yolo/test/USSR/popup_soviet_aviation_nation.jpg: 640x640 1 factory worker, 1 military, 2 weapons, 10.3ms\n",
      "image 745/932 /content/gdrive/MyDrive/Colab Notebooks/yolo/test/USSR/popup_soviet_kids_germans.jpg: 640x640 1 military, 1 wheat, 10.3ms\n",
      "image 746/932 /content/gdrive/MyDrive/Colab Notebooks/yolo/test/USSR/popup_soviet_pilots.jpg: 640x640 1 agricultural labourer, 3 planes, 23.3ms\n",
      "image 747/932 /content/gdrive/MyDrive/Colab Notebooks/yolo/test/USSR/popup_soviet_prostitute.jpg: 640x640 1 weapon, 16.4ms\n",
      "image 748/932 /content/gdrive/MyDrive/Colab Notebooks/yolo/test/USSR/popup_soviet_threat.jpg: 640x640 1 weapon, 11.6ms\n",
      "image 749/932 /content/gdrive/MyDrive/Colab Notebooks/yolo/test/USSR/popup_sovmilpost18_50_0005.jpg: 640x640 2 factory workers, 11.0ms\n",
      "image 750/932 /content/gdrive/MyDrive/Colab Notebooks/yolo/test/USSR/popup_sovpolpost_00002.jpg: 640x640 (no detections), 10.9ms\n",
      "image 751/932 /content/gdrive/MyDrive/Colab Notebooks/yolo/test/USSR/popup_sovpolpost_00003.jpg: 640x640 1 military, 10.8ms\n",
      "image 752/932 /content/gdrive/MyDrive/Colab Notebooks/yolo/test/USSR/popup_sovpolpost_00005.jpg: 640x640 (no detections), 11.0ms\n",
      "image 753/932 /content/gdrive/MyDrive/Colab Notebooks/yolo/test/USSR/popup_sovpolpost_00006.jpg: 640x640 (no detections), 11.5ms\n",
      "image 754/932 /content/gdrive/MyDrive/Colab Notebooks/yolo/test/USSR/popup_sovpolpost_00009.jpg: 640x640 (no detections), 10.9ms\n",
      "image 755/932 /content/gdrive/MyDrive/Colab Notebooks/yolo/test/USSR/popup_sovpolpost_00010_den.jpg: 640x640 (no detections), 12.1ms\n",
      "image 756/932 /content/gdrive/MyDrive/Colab Notebooks/yolo/test/USSR/popup_sovpolpost_00012.jpg: 640x640 (no detections), 10.5ms\n",
      "image 757/932 /content/gdrive/MyDrive/Colab Notebooks/yolo/test/USSR/popup_sovpolpost_00013.jpg: 640x640 1 weapon, 10.3ms\n",
      "image 758/932 /content/gdrive/MyDrive/Colab Notebooks/yolo/test/USSR/popup_sovpolpost_00016.jpg: 640x640 1 agricultural labourer, 1 grass, 10.3ms\n",
      "image 759/932 /content/gdrive/MyDrive/Colab Notebooks/yolo/test/USSR/popup_sovpolpost_00017.jpg: 640x640 (no detections), 10.4ms\n",
      "image 760/932 /content/gdrive/MyDrive/Colab Notebooks/yolo/test/USSR/popup_sovpolpost_00032.jpg: 640x640 1 building, 1 factory worker, 1 flag, 2 machinerys, 12.7ms\n",
      "image 761/932 /content/gdrive/MyDrive/Colab Notebooks/yolo/test/USSR/popup_sovpolpost_00042.jpg: 640x640 (no detections), 12.3ms\n",
      "image 762/932 /content/gdrive/MyDrive/Colab Notebooks/yolo/test/USSR/popup_sovpolpost_00046.jpg: 640x640 1 weapon, 10.3ms\n",
      "image 763/932 /content/gdrive/MyDrive/Colab Notebooks/yolo/test/USSR/popup_sovpolpost_00080.jpg: 640x640 1 factory worker, 10.3ms\n",
      "image 764/932 /content/gdrive/MyDrive/Colab Notebooks/yolo/test/USSR/popup_sovpolpost_00082.jpg: 640x640 4 factory workers, 10.3ms\n",
      "image 765/932 /content/gdrive/MyDrive/Colab Notebooks/yolo/test/USSR/popup_sovpolpost_00108_den.jpg: 640x640 (no detections), 11.2ms\n",
      "image 766/932 /content/gdrive/MyDrive/Colab Notebooks/yolo/test/USSR/popup_sovpolpost_00115.jpg: 640x640 1 military, 1 office worker, 18.0ms\n",
      "image 767/932 /content/gdrive/MyDrive/Colab Notebooks/yolo/test/USSR/popup_space_militarization.jpg: 640x640 2 cranes, 10.6ms\n",
      "image 768/932 /content/gdrive/MyDrive/Colab Notebooks/yolo/test/USSR/popup_spartakiada.jpg: 640x640 (no detections), 10.1ms\n",
      "image 769/932 /content/gdrive/MyDrive/Colab Notebooks/yolo/test/USSR/popup_spartakiada_1928.jpg: 640x640 1 machinery, 10.0ms\n",
      "image 770/932 /content/gdrive/MyDrive/Colab Notebooks/yolo/test/USSR/popup_spartakiada_nations_ussr.jpg: 640x640 2 factory workers, 1 weapon, 10.4ms\n",
      "image 771/932 /content/gdrive/MyDrive/Colab Notebooks/yolo/test/USSR/popup_spongers.jpg: 640x640 1 building, 1 factory worker, 10.3ms\n",
      "image 772/932 /content/gdrive/MyDrive/Colab Notebooks/yolo/test/USSR/popup_sport_peace.jpg: 640x640 1 sky, 10.1ms\n",
      "image 773/932 /content/gdrive/MyDrive/Colab Notebooks/yolo/test/USSR/popup_sportive_family.jpg: 640x640 1 agricultural labourer, 6 cranes, 1 weapon, 11.0ms\n",
      "image 774/932 /content/gdrive/MyDrive/Colab Notebooks/yolo/test/USSR/popup_stabbing_hitler.jpg: 640x640 (no detections), 9.9ms\n",
      "image 775/932 /content/gdrive/MyDrive/Colab Notebooks/yolo/test/USSR/popup_stalin-voroshilov.jpg: 640x640 2 militarys, 10.3ms\n",
      "image 776/932 /content/gdrive/MyDrive/Colab Notebooks/yolo/test/USSR/popup_stalin.jpg: 640x640 1 factory worker, 1 sky, 9.8ms\n",
      "image 777/932 /content/gdrive/MyDrive/Colab Notebooks/yolo/test/USSR/popup_stalin_dzhugashvily.jpg: 640x640 1 military, 10.1ms\n",
      "image 778/932 /content/gdrive/MyDrive/Colab Notebooks/yolo/test/USSR/popup_stalin_happiness.jpg: 640x640 1 weapon, 10.2ms\n",
      "image 779/932 /content/gdrive/MyDrive/Colab Notebooks/yolo/test/USSR/popup_stalin_kids.jpg: 640x640 (no detections), 10.1ms\n",
      "image 780/932 /content/gdrive/MyDrive/Colab Notebooks/yolo/test/USSR/popup_stalin_leader.jpg: 640x640 1 agricultural labourer, 1 factory worker, 11.0ms\n",
      "image 781/932 /content/gdrive/MyDrive/Colab Notebooks/yolo/test/USSR/popup_stalin_pioneer.jpg: 640x640 3 agricultural labourers, 1 crane, 10.6ms\n",
      "image 782/932 /content/gdrive/MyDrive/Colab Notebooks/yolo/test/USSR/popup_stalin_svetoch.jpg: 640x640 1 agricultural labourer, 1 military, 9.7ms\n",
      "image 783/932 /content/gdrive/MyDrive/Colab Notebooks/yolo/test/USSR/popup_stalin_voroshilov.jpg: 640x640 1 factory worker, 2 flags, 1 weapon, 9.7ms\n",
      "image 784/932 /content/gdrive/MyDrive/Colab Notebooks/yolo/test/USSR/popup_stalin_wheel.jpg: 640x640 1 factory worker, 1 machinery, 2 weapons, 13.8ms\n",
      "image 785/932 /content/gdrive/MyDrive/Colab Notebooks/yolo/test/USSR/popup_stalins_falcons.jpg: 640x640 1 plane, 20.6ms\n",
      "image 786/932 /content/gdrive/MyDrive/Colab Notebooks/yolo/test/USSR/popup_starving_drunk.jpg: 640x640 (no detections), 15.1ms\n",
      "image 787/932 /content/gdrive/MyDrive/Colab Notebooks/yolo/test/USSR/popup_starving_hungry.jpg: 640x640 (no detections), 13.5ms\n",
      "image 788/932 /content/gdrive/MyDrive/Colab Notebooks/yolo/test/USSR/popup_state_secret.jpg: 640x640 2 factory workers, 2 weapons, 10.4ms\n",
      "image 789/932 /content/gdrive/MyDrive/Colab Notebooks/yolo/test/USSR/popup_sun_air_water.jpg: 640x640 (no detections), 10.5ms\n",
      "image 790/932 /content/gdrive/MyDrive/Colab Notebooks/yolo/test/USSR/popup_tabacco_products.jpg: 640x640 1 factory worker, 1 weapon, 10.5ms\n",
      "image 791/932 /content/gdrive/MyDrive/Colab Notebooks/yolo/test/USSR/popup_theater.jpg: 640x640 (no detections), 10.4ms\n",
      "image 792/932 /content/gdrive/MyDrive/Colab Notebooks/yolo/test/USSR/popup_theather_ad.jpg: 640x640 1 building, 9.9ms\n",
      "image 793/932 /content/gdrive/MyDrive/Colab Notebooks/yolo/test/USSR/popup_thieves_fight.jpg: 640x640 (no detections), 11.4ms\n",
      "image 794/932 /content/gdrive/MyDrive/Colab Notebooks/yolo/test/USSR/popup_tire_manufacturer.jpg: 640x640 1 weapon, 11.3ms\n",
      "image 795/932 /content/gdrive/MyDrive/Colab Notebooks/yolo/test/USSR/popup_to_build.jpg: 640x640 1 flag, 14.1ms\n",
      "image 796/932 /content/gdrive/MyDrive/Colab Notebooks/yolo/test/USSR/popup_to_have_more.jpg: 640x640 1 factory worker, 1 sky, 11.2ms\n",
      "image 797/932 /content/gdrive/MyDrive/Colab Notebooks/yolo/test/USSR/popup_to_west.jpg: 640x640 2 planes, 10.8ms\n",
      "image 798/932 /content/gdrive/MyDrive/Colab Notebooks/yolo/test/USSR/popup_transport-brother.jpg: 640x640 1 factory worker, 1 military, 1 star, 10.4ms\n",
      "image 799/932 /content/gdrive/MyDrive/Colab Notebooks/yolo/test/USSR/popup_tselina.jpg: 640x640 2 agricultural labourers, 1 factory worker, 1 office worker, 11.7ms\n",
      "image 800/932 /content/gdrive/MyDrive/Colab Notebooks/yolo/test/USSR/popup_tulip.jpg: 640x640 (no detections), 10.6ms\n",
      "image 801/932 /content/gdrive/MyDrive/Colab Notebooks/yolo/test/USSR/popup_union_science.jpg: 640x640 1 factory worker, 11.5ms\n",
      "image 802/932 /content/gdrive/MyDrive/Colab Notebooks/yolo/test/USSR/popup_united_russia.jpg: 640x640 (no detections), 10.7ms\n",
      "image 803/932 /content/gdrive/MyDrive/Colab Notebooks/yolo/test/USSR/popup_ural_to_front.jpg: 640x640 1 wheat, 10.3ms\n",
      "image 804/932 /content/gdrive/MyDrive/Colab Notebooks/yolo/test/USSR/popup_usa_nato.jpg: 640x640 (no detections), 10.4ms\n",
      "image 805/932 /content/gdrive/MyDrive/Colab Notebooks/yolo/test/USSR/popup_victorious_soldier.jpg: 640x640 1 agricultural labourer, 10.5ms\n",
      "image 806/932 /content/gdrive/MyDrive/Colab Notebooks/yolo/test/USSR/popup_victory-flag.jpg: 640x640 4 militarys, 3 weapons, 11.2ms\n",
      "image 807/932 /content/gdrive/MyDrive/Colab Notebooks/yolo/test/USSR/popup_vladimir-mayakovsky.jpg: 640x640 1 military, 1 weapon, 11.2ms\n",
      "image 808/932 /content/gdrive/MyDrive/Colab Notebooks/yolo/test/USSR/popup_vladivostok.jpg: 640x640 1 weapon, 10.6ms\n",
      "image 809/932 /content/gdrive/MyDrive/Colab Notebooks/yolo/test/USSR/popup_vodka_german.jpg: 640x640 1 office worker, 9.6ms\n",
      "image 810/932 /content/gdrive/MyDrive/Colab Notebooks/yolo/test/USSR/popup_voice_of_earth.jpg: 640x640 1 military, 1 weapon, 10.5ms\n",
      "image 811/932 /content/gdrive/MyDrive/Colab Notebooks/yolo/test/USSR/popup_volga.jpg: 640x640 2 buildings, 1 crane, 9.7ms\n",
      "image 812/932 /content/gdrive/MyDrive/Colab Notebooks/yolo/test/USSR/popup_volunteer.jpg: 640x640 6 weapons, 9.7ms\n",
      "image 813/932 /content/gdrive/MyDrive/Colab Notebooks/yolo/test/USSR/popup_vse_dlya_fronta.jpg: 640x640 1 factory worker, 1 flag, 1 weapon, 10.2ms\n",
      "image 814/932 /content/gdrive/MyDrive/Colab Notebooks/yolo/test/USSR/popup_walk_to_berlin.jpg: 640x640 2 militarys, 1 weapon, 9.4ms\n",
      "image 815/932 /content/gdrive/MyDrive/Colab Notebooks/yolo/test/USSR/popup_war_peace._website_new.jpg: 640x640 1 weapon, 10.0ms\n",
      "image 816/932 /content/gdrive/MyDrive/Colab Notebooks/yolo/test/USSR/popup_war_suicide.jpg: 640x640 1 star, 2 weapons, 12.1ms\n",
      "image 817/932 /content/gdrive/MyDrive/Colab Notebooks/yolo/test/USSR/popup_warsovpost_00002_den.jpg: 640x640 1 flag, 1 military, 10.4ms\n",
      "image 818/932 /content/gdrive/MyDrive/Colab Notebooks/yolo/test/USSR/popup_way_to_victory.jpg: 640x640 1 military, 3 weapons, 10.4ms\n",
      "image 819/932 /content/gdrive/MyDrive/Colab Notebooks/yolo/test/USSR/popup_we_can_save.jpg: 640x640 1 factory worker, 15.7ms\n",
      "image 820/932 /content/gdrive/MyDrive/Colab Notebooks/yolo/test/USSR/popup_we_for_peace.jpg: 640x640 1 agricultural labourer, 1 flag, 1 sickle, 15.1ms\n",
      "image 821/932 /content/gdrive/MyDrive/Colab Notebooks/yolo/test/USSR/popup_weapon_of_heroes.jpg: 640x640 1 weapon, 14.6ms\n",
      "image 822/932 /content/gdrive/MyDrive/Colab Notebooks/yolo/test/USSR/popup_will_defend_moscow.jpg: 640x640 1 factory worker, 1 military, 19.5ms\n",
      "image 823/932 /content/gdrive/MyDrive/Colab Notebooks/yolo/test/USSR/popup_will_work.jpg: 640x640 1 factory worker, 10.6ms\n",
      "image 824/932 /content/gdrive/MyDrive/Colab Notebooks/yolo/test/USSR/popup_with_victory.jpg: 640x640 1 agricultural labourer, 1 wheat, 11.1ms\n",
      "image 825/932 /content/gdrive/MyDrive/Colab Notebooks/yolo/test/USSR/popup_women_in_kolhoz.jpg: 640x640 1 flag, 11.4ms\n",
      "image 826/932 /content/gdrive/MyDrive/Colab Notebooks/yolo/test/USSR/popup_women_international_congress.jpg: 640x640 2 headscarfs, 10.7ms\n",
      "image 827/932 /content/gdrive/MyDrive/Colab Notebooks/yolo/test/USSR/popup_women_planet.jpg: 640x640 1 star, 10.2ms\n",
      "image 828/932 /content/gdrive/MyDrive/Colab Notebooks/yolo/test/USSR/popup_women_rights.jpg: 640x640 1 factory worker, 1 office worker, 10.7ms\n",
      "image 829/932 /content/gdrive/MyDrive/Colab Notebooks/yolo/test/USSR/popup_worker_peasant.jpg: 640x640 (no detections), 10.7ms\n",
      "image 830/932 /content/gdrive/MyDrive/Colab Notebooks/yolo/test/USSR/popup_workers.jpg: 640x640 (no detections), 11.2ms\n",
      "image 831/932 /content/gdrive/MyDrive/Colab Notebooks/yolo/test/USSR/popup_working_class.jpg: 640x640 (no detections), 11.8ms\n",
      "image 832/932 /content/gdrive/MyDrive/Colab Notebooks/yolo/test/USSR/popup_worlds_centuries.jpg: 640x640 (no detections), 10.1ms\n",
      "image 833/932 /content/gdrive/MyDrive/Colab Notebooks/yolo/test/USSR/popup_you_will_be_hero.jpg: 640x640 1 agricultural labourer, 1 headscarf, 11.8ms\n",
      "image 834/932 /content/gdrive/MyDrive/Colab Notebooks/yolo/test/USSR/popup_young_communists.jpg: 640x640 1 agricultural labourer, 1 weapon, 10.8ms\n",
      "image 835/932 /content/gdrive/MyDrive/Colab Notebooks/yolo/test/USSR/popup_young_worker_pioneer.jpg: 640x640 1 building, 1 factory worker, 10.3ms\n",
      "image 836/932 /content/gdrive/MyDrive/Colab Notebooks/yolo/test/USSR/popup_youth.jpg: 640x640 1 factory worker, 10.4ms\n",
      "image 837/932 /content/gdrive/MyDrive/Colab Notebooks/yolo/test/USSR/popup_youth_to_airplanes.jpg: 640x640 2 factory workers, 11.1ms\n",
      "image 838/932 /content/gdrive/MyDrive/Colab Notebooks/yolo/test/USSR/popup_z_drogi.jpg: 640x640 (no detections), 10.8ms\n",
      "image 839/932 /content/gdrive/MyDrive/Colab Notebooks/yolo/test/USSR/pravda_newspaper.jpg: 640x640 1 sky, 10.7ms\n",
      "image 840/932 /content/gdrive/MyDrive/Colab Notebooks/yolo/test/USSR/prevent_aids.jpg: 640x640 (no detections), 10.8ms\n",
      "image 841/932 /content/gdrive/MyDrive/Colab Notebooks/yolo/test/USSR/printed-matter.jpg: 640x640 1 factory worker, 9.8ms\n",
      "image 842/932 /content/gdrive/MyDrive/Colab Notebooks/yolo/test/USSR/proletarian_internationalism.jpg: 640x640 1 agricultural labourer, 3 factory workers, 1 flag, 10.1ms\n",
      "image 843/932 /content/gdrive/MyDrive/Colab Notebooks/yolo/test/USSR/quality_progresst.jpg: 640x640 1 flag, 10.5ms\n",
      "image 844/932 /content/gdrive/MyDrive/Colab Notebooks/yolo/test/USSR/quiet_dawns.jpg: 640x640 (no detections), 10.8ms\n",
      "image 845/932 /content/gdrive/MyDrive/Colab Notebooks/yolo/test/USSR/rainbow_bomb_lgbt.png: 640x640 1 crane, 10.3ms\n",
      "image 846/932 /content/gdrive/MyDrive/Colab Notebooks/yolo/test/USSR/read_books.jpg: 640x640 (no detections), 10.2ms\n",
      "image 847/932 /content/gdrive/MyDrive/Colab Notebooks/yolo/test/USSR/ready-labor-defense.jpg: 640x640 2 planes, 11.1ms\n",
      "image 848/932 /content/gdrive/MyDrive/Colab Notebooks/yolo/test/USSR/red_army_must.jpg: 640x640 (no detections), 10.2ms\n",
      "image 849/932 /content/gdrive/MyDrive/Colab Notebooks/yolo/test/USSR/red_october_factory.jpg: 640x640 2 flags, 1 weapon, 10.9ms\n",
      "image 850/932 /content/gdrive/MyDrive/Colab Notebooks/yolo/test/USSR/relay_race.jpg: 640x640 1 book, 1 factory worker, 9.9ms\n",
      "image 851/932 /content/gdrive/MyDrive/Colab Notebooks/yolo/test/USSR/remember_leaving_work_earlier.jpg: 640x640 2 flags, 10.5ms\n",
      "image 852/932 /content/gdrive/MyDrive/Colab Notebooks/yolo/test/USSR/respect_brand.jpg: 640x640 1 factory worker, 1 military, 2 weapons, 2 wheats, 10.7ms\n",
      "image 853/932 /content/gdrive/MyDrive/Colab Notebooks/yolo/test/USSR/respected_profession.jpg: 640x640 1 book, 2 factory workers, 10.7ms\n",
      "image 854/932 /content/gdrive/MyDrive/Colab Notebooks/yolo/test/USSR/return_the_book.jpg: 640x640 1 factory worker, 11.2ms\n",
      "image 855/932 /content/gdrive/MyDrive/Colab Notebooks/yolo/test/USSR/revenge.jpg: 640x640 (no detections), 11.2ms\n",
      "image 856/932 /content/gdrive/MyDrive/Colab Notebooks/yolo/test/USSR/rowing_sailing.jpg: 640x640 1 factory worker, 10.7ms\n",
      "image 857/932 /content/gdrive/MyDrive/Colab Notebooks/yolo/test/USSR/russian_military_vessel_fuc.jpg: 640x640 1 agricultural labourer, 13.0ms\n",
      "image 858/932 /content/gdrive/MyDrive/Colab Notebooks/yolo/test/USSR/sake_of_communism.jpg: 640x640 3 factory workers, 2 weapons, 15.1ms\n",
      "image 859/932 /content/gdrive/MyDrive/Colab Notebooks/yolo/test/USSR/saluto-compagni.jpg: 640x640 (no detections), 12.2ms\n",
      "image 860/932 /content/gdrive/MyDrive/Colab Notebooks/yolo/test/USSR/sand_clock.png: 640x640 (no detections), 13.4ms\n",
      "image 861/932 /content/gdrive/MyDrive/Colab Notebooks/yolo/test/USSR/sanit_toothpaste.jpg: 640x640 1 weapon, 15.5ms\n",
      "image 862/932 /content/gdrive/MyDrive/Colab Notebooks/yolo/test/USSR/save_lube.jpg: 640x640 1 military, 1 weapon, 14.9ms\n",
      "image 863/932 /content/gdrive/MyDrive/Colab Notebooks/yolo/test/USSR/save_monuments.jpg: 640x640 (no detections), 11.9ms\n",
      "image 864/932 /content/gdrive/MyDrive/Colab Notebooks/yolo/test/USSR/save_world_lenin.jpg: 640x640 (no detections), 11.3ms\n",
      "image 865/932 /content/gdrive/MyDrive/Colab Notebooks/yolo/test/USSR/serve-culturally.jpg: 640x640 1 agricultural labourer, 1 factory worker, 1 headscarf, 13.5ms\n",
      "image 866/932 /content/gdrive/MyDrive/Colab Notebooks/yolo/test/USSR/short_rest.jpg: 640x640 (no detections), 10.8ms\n",
      "image 867/932 /content/gdrive/MyDrive/Colab Notebooks/yolo/test/USSR/sightseeing_moscow.jpg: 640x640 2 factory workers, 11.7ms\n",
      "image 868/932 /content/gdrive/MyDrive/Colab Notebooks/yolo/test/USSR/singing_dancing.jpg: 640x640 2 factory workers, 1 weapon, 12.9ms\n",
      "image 869/932 /content/gdrive/MyDrive/Colab Notebooks/yolo/test/USSR/smoking_child_every_child.jpg: 640x640 3 agricultural labourers, 10.9ms\n",
      "image 870/932 /content/gdrive/MyDrive/Colab Notebooks/yolo/test/USSR/soberness_life.jpg: 640x640 (no detections), 12.6ms\n",
      "image 871/932 /content/gdrive/MyDrive/Colab Notebooks/yolo/test/USSR/socialism_attacks.jpg: 640x640 (no detections), 11.3ms\n",
      "image 872/932 /content/gdrive/MyDrive/Colab Notebooks/yolo/test/USSR/socialism_workers.jpg: 640x640 1 agricultural labourer, 10.6ms\n",
      "image 873/932 /content/gdrive/MyDrive/Colab Notebooks/yolo/test/USSR/son_of_sssr.jpg: 640x640 1 factory worker, 1 office worker, 1 weapon, 10.5ms\n",
      "image 874/932 /content/gdrive/MyDrive/Colab Notebooks/yolo/test/USSR/song_dance_honored.jpg: 640x640 (no detections), 10.7ms\n",
      "image 875/932 /content/gdrive/MyDrive/Colab Notebooks/yolo/test/USSR/soviet_champagne.jpg: 640x640 1 factory worker, 1 weapon, 11.0ms\n",
      "image 876/932 /content/gdrive/MyDrive/Colab Notebooks/yolo/test/USSR/soviet_elections.jpg: 640x640 2 militarys, 10.6ms\n",
      "image 877/932 /content/gdrive/MyDrive/Colab Notebooks/yolo/test/USSR/soviet_football.jpg: 640x640 1 factory worker, 1 star, 12.6ms\n",
      "image 878/932 /content/gdrive/MyDrive/Colab Notebooks/yolo/test/USSR/soviet_youth.jpg: 640x640 1 crane, 1 military, 2 skys, 10.6ms\n",
      "image 879/932 /content/gdrive/MyDrive/Colab Notebooks/yolo/test/USSR/space_shuttle.jpg: 640x640 (no detections), 10.8ms\n",
      "image 880/932 /content/gdrive/MyDrive/Colab Notebooks/yolo/test/USSR/sport-cccp.jpg: 640x640 (no detections), 10.7ms\n",
      "image 881/932 /content/gdrive/MyDrive/Colab Notebooks/yolo/test/USSR/spring_chores.jpg: 640x640 1 headscarf, 10.3ms\n",
      "image 882/932 /content/gdrive/MyDrive/Colab Notebooks/yolo/test/USSR/spy_will_find_you.jpg: 640x640 2 factory workers, 1 military, 10.5ms\n",
      "image 883/932 /content/gdrive/MyDrive/Colab Notebooks/yolo/test/USSR/stalin_brick_monument.jpg: 640x640 (no detections), 11.6ms\n",
      "image 884/932 /content/gdrive/MyDrive/Colab Notebooks/yolo/test/USSR/stalin_drought.jpg: 640x640 1 agricultural labourer, 10.9ms\n",
      "image 885/932 /content/gdrive/MyDrive/Colab Notebooks/yolo/test/USSR/stalin_lenin.jpg: 640x640 1 crane, 2 factory workers, 2 militarys, 1 office worker, 10.7ms\n",
      "image 886/932 /content/gdrive/MyDrive/Colab Notebooks/yolo/test/USSR/stalin_pipe.jpg: 640x640 (no detections), 11.0ms\n",
      "image 887/932 /content/gdrive/MyDrive/Colab Notebooks/yolo/test/USSR/stalin_stahanov.jpg: 640x640 4 agricultural labourers, 1 factory worker, 1 headscarf, 1 office worker, 10.9ms\n",
      "image 888/932 /content/gdrive/MyDrive/Colab Notebooks/yolo/test/USSR/stop-last-warning.jpg: 640x640 1 weapon, 11.4ms\n",
      "image 889/932 /content/gdrive/MyDrive/Colab Notebooks/yolo/test/USSR/stop_aggressor.jpg: 640x640 (no detections), 10.8ms\n",
      "image 890/932 /content/gdrive/MyDrive/Colab Notebooks/yolo/test/USSR/stop_arms_race.jpg: 640x640 (no detections), 10.9ms\n",
      "image 891/932 /content/gdrive/MyDrive/Colab Notebooks/yolo/test/USSR/strate_a.jpg: 640x640 2 factory workers, 2 militarys, 10.8ms\n",
      "image 892/932 /content/gdrive/MyDrive/Colab Notebooks/yolo/test/USSR/teaching-of-marx.jpg: 640x640 (no detections), 11.4ms\n",
      "image 893/932 /content/gdrive/MyDrive/Colab Notebooks/yolo/test/USSR/the_people_and_the_army.jpg: 640x640 2 factory workers, 2 weapons, 11.7ms\n",
      "image 894/932 /content/gdrive/MyDrive/Colab Notebooks/yolo/test/USSR/to_moscow_from_moscow.jpg: 640x640 (no detections), 14.4ms\n",
      "image 895/932 /content/gdrive/MyDrive/Colab Notebooks/yolo/test/USSR/to_protect_ural.jpg: 640x640 2 weapons, 16.0ms\n",
      "image 896/932 /content/gdrive/MyDrive/Colab Notebooks/yolo/test/USSR/to_stars_to_sun.jpg: 640x640 (no detections), 14.2ms\n",
      "image 897/932 /content/gdrive/MyDrive/Colab Notebooks/yolo/test/USSR/to_the_bright_future.jpg: 640x640 (no detections), 10.7ms\n",
      "image 898/932 /content/gdrive/MyDrive/Colab Notebooks/yolo/test/USSR/trap.jpg: 640x640 1 weapon, 10.3ms\n",
      "image 899/932 /content/gdrive/MyDrive/Colab Notebooks/yolo/test/USSR/triumph_cosmos.jpg: 640x640 1 star, 1 weapon, 18.1ms\n",
      "image 900/932 /content/gdrive/MyDrive/Colab Notebooks/yolo/test/USSR/true_fun.jpg: 640x640 (no detections), 11.0ms\n",
      "image 901/932 /content/gdrive/MyDrive/Colab Notebooks/yolo/test/USSR/uncommon_thief.jpg: 640x640 1 factory worker, 1 weapon, 10.7ms\n",
      "image 902/932 /content/gdrive/MyDrive/Colab Notebooks/yolo/test/USSR/under_lenin_flag.jpg: 640x640 1 military, 11.0ms\n",
      "image 903/932 /content/gdrive/MyDrive/Colab Notebooks/yolo/test/USSR/union_born_october.jpg: 640x640 1 star, 10.8ms\n",
      "image 904/932 /content/gdrive/MyDrive/Colab Notebooks/yolo/test/USSR/united_nation.jpg: 640x640 1 flag, 1 military, 11.3ms\n",
      "image 905/932 /content/gdrive/MyDrive/Colab Notebooks/yolo/test/USSR/us_interests.jpg: 640x640 (no detections), 11.4ms\n",
      "image 906/932 /content/gdrive/MyDrive/Colab Notebooks/yolo/test/USSR/usa_bombs_targeting.jpg: 640x640 (no detections), 10.9ms\n",
      "image 907/932 /content/gdrive/MyDrive/Colab Notebooks/yolo/test/USSR/usa_chain_dollar.jpg: 640x640 (no detections), 11.4ms\n",
      "image 908/932 /content/gdrive/MyDrive/Colab Notebooks/yolo/test/USSR/value_every_minute.jpg: 640x640 2 machinerys, 12.9ms\n",
      "image 909/932 /content/gdrive/MyDrive/Colab Notebooks/yolo/test/USSR/vcspo.jpg: 640x640 1 wheat, 11.4ms\n",
      "image 910/932 /content/gdrive/MyDrive/Colab Notebooks/yolo/test/USSR/victory_of_october.jpg: 640x640 (no detections), 10.9ms\n",
      "image 911/932 /content/gdrive/MyDrive/Colab Notebooks/yolo/test/USSR/vietnam_aggression.jpg: 640x640 2 factory workers, 2 weapons, 10.6ms\n",
      "image 912/932 /content/gdrive/MyDrive/Colab Notebooks/yolo/test/USSR/virgin_lands.jpg: 640x640 1 grass, 10.5ms\n",
      "image 913/932 /content/gdrive/MyDrive/Colab Notebooks/yolo/test/USSR/vkpb_1947.jpg: 640x640 2 factory workers, 2 headscarfs, 2 militarys, 11.0ms\n",
      "image 914/932 /content/gdrive/MyDrive/Colab Notebooks/yolo/test/USSR/vote_motherland.jpg: 640x640 (no detections), 10.9ms\n",
      "image 915/932 /content/gdrive/MyDrive/Colab Notebooks/yolo/test/USSR/warning_do_not.jpg: 640x640 1 factory worker, 9.9ms\n",
      "image 916/932 /content/gdrive/MyDrive/Colab Notebooks/yolo/test/USSR/we_need_peace.jpg: 640x640 1 factory worker, 1 military, 1 weapon, 12.1ms\n",
      "image 917/932 /content/gdrive/MyDrive/Colab Notebooks/yolo/test/USSR/we_will_help.jpg: 640x640 2 factory workers, 1 military, 3 weapons, 10.1ms\n",
      "image 918/932 /content/gdrive/MyDrive/Colab Notebooks/yolo/test/USSR/whiteguards.jpg: 640x640 (no detections), 11.0ms\n",
      "image 919/932 /content/gdrive/MyDrive/Colab Notebooks/yolo/test/USSR/will_become_sheep_breeder.jpg: 640x640 (no detections), 10.9ms\n",
      "image 920/932 /content/gdrive/MyDrive/Colab Notebooks/yolo/test/USSR/will_of_kulak.jpg: 640x640 1 agricultural labourer, 2 factory workers, 10.8ms\n",
      "image 921/932 /content/gdrive/MyDrive/Colab Notebooks/yolo/test/USSR/will_rebuild.jpg: 640x640 1 agricultural labourer, 1 factory worker, 2 grasss, 1 machinery, 10.5ms\n",
      "image 922/932 /content/gdrive/MyDrive/Colab Notebooks/yolo/test/USSR/woman_learrn.jpg: 640x640 (no detections), 10.6ms\n",
      "image 923/932 /content/gdrive/MyDrive/Colab Notebooks/yolo/test/USSR/woman_onto_locomotive.jpg: 640x640 1 agricultural labourer, 1 objects, 10.8ms\n",
      "image 924/932 /content/gdrive/MyDrive/Colab Notebooks/yolo/test/USSR/women_hero_su.jpg: 640x640 3 factory workers, 11.2ms\n",
      "image 925/932 /content/gdrive/MyDrive/Colab Notebooks/yolo/test/USSR/word_action.jpg: 640x640 (no detections), 11.3ms\n",
      "image 926/932 /content/gdrive/MyDrive/Colab Notebooks/yolo/test/USSR/work_build_whine.jpg: 640x640 (no detections), 10.4ms\n",
      "image 927/932 /content/gdrive/MyDrive/Colab Notebooks/yolo/test/USSR/work_minutes.jpg: 640x640 1 weapon, 11.3ms\n",
      "image 928/932 /content/gdrive/MyDrive/Colab Notebooks/yolo/test/USSR/work_time.jpg: 640x640 1 building, 12.2ms\n",
      "image 929/932 /content/gdrive/MyDrive/Colab Notebooks/yolo/test/USSR/worker-fight.jpg: 640x640 1 factory worker, 10.8ms\n",
      "image 930/932 /content/gdrive/MyDrive/Colab Notebooks/yolo/test/USSR/world_owner_capital.jpg: 640x640 1 wheat, 12.6ms\n",
      "image 931/932 /content/gdrive/MyDrive/Colab Notebooks/yolo/test/USSR/your-lamp-comrade.jpg: 640x640 1 headscarf, 2 militarys, 15.0ms\n",
      "image 932/932 /content/gdrive/MyDrive/Colab Notebooks/yolo/test/USSR/youth_to_ski.jpg: 640x640 1 agricultural labourer, 1 headscarf, 14.8ms\n",
      "Speed: 2.3ms preprocess, 12.6ms inference, 1.3ms postprocess per image at shape (1, 3, 640, 640)\n",
      "Results saved to \u001b[1mruns/detect/train2\u001b[0m\n",
      "CSV-Datei '/content/gdrive/MyDrive/Colab Notebooks/yolo/detections_USSR.csv' wurde erfolgreich erstellt.\n"
     ]
    }
   ],
   "source": [
    "trained_model = YOLO(\"/home/sc.uni-leipzig.de/lj25vapa/Cultural Analytics/runs/detect/train/weights/best.pt\")\n",
    "results = model(\"/home/sc.uni-leipzig.de/lj25vapa/Cultural Analytics/yolo/test/USSR\", save=True, stream=True)\n",
    "\n",
    "save_detections_to_csv(results, \"/home/sc.uni-leipzig.de/lj25vapa/Cultural Analytics/yolo/detections_USSR.csv\")"
   ]
  },
  {
   "cell_type": "code",
   "execution_count": null,
   "id": "31zX9jKUeCqr",
   "metadata": {
    "colab": {
     "base_uri": "https://localhost:8080/",
     "height": 847
    },
    "executionInfo": {
     "elapsed": 2031,
     "status": "ok",
     "timestamp": 1742257309139,
     "user": {
      "displayName": "Simona Simoni",
      "userId": "03680606385837659687"
     },
     "user_tz": -60
    },
    "id": "31zX9jKUeCqr",
    "outputId": "bd914385-2565-4959-d032-c659b806692d"
   },
   "outputs": [
    {
     "data": {
      "image/png": "[encoded data removed]",
      "text/plain": [
       "<Figure size 1000x800 with 2 Axes>"
      ]
     },
     "metadata": {},
     "output_type": "display_data"
    }
   ],
   "source": [
    "csv_file_USSR = \"/home/sc.uni-leipzig.de/lj25vapa/Cultural Analytics/yolo/detections_USSR.csv\"\n",
    "correlation_matrix_USSR = detect_class_correlations(csv_file_USSR)"
   ]
  },
  {
   "cell_type": "code",
   "execution_count": null,
   "id": "3_kBSa2_QF8v",
   "metadata": {
    "colab": {
     "base_uri": "https://localhost:8080/"
    },
    "executionInfo": {
     "elapsed": 38639,
     "status": "ok",
     "timestamp": 1742257352284,
     "user": {
      "displayName": "Simona Simoni",
      "userId": "03680606385837659687"
     },
     "user_tz": -60
    },
    "id": "3_kBSa2_QF8v",
    "outputId": "1754047a-6999-4a3c-a458-293ad87e8c44"
   },
   "outputs": [
    {
     "name": "stdout",
     "output_type": "stream",
     "text": [
      "\n",
      "image 1/1048 /content/gdrive/MyDrive/Colab Notebooks/yolo/test/DPRK/00391e8e7b7471184a7376a0880c0ad8.jpg: 640x640 3 agricultural labourers, 1 headscarf, 12.6ms\n",
      "image 2/1048 /content/gdrive/MyDrive/Colab Notebooks/yolo/test/DPRK/003da6283a7077621b9eb8cf0b9f7d4e.jpg: 640x640 1 agricultural labourer, 1 factory worker, 11.3ms\n",
      "image 3/1048 /content/gdrive/MyDrive/Colab Notebooks/yolo/test/DPRK/009d864f387b66353483e09c8c501adb.jpg: 640x640 (no detections), 10.4ms\n",
      "image 4/1048 /content/gdrive/MyDrive/Colab Notebooks/yolo/test/DPRK/00cba28b05cb6808c17ede19318540b7.jpg: 640x640 3 factory workers, 10.3ms\n",
      "image 5/1048 /content/gdrive/MyDrive/Colab Notebooks/yolo/test/DPRK/00e13a977a65cd849b578a901cf44053.jpg: 640x640 3 agricultural labourers, 10.1ms\n",
      "image 6/1048 /content/gdrive/MyDrive/Colab Notebooks/yolo/test/DPRK/01292c1dcc2a9a4fb485ad0ccec0978e.jpg: 640x640 1 agricultural labourer, 1 headscarf, 10.7ms\n",
      "image 7/1048 /content/gdrive/MyDrive/Colab Notebooks/yolo/test/DPRK/01c3c1ec7f205613eb6da6b1acbd6cca.jpg: 640x640 1 agricultural labourer, 1 flag, 10.6ms\n",
      "image 8/1048 /content/gdrive/MyDrive/Colab Notebooks/yolo/test/DPRK/02256fbd91779c6bfb33e32d3184760e.jpg: 640x640 (no detections), 16.7ms\n",
      "image 9/1048 /content/gdrive/MyDrive/Colab Notebooks/yolo/test/DPRK/02567a733ea55829662da0adbe66e4df.jpg: 640x640 (no detections), 12.0ms\n",
      "image 10/1048 /content/gdrive/MyDrive/Colab Notebooks/yolo/test/DPRK/02629b6ec65c3e4192bbecf629a4da02.jpg: 640x640 5 agricultural labourers, 2 factory workers, 1 flag, 11.2ms\n",
      "image 11/1048 /content/gdrive/MyDrive/Colab Notebooks/yolo/test/DPRK/02b9afc0b685bad8a7331042a300c120.jpg: 640x640 2 agricultural labourers, 40.7ms\n",
      "image 12/1048 /content/gdrive/MyDrive/Colab Notebooks/yolo/test/DPRK/03621f9c2aefddece1e8854f18a148d2.jpg: 640x640 1 agricultural labourer, 1 headscarf, 13.4ms\n",
      "image 13/1048 /content/gdrive/MyDrive/Colab Notebooks/yolo/test/DPRK/03b54cb851a178a02109c4f19970458d.jpg: 640x640 2 agricultural labourers, 13.8ms\n",
      "image 14/1048 /content/gdrive/MyDrive/Colab Notebooks/yolo/test/DPRK/03de8eef2c42ff30cfad624ca3432f01.jpg: 640x640 1 book, 1 factory worker, 1 flag, 13.1ms\n",
      "image 15/1048 /content/gdrive/MyDrive/Colab Notebooks/yolo/test/DPRK/0408ef26e0f5a99c05eae818433d52ee.jpg: 640x640 1 factory worker, 1 flag, 13.1ms\n",
      "image 16/1048 /content/gdrive/MyDrive/Colab Notebooks/yolo/test/DPRK/0470f13247455e4fc9ca8762d2f813d2.jpg: 640x640 1 agricultural labourer, 2 factory workers, 2 flags, 1 hammer, 1 office worker, 1 sickle, 1 wheat, 13.4ms\n",
      "image 17/1048 /content/gdrive/MyDrive/Colab Notebooks/yolo/test/DPRK/049374c279e76f9b44d60fcf2a934eb1.jpg: 640x640 (no detections), 20.0ms\n",
      "image 18/1048 /content/gdrive/MyDrive/Colab Notebooks/yolo/test/DPRK/04c080703a18ba381e7b059c72039cac.jpg: 640x640 1 agricultural labourer, 1 flag, 19.4ms\n",
      "image 19/1048 /content/gdrive/MyDrive/Colab Notebooks/yolo/test/DPRK/04c8898997536cb1cc4bf538c2aff735.jpg: 640x640 2 agricultural labourers, 1 factory worker, 16.0ms\n",
      "image 20/1048 /content/gdrive/MyDrive/Colab Notebooks/yolo/test/DPRK/04f6078a0ded9eb7aa8ea307bfa5a871.jpg: 640x640 1 plane, 13.5ms\n",
      "image 21/1048 /content/gdrive/MyDrive/Colab Notebooks/yolo/test/DPRK/052d52723462866ae11dff8ca91490d1.jpg: 640x640 1 military, 13.7ms\n",
      "image 22/1048 /content/gdrive/MyDrive/Colab Notebooks/yolo/test/DPRK/05748fe951c1f6160b041d73f3f6d93e.jpg: 640x640 1 factory worker, 13.4ms\n",
      "image 23/1048 /content/gdrive/MyDrive/Colab Notebooks/yolo/test/DPRK/05d0ea24a7e3bc89183dff0b5e76320f.jpg: 640x640 (no detections), 13.4ms\n",
      "image 24/1048 /content/gdrive/MyDrive/Colab Notebooks/yolo/test/DPRK/07442306ee2d32c8d7fed04ba83ee660.jpg: 640x640 1 agricultural labourer, 13.9ms\n",
      "image 25/1048 /content/gdrive/MyDrive/Colab Notebooks/yolo/test/DPRK/0753f7f0a9829f42dff528e5c5c43e51.jpg: 640x640 1 agricultural labourer, 1 grass, 2 headscarfs, 1 machinery, 1 sky, 13.2ms\n",
      "image 26/1048 /content/gdrive/MyDrive/Colab Notebooks/yolo/test/DPRK/07b9b87b25b6514fa35610b1817cef86.jpg: 640x640 1 agricultural labourer, 1 weapon, 14.0ms\n",
      "image 27/1048 /content/gdrive/MyDrive/Colab Notebooks/yolo/test/DPRK/07eb69c9bbea6dad26fdb7319e658013.jpg: 640x640 (no detections), 13.3ms\n",
      "image 28/1048 /content/gdrive/MyDrive/Colab Notebooks/yolo/test/DPRK/082c97efa61f200f2da6f6fd9cd076ca.jpg: 640x640 1 building, 1 crane, 1 factory worker, 13.9ms\n",
      "image 29/1048 /content/gdrive/MyDrive/Colab Notebooks/yolo/test/DPRK/089b234d36f1d4c1c0ce6cc568b95ac2.jpg: 640x640 (no detections), 13.4ms\n",
      "image 30/1048 /content/gdrive/MyDrive/Colab Notebooks/yolo/test/DPRK/09348c24e54cafae63a9617235af933e.jpg: 640x640 2 agricultural labourers, 1 building, 15.9ms\n",
      "image 31/1048 /content/gdrive/MyDrive/Colab Notebooks/yolo/test/DPRK/09d7571cf0593d4361829cf10bfcd602.jpg: 640x640 1 agricultural labourer, 17.9ms\n",
      "image 32/1048 /content/gdrive/MyDrive/Colab Notebooks/yolo/test/DPRK/0a76991828010c016e04556a042b2fc6.jpg: 640x640 2 agricultural labourers, 13.8ms\n",
      "image 33/1048 /content/gdrive/MyDrive/Colab Notebooks/yolo/test/DPRK/0aa6ba6d928fa06b1a91fa36343a610f.jpg: 640x640 1 agricultural labourer, 1 headscarf, 19.6ms\n",
      "image 34/1048 /content/gdrive/MyDrive/Colab Notebooks/yolo/test/DPRK/0af233deb04b6095ea39b14ad52dabae.jpg: 640x640 1 agricultural labourer, 1 flag, 2 headscarfs, 13.5ms\n",
      "image 35/1048 /content/gdrive/MyDrive/Colab Notebooks/yolo/test/DPRK/0b617f5eed591537137e19f6382bac59.jpg: 640x640 1 factory worker, 13.7ms\n",
      "image 36/1048 /content/gdrive/MyDrive/Colab Notebooks/yolo/test/DPRK/0ba3b10321b845b1944a8ee7f97a15fb.jpg: 640x640 1 agricultural labourer, 1 flag, 13.9ms\n",
      "image 37/1048 /content/gdrive/MyDrive/Colab Notebooks/yolo/test/DPRK/0ba74259f58597ec7141f3b41924a862.jpg: 640x640 1 factory worker, 13.8ms\n",
      "image 38/1048 /content/gdrive/MyDrive/Colab Notebooks/yolo/test/DPRK/0bd94686c6c3793fc1058c54d756f23a.jpg: 640x640 1 agricultural labourer, 1 crane, 12.9ms\n",
      "image 39/1048 /content/gdrive/MyDrive/Colab Notebooks/yolo/test/DPRK/0bf09a9cd3c06fc402848c4ede1ff872.jpg: 640x640 2 agricultural labourers, 1 factory worker, 13.2ms\n",
      "image 40/1048 /content/gdrive/MyDrive/Colab Notebooks/yolo/test/DPRK/0c1ac49153fe31ed5021ae0a8f9d3a7a.jpg: 640x640 (no detections), 12.7ms\n",
      "image 41/1048 /content/gdrive/MyDrive/Colab Notebooks/yolo/test/DPRK/0c5f55c1af3ac6c421b748c7de13f81e.jpg: 640x640 1 factory worker, 13.9ms\n",
      "image 42/1048 /content/gdrive/MyDrive/Colab Notebooks/yolo/test/DPRK/0c6c625e08dfd7b199c081a35e921e45.jpg: 640x640 (no detections), 18.1ms\n",
      "image 43/1048 /content/gdrive/MyDrive/Colab Notebooks/yolo/test/DPRK/0cdae8d194169f5f493d21e555393c9b.jpg: 640x640 1 agricultural labourer, 1 wheat, 12.6ms\n",
      "image 44/1048 /content/gdrive/MyDrive/Colab Notebooks/yolo/test/DPRK/0d0561e5c0143cc63f6a2ee681aa2d4f.jpg: 640x640 1 agricultural labourer, 1 book, 1 factory worker, 18.4ms\n",
      "image 45/1048 /content/gdrive/MyDrive/Colab Notebooks/yolo/test/DPRK/0dc8ee7c3985c27adcf6b9d8c0e66064.jpg: 640x640 (no detections), 15.8ms\n",
      "image 46/1048 /content/gdrive/MyDrive/Colab Notebooks/yolo/test/DPRK/0eac56096edc0f965ccd022e2044d1a5.jpg: 640x640 1 agricultural labourer, 1 headscarf, 18.0ms\n",
      "image 47/1048 /content/gdrive/MyDrive/Colab Notebooks/yolo/test/DPRK/0f39097c85bbbbc25ede5cb29910475e.jpg: 640x640 (no detections), 17.0ms\n",
      "image 48/1048 /content/gdrive/MyDrive/Colab Notebooks/yolo/test/DPRK/0f5623f33d648aeba56473821ca9cc95.jpg: 640x640 1 agricultural labourer, 2 headscarfs, 15.8ms\n",
      "image 49/1048 /content/gdrive/MyDrive/Colab Notebooks/yolo/test/DPRK/0fa85f7a6d69da6a7adba3d3e42411b3.jpg: 640x640 1 military, 16.0ms\n",
      "image 50/1048 /content/gdrive/MyDrive/Colab Notebooks/yolo/test/DPRK/10-대건설행군을-힘있게다그치자Lets-Accelerate-the-Grand-March-of-Construction-400x400.png: 640x640 1 factory worker, 14.7ms\n",
      "image 51/1048 /content/gdrive/MyDrive/Colab Notebooks/yolo/test/DPRK/101677a44e0c637c2110403fd4c274d2.jpg: 640x640 (no detections), 18.2ms\n",
      "image 52/1048 /content/gdrive/MyDrive/Colab Notebooks/yolo/test/DPRK/1031ad512cd226f202214d983bbf3091.jpg: 640x640 1 factory worker, 1 flag, 20.0ms\n",
      "image 53/1048 /content/gdrive/MyDrive/Colab Notebooks/yolo/test/DPRK/103d60a4720d47e9db629be9af5196b6.jpg: 640x640 1 sickle, 19.9ms\n",
      "image 54/1048 /content/gdrive/MyDrive/Colab Notebooks/yolo/test/DPRK/10836a9eaeefa50e19a50c0110eab6e8.jpg: 640x640 (no detections), 15.6ms\n",
      "image 55/1048 /content/gdrive/MyDrive/Colab Notebooks/yolo/test/DPRK/11-변장술에속지말라Dont-be-fooled-by-disguise-400x400.png: 640x640 (no detections), 19.4ms\n",
      "image 56/1048 /content/gdrive/MyDrive/Colab Notebooks/yolo/test/DPRK/112a70da46a2c090617d13ac5cd70bfc.jpg: 640x640 (no detections), 18.3ms\n",
      "image 57/1048 /content/gdrive/MyDrive/Colab Notebooks/yolo/test/DPRK/117008c8c260618355933b008297dc4e.jpg: 640x640 1 building, 1 flag, 16.7ms\n",
      "image 58/1048 /content/gdrive/MyDrive/Colab Notebooks/yolo/test/DPRK/11ae60e9fd1536f17492c3af5571747e.jpg: 640x640 1 office worker, 28.7ms\n",
      "image 59/1048 /content/gdrive/MyDrive/Colab Notebooks/yolo/test/DPRK/12-긴장한철도수송을풀자-Lets-Solve-Tense-Railway-Transport-400x400.png: 640x640 1 agricultural labourer, 1 factory worker, 1 headscarf, 13.4ms\n",
      "image 60/1048 /content/gdrive/MyDrive/Colab Notebooks/yolo/test/DPRK/121d991f314bcc8bc79e124a0a7c6085.jpg: 640x640 2 agricultural labourers, 4 factory workers, 1 sky, 1 star, 17.5ms\n",
      "image 61/1048 /content/gdrive/MyDrive/Colab Notebooks/yolo/test/DPRK/121e9b4e68c5af997f0e7974a68560e3.jpg: 640x640 1 machinery, 25.8ms\n",
      "image 62/1048 /content/gdrive/MyDrive/Colab Notebooks/yolo/test/DPRK/128ee1df6f2b7ecb00477a2ebdef0aa3.jpg: 640x640 (no detections), 21.7ms\n",
      "image 63/1048 /content/gdrive/MyDrive/Colab Notebooks/yolo/test/DPRK/12be6d1eb2bfcb2ad0e2895840e7e431.jpg: 640x640 (no detections), 21.3ms\n",
      "image 64/1048 /content/gdrive/MyDrive/Colab Notebooks/yolo/test/DPRK/12f6b42c425494185b9b6afce42b46ac.jpg: 640x640 2 agricultural labourers, 1 factory worker, 18.2ms\n",
      "image 65/1048 /content/gdrive/MyDrive/Colab Notebooks/yolo/test/DPRK/1332e4c4c8e22524b854bd3dac2cf9f0.jpg: 640x640 1 factory worker, 13.5ms\n",
      "image 66/1048 /content/gdrive/MyDrive/Colab Notebooks/yolo/test/DPRK/133398313048d8465aa659127d41c6f2.jpg: 640x640 1 factory worker, 18.5ms\n",
      "image 67/1048 /content/gdrive/MyDrive/Colab Notebooks/yolo/test/DPRK/13404a1e165e6ce860a831276daa8492.jpg: 640x640 1 factory worker, 20.0ms\n",
      "image 68/1048 /content/gdrive/MyDrive/Colab Notebooks/yolo/test/DPRK/144653796fdf657a9f12926f5dd25984.jpg: 640x640 1 factory worker, 1 military, 18.0ms\n",
      "image 69/1048 /content/gdrive/MyDrive/Colab Notebooks/yolo/test/DPRK/154610c7b15036c49056d625d5242c27.jpg: 640x640 1 agricultural labourer, 1 star, 20.5ms\n",
      "image 70/1048 /content/gdrive/MyDrive/Colab Notebooks/yolo/test/DPRK/158546a46f3e0cbf658bed8269ddb83b.jpg: 640x640 (no detections), 19.5ms\n",
      "image 71/1048 /content/gdrive/MyDrive/Colab Notebooks/yolo/test/DPRK/1595f2f6212d28faabdd819a6f505f75.jpg: 640x640 1 agricultural labourer, 18.1ms\n",
      "image 72/1048 /content/gdrive/MyDrive/Colab Notebooks/yolo/test/DPRK/16592944c98c372b681f168ded633e63.jpg: 640x640 1 agricultural labourer, 2 factory workers, 1 hammer, 18.1ms\n",
      "image 73/1048 /content/gdrive/MyDrive/Colab Notebooks/yolo/test/DPRK/16ad59d82e00995896de83344427c42a.jpg: 640x640 3 agricultural labourers, 1 sky, 1 weapon, 20.2ms\n",
      "image 74/1048 /content/gdrive/MyDrive/Colab Notebooks/yolo/test/DPRK/16ce127d158179d6149880e6667c3891.jpg: 640x640 3 agricultural labourers, 1 factory worker, 1 headscarf, 13.0ms\n",
      "image 75/1048 /content/gdrive/MyDrive/Colab Notebooks/yolo/test/DPRK/16e5b581030e3b6340c766ec31ed8b55.jpg: 640x640 (no detections), 10.9ms\n",
      "image 76/1048 /content/gdrive/MyDrive/Colab Notebooks/yolo/test/DPRK/16edf02f467cc9c0414b4674429f1ac6.jpg: 640x640 1 flag, 10.6ms\n",
      "image 77/1048 /content/gdrive/MyDrive/Colab Notebooks/yolo/test/DPRK/172752af52eaf0f53cabeec6b633a906.jpg: 640x640 (no detections), 10.9ms\n",
      "image 78/1048 /content/gdrive/MyDrive/Colab Notebooks/yolo/test/DPRK/1788109f8d183fd3bc1f43d530fe8b69.jpg: 640x640 2 agricultural labourers, 1 flag, 10.2ms\n",
      "image 79/1048 /content/gdrive/MyDrive/Colab Notebooks/yolo/test/DPRK/17bb4127213ca6518b2eee7b7c10c090.jpg: 640x640 1 crane, 1 flag, 10.3ms\n",
      "image 80/1048 /content/gdrive/MyDrive/Colab Notebooks/yolo/test/DPRK/17ef59bc14a1fc8c6b47595921246c77.jpg: 640x640 1 plane, 10.3ms\n",
      "image 81/1048 /content/gdrive/MyDrive/Colab Notebooks/yolo/test/DPRK/17f60f01627095963c112f291d066f52.jpg: 640x640 1 agricultural labourer, 10.2ms\n",
      "image 82/1048 /content/gdrive/MyDrive/Colab Notebooks/yolo/test/DPRK/182a6a645b4d580342fdf29286842729.jpg: 640x640 1 agricultural labourer, 11.2ms\n",
      "image 83/1048 /content/gdrive/MyDrive/Colab Notebooks/yolo/test/DPRK/18f618e4ad8c937e8040aca0adff0037.jpg: 640x640 1 agricultural labourer, 2 skys, 10.7ms\n",
      "image 84/1048 /content/gdrive/MyDrive/Colab Notebooks/yolo/test/DPRK/1904997f82846d3e1e8ebac4c70231ad.jpg: 640x640 1 flag, 10.8ms\n",
      "image 85/1048 /content/gdrive/MyDrive/Colab Notebooks/yolo/test/DPRK/193e1950aafb841050a35492e2431730.jpg: 640x640 (no detections), 11.0ms\n",
      "image 86/1048 /content/gdrive/MyDrive/Colab Notebooks/yolo/test/DPRK/197718bec1292b8d820a3bbdf22e30ab.jpg: 640x640 2 flags, 1 hammer, 1 sickle, 14.0ms\n",
      "image 87/1048 /content/gdrive/MyDrive/Colab Notebooks/yolo/test/DPRK/197afcfff25ff87f34ac7e8806f1446c.jpg: 640x640 1 agricultural labourer, 1 factory worker, 15.2ms\n",
      "image 88/1048 /content/gdrive/MyDrive/Colab Notebooks/yolo/test/DPRK/19d0e311d591415ce571a8f0ff719980.jpg: 640x640 (no detections), 15.9ms\n",
      "image 89/1048 /content/gdrive/MyDrive/Colab Notebooks/yolo/test/DPRK/1afb1a66fe07c435d7dc3bf216acf561.jpg: 640x640 1 factory worker, 1 flag, 1 machinery, 12.9ms\n",
      "image 90/1048 /content/gdrive/MyDrive/Colab Notebooks/yolo/test/DPRK/1b125fd2c51ba8ecce3f36425e3413af.jpg: 640x640 4 agricultural labourers, 2 factory workers, 1 sickle, 10.8ms\n",
      "image 91/1048 /content/gdrive/MyDrive/Colab Notebooks/yolo/test/DPRK/1b3df82c6504490658d129960e5ec1f1.jpg: 640x640 1 factory worker, 10.2ms\n",
      "image 92/1048 /content/gdrive/MyDrive/Colab Notebooks/yolo/test/DPRK/1b5f54d756575d2d90dc7b5f32ffa37d.jpg: 640x640 3 agricultural labourers, 1 factory worker, 2 headscarfs, 14.1ms\n",
      "image 93/1048 /content/gdrive/MyDrive/Colab Notebooks/yolo/test/DPRK/1b6a5f2e25005fdf316b40dd84721adb.jpg: 640x640 2 agricultural labourers, 1 flag, 1 hammer, 1 headscarf, 1 sickle, 12.6ms\n",
      "image 94/1048 /content/gdrive/MyDrive/Colab Notebooks/yolo/test/DPRK/1bb16559366b0bf575146f307fb64ef3.jpg: 640x640 1 agricultural labourer, 2 factory workers, 10.9ms\n",
      "image 95/1048 /content/gdrive/MyDrive/Colab Notebooks/yolo/test/DPRK/1bd53e14d5bbd232f4f3c3e528f56c35.jpg: 640x640 2 agricultural labourers, 1 factory worker, 1 flag, 1 plane, 11.0ms\n",
      "image 96/1048 /content/gdrive/MyDrive/Colab Notebooks/yolo/test/DPRK/1cc0656fbb2d721e1071bdd9d564d579.jpg: 640x640 1 agricultural labourer, 3 factory workers, 10.4ms\n",
      "image 97/1048 /content/gdrive/MyDrive/Colab Notebooks/yolo/test/DPRK/1d3accf5f72c9f5ffc31b8e3c7b363b7.jpg: 640x640 1 agricultural labourer, 1 plane, 2 weapons, 10.6ms\n",
      "image 98/1048 /content/gdrive/MyDrive/Colab Notebooks/yolo/test/DPRK/1d7321981655e83c7f31f0235bdeb6fb.jpg: 640x640 (no detections), 10.5ms\n",
      "image 99/1048 /content/gdrive/MyDrive/Colab Notebooks/yolo/test/DPRK/1de35a5f7e9539d016d9ae9f20f7db24.jpg: 640x640 1 agricultural labourer, 10.4ms\n",
      "image 100/1048 /content/gdrive/MyDrive/Colab Notebooks/yolo/test/DPRK/1e4970dee879d08ee091c965c37c19b0.jpg: 640x640 1 agricultural labourer, 10.6ms\n",
      "image 101/1048 /content/gdrive/MyDrive/Colab Notebooks/yolo/test/DPRK/1eaafc1355fa10a9edcf7a99470886f5.jpg: 640x640 1 factory worker, 11.1ms\n",
      "image 102/1048 /content/gdrive/MyDrive/Colab Notebooks/yolo/test/DPRK/1f634bf6e491f57f86c5188a03112796.jpg: 640x640 1 agricultural labourer, 1 factory worker, 2 flags, 1 hammer, 1 office worker, 1 sickle, 10.9ms\n",
      "image 103/1048 /content/gdrive/MyDrive/Colab Notebooks/yolo/test/DPRK/1fb2034395d5c42d1ed012daecbd30ad.jpg: 640x640 1 flag, 11.8ms\n",
      "image 104/1048 /content/gdrive/MyDrive/Colab Notebooks/yolo/test/DPRK/1fb73e88c706a8547bc3a8de901d28c4.jpg: 640x640 1 agricultural labourer, 1 crane, 2 factory workers, 11.3ms\n",
      "image 105/1048 /content/gdrive/MyDrive/Colab Notebooks/yolo/test/DPRK/1fed40fdeacde0dd853fc9e1cb5dcadd.jpg: 640x640 2 agricultural labourers, 10.4ms\n",
      "image 106/1048 /content/gdrive/MyDrive/Colab Notebooks/yolo/test/DPRK/2045bb972f08fab1d19b55935f812e7c.jpg: 640x640 2 agricultural labourers, 1 factory worker, 1 sky, 11.0ms\n",
      "image 107/1048 /content/gdrive/MyDrive/Colab Notebooks/yolo/test/DPRK/2079f6512d2ac29fd0f289e37ad9389c.jpg: 640x640 1 factory worker, 1 military, 11.1ms\n",
      "image 108/1048 /content/gdrive/MyDrive/Colab Notebooks/yolo/test/DPRK/213996c2f7f404858ea67b4a321e0906.jpg: 640x640 3 flags, 1 plane, 10.8ms\n",
      "image 109/1048 /content/gdrive/MyDrive/Colab Notebooks/yolo/test/DPRK/21ae1ad89b1a2a11444b62e65e0a54ce.jpg: 640x640 3 agricultural labourers, 13.1ms\n",
      "image 110/1048 /content/gdrive/MyDrive/Colab Notebooks/yolo/test/DPRK/21f451b07a3501351825d4943ac4da81.jpg: 640x640 1 agricultural labourer, 1 factory worker, 11.1ms\n",
      "image 111/1048 /content/gdrive/MyDrive/Colab Notebooks/yolo/test/DPRK/22459cf9e00d9f14c4363006777194ad.jpg: 640x640 1 agricultural labourer, 1 weapon, 10.6ms\n",
      "image 112/1048 /content/gdrive/MyDrive/Colab Notebooks/yolo/test/DPRK/22777f46cc721ff739dc2c357a040c10.jpg: 640x640 1 agricultural labourer, 1 crane, 11.2ms\n",
      "image 113/1048 /content/gdrive/MyDrive/Colab Notebooks/yolo/test/DPRK/22cbb3ae6266e74776f750afab3edd9e.jpg: 640x640 (no detections), 10.7ms\n",
      "image 114/1048 /content/gdrive/MyDrive/Colab Notebooks/yolo/test/DPRK/2317fef8218956e74ddddd4f809e2743.jpg: 640x640 1 agricultural labourer, 1 factory worker, 11.3ms\n",
      "image 115/1048 /content/gdrive/MyDrive/Colab Notebooks/yolo/test/DPRK/23b907a7fe775581feacc8333b0daa76.jpg: 640x640 1 flag, 12.1ms\n",
      "image 116/1048 /content/gdrive/MyDrive/Colab Notebooks/yolo/test/DPRK/23e87cb8e90e8666d576d78f503e63df.jpg: 640x640 (no detections), 11.6ms\n",
      "image 117/1048 /content/gdrive/MyDrive/Colab Notebooks/yolo/test/DPRK/24090c51250fb6e70b5459a56e192d89.jpg: 640x640 1 agricultural labourer, 1 flag, 20.3ms\n",
      "image 118/1048 /content/gdrive/MyDrive/Colab Notebooks/yolo/test/DPRK/24d84409442c2f91cf08965c27ff571e.jpg: 640x640 1 factory worker, 1 flag, 13.9ms\n",
      "image 119/1048 /content/gdrive/MyDrive/Colab Notebooks/yolo/test/DPRK/253d01a416d7922811567c864f215857.jpg: 640x640 2 agricultural labourers, 2 factory workers, 2 headscarfs, 10.5ms\n",
      "image 120/1048 /content/gdrive/MyDrive/Colab Notebooks/yolo/test/DPRK/254fa8c1f633b2e61371606d2ece97fc.jpg: 640x640 (no detections), 11.0ms\n",
      "image 121/1048 /content/gdrive/MyDrive/Colab Notebooks/yolo/test/DPRK/258674194bf04ebe30721b18c65e909e.jpg: 640x640 1 agricultural labourer, 10.4ms\n",
      "image 122/1048 /content/gdrive/MyDrive/Colab Notebooks/yolo/test/DPRK/25be4dd8dbc98eda52465ba869f3e4ef.jpg: 640x640 2 agricultural labourers, 1 factory worker, 14.7ms\n",
      "image 123/1048 /content/gdrive/MyDrive/Colab Notebooks/yolo/test/DPRK/25eb037e2d18a24385cea4111fb330f2.jpg: 640x640 (no detections), 15.1ms\n",
      "image 124/1048 /content/gdrive/MyDrive/Colab Notebooks/yolo/test/DPRK/2681617166ab3c15570404a7b7d302ed.jpg: 640x640 2 weapons, 15.1ms\n",
      "image 125/1048 /content/gdrive/MyDrive/Colab Notebooks/yolo/test/DPRK/268684ed75123b845a2f55605275bd67.jpg: 640x640 (no detections), 10.7ms\n",
      "image 126/1048 /content/gdrive/MyDrive/Colab Notebooks/yolo/test/DPRK/272815a5807a86bb0772e9efd38e7638.jpg: 640x640 2 agricultural labourers, 1 factory worker, 11.9ms\n",
      "image 127/1048 /content/gdrive/MyDrive/Colab Notebooks/yolo/test/DPRK/27eda342dfa7583aeeb8aa3baaa36d4b.jpg: 640x640 (no detections), 11.1ms\n",
      "image 128/1048 /content/gdrive/MyDrive/Colab Notebooks/yolo/test/DPRK/28a0e354e33e9498efef7e779a349261.jpg: 640x640 (no detections), 10.4ms\n",
      "image 129/1048 /content/gdrive/MyDrive/Colab Notebooks/yolo/test/DPRK/28a82067180a3841a44d020075a23639.jpg: 640x640 1 factory worker, 18.0ms\n",
      "image 130/1048 /content/gdrive/MyDrive/Colab Notebooks/yolo/test/DPRK/28ab42e9753bf64434333c2b4c685860.jpg: 640x640 2 agricultural labourers, 1 factory worker, 3 headscarfs, 10.4ms\n",
      "image 131/1048 /content/gdrive/MyDrive/Colab Notebooks/yolo/test/DPRK/28d125ea0622ab9b99ec73c3e3011781.jpg: 640x640 1 military, 1 office worker, 10.9ms\n",
      "image 132/1048 /content/gdrive/MyDrive/Colab Notebooks/yolo/test/DPRK/28f40ac3cbe1c87a19c4e1660a629dad.jpg: 640x640 (no detections), 11.2ms\n",
      "image 133/1048 /content/gdrive/MyDrive/Colab Notebooks/yolo/test/DPRK/29052ecb9a0261f5113e23ff74761551.jpg: 640x640 (no detections), 11.2ms\n",
      "image 134/1048 /content/gdrive/MyDrive/Colab Notebooks/yolo/test/DPRK/290e528c27cc81f6516c6418b2d5711d.jpg: 640x640 1 agricultural labourer, 11.1ms\n",
      "image 135/1048 /content/gdrive/MyDrive/Colab Notebooks/yolo/test/DPRK/293b7a9cbb3bce06b7a5fbdb32145275.jpg: 640x640 1 flag, 11.2ms\n",
      "image 136/1048 /content/gdrive/MyDrive/Colab Notebooks/yolo/test/DPRK/2979091113263bf720c9435616b80059.jpg: 640x640 (no detections), 11.8ms\n",
      "image 137/1048 /content/gdrive/MyDrive/Colab Notebooks/yolo/test/DPRK/297d188ec28e174bf465ead74bc56f45.jpg: 640x640 1 agricultural labourer, 1 horse, 10.4ms\n",
      "image 138/1048 /content/gdrive/MyDrive/Colab Notebooks/yolo/test/DPRK/2a148cf3428ab61d341b750bf1c82085.jpg: 640x640 2 agricultural labourers, 2 factory workers, 10.2ms\n",
      "image 139/1048 /content/gdrive/MyDrive/Colab Notebooks/yolo/test/DPRK/2a2074c09ef5114f31ee2fbad72645e5.jpg: 640x640 1 book, 1 factory worker, 1 flag, 10.3ms\n",
      "image 140/1048 /content/gdrive/MyDrive/Colab Notebooks/yolo/test/DPRK/2a54f062faf70d4f6afc07030eedcc97.jpg: 640x640 1 agricultural labourer, 2 weapons, 10.7ms\n",
      "image 141/1048 /content/gdrive/MyDrive/Colab Notebooks/yolo/test/DPRK/2a6f1feb9dd44901be16290ccd2d6e79.jpg: 640x640 (no detections), 10.6ms\n",
      "image 142/1048 /content/gdrive/MyDrive/Colab Notebooks/yolo/test/DPRK/2aaadd66ea9dd919c8490cfe112ae227.jpg: 640x640 (no detections), 10.7ms\n",
      "image 143/1048 /content/gdrive/MyDrive/Colab Notebooks/yolo/test/DPRK/2b3eba2679bd0eecccf189393ca783e5.jpg: 640x640 (no detections), 10.8ms\n",
      "image 144/1048 /content/gdrive/MyDrive/Colab Notebooks/yolo/test/DPRK/2b40511e915970940b1924bea95b6953.jpg: 640x640 3 agricultural labourers, 1 military, 11.3ms\n",
      "image 145/1048 /content/gdrive/MyDrive/Colab Notebooks/yolo/test/DPRK/2b6c2ddfba962ee318ce9bc5eaa333c3.jpg: 640x640 (no detections), 10.8ms\n",
      "image 146/1048 /content/gdrive/MyDrive/Colab Notebooks/yolo/test/DPRK/2b79d4db8742351b900bb90e3741500b.jpg: 640x640 1 agricultural labourer, 11.5ms\n",
      "image 147/1048 /content/gdrive/MyDrive/Colab Notebooks/yolo/test/DPRK/2b963633736f29e59c5a9c214d527113.jpg: 640x640 1 agricultural labourer, 10.6ms\n",
      "image 148/1048 /content/gdrive/MyDrive/Colab Notebooks/yolo/test/DPRK/2bc202a18635874fdae73729ef9046e4.jpg: 640x640 1 factory worker, 1 office worker, 10.3ms\n",
      "image 149/1048 /content/gdrive/MyDrive/Colab Notebooks/yolo/test/DPRK/2be8731036725ed687bfeeebb73adbc3.jpg: 640x640 2 factory workers, 11.5ms\n",
      "image 150/1048 /content/gdrive/MyDrive/Colab Notebooks/yolo/test/DPRK/2c0a7bb2b4c44e72fe12ca561a5c4dbe.jpg: 640x640 2 agricultural labourers, 10.8ms\n",
      "image 151/1048 /content/gdrive/MyDrive/Colab Notebooks/yolo/test/DPRK/2c14a5a926b91730a7de45a2ff7add06.jpg: 640x640 1 factory worker, 1 military, 1 office worker, 10.9ms\n",
      "image 152/1048 /content/gdrive/MyDrive/Colab Notebooks/yolo/test/DPRK/2c5d249ed6b0cd2dafccb16d3dd4f318.jpg: 640x640 2 agricultural labourers, 11.1ms\n",
      "image 153/1048 /content/gdrive/MyDrive/Colab Notebooks/yolo/test/DPRK/2c601d65107ee773cf923d6956a394d7.jpg: 640x640 1 factory worker, 1 headscarf, 3 weapons, 11.2ms\n",
      "image 154/1048 /content/gdrive/MyDrive/Colab Notebooks/yolo/test/DPRK/2cc965844528d13046ec1b3cb4676947.jpg: 640x640 1 agricultural labourer, 1 factory worker, 1 sky, 10.9ms\n",
      "image 155/1048 /content/gdrive/MyDrive/Colab Notebooks/yolo/test/DPRK/2cfc85337323b0797d2ce83d061be4d2.jpg: 640x640 (no detections), 10.6ms\n",
      "image 156/1048 /content/gdrive/MyDrive/Colab Notebooks/yolo/test/DPRK/2d992de5f5092aef682e9335490d10b9.jpg: 640x640 2 agricultural labourers, 10.1ms\n",
      "image 157/1048 /content/gdrive/MyDrive/Colab Notebooks/yolo/test/DPRK/2dbbc71a7b5bd19d9e49d07deab38a2d.jpg: 640x640 5 flags, 10.9ms\n",
      "image 158/1048 /content/gdrive/MyDrive/Colab Notebooks/yolo/test/DPRK/2dd85c938f9f039785a68033c5c6da38.jpg: 640x640 1 agricultural labourer, 10.2ms\n",
      "image 159/1048 /content/gdrive/MyDrive/Colab Notebooks/yolo/test/DPRK/2dffa5cca896d488d4a23da40d42b4c1.jpg: 640x640 2 agricultural labourers, 15.3ms\n",
      "image 160/1048 /content/gdrive/MyDrive/Colab Notebooks/yolo/test/DPRK/2e35fc711186c9836fe0d880ece47431.jpg: 640x640 1 weapon, 14.0ms\n",
      "image 161/1048 /content/gdrive/MyDrive/Colab Notebooks/yolo/test/DPRK/2e3c07a564bf301cddabf5c8314cae24.jpg: 640x640 1 agricultural labourer, 15.1ms\n",
      "image 162/1048 /content/gdrive/MyDrive/Colab Notebooks/yolo/test/DPRK/2ee0aded0dcd16434076e10344c7a3dd.jpg: 640x640 1 military, 10.1ms\n",
      "image 163/1048 /content/gdrive/MyDrive/Colab Notebooks/yolo/test/DPRK/2f018bd3dc394e96debbb42cb92d8824.jpg: 640x640 1 flag, 10.5ms\n",
      "image 164/1048 /content/gdrive/MyDrive/Colab Notebooks/yolo/test/DPRK/2fd69374965030e72adcbaa75561441d.jpg: 640x640 2 factory workers, 10.6ms\n",
      "image 165/1048 /content/gdrive/MyDrive/Colab Notebooks/yolo/test/DPRK/2fe49894973d135af0fd51f8935c8de3.jpg: 640x640 2 agricultural labourers, 2 headscarfs, 1 machinery, 11.1ms\n",
      "image 166/1048 /content/gdrive/MyDrive/Colab Notebooks/yolo/test/DPRK/302cf8176352fa3befabed35762bad73.jpg: 640x640 (no detections), 11.1ms\n",
      "image 167/1048 /content/gdrive/MyDrive/Colab Notebooks/yolo/test/DPRK/30344ac64c07ed5d4e75790eca875b0d.jpg: 640x640 1 factory worker, 1 plane, 15.1ms\n",
      "image 168/1048 /content/gdrive/MyDrive/Colab Notebooks/yolo/test/DPRK/3049a71fab3cdc8cbcf564204ef05a2e.jpg: 640x640 (no detections), 12.1ms\n",
      "image 169/1048 /content/gdrive/MyDrive/Colab Notebooks/yolo/test/DPRK/308ac823808363e4fed03601d5c7877d.jpg: 640x640 2 machinerys, 1 military, 10.9ms\n",
      "image 170/1048 /content/gdrive/MyDrive/Colab Notebooks/yolo/test/DPRK/30b239f1e4448825f600d1d008a111e7.jpg: 640x640 1 agricultural labourer, 1 flag, 3 headscarfs, 10.7ms\n",
      "image 171/1048 /content/gdrive/MyDrive/Colab Notebooks/yolo/test/DPRK/30df1e337dfd914d00157020ec20dd00.jpg: 640x640 3 factory workers, 10.6ms\n",
      "image 172/1048 /content/gdrive/MyDrive/Colab Notebooks/yolo/test/DPRK/31c02fee02b22969209a423f8d3df7d2.jpg: 640x640 (no detections), 10.3ms\n",
      "image 173/1048 /content/gdrive/MyDrive/Colab Notebooks/yolo/test/DPRK/3235ee9a7089ea59988fc7d645ac4432.jpg: 640x640 1 plane, 11.0ms\n",
      "image 174/1048 /content/gdrive/MyDrive/Colab Notebooks/yolo/test/DPRK/3270c370c6e3b739eea3b83904e72c48.jpg: 640x640 1 agricultural labourer, 1 sky, 11.2ms\n",
      "image 175/1048 /content/gdrive/MyDrive/Colab Notebooks/yolo/test/DPRK/3278ed3463adfcd59a29b9b6797e96b9.jpg: 640x640 1 factory worker, 2 flags, 10.9ms\n",
      "image 176/1048 /content/gdrive/MyDrive/Colab Notebooks/yolo/test/DPRK/32def481d768f5c564d188a9f66afb78.jpg: 640x640 1 factory worker, 10.6ms\n",
      "image 177/1048 /content/gdrive/MyDrive/Colab Notebooks/yolo/test/DPRK/3307296854837d0566aa3942e2c98ea7.jpg: 640x640 3 agricultural labourers, 1 factory worker, 11.7ms\n",
      "image 178/1048 /content/gdrive/MyDrive/Colab Notebooks/yolo/test/DPRK/3323a341cd8e5a024896aaf247872885.jpg: 640x640 1 crane, 1 factory worker, 11.3ms\n",
      "image 179/1048 /content/gdrive/MyDrive/Colab Notebooks/yolo/test/DPRK/332dcb99f61e40d71c28ff2f8b1c5404.jpg: 640x640 1 agricultural labourer, 3 cranes, 11.0ms\n",
      "image 180/1048 /content/gdrive/MyDrive/Colab Notebooks/yolo/test/DPRK/332ed394c0881b030ed571788500f98b.jpg: 640x640 1 agricultural labourer, 1 flag, 1 headscarf, 11.0ms\n",
      "image 181/1048 /content/gdrive/MyDrive/Colab Notebooks/yolo/test/DPRK/33628db571943430c56f659ae77cc9b8.jpg: 640x640 1 agricultural labourer, 11.6ms\n",
      "image 182/1048 /content/gdrive/MyDrive/Colab Notebooks/yolo/test/DPRK/338d8011892200a5566613ae2839584c.jpg: 640x640 1 factory worker, 1 machinery, 10.6ms\n",
      "image 183/1048 /content/gdrive/MyDrive/Colab Notebooks/yolo/test/DPRK/342f8c4406bb8ded528cb7541a652653.jpg: 640x640 1 agricultural labourer, 4 flowers, 10.6ms\n",
      "image 184/1048 /content/gdrive/MyDrive/Colab Notebooks/yolo/test/DPRK/348fb24d6f3e1d9b9dcdbcc600811ef1.jpg: 640x640 2 buildings, 11.1ms\n",
      "image 185/1048 /content/gdrive/MyDrive/Colab Notebooks/yolo/test/DPRK/34f3854120d4e94036df69289aba3b46.jpg: 640x640 (no detections), 11.0ms\n",
      "image 186/1048 /content/gdrive/MyDrive/Colab Notebooks/yolo/test/DPRK/3518e466efecb164f5b7079fd6a53a63.jpg: 640x640 1 agricultural labourer, 1 factory worker, 11.0ms\n",
      "image 187/1048 /content/gdrive/MyDrive/Colab Notebooks/yolo/test/DPRK/352d9acf4818ed9061dd0852bbc16503.jpg: 640x640 2 flags, 1 hammer, 3 mountains, 10.8ms\n",
      "image 188/1048 /content/gdrive/MyDrive/Colab Notebooks/yolo/test/DPRK/355519b17a847ce8001797f3463a7844.jpg: 640x640 (no detections), 11.1ms\n",
      "image 189/1048 /content/gdrive/MyDrive/Colab Notebooks/yolo/test/DPRK/35738577035d600c041130a7a8927dd4.jpg: 640x640 1 factory worker, 11.0ms\n",
      "image 190/1048 /content/gdrive/MyDrive/Colab Notebooks/yolo/test/DPRK/35bc28342fbc1889516729ab1504733a.jpg: 640x640 2 agricultural labourers, 4 flags, 1 star, 12.2ms\n",
      "image 191/1048 /content/gdrive/MyDrive/Colab Notebooks/yolo/test/DPRK/35d4c782b7ae7340f6bf0b9ab7c4160a.jpg: 640x640 2 agricultural labourers, 1 headscarf, 10.7ms\n",
      "image 192/1048 /content/gdrive/MyDrive/Colab Notebooks/yolo/test/DPRK/360cdea4c56eda55172bd5545840406a.jpg: 640x640 1 factory worker, 10.9ms\n",
      "image 193/1048 /content/gdrive/MyDrive/Colab Notebooks/yolo/test/DPRK/365911b2f6d2f7c4c97c312976fe2870.jpg: 640x640 2 factory workers, 10.8ms\n",
      "image 194/1048 /content/gdrive/MyDrive/Colab Notebooks/yolo/test/DPRK/369e87be19cedfe7a2af15d97e1ef854.jpg: 640x640 1 agricultural labourer, 1 horse, 11.2ms\n",
      "image 195/1048 /content/gdrive/MyDrive/Colab Notebooks/yolo/test/DPRK/36d1c1de62b2a4cf7fa02d0d73df256c.jpg: 640x640 (no detections), 15.5ms\n",
      "image 196/1048 /content/gdrive/MyDrive/Colab Notebooks/yolo/test/DPRK/3723b00e057fafe682a2efa07e2272be.jpg: 640x640 1 agricultural labourer, 1 military, 2 wheats, 15.7ms\n",
      "image 197/1048 /content/gdrive/MyDrive/Colab Notebooks/yolo/test/DPRK/3731ccd59d5733461e2e575664e34f1b.jpg: 640x640 3 flags, 14.8ms\n",
      "image 198/1048 /content/gdrive/MyDrive/Colab Notebooks/yolo/test/DPRK/37457bf4690ef3ee7119e3c0a2a353ca.jpg: 640x640 2 agricultural labourers, 2 factory workers, 10.5ms\n",
      "image 199/1048 /content/gdrive/MyDrive/Colab Notebooks/yolo/test/DPRK/37736e500d47f6ec393e388a1a2de8d7.jpg: 640x640 1 agricultural labourer, 12.4ms\n",
      "image 200/1048 /content/gdrive/MyDrive/Colab Notebooks/yolo/test/DPRK/3796a209e7f05c36235e7353195f9eb0.jpg: 640x640 (no detections), 10.5ms\n",
      "image 201/1048 /content/gdrive/MyDrive/Colab Notebooks/yolo/test/DPRK/379983b2864be941fc642cb0dfee5edd.jpg: 640x640 1 military, 11.7ms\n",
      "image 202/1048 /content/gdrive/MyDrive/Colab Notebooks/yolo/test/DPRK/37be44336793b9f026e288d626f1df0b.jpg: 640x640 1 crane, 11.0ms\n",
      "image 203/1048 /content/gdrive/MyDrive/Colab Notebooks/yolo/test/DPRK/37e10e5c0191368e6092679bf5d419cd.jpg: 640x640 1 agricultural labourer, 11.2ms\n",
      "image 204/1048 /content/gdrive/MyDrive/Colab Notebooks/yolo/test/DPRK/37e5ce8d17a93b438e3c42853e1674bc.jpg: 640x640 1 agricultural labourer, 18.0ms\n",
      "image 205/1048 /content/gdrive/MyDrive/Colab Notebooks/yolo/test/DPRK/3896c305cf1a346a94b30d1bcd91c107.jpg: 640x640 (no detections), 10.8ms\n",
      "image 206/1048 /content/gdrive/MyDrive/Colab Notebooks/yolo/test/DPRK/38cbb289f7df30c43c3707ebe7a04a3c.jpg: 640x640 1 agricultural labourer, 2 factory workers, 12.0ms\n",
      "image 207/1048 /content/gdrive/MyDrive/Colab Notebooks/yolo/test/DPRK/38ef0bdd932e91abafa297c8933d32b7.jpg: 640x640 1 military, 10.9ms\n",
      "image 208/1048 /content/gdrive/MyDrive/Colab Notebooks/yolo/test/DPRK/390f186fc8d15b918dfc21919375a442.jpg: 640x640 1 agricultural labourer, 1 weapon, 10.9ms\n",
      "image 209/1048 /content/gdrive/MyDrive/Colab Notebooks/yolo/test/DPRK/393835669c70e6bd479cd0ce426b76e4.jpg: 640x640 1 agricultural labourer, 10.6ms\n",
      "image 210/1048 /content/gdrive/MyDrive/Colab Notebooks/yolo/test/DPRK/395abcb127125d384e582317e3589431.jpg: 640x640 1 agricultural labourer, 10.6ms\n",
      "image 211/1048 /content/gdrive/MyDrive/Colab Notebooks/yolo/test/DPRK/3963e4546f7be75e73cc6b723059b161.jpg: 640x640 1 agricultural labourer, 1 factory worker, 2 flags, 10.5ms\n",
      "image 212/1048 /content/gdrive/MyDrive/Colab Notebooks/yolo/test/DPRK/398db10cebd2aca81857bc726c4de442.jpg: 640x640 1 agricultural labourer, 2 flags, 1 wheat, 13.3ms\n",
      "image 213/1048 /content/gdrive/MyDrive/Colab Notebooks/yolo/test/DPRK/399d1a7d1ab69d24911f62bfe524cf6b.jpg: 640x640 1 machinery, 10.4ms\n",
      "image 214/1048 /content/gdrive/MyDrive/Colab Notebooks/yolo/test/DPRK/39ac327b7739f0570849d6d5ba1787aa.jpg: 640x640 2 planes, 10.6ms\n",
      "image 215/1048 /content/gdrive/MyDrive/Colab Notebooks/yolo/test/DPRK/39cc2f301ee985396d39152a39a081a5.jpg: 640x640 1 factory worker, 10.4ms\n",
      "image 216/1048 /content/gdrive/MyDrive/Colab Notebooks/yolo/test/DPRK/3a7e26d47aec141393e76b02b21c56c6.jpg: 640x640 1 factory worker, 1 flag, 11.0ms\n",
      "image 217/1048 /content/gdrive/MyDrive/Colab Notebooks/yolo/test/DPRK/3a934a57f029691cf885ea73e0648767.jpg: 640x640 2 agricultural labourers, 1 grass, 10.5ms\n",
      "image 218/1048 /content/gdrive/MyDrive/Colab Notebooks/yolo/test/DPRK/3affc6d68649f2f2335da9d613efd43f.jpg: 640x640 (no detections), 10.9ms\n",
      "image 219/1048 /content/gdrive/MyDrive/Colab Notebooks/yolo/test/DPRK/3b602cbb6132ddf16eefeb0e43fe9b51.jpg: 640x640 1 flag, 10.8ms\n",
      "image 220/1048 /content/gdrive/MyDrive/Colab Notebooks/yolo/test/DPRK/3b7911cdf47f2056c7984ec53402efba.jpg: 640x640 1 factory worker, 10.8ms\n",
      "image 221/1048 /content/gdrive/MyDrive/Colab Notebooks/yolo/test/DPRK/3ba15b852029433e26d599755c10dbd5.jpg: 640x640 1 factory worker, 1 flag, 10.9ms\n",
      "image 222/1048 /content/gdrive/MyDrive/Colab Notebooks/yolo/test/DPRK/3bc4c0b7de081e255f38cf32650a1614.jpg: 640x640 (no detections), 11.0ms\n",
      "image 223/1048 /content/gdrive/MyDrive/Colab Notebooks/yolo/test/DPRK/3c6d91e39cf3e0f67926de8361656b93.jpg: 640x640 1 factory worker, 1 flower, 1 military, 10.3ms\n",
      "image 224/1048 /content/gdrive/MyDrive/Colab Notebooks/yolo/test/DPRK/3c7866977ba84d5bf82c276d12976462.jpg: 640x640 2 factory workers, 11.1ms\n",
      "image 225/1048 /content/gdrive/MyDrive/Colab Notebooks/yolo/test/DPRK/3c9ec8d20947704cb5cf1a0b28e651c6.jpg: 640x640 2 agricultural labourers, 10.6ms\n",
      "image 226/1048 /content/gdrive/MyDrive/Colab Notebooks/yolo/test/DPRK/3ccf060930ba6d1376233f2777267d7c.jpg: 640x640 2 agricultural labourers, 1 military, 10.5ms\n",
      "image 227/1048 /content/gdrive/MyDrive/Colab Notebooks/yolo/test/DPRK/3d17de6fae5ace0db26fdd8daa414d45.jpg: 640x640 (no detections), 11.0ms\n",
      "image 228/1048 /content/gdrive/MyDrive/Colab Notebooks/yolo/test/DPRK/3d62b97c27b9f3ead0129e617a8a4437.jpg: 640x640 1 factory worker, 10.7ms\n",
      "image 229/1048 /content/gdrive/MyDrive/Colab Notebooks/yolo/test/DPRK/3d6ad8323d92b5d393e4ef3d4f8cda41.jpg: 640x640 3 agricultural labourers, 2 factory workers, 10.2ms\n",
      "image 230/1048 /content/gdrive/MyDrive/Colab Notebooks/yolo/test/DPRK/3d6e4ff9f2e4a1ecb18554f3d4d5da61.jpg: 640x640 1 weapon, 12.7ms\n",
      "image 231/1048 /content/gdrive/MyDrive/Colab Notebooks/yolo/test/DPRK/3e343043e987218dc6ffa6ff65b983e7.jpg: 640x640 1 agricultural labourer, 1 horse, 15.3ms\n",
      "image 232/1048 /content/gdrive/MyDrive/Colab Notebooks/yolo/test/DPRK/3e37fcd71258bcc13fb61487568bcb97.jpg: 640x640 1 agricultural labourer, 2 headscarfs, 16.1ms\n",
      "image 233/1048 /content/gdrive/MyDrive/Colab Notebooks/yolo/test/DPRK/3e6cc295b5d24e7c2d70d7d6b1dbac9c.jpg: 640x640 1 flag, 10.9ms\n",
      "image 234/1048 /content/gdrive/MyDrive/Colab Notebooks/yolo/test/DPRK/3f35e1c9cb53d951fc690f6034efa8d1.jpg: 640x640 1 military, 11.1ms\n",
      "image 235/1048 /content/gdrive/MyDrive/Colab Notebooks/yolo/test/DPRK/3f4e38cc1a7585c67b81222df991cd93.jpg: 640x640 4 agricultural labourers, 1 factory worker, 1 headscarf, 11.6ms\n",
      "image 236/1048 /content/gdrive/MyDrive/Colab Notebooks/yolo/test/DPRK/3f5a629e753b9780ac08413ea0132fff.jpg: 640x640 1 agricultural labourer, 2 factory workers, 11.1ms\n",
      "image 237/1048 /content/gdrive/MyDrive/Colab Notebooks/yolo/test/DPRK/3f5b0967609050138ffc7a73d408e15f.jpg: 640x640 1 agricultural labourer, 2 headscarfs, 12.0ms\n",
      "image 238/1048 /content/gdrive/MyDrive/Colab Notebooks/yolo/test/DPRK/406b1d824613072546db7752bd78c689.jpg: 640x640 2 flowers, 11.3ms\n",
      "image 239/1048 /content/gdrive/MyDrive/Colab Notebooks/yolo/test/DPRK/40b35c5bc9b51de0e6088aa1ad2d99e3.jpg: 640x640 1 agricultural labourer, 2 factory workers, 1 military, 1 office worker, 10.2ms\n",
      "image 240/1048 /content/gdrive/MyDrive/Colab Notebooks/yolo/test/DPRK/4118691f44342b5cff97fcced7212460.jpg: 640x640 1 agricultural labourer, 10.1ms\n",
      "image 241/1048 /content/gdrive/MyDrive/Colab Notebooks/yolo/test/DPRK/41c1abf97ec14a244fb707bcde6892e7.jpg: 640x640 1 flag, 1 military, 1 office worker, 15.3ms\n",
      "image 242/1048 /content/gdrive/MyDrive/Colab Notebooks/yolo/test/DPRK/41ce3c21867355910900986d2cbbacc7.jpg: 640x640 1 agricultural labourer, 1 factory worker, 1 flag, 1 hammer, 10.7ms\n",
      "image 243/1048 /content/gdrive/MyDrive/Colab Notebooks/yolo/test/DPRK/41ffe2b83c3aa6dc92e8c57bedb2f874.jpg: 640x640 1 agricultural labourer, 2 factory workers, 11.3ms\n",
      "image 244/1048 /content/gdrive/MyDrive/Colab Notebooks/yolo/test/DPRK/42158a68e2425c06ab8be35362b949f3.jpg: 640x640 (no detections), 11.0ms\n",
      "image 245/1048 /content/gdrive/MyDrive/Colab Notebooks/yolo/test/DPRK/4279157a7a53fe6988891bf6297a6666.jpg: 640x640 1 agricultural labourer, 10.8ms\n",
      "image 246/1048 /content/gdrive/MyDrive/Colab Notebooks/yolo/test/DPRK/427df7353950517d4c6fbbc9f9744971.jpg: 640x640 1 agricultural labourer, 1 headscarf, 10.7ms\n",
      "image 247/1048 /content/gdrive/MyDrive/Colab Notebooks/yolo/test/DPRK/4312060733d9756cb1851244e95f2fd7.jpg: 640x640 (no detections), 11.6ms\n",
      "image 248/1048 /content/gdrive/MyDrive/Colab Notebooks/yolo/test/DPRK/4370b479d91eff0de9fc002f36ba0e1c.jpg: 640x640 (no detections), 12.4ms\n",
      "image 249/1048 /content/gdrive/MyDrive/Colab Notebooks/yolo/test/DPRK/43d9120d0ad7503a319178c226653747.jpg: 640x640 1 agricultural labourer, 11.0ms\n",
      "image 250/1048 /content/gdrive/MyDrive/Colab Notebooks/yolo/test/DPRK/442680a32a753d6bb9c86647e2fcaeb6.jpg: 640x640 1 agricultural labourer, 11.8ms\n",
      "image 251/1048 /content/gdrive/MyDrive/Colab Notebooks/yolo/test/DPRK/4432972ee6355c10701fb3f88822e433.jpg: 640x640 2 agricultural labourers, 1 weapon, 11.1ms\n",
      "image 252/1048 /content/gdrive/MyDrive/Colab Notebooks/yolo/test/DPRK/4455fb031fb59a0d622501a34e4abb9d.jpg: 640x640 1 agricultural labourer, 1 factory worker, 11.4ms\n",
      "image 253/1048 /content/gdrive/MyDrive/Colab Notebooks/yolo/test/DPRK/44d444591090393c158fe55501776d9c.jpg: 640x640 (no detections), 10.7ms\n",
      "image 254/1048 /content/gdrive/MyDrive/Colab Notebooks/yolo/test/DPRK/452cdfd6b94f4d7559517314ec60ad2d.jpg: 640x640 2 agricultural labourers, 2 cranes, 2 factory workers, 11.6ms\n",
      "image 255/1048 /content/gdrive/MyDrive/Colab Notebooks/yolo/test/DPRK/452d1538265585bda0528fda3d041f35.jpg: 640x640 1 agricultural labourer, 1 factory worker, 1 headscarf, 11.2ms\n",
      "image 256/1048 /content/gdrive/MyDrive/Colab Notebooks/yolo/test/DPRK/459f432eb2cd8b3c1c1c01ca74d673ee.jpg: 640x640 2 agricultural labourers, 10.9ms\n",
      "image 257/1048 /content/gdrive/MyDrive/Colab Notebooks/yolo/test/DPRK/45e461625693fe1682dcd9cd42a276ac.jpg: 640x640 1 factory worker, 10.4ms\n",
      "image 258/1048 /content/gdrive/MyDrive/Colab Notebooks/yolo/test/DPRK/45e5fe944afec0f0110e7e36771b0ca9.jpg: 640x640 1 factory worker, 11.4ms\n",
      "image 259/1048 /content/gdrive/MyDrive/Colab Notebooks/yolo/test/DPRK/4610ca5db30e2d9e96c2ec7edb38f990.jpg: 640x640 (no detections), 11.2ms\n",
      "image 260/1048 /content/gdrive/MyDrive/Colab Notebooks/yolo/test/DPRK/46cb184513890449c8186dcb9661cdf6.jpg: 640x640 (no detections), 11.8ms\n",
      "image 261/1048 /content/gdrive/MyDrive/Colab Notebooks/yolo/test/DPRK/4714886720a8744a5d0923ab0a155788.jpg: 640x640 (no detections), 11.0ms\n",
      "image 262/1048 /content/gdrive/MyDrive/Colab Notebooks/yolo/test/DPRK/4781ba024daffe65e28d7d815c72a25a.jpg: 640x640 (no detections), 11.8ms\n",
      "image 263/1048 /content/gdrive/MyDrive/Colab Notebooks/yolo/test/DPRK/47a8094f93637a8484da3b2af6535a20.jpg: 640x640 (no detections), 11.3ms\n",
      "image 264/1048 /content/gdrive/MyDrive/Colab Notebooks/yolo/test/DPRK/47eea6e330f3872ede2b3ba3ad47cd57.jpg: 640x640 (no detections), 11.1ms\n",
      "image 265/1048 /content/gdrive/MyDrive/Colab Notebooks/yolo/test/DPRK/482b99d4b09e4362f4b56290d59bbd9c.jpg: 640x640 2 books, 2 buildings, 6 flags, 5 mountains, 10.5ms\n",
      "image 266/1048 /content/gdrive/MyDrive/Colab Notebooks/yolo/test/DPRK/4895868c6ed465f92624c42056c3afae.jpg: 640x640 3 agricultural labourers, 1 factory worker, 1 office worker, 10.3ms\n",
      "image 267/1048 /content/gdrive/MyDrive/Colab Notebooks/yolo/test/DPRK/48b9591444223e69284c77421feb03df.jpg: 640x640 (no detections), 16.7ms\n",
      "image 268/1048 /content/gdrive/MyDrive/Colab Notebooks/yolo/test/DPRK/49621f02734bbdf262ae68e0cd52fac7.jpg: 640x640 1 factory worker, 18.9ms\n",
      "image 269/1048 /content/gdrive/MyDrive/Colab Notebooks/yolo/test/DPRK/4a3d315f37d8fda77eb52b3d1e543e44.jpg: 640x640 (no detections), 26.6ms\n",
      "image 270/1048 /content/gdrive/MyDrive/Colab Notebooks/yolo/test/DPRK/4ae4b04f130cf29fbf024cab68d2d9bd.jpg: 640x640 1 factory worker, 1 flag, 19.4ms\n",
      "image 271/1048 /content/gdrive/MyDrive/Colab Notebooks/yolo/test/DPRK/4b594145d3b0432025f3b469627800b0.jpg: 640x640 (no detections), 13.9ms\n",
      "image 272/1048 /content/gdrive/MyDrive/Colab Notebooks/yolo/test/DPRK/4b92069939cbd8b46772e7732860a3cc.jpg: 640x640 1 agricultural labourer, 1 factory worker, 1 sky, 16.8ms\n",
      "image 273/1048 /content/gdrive/MyDrive/Colab Notebooks/yolo/test/DPRK/4ba8e6872742f2e3861264af7556ad0e.jpg: 640x640 2 agricultural labourers, 1 factory worker, 2 headscarfs, 11.9ms\n",
      "image 274/1048 /content/gdrive/MyDrive/Colab Notebooks/yolo/test/DPRK/4bad9466367e02957f4307acc58e9e15.jpg: 640x640 1 flag, 10.5ms\n",
      "image 275/1048 /content/gdrive/MyDrive/Colab Notebooks/yolo/test/DPRK/4c01754aaa696df7c240d82e92b8a597.jpg: 640x640 1 factory worker, 10.6ms\n",
      "image 276/1048 /content/gdrive/MyDrive/Colab Notebooks/yolo/test/DPRK/4c10191360ac45603b0cc8fe60d1037f.jpg: 640x640 2 agricultural labourers, 17.4ms\n",
      "image 277/1048 /content/gdrive/MyDrive/Colab Notebooks/yolo/test/DPRK/4c4c2e35f707dc84558c1f3ea5800e22.jpg: 640x640 1 military, 10.6ms\n",
      "image 278/1048 /content/gdrive/MyDrive/Colab Notebooks/yolo/test/DPRK/4c6c22875abdea301a3442107da33265.jpg: 640x640 1 agricultural labourer, 1 factory worker, 11.5ms\n",
      "image 279/1048 /content/gdrive/MyDrive/Colab Notebooks/yolo/test/DPRK/4c74f6c7834ef21a2366a582b10b6e08.jpg: 640x640 2 agricultural labourers, 10.6ms\n",
      "image 280/1048 /content/gdrive/MyDrive/Colab Notebooks/yolo/test/DPRK/4c97aa3dd41e9857f0a7ef841131126a.jpg: 640x640 1 agricultural labourer, 1 factory worker, 10.2ms\n",
      "image 281/1048 /content/gdrive/MyDrive/Colab Notebooks/yolo/test/DPRK/4cb62598831cb75eab7f1b61b73b2519.jpg: 640x640 2 agricultural labourers, 1 factory worker, 9.9ms\n",
      "image 282/1048 /content/gdrive/MyDrive/Colab Notebooks/yolo/test/DPRK/4cc3048bad768d0a09d820e0cb2dd1b3.jpg: 640x640 1 military, 11.8ms\n",
      "image 283/1048 /content/gdrive/MyDrive/Colab Notebooks/yolo/test/DPRK/4cc8c156cdd4fb9c8307f0e7bebe2c7d.jpg: 640x640 1 building, 2 headscarfs, 2 militarys, 11.2ms\n",
      "image 284/1048 /content/gdrive/MyDrive/Colab Notebooks/yolo/test/DPRK/4cd937989585b4921cb62f15deda9a20.jpg: 640x640 4 flags, 10.2ms\n",
      "image 285/1048 /content/gdrive/MyDrive/Colab Notebooks/yolo/test/DPRK/4d360a702901d177ba180e8786f143c2.jpg: 640x640 (no detections), 10.0ms\n",
      "image 286/1048 /content/gdrive/MyDrive/Colab Notebooks/yolo/test/DPRK/4e2686f8cf884f5c689b2d1b72393baa.jpg: 640x640 1 factory worker, 1 flag, 10.4ms\n",
      "image 287/1048 /content/gdrive/MyDrive/Colab Notebooks/yolo/test/DPRK/4e37c0ff8d22389df8badea7640b3ddf.jpg: 640x640 2 agricultural labourers, 10.7ms\n",
      "image 288/1048 /content/gdrive/MyDrive/Colab Notebooks/yolo/test/DPRK/4e94cc1a4d06a1dc991b0385d07e87c7.jpg: 640x640 (no detections), 13.0ms\n",
      "image 289/1048 /content/gdrive/MyDrive/Colab Notebooks/yolo/test/DPRK/4ebfdf5e42fce8789d09bb40adc94014.jpg: 640x640 1 agricultural labourer, 1 factory worker, 11.8ms\n",
      "image 290/1048 /content/gdrive/MyDrive/Colab Notebooks/yolo/test/DPRK/4ec703b172f04a17b4a57d1c7f957949.jpg: 640x640 1 agricultural labourer, 10.3ms\n",
      "image 291/1048 /content/gdrive/MyDrive/Colab Notebooks/yolo/test/DPRK/4ee3871fd3c47030de8ee7bf9ab6de52.jpg: 640x640 1 agricultural labourer, 10.4ms\n",
      "image 292/1048 /content/gdrive/MyDrive/Colab Notebooks/yolo/test/DPRK/4efff693386f976277d5174f94f1c791.jpg: 640x640 3 agricultural labourers, 3 headscarfs, 9.9ms\n",
      "image 293/1048 /content/gdrive/MyDrive/Colab Notebooks/yolo/test/DPRK/4f75d576c8bab3d4c83a0eaa783241e2.jpg: 640x640 1 agricultural labourer, 11.3ms\n",
      "image 294/1048 /content/gdrive/MyDrive/Colab Notebooks/yolo/test/DPRK/4f9605c1a32a605701567705a4777083.jpg: 640x640 1 office worker, 10.4ms\n",
      "image 295/1048 /content/gdrive/MyDrive/Colab Notebooks/yolo/test/DPRK/4fda672e77dff734bda4352d66c76238.jpg: 640x640 1 agricultural labourer, 1 military, 1 mountain, 10.4ms\n",
      "image 296/1048 /content/gdrive/MyDrive/Colab Notebooks/yolo/test/DPRK/505d87501021d4bd0283948dba9126e4.jpg: 640x640 2 agricultural labourers, 3 headscarfs, 10.4ms\n",
      "image 297/1048 /content/gdrive/MyDrive/Colab Notebooks/yolo/test/DPRK/5090cee8d482d23a5c575b74e7d50f2e.jpg: 640x640 (no detections), 10.0ms\n",
      "image 298/1048 /content/gdrive/MyDrive/Colab Notebooks/yolo/test/DPRK/50c09be676c9e35dfbc4cf15f7c5c428.jpg: 640x640 2 agricultural labourers, 1 headscarf, 11.1ms\n",
      "image 299/1048 /content/gdrive/MyDrive/Colab Notebooks/yolo/test/DPRK/50f6e9a2fc1b8eeae72c80823d6aeeb8.jpg: 640x640 1 factory worker, 10.5ms\n",
      "image 300/1048 /content/gdrive/MyDrive/Colab Notebooks/yolo/test/DPRK/51908f2fe4c7c4f938aff9e000933dac.jpg: 640x640 2 agricultural labourers, 2 headscarfs, 10.8ms\n",
      "image 301/1048 /content/gdrive/MyDrive/Colab Notebooks/yolo/test/DPRK/51f7834f2b79aab2a2ad51b357469242.jpg: 640x640 (no detections), 14.8ms\n",
      "image 302/1048 /content/gdrive/MyDrive/Colab Notebooks/yolo/test/DPRK/51faf6553d0dcaeeb0169e8a1e55cc1b.jpg: 640x640 1 agricultural labourer, 1 factory worker, 1 office worker, 14.2ms\n",
      "image 303/1048 /content/gdrive/MyDrive/Colab Notebooks/yolo/test/DPRK/520bca30025163448bc4a7931f52435f.jpg: 640x640 1 hammer, 2 mountains, 14.2ms\n",
      "image 304/1048 /content/gdrive/MyDrive/Colab Notebooks/yolo/test/DPRK/5230ed685e6672ac614e041897bb9789.jpg: 640x640 1 agricultural labourer, 1 building, 1 flag, 9.9ms\n",
      "image 305/1048 /content/gdrive/MyDrive/Colab Notebooks/yolo/test/DPRK/523e96c7ab3c080f39c8b810bf11d176.jpg: 640x640 1 weapon, 10.6ms\n",
      "image 306/1048 /content/gdrive/MyDrive/Colab Notebooks/yolo/test/DPRK/5291bdc6bf6845a25e2e4f84a6f5d5a0.jpg: 640x640 2 agricultural labourers, 1 headscarf, 12.3ms\n",
      "image 307/1048 /content/gdrive/MyDrive/Colab Notebooks/yolo/test/DPRK/52d36054544e1924cc99269859baf1f1.jpg: 640x640 1 agricultural labourer, 9.9ms\n",
      "image 308/1048 /content/gdrive/MyDrive/Colab Notebooks/yolo/test/DPRK/52e4bd1724a9c65656aaf80f2be10070.jpg: 640x640 1 agricultural labourer, 11.0ms\n",
      "image 309/1048 /content/gdrive/MyDrive/Colab Notebooks/yolo/test/DPRK/532f43392c00c0a085d3798ad7e0b430.jpg: 640x640 1 agricultural labourer, 1 building, 1 crane, 10.3ms\n",
      "image 310/1048 /content/gdrive/MyDrive/Colab Notebooks/yolo/test/DPRK/5333ecebf01f37b69e71cf41a8c23024.jpg: 640x640 (no detections), 11.6ms\n",
      "image 311/1048 /content/gdrive/MyDrive/Colab Notebooks/yolo/test/DPRK/534374f04f5258307929b93e55ad37b1.jpg: 640x640 1 military, 10.3ms\n",
      "image 312/1048 /content/gdrive/MyDrive/Colab Notebooks/yolo/test/DPRK/534438bd9823581d3ad5da9486cfc944.jpg: 640x640 (no detections), 10.3ms\n",
      "image 313/1048 /content/gdrive/MyDrive/Colab Notebooks/yolo/test/DPRK/534cc4f38a90d3ba6c25123ca91134b6.jpg: 640x640 2 agricultural labourers, 2 headscarfs, 1 machinery, 10.1ms\n",
      "image 314/1048 /content/gdrive/MyDrive/Colab Notebooks/yolo/test/DPRK/53ae301637e27955920338fd9d57f4b8.jpg: 640x640 (no detections), 10.1ms\n",
      "image 315/1048 /content/gdrive/MyDrive/Colab Notebooks/yolo/test/DPRK/53e9b657d4dcd68ee91aa0486499fdf6.jpg: 640x640 1 agricultural labourer, 1 flag, 1 headscarf, 18.5ms\n",
      "image 316/1048 /content/gdrive/MyDrive/Colab Notebooks/yolo/test/DPRK/53f57b2924a16278543e8324782589b4.jpg: 640x640 1 agricultural labourer, 1 headscarf, 11.2ms\n",
      "image 317/1048 /content/gdrive/MyDrive/Colab Notebooks/yolo/test/DPRK/5404188273609729882242b316b9ff80.jpg: 640x640 (no detections), 10.4ms\n",
      "image 318/1048 /content/gdrive/MyDrive/Colab Notebooks/yolo/test/DPRK/543f06c520f0969413d2b77d41f0fa34.jpg: 640x640 1 agricultural labourer, 1 sky, 1 wheat, 9.8ms\n",
      "image 319/1048 /content/gdrive/MyDrive/Colab Notebooks/yolo/test/DPRK/5475284cc6c3b7f2b5144adae0ec4970.jpg: 640x640 1 agricultural labourer, 1 headscarf, 9.6ms\n",
      "image 320/1048 /content/gdrive/MyDrive/Colab Notebooks/yolo/test/DPRK/54873ceacde61486782db3d0d5c27e51.jpg: 640x640 3 agricultural labourers, 1 factory worker, 1 headscarf, 11.6ms\n",
      "image 321/1048 /content/gdrive/MyDrive/Colab Notebooks/yolo/test/DPRK/549806226835c5431b6d7e6c63d7ca75.jpg: 640x640 (no detections), 9.9ms\n",
      "image 322/1048 /content/gdrive/MyDrive/Colab Notebooks/yolo/test/DPRK/54a50b1df4fbe7d15c5d7878265c2b08.jpg: 640x640 3 factory workers, 10.3ms\n",
      "image 323/1048 /content/gdrive/MyDrive/Colab Notebooks/yolo/test/DPRK/551b415aae2b345e7766fbcbb58e218b.jpg: 640x640 1 agricultural labourer, 2 grasss, 2 headscarfs, 1 weapon, 10.2ms\n",
      "image 324/1048 /content/gdrive/MyDrive/Colab Notebooks/yolo/test/DPRK/555ca4b5ad6d528b5fbd89e6243d6b5b.jpg: 640x640 2 militarys, 10.1ms\n",
      "image 325/1048 /content/gdrive/MyDrive/Colab Notebooks/yolo/test/DPRK/555d97c2f813096d8323239533cfc8cd.jpg: 640x640 1 agricultural labourer, 1 factory worker, 10.1ms\n",
      "image 326/1048 /content/gdrive/MyDrive/Colab Notebooks/yolo/test/DPRK/5561f1108f47dc7fb14247be60f6e06c.jpg: 640x640 1 agricultural labourer, 1 factory worker, 10.2ms\n",
      "image 327/1048 /content/gdrive/MyDrive/Colab Notebooks/yolo/test/DPRK/55964ef38fb3a1e179f4cc4b3afa4aec.jpg: 640x640 1 agricultural labourer, 10.6ms\n",
      "image 328/1048 /content/gdrive/MyDrive/Colab Notebooks/yolo/test/DPRK/562b9bc0918fe5d5ea18e5aa928cbc06.jpg: 640x640 1 sky, 11.6ms\n",
      "image 329/1048 /content/gdrive/MyDrive/Colab Notebooks/yolo/test/DPRK/565fb4cd9d5603ede4d4a1b28d55f97b.jpg: 640x640 1 agricultural labourer, 1 factory worker, 2 mountains, 10.9ms\n",
      "image 330/1048 /content/gdrive/MyDrive/Colab Notebooks/yolo/test/DPRK/5685325c50efc97005c2560970f0ec8f.jpg: 640x640 1 flag, 11.6ms\n",
      "image 331/1048 /content/gdrive/MyDrive/Colab Notebooks/yolo/test/DPRK/56c1511e7fce7d8a4b47aa94af100de4.jpg: 640x640 1 agricultural labourer, 1 factory worker, 11.0ms\n",
      "image 332/1048 /content/gdrive/MyDrive/Colab Notebooks/yolo/test/DPRK/57667b587ac0586aade515877bb64074.jpg: 640x640 (no detections), 10.7ms\n",
      "image 333/1048 /content/gdrive/MyDrive/Colab Notebooks/yolo/test/DPRK/57990919a6d347f36e16c0b399d45180.jpg: 640x640 2 agricultural labourers, 10.6ms\n",
      "image 334/1048 /content/gdrive/MyDrive/Colab Notebooks/yolo/test/DPRK/5919cd7188737787e0476cd2843435cf.jpg: 640x640 1 agricultural labourer, 10.5ms\n",
      "image 335/1048 /content/gdrive/MyDrive/Colab Notebooks/yolo/test/DPRK/5921b9a5eba6519fbcf0a53666a73507.jpg: 640x640 2 agricultural labourers, 10.6ms\n",
      "image 336/1048 /content/gdrive/MyDrive/Colab Notebooks/yolo/test/DPRK/5929a2d6952c5df5b5412c560fbb2fec.jpg: 640x640 1 agricultural labourer, 10.9ms\n",
      "image 337/1048 /content/gdrive/MyDrive/Colab Notebooks/yolo/test/DPRK/595f5ad14844347bd55dd4c33c319397.jpg: 640x640 1 agricultural labourer, 1 factory worker, 3 flags, 1 plane, 1 star, 10.2ms\n",
      "image 338/1048 /content/gdrive/MyDrive/Colab Notebooks/yolo/test/DPRK/59873b3ca48da8d0d127fc28928c6be8.jpg: 640x640 (no detections), 10.4ms\n",
      "image 339/1048 /content/gdrive/MyDrive/Colab Notebooks/yolo/test/DPRK/59f4f5ff0ce31c253d3c74ef105e25bb.jpg: 640x640 1 agricultural labourer, 15.1ms\n",
      "image 340/1048 /content/gdrive/MyDrive/Colab Notebooks/yolo/test/DPRK/5a450590148e18d9517665e5c14d46ec.jpg: 640x640 1 military, 1 weapon, 14.6ms\n",
      "image 341/1048 /content/gdrive/MyDrive/Colab Notebooks/yolo/test/DPRK/5a4b8e420858bc50f02de4164d35704a.jpg: 640x640 1 factory worker, 1 flag, 15.3ms\n",
      "image 342/1048 /content/gdrive/MyDrive/Colab Notebooks/yolo/test/DPRK/5a4c2ceb27d604b272abb403fdadb831.jpg: 640x640 3 factory workers, 1 headscarf, 10.6ms\n",
      "image 343/1048 /content/gdrive/MyDrive/Colab Notebooks/yolo/test/DPRK/5a96831e7c04c6bee51b5787466efe14.jpg: 640x640 (no detections), 11.2ms\n",
      "image 344/1048 /content/gdrive/MyDrive/Colab Notebooks/yolo/test/DPRK/5af2f6c371e10d2140f7f4ea37fdd891.jpg: 640x640 1 factory worker, 1 sky, 10.5ms\n",
      "image 345/1048 /content/gdrive/MyDrive/Colab Notebooks/yolo/test/DPRK/5b4cf2c1ad5a702c15e1f645b588afee.jpg: 640x640 1 factory worker, 1 headscarf, 10.4ms\n",
      "image 346/1048 /content/gdrive/MyDrive/Colab Notebooks/yolo/test/DPRK/5b94716874a6931d6fe184c5573f916b.jpg: 640x640 (no detections), 10.9ms\n",
      "image 347/1048 /content/gdrive/MyDrive/Colab Notebooks/yolo/test/DPRK/5b9b503909c27d6739cf878587cbbf00.jpg: 640x640 1 factory worker, 1 military, 10.9ms\n",
      "image 348/1048 /content/gdrive/MyDrive/Colab Notebooks/yolo/test/DPRK/5bba142ce2f6d4e07c851c4d48f3301c.jpg: 640x640 (no detections), 10.8ms\n",
      "image 349/1048 /content/gdrive/MyDrive/Colab Notebooks/yolo/test/DPRK/5c4ae49ee0448a730809be79ce3a7f4c.jpg: 640x640 (no detections), 10.4ms\n",
      "image 350/1048 /content/gdrive/MyDrive/Colab Notebooks/yolo/test/DPRK/5d291a9471c52aa2572f91d26a6a048f.jpg: 640x640 2 agricultural labourers, 1 headscarf, 10.2ms\n",
      "image 351/1048 /content/gdrive/MyDrive/Colab Notebooks/yolo/test/DPRK/5d2f1cf427c8b5a42ad86c39216b4e31.jpg: 640x640 1 weapon, 11.5ms\n",
      "image 352/1048 /content/gdrive/MyDrive/Colab Notebooks/yolo/test/DPRK/5d5787c41971842f25861136c021f7ba.jpg: 640x640 1 agricultural labourer, 1 factory worker, 10.3ms\n",
      "image 353/1048 /content/gdrive/MyDrive/Colab Notebooks/yolo/test/DPRK/5e187a82d6ab0711318d04c4e1178fee.jpg: 640x640 2 agricultural labourers, 1 headscarf, 17.3ms\n",
      "image 354/1048 /content/gdrive/MyDrive/Colab Notebooks/yolo/test/DPRK/5e26323913fa2e089163e5de48293251.jpg: 640x640 2 agricultural labourers, 1 factory worker, 9.8ms\n",
      "image 355/1048 /content/gdrive/MyDrive/Colab Notebooks/yolo/test/DPRK/5e2bb730100da04208d5d895898d2a58.jpg: 640x640 1 agricultural labourer, 3 factory workers, 1 flag, 10.4ms\n",
      "image 356/1048 /content/gdrive/MyDrive/Colab Notebooks/yolo/test/DPRK/5e877e871e853e06e23451f14d96f6b9.jpg: 640x640 1 agricultural labourer, 10.1ms\n",
      "image 357/1048 /content/gdrive/MyDrive/Colab Notebooks/yolo/test/DPRK/5eb9c7fa5a4fa74ca237dd0252827a37.jpg: 640x640 (no detections), 10.4ms\n",
      "image 358/1048 /content/gdrive/MyDrive/Colab Notebooks/yolo/test/DPRK/5f0588c97ad74aba322da96f45adedd0.jpg: 640x640 1 factory worker, 10.5ms\n",
      "image 359/1048 /content/gdrive/MyDrive/Colab Notebooks/yolo/test/DPRK/5f1b005c55cd0af282d1fe078a7e0889.jpg: 640x640 1 agricultural labourer, 1 factory worker, 11.0ms\n",
      "image 360/1048 /content/gdrive/MyDrive/Colab Notebooks/yolo/test/DPRK/5f2dee165e759e51d513617af73991ba.jpg: 640x640 1 factory worker, 14.3ms\n",
      "image 361/1048 /content/gdrive/MyDrive/Colab Notebooks/yolo/test/DPRK/5f6060149ba05709b2944cf9eee4cd84.jpg: 640x640 (no detections), 17.6ms\n",
      "image 362/1048 /content/gdrive/MyDrive/Colab Notebooks/yolo/test/DPRK/5f866b8b4b8c6a6204b56ea0dbe03980.jpg: 640x640 1 agricultural labourer, 1 flag, 11.4ms\n",
      "image 363/1048 /content/gdrive/MyDrive/Colab Notebooks/yolo/test/DPRK/5fe3052b092c7445b8cf45d1f8083a1e.jpg: 640x640 1 military, 10.4ms\n",
      "image 364/1048 /content/gdrive/MyDrive/Colab Notebooks/yolo/test/DPRK/6008b2c162b52eb7945c524c1c1b0ba9.jpg: 640x640 1 military, 11.4ms\n",
      "image 365/1048 /content/gdrive/MyDrive/Colab Notebooks/yolo/test/DPRK/600c433843534a128d52658311775ac7.jpg: 640x640 1 flag, 1 hammer, 1 military, 2 sickles, 10.5ms\n",
      "image 366/1048 /content/gdrive/MyDrive/Colab Notebooks/yolo/test/DPRK/60746c91484f97c89d9aa1430354167c.jpg: 640x640 (no detections), 11.5ms\n",
      "image 367/1048 /content/gdrive/MyDrive/Colab Notebooks/yolo/test/DPRK/60b23354aa085618379f80151d7d9411.jpg: 640x640 1 factory worker, 9.9ms\n",
      "image 368/1048 /content/gdrive/MyDrive/Colab Notebooks/yolo/test/DPRK/60c95e3b1a1c3c3a1afe4318ae187209.jpg: 640x640 1 flag, 1 sickle, 10.5ms\n",
      "image 369/1048 /content/gdrive/MyDrive/Colab Notebooks/yolo/test/DPRK/614b918f51b36a8212ad7405417110c2.jpg: 640x640 1 agricultural labourer, 12.3ms\n",
      "image 370/1048 /content/gdrive/MyDrive/Colab Notebooks/yolo/test/DPRK/619e7db6a5819211c51fd4af0da06f39.jpg: 640x640 2 hammers, 1 sickle, 10.3ms\n",
      "image 371/1048 /content/gdrive/MyDrive/Colab Notebooks/yolo/test/DPRK/61dbe819c635e3a6d10675f11641abd9.jpg: 640x640 2 agricultural labourers, 10.2ms\n",
      "image 372/1048 /content/gdrive/MyDrive/Colab Notebooks/yolo/test/DPRK/6226a5a48b761a377ac84f12bf57d164.jpg: 640x640 1 factory worker, 10.5ms\n",
      "image 373/1048 /content/gdrive/MyDrive/Colab Notebooks/yolo/test/DPRK/627387237a86a05b7b2486783ee636c2.jpg: 640x640 1 agricultural labourer, 1 sky, 10.2ms\n",
      "image 374/1048 /content/gdrive/MyDrive/Colab Notebooks/yolo/test/DPRK/6282805b514e3630bfffb40a2d4650a4.jpg: 640x640 (no detections), 10.8ms\n",
      "image 375/1048 /content/gdrive/MyDrive/Colab Notebooks/yolo/test/DPRK/628676adff1410031d3bef484d9c94a6.jpg: 640x640 1 flag, 15.5ms\n",
      "image 376/1048 /content/gdrive/MyDrive/Colab Notebooks/yolo/test/DPRK/6288bd18695942fd147bd58da480e5bb.jpg: 640x640 1 agricultural labourer, 15.2ms\n",
      "image 377/1048 /content/gdrive/MyDrive/Colab Notebooks/yolo/test/DPRK/62922c7bb98d3d04665541774dd1ef0a.jpg: 640x640 (no detections), 11.2ms\n",
      "image 378/1048 /content/gdrive/MyDrive/Colab Notebooks/yolo/test/DPRK/6318242c94556b9c057147d001798fdc.jpg: 640x640 2 agricultural labourers, 5 flags, 1 sky, 10.3ms\n",
      "image 379/1048 /content/gdrive/MyDrive/Colab Notebooks/yolo/test/DPRK/6368ff1031bb835b09ac39bd2d1412a7.jpg: 640x640 1 agricultural labourer, 1 headscarf, 10.2ms\n",
      "image 380/1048 /content/gdrive/MyDrive/Colab Notebooks/yolo/test/DPRK/63f4daeb31f1ab7f687306869eb9290e.jpg: 640x640 1 agricultural labourer, 1 headscarf, 11.5ms\n",
      "image 381/1048 /content/gdrive/MyDrive/Colab Notebooks/yolo/test/DPRK/64367d05ec7bb6a47efe67262908f584.jpg: 640x640 1 building, 1 factory worker, 10.9ms\n",
      "image 382/1048 /content/gdrive/MyDrive/Colab Notebooks/yolo/test/DPRK/64a1911ea187c5057baf53e1939698e3.jpg: 640x640 1 agricultural labourer, 1 flag, 12.8ms\n",
      "image 383/1048 /content/gdrive/MyDrive/Colab Notebooks/yolo/test/DPRK/65004c1b221b90ee793cee68d686e83b.jpg: 640x640 1 agricultural labourer, 11.3ms\n",
      "image 384/1048 /content/gdrive/MyDrive/Colab Notebooks/yolo/test/DPRK/651d2998720e43475010eef0e6dec62d.jpg: 640x640 1 agricultural labourer, 2 factory workers, 1 military, 1 office worker, 10.4ms\n",
      "image 385/1048 /content/gdrive/MyDrive/Colab Notebooks/yolo/test/DPRK/654a74a76fc037cdaf0e3836fea91834.jpg: 640x640 1 agricultural labourer, 1 factory worker, 2 flags, 10.5ms\n",
      "image 386/1048 /content/gdrive/MyDrive/Colab Notebooks/yolo/test/DPRK/662875684a45cf2f15a9874b93c5f7c8.jpg: 640x640 4 agricultural labourers, 1 factory worker, 10.8ms\n",
      "image 387/1048 /content/gdrive/MyDrive/Colab Notebooks/yolo/test/DPRK/664228efa83835d944d3c9cfb6c18f2d.jpg: 640x640 2 agricultural labourers, 10.3ms\n",
      "image 388/1048 /content/gdrive/MyDrive/Colab Notebooks/yolo/test/DPRK/666b76fa3213cfc912d80a2d63bae331.jpg: 640x640 1 factory worker, 1 machinery, 10.6ms\n",
      "image 389/1048 /content/gdrive/MyDrive/Colab Notebooks/yolo/test/DPRK/66be6d51ff56b64570dbe26f95e36465.jpg: 640x640 3 agricultural labourers, 1 factory worker, 1 flag, 1 weapon, 10.4ms\n",
      "image 390/1048 /content/gdrive/MyDrive/Colab Notebooks/yolo/test/DPRK/674d9008e4f92959e9f96c8cadb4bb55.jpg: 640x640 (no detections), 13.4ms\n",
      "image 391/1048 /content/gdrive/MyDrive/Colab Notebooks/yolo/test/DPRK/677ae16496ee1b10049e33559169e895.jpg: 640x640 1 agricultural labourer, 1 headscarf, 2 skys, 1 wheat, 15.0ms\n",
      "image 392/1048 /content/gdrive/MyDrive/Colab Notebooks/yolo/test/DPRK/67bf6cf16f5df2a2e14542e40e82eb06.jpg: 640x640 3 agricultural labourers, 2 headscarfs, 10.5ms\n",
      "image 393/1048 /content/gdrive/MyDrive/Colab Notebooks/yolo/test/DPRK/681671fe306b9d118e3b8ae1bf98c059.jpg: 640x640 (no detections), 11.9ms\n",
      "image 394/1048 /content/gdrive/MyDrive/Colab Notebooks/yolo/test/DPRK/685a5f63ac92be27847b4abe6fc16eec.jpg: 640x640 1 agricultural labourer, 1 factory worker, 1 hammer, 10.1ms\n",
      "image 395/1048 /content/gdrive/MyDrive/Colab Notebooks/yolo/test/DPRK/68ba89c3f12b7f1645d8b59f65c75134.jpg: 640x640 2 agricultural labourers, 1 weapon, 10.7ms\n",
      "image 396/1048 /content/gdrive/MyDrive/Colab Notebooks/yolo/test/DPRK/68cf962931031b428bcd3b23c6625c01.jpg: 640x640 (no detections), 10.6ms\n",
      "image 397/1048 /content/gdrive/MyDrive/Colab Notebooks/yolo/test/DPRK/68e137e8cc1b7be54bf076da91a874b2.jpg: 640x640 1 book, 11.8ms\n",
      "image 398/1048 /content/gdrive/MyDrive/Colab Notebooks/yolo/test/DPRK/6978f71df154d82b4c5bbc3ef47931fa.jpg: 640x640 3 agricultural labourers, 10.8ms\n",
      "image 399/1048 /content/gdrive/MyDrive/Colab Notebooks/yolo/test/DPRK/697b207e93eb711fc4319c34a3741c2d.jpg: 640x640 1 hammer, 1 mountain, 10.9ms\n",
      "image 400/1048 /content/gdrive/MyDrive/Colab Notebooks/yolo/test/DPRK/6991a3c9a7bc86aca57cd1828dab14fe.jpg: 640x640 1 factory worker, 1 flag, 1 military, 1 office worker, 11.1ms\n",
      "image 401/1048 /content/gdrive/MyDrive/Colab Notebooks/yolo/test/DPRK/69ccab37c397bb698cd08ac55391985e.jpg: 640x640 3 factory workers, 11.5ms\n",
      "image 402/1048 /content/gdrive/MyDrive/Colab Notebooks/yolo/test/DPRK/6a09814a750c8eba194aa9547484c2ff.jpg: 640x640 2 agricultural labourers, 2 headscarfs, 10.4ms\n",
      "image 403/1048 /content/gdrive/MyDrive/Colab Notebooks/yolo/test/DPRK/6a976275502acb2123d845024597d0eb.jpg: 640x640 1 agricultural labourer, 1 factory worker, 1 flag, 10.6ms\n",
      "image 404/1048 /content/gdrive/MyDrive/Colab Notebooks/yolo/test/DPRK/6ab04b97c02c72f306a4a4846b40ac86.jpg: 640x640 1 agricultural labourer, 1 headscarf, 3 skys, 1 wheat, 10.5ms\n",
      "image 405/1048 /content/gdrive/MyDrive/Colab Notebooks/yolo/test/DPRK/6b1d9f5211135df32758dd89400fb9a8.jpg: 640x640 2 agricultural labourers, 10.6ms\n",
      "image 406/1048 /content/gdrive/MyDrive/Colab Notebooks/yolo/test/DPRK/6b2322b5a1ff4c5ab2f1d402d6f13ffa.jpg: 640x640 1 crane, 1 factory worker, 10.5ms\n",
      "image 407/1048 /content/gdrive/MyDrive/Colab Notebooks/yolo/test/DPRK/6b2d9763362adcac1217a3886eb2ef5a.jpg: 640x640 1 factory worker, 10.5ms\n",
      "image 408/1048 /content/gdrive/MyDrive/Colab Notebooks/yolo/test/DPRK/6b6e35ab48f9f7b03e237198a94b10b1.jpg: 640x640 1 military, 10.9ms\n",
      "image 409/1048 /content/gdrive/MyDrive/Colab Notebooks/yolo/test/DPRK/6ba08f30ced2e2c028676ead06a31867.jpg: 640x640 1 hammer, 1 mountain, 10.4ms\n",
      "image 410/1048 /content/gdrive/MyDrive/Colab Notebooks/yolo/test/DPRK/6ba53f13caa5f2d57a2bad15e321420a.jpg: 640x640 (no detections), 10.8ms\n",
      "image 411/1048 /content/gdrive/MyDrive/Colab Notebooks/yolo/test/DPRK/6c4b00272ef2264f0a5969f420c5cc9f.jpg: 640x640 1 agricultural labourer, 1 factory worker, 14.8ms\n",
      "image 412/1048 /content/gdrive/MyDrive/Colab Notebooks/yolo/test/DPRK/6cc188f7d05ec5ecafca382c68ab96eb.jpg: 640x640 2 agricultural labourers, 14.6ms\n",
      "image 413/1048 /content/gdrive/MyDrive/Colab Notebooks/yolo/test/DPRK/6cfa86e02709aaaa3c7955da06ad6d60.jpg: 640x640 1 agricultural labourer, 14.5ms\n",
      "image 414/1048 /content/gdrive/MyDrive/Colab Notebooks/yolo/test/DPRK/6d10ec192da58acfc1e5bdb2abbfafbd.jpg: 640x640 (no detections), 11.6ms\n",
      "image 415/1048 /content/gdrive/MyDrive/Colab Notebooks/yolo/test/DPRK/6d1cdca55a2be9aa91d489d424994f0f.jpg: 640x640 1 agricultural labourer, 10.3ms\n",
      "image 416/1048 /content/gdrive/MyDrive/Colab Notebooks/yolo/test/DPRK/6d83c3fa9b73e8b9cd84175611a51314.jpg: 640x640 2 agricultural labourers, 1 hammer, 1 headscarf, 1 sickle, 1 star, 10.1ms\n",
      "image 417/1048 /content/gdrive/MyDrive/Colab Notebooks/yolo/test/DPRK/6e17e51d1f230504e20452ec615a874d.jpg: 640x640 1 agricultural labourer, 10.4ms\n",
      "image 418/1048 /content/gdrive/MyDrive/Colab Notebooks/yolo/test/DPRK/6f5384ee33dfefe0fb1f49b58bf34933.jpg: 640x640 4 agricultural labourers, 12.8ms\n",
      "image 419/1048 /content/gdrive/MyDrive/Colab Notebooks/yolo/test/DPRK/6f7360e651ba07463c3ca2f910f7f18c.jpg: 640x640 1 factory worker, 1 flag, 10.1ms\n",
      "image 420/1048 /content/gdrive/MyDrive/Colab Notebooks/yolo/test/DPRK/6fa98e87abeb1804e494590edcacf1ec.jpg: 640x640 (no detections), 10.2ms\n",
      "image 421/1048 /content/gdrive/MyDrive/Colab Notebooks/yolo/test/DPRK/6faa67ef841fae016870911dfe82acfb.jpg: 640x640 1 sky, 10.5ms\n",
      "image 422/1048 /content/gdrive/MyDrive/Colab Notebooks/yolo/test/DPRK/6fef623427d49999db80bbf09dd601f9.jpg: 640x640 2 agricultural labourers, 1 headscarf, 10.4ms\n",
      "image 423/1048 /content/gdrive/MyDrive/Colab Notebooks/yolo/test/DPRK/7-순천비날론련합기업소2단계건설에힘을-집중하자-Lets-Focus-Our-Efforts-on-the-Second-Stage-of-Construction-of-the-Sunchon-Vinalon-Factory-400x400.png: 640x640 1 factory worker, 10.0ms\n",
      "image 424/1048 /content/gdrive/MyDrive/Colab Notebooks/yolo/test/DPRK/702b71d2f4970f850cce70eb5569f17f.jpg: 640x640 3 agricultural labourers, 10.2ms\n",
      "image 425/1048 /content/gdrive/MyDrive/Colab Notebooks/yolo/test/DPRK/7032f9468dfa531305e92dda079a307e.jpg: 640x640 (no detections), 10.1ms\n",
      "image 426/1048 /content/gdrive/MyDrive/Colab Notebooks/yolo/test/DPRK/706860fc5ab630751666a449f1103cbd.jpg: 640x640 1 factory worker, 1 flag, 10.8ms\n",
      "image 427/1048 /content/gdrive/MyDrive/Colab Notebooks/yolo/test/DPRK/70912380811747d2bca1a4d119ec0225.jpg: 640x640 (no detections), 10.2ms\n",
      "image 428/1048 /content/gdrive/MyDrive/Colab Notebooks/yolo/test/DPRK/70d244f02873bc1ecab29d82547bea5d.jpg: 640x640 1 agricultural labourer, 1 factory worker, 15.7ms\n",
      "image 429/1048 /content/gdrive/MyDrive/Colab Notebooks/yolo/test/DPRK/70f91635038f46473704b55a208184ed.jpg: 640x640 3 agricultural labourers, 1 grass, 1 headscarf, 10.7ms\n",
      "image 430/1048 /content/gdrive/MyDrive/Colab Notebooks/yolo/test/DPRK/710b99ef27fdc104781891aecd607a04.jpg: 640x640 1 flag, 1 military, 10.6ms\n",
      "image 431/1048 /content/gdrive/MyDrive/Colab Notebooks/yolo/test/DPRK/712d6d7b5e17aa8a08f9c793cdfddc38.jpg: 640x640 2 buildings, 10.9ms\n",
      "image 432/1048 /content/gdrive/MyDrive/Colab Notebooks/yolo/test/DPRK/717d442d12a19348f290cfa1bc3ff4ce.jpg: 640x640 1 factory worker, 2 flags, 4 skys, 10.3ms\n",
      "image 433/1048 /content/gdrive/MyDrive/Colab Notebooks/yolo/test/DPRK/720742ac99d1ea20af31519b37270ea5.jpg: 640x640 (no detections), 10.4ms\n",
      "image 434/1048 /content/gdrive/MyDrive/Colab Notebooks/yolo/test/DPRK/7255b9a2a233852e36db1c6376daf5a6.jpg: 640x640 1 agricultural labourer, 10.3ms\n",
      "image 435/1048 /content/gdrive/MyDrive/Colab Notebooks/yolo/test/DPRK/725a8c768a07d4cd96210d703e190f44.jpg: 640x640 1 agricultural labourer, 1 flower, 1 machinery, 2 wheats, 10.6ms\n",
      "image 436/1048 /content/gdrive/MyDrive/Colab Notebooks/yolo/test/DPRK/72724a4f78131d4abdba75c25ab32daf.jpg: 640x640 (no detections), 10.8ms\n",
      "image 437/1048 /content/gdrive/MyDrive/Colab Notebooks/yolo/test/DPRK/7282cfa2692491d8235b9028231da2d9.jpg: 640x640 1 agricultural labourer, 20.1ms\n",
      "image 438/1048 /content/gdrive/MyDrive/Colab Notebooks/yolo/test/DPRK/72b6bd633c34708643bb17e8b9c11b31.jpg: 640x640 1 hammer, 16.0ms\n",
      "image 439/1048 /content/gdrive/MyDrive/Colab Notebooks/yolo/test/DPRK/72bef43f5e3c10b09048bce67b1d51bf.jpg: 640x640 2 agricultural labourers, 14.8ms\n",
      "image 440/1048 /content/gdrive/MyDrive/Colab Notebooks/yolo/test/DPRK/730a3639b280bb98ed0be13af5cef247.jpg: 640x640 1 agricultural labourer, 1 headscarf, 1 sky, 1 wheat, 18.6ms\n",
      "image 441/1048 /content/gdrive/MyDrive/Colab Notebooks/yolo/test/DPRK/733a4a12372385fbfdcaa85687991d06.jpg: 640x640 2 agricultural labourers, 1 weapon, 18.6ms\n",
      "image 442/1048 /content/gdrive/MyDrive/Colab Notebooks/yolo/test/DPRK/73a94dd4ac30be77ae5cfb7d8c68e333.jpg: 640x640 2 agricultural labourers, 14.3ms\n",
      "image 443/1048 /content/gdrive/MyDrive/Colab Notebooks/yolo/test/DPRK/745796a3b8f6f460b7fb0140a6c79816.jpg: 640x640 1 flag, 1 military, 1 plane, 16.5ms\n",
      "image 444/1048 /content/gdrive/MyDrive/Colab Notebooks/yolo/test/DPRK/74eded9fb6a1eb83a89028de9b345624.jpg: 640x640 1 agricultural labourer, 2 factory workers, 1 office worker, 13.0ms\n",
      "image 445/1048 /content/gdrive/MyDrive/Colab Notebooks/yolo/test/DPRK/754e4e52111feb0527ad8ac123466da9.jpg: 640x640 1 factory worker, 2 flags, 1 weapon, 22.4ms\n",
      "image 446/1048 /content/gdrive/MyDrive/Colab Notebooks/yolo/test/DPRK/758c18304433bb96f2199679a9ed23e3.jpg: 640x640 1 building, 1 crane, 1 factory worker, 16.6ms\n",
      "image 447/1048 /content/gdrive/MyDrive/Colab Notebooks/yolo/test/DPRK/75b2a63e0e2d0705245e94ca040332ee.jpg: 640x640 1 flag, 13.1ms\n",
      "image 448/1048 /content/gdrive/MyDrive/Colab Notebooks/yolo/test/DPRK/75cda182c8a09d069c7bb29d3b096fd0.jpg: 640x640 1 agricultural labourer, 2 headscarfs, 15.8ms\n",
      "image 449/1048 /content/gdrive/MyDrive/Colab Notebooks/yolo/test/DPRK/75f99193961fc2dc3be27d037b19d5b2.jpg: 640x640 1 factory worker, 1 flag, 14.2ms\n",
      "image 450/1048 /content/gdrive/MyDrive/Colab Notebooks/yolo/test/DPRK/75fb975f7cdd62d70850e7cdd07a3bb5.jpg: 640x640 (no detections), 13.0ms\n",
      "image 451/1048 /content/gdrive/MyDrive/Colab Notebooks/yolo/test/DPRK/766256aed75f9a14c187500c18def84c.jpg: 640x640 (no detections), 15.9ms\n",
      "image 452/1048 /content/gdrive/MyDrive/Colab Notebooks/yolo/test/DPRK/76e68b0a0942b4800b86f1f490d3f71a.jpg: 640x640 1 factory worker, 1 military, 13.3ms\n",
      "image 453/1048 /content/gdrive/MyDrive/Colab Notebooks/yolo/test/DPRK/7760bff1ba72484486eacadc8912d021.jpg: 640x640 1 agricultural labourer, 1 machinery, 13.7ms\n",
      "image 454/1048 /content/gdrive/MyDrive/Colab Notebooks/yolo/test/DPRK/7786ecb043425f670abec2b07a46d98f.jpg: 640x640 1 agricultural labourer, 1 headscarf, 13.8ms\n",
      "image 455/1048 /content/gdrive/MyDrive/Colab Notebooks/yolo/test/DPRK/77880b2758516ea5e480671f9498aacf.jpg: 640x640 3 agricultural labourers, 13.7ms\n",
      "image 456/1048 /content/gdrive/MyDrive/Colab Notebooks/yolo/test/DPRK/782035a9d193ccd3cf048bd758a5ec72.jpg: 640x640 1 factory worker, 3 flags, 14.9ms\n",
      "image 457/1048 /content/gdrive/MyDrive/Colab Notebooks/yolo/test/DPRK/78456c7ab80f5ddfcdc3be9c459ca229.jpg: 640x640 (no detections), 12.9ms\n",
      "image 458/1048 /content/gdrive/MyDrive/Colab Notebooks/yolo/test/DPRK/785cbed3aa5fbeaf6f64de4aeee210d1.jpg: 640x640 1 factory worker, 1 flag, 13.7ms\n",
      "image 459/1048 /content/gdrive/MyDrive/Colab Notebooks/yolo/test/DPRK/785dcfb38fb18181959c6f7d12dd56f8.jpg: 640x640 1 flag, 1 office worker, 22.0ms\n",
      "image 460/1048 /content/gdrive/MyDrive/Colab Notebooks/yolo/test/DPRK/7914c51c6db35c6ad0ff63628e53c66e.jpg: 640x640 1 agricultural labourer, 14.5ms\n",
      "image 461/1048 /content/gdrive/MyDrive/Colab Notebooks/yolo/test/DPRK/7a5835801e3e94392af5490a25dde457.jpg: 640x640 (no detections), 13.4ms\n",
      "image 462/1048 /content/gdrive/MyDrive/Colab Notebooks/yolo/test/DPRK/7adee90e1960fb6ac69ac79161bca825.jpg: 640x640 2 agricultural labourers, 13.7ms\n",
      "image 463/1048 /content/gdrive/MyDrive/Colab Notebooks/yolo/test/DPRK/7b09038c233cca788ba8bc01b667dc2e.jpg: 640x640 1 factory worker, 13.6ms\n",
      "image 464/1048 /content/gdrive/MyDrive/Colab Notebooks/yolo/test/DPRK/7b3be056c5496f03760a2ff21aca3c9e.jpg: 640x640 1 factory worker, 15.3ms\n",
      "image 465/1048 /content/gdrive/MyDrive/Colab Notebooks/yolo/test/DPRK/7b73527af35a83730967d765c6aa324e.jpg: 640x640 1 factory worker, 14.2ms\n",
      "image 466/1048 /content/gdrive/MyDrive/Colab Notebooks/yolo/test/DPRK/7d083b89af4b4920aae2085a348d580a.jpg: 640x640 2 flags, 1 military, 12.8ms\n",
      "image 467/1048 /content/gdrive/MyDrive/Colab Notebooks/yolo/test/DPRK/7d17debb77fbaeb310c348bed92b53fa.jpg: 640x640 (no detections), 13.1ms\n",
      "image 468/1048 /content/gdrive/MyDrive/Colab Notebooks/yolo/test/DPRK/7d2a85c95a6747b45b70aee9641ac790.jpg: 640x640 4 flags, 12.5ms\n",
      "image 469/1048 /content/gdrive/MyDrive/Colab Notebooks/yolo/test/DPRK/7d4a518fdccf82e1bde394bc905f091b.jpg: 640x640 1 agricultural labourer, 15.3ms\n",
      "image 470/1048 /content/gdrive/MyDrive/Colab Notebooks/yolo/test/DPRK/7daa961a382a0318c0218a8ed1543d05.jpg: 640x640 2 agricultural labourers, 12.9ms\n",
      "image 471/1048 /content/gdrive/MyDrive/Colab Notebooks/yolo/test/DPRK/7db33d5e1c634a6d550257ddc7872dcb.jpg: 640x640 2 office workers, 13.2ms\n",
      "image 472/1048 /content/gdrive/MyDrive/Colab Notebooks/yolo/test/DPRK/7dba6d528df5a18475a858367c3e38eb.jpg: 640x640 (no detections), 12.5ms\n",
      "image 473/1048 /content/gdrive/MyDrive/Colab Notebooks/yolo/test/DPRK/7dba8aecfaed52b9505498e1b1eaa47b.jpg: 640x640 (no detections), 12.8ms\n",
      "image 474/1048 /content/gdrive/MyDrive/Colab Notebooks/yolo/test/DPRK/7debb60db1ef78d84ec75dbb6466d03c.jpg: 640x640 1 agricultural labourer, 15.3ms\n",
      "image 475/1048 /content/gdrive/MyDrive/Colab Notebooks/yolo/test/DPRK/7df54190701c7e1316dd42921d686bcf.jpg: 640x640 1 agricultural labourer, 1 headscarf, 15.5ms\n",
      "image 476/1048 /content/gdrive/MyDrive/Colab Notebooks/yolo/test/DPRK/7e4deb54f852ee5da4eb0aa64a8cb497.jpg: 640x640 (no detections), 13.1ms\n",
      "image 477/1048 /content/gdrive/MyDrive/Colab Notebooks/yolo/test/DPRK/7e7d1d7fc86cc7d788dfb9fafb02c968.jpg: 640x640 1 agricultural labourer, 1 crane, 1 flag, 12.3ms\n",
      "image 478/1048 /content/gdrive/MyDrive/Colab Notebooks/yolo/test/DPRK/7eb9825928b680c1b28b2e6dabffbdbc.jpg: 640x640 3 agricultural labourers, 1 factory worker, 2 flags, 13.2ms\n",
      "image 479/1048 /content/gdrive/MyDrive/Colab Notebooks/yolo/test/DPRK/7ed06ac0192a7e15fba6b49e49dd9f00.jpg: 640x640 1 factory worker, 16.6ms\n",
      "image 480/1048 /content/gdrive/MyDrive/Colab Notebooks/yolo/test/DPRK/7f068f52da182293288bd8b10981414a.jpg: 640x640 1 hammer, 1 horse, 12.9ms\n",
      "image 481/1048 /content/gdrive/MyDrive/Colab Notebooks/yolo/test/DPRK/7f251f7d029728c8b1fe76841ba858aa.jpg: 640x640 (no detections), 13.1ms\n",
      "image 482/1048 /content/gdrive/MyDrive/Colab Notebooks/yolo/test/DPRK/7f5194f76bb631d2e4b6aaee6fc2ab01.jpg: 640x640 1 agricultural labourer, 12.6ms\n",
      "image 483/1048 /content/gdrive/MyDrive/Colab Notebooks/yolo/test/DPRK/7fa7d3ff8b297eaeb3851144d987412a.jpg: 640x640 1 agricultural labourer, 2 factory workers, 1 headscarf, 17.7ms\n",
      "image 484/1048 /content/gdrive/MyDrive/Colab Notebooks/yolo/test/DPRK/8-북부철길건설자들의그위훈빛내가리-The-Feats-of-Northern-Railway-Builders-will-Shine-400x400.png: 640x640 1 factory worker, 1 office worker, 25.4ms\n",
      "image 485/1048 /content/gdrive/MyDrive/Colab Notebooks/yolo/test/DPRK/8024e8dd4f3a21c3649e643dfb870c13.jpg: 640x640 1 factory worker, 17.2ms\n",
      "image 486/1048 /content/gdrive/MyDrive/Colab Notebooks/yolo/test/DPRK/80af6845e48854035858e757eb506d52.jpg: 640x640 1 agricultural labourer, 15.2ms\n",
      "image 487/1048 /content/gdrive/MyDrive/Colab Notebooks/yolo/test/DPRK/81101cdfb9d624a00932b50d2835740e.jpg: 640x640 1 agricultural labourer, 1 flag, 2 headscarfs, 16.6ms\n",
      "image 488/1048 /content/gdrive/MyDrive/Colab Notebooks/yolo/test/DPRK/811f6de3b18dc69bb9228cf58fcdf224.jpg: 640x640 1 agricultural labourer, 14.1ms\n",
      "image 489/1048 /content/gdrive/MyDrive/Colab Notebooks/yolo/test/DPRK/821437a8651aeac1600e4849050eb4af.jpg: 640x640 1 hammer, 1 sickle, 14.0ms\n",
      "image 490/1048 /content/gdrive/MyDrive/Colab Notebooks/yolo/test/DPRK/82a88d36cf45f16a1facedab835662c8.jpg: 640x640 2 agricultural labourers, 18.9ms\n",
      "image 491/1048 /content/gdrive/MyDrive/Colab Notebooks/yolo/test/DPRK/82a8d6aac1abefd183b47c92b181e636.jpg: 640x640 1 hammer, 8 planes, 18.0ms\n",
      "image 492/1048 /content/gdrive/MyDrive/Colab Notebooks/yolo/test/DPRK/8314f3bdc9eee8f15a0381967a517f8f.jpg: 640x640 1 factory worker, 13.3ms\n",
      "image 493/1048 /content/gdrive/MyDrive/Colab Notebooks/yolo/test/DPRK/8332256887e05b6cc58c4cbcc5bda8af.jpg: 640x640 2 agricultural labourers, 13.5ms\n",
      "image 494/1048 /content/gdrive/MyDrive/Colab Notebooks/yolo/test/DPRK/834f687005f13047c67bf7276900d18c.jpg: 640x640 2 agricultural labourers, 1 grass, 13.2ms\n",
      "image 495/1048 /content/gdrive/MyDrive/Colab Notebooks/yolo/test/DPRK/837b62d6127d89d59d6eac3ae320a6b6.jpg: 640x640 1 military, 13.3ms\n",
      "image 496/1048 /content/gdrive/MyDrive/Colab Notebooks/yolo/test/DPRK/844f76650a0e951ce8334da8e2f36e65.jpg: 640x640 3 agricultural labourers, 1 factory worker, 1 headscarf, 13.0ms\n",
      "image 497/1048 /content/gdrive/MyDrive/Colab Notebooks/yolo/test/DPRK/84c6bdc1552db5f20e95b5b6c2f7275b.jpg: 640x640 2 agricultural labourers, 1 factory worker, 1 flag, 14.8ms\n",
      "image 498/1048 /content/gdrive/MyDrive/Colab Notebooks/yolo/test/DPRK/850aab05dc726d1cf15ad04dc95791ed.jpg: 640x640 1 factory worker, 3 flags, 1 office worker, 12.4ms\n",
      "image 499/1048 /content/gdrive/MyDrive/Colab Notebooks/yolo/test/DPRK/85cff2e0861198d8567ed10373926d4f.jpg: 640x640 1 flag, 1 weapon, 13.3ms\n",
      "image 500/1048 /content/gdrive/MyDrive/Colab Notebooks/yolo/test/DPRK/868633a22c4f8a058f0411dba90e6b0b.jpg: 640x640 2 agricultural labourers, 1 sky, 13.9ms\n",
      "image 501/1048 /content/gdrive/MyDrive/Colab Notebooks/yolo/test/DPRK/86b711ac2d8baa5d8d3ae8342dbcdf69.jpg: 640x640 1 agricultural labourer, 1 building, 1 factory worker, 1 headscarf, 14.5ms\n",
      "image 502/1048 /content/gdrive/MyDrive/Colab Notebooks/yolo/test/DPRK/86c46541ab649b3963f836741998671c.jpg: 640x640 1 agricultural labourer, 1 headscarf, 17.1ms\n",
      "image 503/1048 /content/gdrive/MyDrive/Colab Notebooks/yolo/test/DPRK/87164716dc92ef28b2c2eb38ebd5c3f4.jpg: 640x640 2 agricultural labourers, 14.7ms\n",
      "image 504/1048 /content/gdrive/MyDrive/Colab Notebooks/yolo/test/DPRK/875047a73860721dbd4da80ffc2987c0.jpg: 640x640 1 agricultural labourer, 2 factory workers, 1 sky, 12.7ms\n",
      "image 505/1048 /content/gdrive/MyDrive/Colab Notebooks/yolo/test/DPRK/8761e75755525bfa108c36ae183db121.jpg: 640x640 2 agricultural labourers, 12.4ms\n",
      "image 506/1048 /content/gdrive/MyDrive/Colab Notebooks/yolo/test/DPRK/87acb2825735deb89b18debd34f6127e.jpg: 640x640 2 agricultural labourers, 15.5ms\n",
      "image 507/1048 /content/gdrive/MyDrive/Colab Notebooks/yolo/test/DPRK/87adbf2eb84239d4eff9917f3e2f44ef.jpg: 640x640 2 agricultural labourers, 1 factory worker, 1 headscarf, 13.8ms\n",
      "image 508/1048 /content/gdrive/MyDrive/Colab Notebooks/yolo/test/DPRK/88041f1c73926c973a9c7416b33f6df6.jpg: 640x640 3 agricultural labourers, 18.9ms\n",
      "image 509/1048 /content/gdrive/MyDrive/Colab Notebooks/yolo/test/DPRK/8810f52a2a4c2e57084bbcd3dc81a9ff.jpg: 640x640 1 agricultural labourer, 17.4ms\n",
      "image 510/1048 /content/gdrive/MyDrive/Colab Notebooks/yolo/test/DPRK/88a5b1bb9e6558c0cc9effaec8a3af52.jpg: 640x640 1 factory worker, 1 hammer, 1 office worker, 20.5ms\n",
      "image 511/1048 /content/gdrive/MyDrive/Colab Notebooks/yolo/test/DPRK/88a93ae32835dfd186f9b59aff998e05.jpg: 640x640 1 agricultural labourer, 13.9ms\n",
      "image 512/1048 /content/gdrive/MyDrive/Colab Notebooks/yolo/test/DPRK/88acfb037f330091ebafcca3c7927b87.jpg: 640x640 1 agricultural labourer, 15.7ms\n",
      "image 513/1048 /content/gdrive/MyDrive/Colab Notebooks/yolo/test/DPRK/88e7688b71b235ce9fb6894f47995327.jpg: 640x640 3 agricultural labourers, 17.2ms\n",
      "image 514/1048 /content/gdrive/MyDrive/Colab Notebooks/yolo/test/DPRK/88fc10477b733cb1263b2fa5bcc14b5b.jpg: 640x640 (no detections), 14.4ms\n",
      "image 515/1048 /content/gdrive/MyDrive/Colab Notebooks/yolo/test/DPRK/895d767f2a1daf2ee88b1d3c99bd523d.jpg: 640x640 1 building, 2 cranes, 1 factory worker, 21.5ms\n",
      "image 516/1048 /content/gdrive/MyDrive/Colab Notebooks/yolo/test/DPRK/896e99fbff3d36437a64c2ad97bb78dc.jpg: 640x640 1 crane, 3 flags, 19.1ms\n",
      "image 517/1048 /content/gdrive/MyDrive/Colab Notebooks/yolo/test/DPRK/8971c5c064acf2a8f3f25bb36fcbc02d.jpg: 640x640 (no detections), 19.1ms\n",
      "image 518/1048 /content/gdrive/MyDrive/Colab Notebooks/yolo/test/DPRK/8993c5c89d3e267e8629e34168432542.jpg: 640x640 1 military, 21.7ms\n",
      "image 519/1048 /content/gdrive/MyDrive/Colab Notebooks/yolo/test/DPRK/89953eae7d7774e84f61ff25eff3e89e.jpg: 640x640 1 agricultural labourer, 1 sky, 18.1ms\n",
      "image 520/1048 /content/gdrive/MyDrive/Colab Notebooks/yolo/test/DPRK/89e0d76749785a347e83443aa8ba9fbd.jpg: 640x640 (no detections), 20.8ms\n",
      "image 521/1048 /content/gdrive/MyDrive/Colab Notebooks/yolo/test/DPRK/89f18efd87ee7ade6ad33ca63d930a2d.jpg: 640x640 2 flags, 18.5ms\n",
      "image 522/1048 /content/gdrive/MyDrive/Colab Notebooks/yolo/test/DPRK/8a424eb7d939b586e4ab5d8892512325.jpg: 640x640 1 agricultural labourer, 1 sky, 16.4ms\n",
      "image 523/1048 /content/gdrive/MyDrive/Colab Notebooks/yolo/test/DPRK/8a4bf51412efc106977a1d0c90a9e331.jpg: 640x640 1 agricultural labourer, 1 factory worker, 13.7ms\n",
      "image 524/1048 /content/gdrive/MyDrive/Colab Notebooks/yolo/test/DPRK/8aae7927f03d0d95846363bca459e3f4.jpg: 640x640 (no detections), 13.9ms\n",
      "image 525/1048 /content/gdrive/MyDrive/Colab Notebooks/yolo/test/DPRK/8b1825c80e54e307ac7759bf6c401e43.jpg: 640x640 1 agricultural labourer, 1 headscarf, 13.0ms\n",
      "image 526/1048 /content/gdrive/MyDrive/Colab Notebooks/yolo/test/DPRK/8b1d3e8d11935876a0de4c751621e3d8.jpg: 640x640 2 agricultural labourers, 12.8ms\n",
      "image 527/1048 /content/gdrive/MyDrive/Colab Notebooks/yolo/test/DPRK/8b6c686eeeb1a304fcfefe775d615804.jpg: 640x640 (no detections), 21.1ms\n",
      "image 528/1048 /content/gdrive/MyDrive/Colab Notebooks/yolo/test/DPRK/8baae38fff08e434aa2449ad0df719bb.jpg: 640x640 1 flag, 22.8ms\n",
      "image 529/1048 /content/gdrive/MyDrive/Colab Notebooks/yolo/test/DPRK/8c4aea6767ba2ac5e32cc3ce580558f2.jpg: 640x640 2 agricultural labourers, 1 factory worker, 18.8ms\n",
      "image 530/1048 /content/gdrive/MyDrive/Colab Notebooks/yolo/test/DPRK/8c789898cdeb93db605491d2de188ca9.jpg: 640x640 1 flag, 17.4ms\n",
      "image 531/1048 /content/gdrive/MyDrive/Colab Notebooks/yolo/test/DPRK/8c859a762356c4d8a34bb37c456f3e02.jpg: 640x640 1 agricultural labourer, 18.5ms\n",
      "image 532/1048 /content/gdrive/MyDrive/Colab Notebooks/yolo/test/DPRK/8cbf19b2324a42f45b1a13c9be07715f.jpg: 640x640 1 agricultural labourer, 16.3ms\n",
      "image 533/1048 /content/gdrive/MyDrive/Colab Notebooks/yolo/test/DPRK/8cc9e10eb24f64fef8407c28a051b73f.jpg: 640x640 (no detections), 17.7ms\n",
      "image 534/1048 /content/gdrive/MyDrive/Colab Notebooks/yolo/test/DPRK/8cf049411151eb50e3cb1874cd7dae9b.jpg: 640x640 1 factory worker, 18.6ms\n",
      "image 535/1048 /content/gdrive/MyDrive/Colab Notebooks/yolo/test/DPRK/8d5e3355442ad4df3fd50319bcc3f1bd.jpg: 640x640 1 agricultural labourer, 1 factory worker, 2 headscarfs, 17.6ms\n",
      "image 536/1048 /content/gdrive/MyDrive/Colab Notebooks/yolo/test/DPRK/8d5ebb05dd8c2ea994000effa18be3f2.jpg: 640x640 1 sickle, 18.6ms\n",
      "image 537/1048 /content/gdrive/MyDrive/Colab Notebooks/yolo/test/DPRK/8d6995650f8efaa7090e028182b43453.jpg: 640x640 (no detections), 17.9ms\n",
      "image 538/1048 /content/gdrive/MyDrive/Colab Notebooks/yolo/test/DPRK/8da48fe73093cc65901cfa82963dbb16.jpg: 640x640 1 agricultural labourer, 18.9ms\n",
      "image 539/1048 /content/gdrive/MyDrive/Colab Notebooks/yolo/test/DPRK/8dee41bcb101ae1bcd19fbab82a5c16a.jpg: 640x640 1 agricultural labourer, 18.0ms\n",
      "image 540/1048 /content/gdrive/MyDrive/Colab Notebooks/yolo/test/DPRK/8e0e187309ee830810749faf00944d54.jpg: 640x640 2 factory workers, 17.5ms\n",
      "image 541/1048 /content/gdrive/MyDrive/Colab Notebooks/yolo/test/DPRK/8e1504769dd11d0f0f9564a378ff48ee.jpg: 640x640 1 agricultural labourer, 1 sky, 19.1ms\n",
      "image 542/1048 /content/gdrive/MyDrive/Colab Notebooks/yolo/test/DPRK/8e8d629a7f52b4c97a0c25940d847aac.jpg: 640x640 1 agricultural labourer, 10.5ms\n",
      "image 543/1048 /content/gdrive/MyDrive/Colab Notebooks/yolo/test/DPRK/8f0b6a23caccd198cdfb618b5b2a5c7e.jpg: 640x640 1 agricultural labourer, 2 headscarfs, 10.2ms\n",
      "image 544/1048 /content/gdrive/MyDrive/Colab Notebooks/yolo/test/DPRK/8f8c8ce72aaa7adfd6122ea6f31cb90d.jpg: 640x640 1 agricultural labourer, 1 flag, 9.7ms\n",
      "image 545/1048 /content/gdrive/MyDrive/Colab Notebooks/yolo/test/DPRK/9-후대들은-모르게하자-Lets-Not-Let-Future-Generations-Kno-400x400.png: 640x640 1 hammer, 1 office worker, 10.3ms\n",
      "image 546/1048 /content/gdrive/MyDrive/Colab Notebooks/yolo/test/DPRK/905fc3e9fc17b998cecb5b8dea016a07.jpg: 640x640 (no detections), 11.1ms\n",
      "image 547/1048 /content/gdrive/MyDrive/Colab Notebooks/yolo/test/DPRK/907d53596257e68e3c597920fdac6fb6.jpg: 640x640 2 factory workers, 16.8ms\n",
      "image 548/1048 /content/gdrive/MyDrive/Colab Notebooks/yolo/test/DPRK/90c4d1904aacc2c849f28dbc94271ebc.jpg: 640x640 1 agricultural labourer, 2 factory workers, 10.9ms\n",
      "image 549/1048 /content/gdrive/MyDrive/Colab Notebooks/yolo/test/DPRK/90c6a2c7a1d2b86f3305299f1309fe3e.jpg: 640x640 (no detections), 10.5ms\n",
      "image 550/1048 /content/gdrive/MyDrive/Colab Notebooks/yolo/test/DPRK/90cd837060047657ec00ee1a0ea94f33.jpg: 640x640 1 factory worker, 10.9ms\n",
      "image 551/1048 /content/gdrive/MyDrive/Colab Notebooks/yolo/test/DPRK/912033d4f1dd8a83d3ab6fe82d626cdd.jpg: 640x640 1 agricultural labourer, 1 flag, 1 headscarf, 10.1ms\n",
      "image 552/1048 /content/gdrive/MyDrive/Colab Notebooks/yolo/test/DPRK/914416834802e1c02a9ee32370114a24.jpg: 640x640 (no detections), 9.7ms\n",
      "image 553/1048 /content/gdrive/MyDrive/Colab Notebooks/yolo/test/DPRK/917f326e6a60c7a40cca12f8cb760699.jpg: 640x640 2 agricultural labourers, 1 factory worker, 11.3ms\n",
      "image 554/1048 /content/gdrive/MyDrive/Colab Notebooks/yolo/test/DPRK/91a6510f4ddf1c63324d66c7dcbb67b4.jpg: 640x640 1 agricultural labourer, 1 factory worker, 10.8ms\n",
      "image 555/1048 /content/gdrive/MyDrive/Colab Notebooks/yolo/test/DPRK/92129bb6808a286bc338e07ca62aede1.jpg: 640x640 (no detections), 10.4ms\n",
      "image 556/1048 /content/gdrive/MyDrive/Colab Notebooks/yolo/test/DPRK/92580265c02b7a0c8dd2f70799ee8891.jpg: 640x640 1 agricultural labourer, 1 book, 1 flag, 1 headscarf, 9.8ms\n",
      "image 557/1048 /content/gdrive/MyDrive/Colab Notebooks/yolo/test/DPRK/928e5fcd9492ce24c23b5e61e32b32d2.jpg: 640x640 1 agricultural labourer, 1 factory worker, 1 flag, 1 headscarf, 1 horse, 1 weapon, 9.8ms\n",
      "image 558/1048 /content/gdrive/MyDrive/Colab Notebooks/yolo/test/DPRK/933f6ae7d2ae1ce8db445270bf8b3258.jpg: 640x640 1 crane, 2 factory workers, 13.2ms\n",
      "image 559/1048 /content/gdrive/MyDrive/Colab Notebooks/yolo/test/DPRK/9364afb7b6b7ec1dccbd6e5ee8c005ec.jpg: 640x640 (no detections), 16.3ms\n",
      "image 560/1048 /content/gdrive/MyDrive/Colab Notebooks/yolo/test/DPRK/9378c3e357144c7fac426a87244b02e5.jpg: 640x640 1 agricultural labourer, 2 headscarfs, 15.4ms\n",
      "image 561/1048 /content/gdrive/MyDrive/Colab Notebooks/yolo/test/DPRK/938b0a9ffae19b246a61425355c19826.jpg: 640x640 1 flag, 1 star, 15.2ms\n",
      "image 562/1048 /content/gdrive/MyDrive/Colab Notebooks/yolo/test/DPRK/93943c2920e9dabb5506c5f7a0a2cf83.jpg: 640x640 3 agricultural labourers, 11.2ms\n",
      "image 563/1048 /content/gdrive/MyDrive/Colab Notebooks/yolo/test/DPRK/94097eef268ee67e95251f7fff5a1b2d.jpg: 640x640 1 factory worker, 11.4ms\n",
      "image 564/1048 /content/gdrive/MyDrive/Colab Notebooks/yolo/test/DPRK/9425ceac8326a54e9c44cdd7fc4ca152.jpg: 640x640 (no detections), 13.4ms\n",
      "image 565/1048 /content/gdrive/MyDrive/Colab Notebooks/yolo/test/DPRK/9444b6a8d62ba9e64fdb576e5da619de.jpg: 640x640 1 agricultural labourer, 1 factory worker, 10.7ms\n",
      "image 566/1048 /content/gdrive/MyDrive/Colab Notebooks/yolo/test/DPRK/9472e0ef65fdf6baf95fc832337484b7.jpg: 640x640 1 agricultural labourer, 10.2ms\n",
      "image 567/1048 /content/gdrive/MyDrive/Colab Notebooks/yolo/test/DPRK/94a20da08b13d0088456bd00b62c0553.jpg: 640x640 2 agricultural labourers, 1 factory worker, 1 flag, 11.2ms\n",
      "image 568/1048 /content/gdrive/MyDrive/Colab Notebooks/yolo/test/DPRK/9520ccf0c5ddb20807df672462336bb4.jpg: 640x640 1 agricultural labourer, 11.2ms\n",
      "image 569/1048 /content/gdrive/MyDrive/Colab Notebooks/yolo/test/DPRK/95a5014ee53939d9a39aaad3f7e15c58.jpg: 640x640 (no detections), 11.1ms\n",
      "image 570/1048 /content/gdrive/MyDrive/Colab Notebooks/yolo/test/DPRK/95c25f098c9d5ee65068c678a553f658.jpg: 640x640 2 agricultural labourers, 1 factory worker, 11.0ms\n",
      "image 571/1048 /content/gdrive/MyDrive/Colab Notebooks/yolo/test/DPRK/9663104063497f63b0e47a2b11dcee4b.jpg: 640x640 1 agricultural labourer, 10.5ms\n",
      "image 572/1048 /content/gdrive/MyDrive/Colab Notebooks/yolo/test/DPRK/96a0e1c7be3c15234b01124abd28105a.jpg: 640x640 1 agricultural labourer, 1 factory worker, 11.8ms\n",
      "image 573/1048 /content/gdrive/MyDrive/Colab Notebooks/yolo/test/DPRK/96a7861c1a33fff7dc7ad74de24fa99e.jpg: 640x640 1 factory worker, 2 flags, 2 stars, 10.4ms\n",
      "image 574/1048 /content/gdrive/MyDrive/Colab Notebooks/yolo/test/DPRK/96b2076cda8bfeeac4e2bdee05fe317b.jpg: 640x640 1 agricultural labourer, 1 factory worker, 10.1ms\n",
      "image 575/1048 /content/gdrive/MyDrive/Colab Notebooks/yolo/test/DPRK/96b829f92d6d5552242caeef2282db1b.jpg: 640x640 2 agricultural labourers, 9.3ms\n",
      "image 576/1048 /content/gdrive/MyDrive/Colab Notebooks/yolo/test/DPRK/96cc9f00e771f815ca0ba4acb83f9b82.jpg: 640x640 2 factory workers, 2 flags, 9.4ms\n",
      "image 577/1048 /content/gdrive/MyDrive/Colab Notebooks/yolo/test/DPRK/96ede285af996c5415493fc5fbbf80ed.jpg: 640x640 1 flag, 11.8ms\n",
      "image 578/1048 /content/gdrive/MyDrive/Colab Notebooks/yolo/test/DPRK/970eb48f23f71852ccb1e2007c3ca1b6.jpg: 640x640 1 agricultural labourer, 1 weapon, 9.8ms\n",
      "image 579/1048 /content/gdrive/MyDrive/Colab Notebooks/yolo/test/DPRK/97171ff855f83a27b29e4f6176e0b220.jpg: 640x640 3 factory workers, 1 military, 9.5ms\n",
      "image 580/1048 /content/gdrive/MyDrive/Colab Notebooks/yolo/test/DPRK/976e75da442144980c3f9e793a1a0404.jpg: 640x640 1 machinery, 1 sky, 10.1ms\n",
      "image 581/1048 /content/gdrive/MyDrive/Colab Notebooks/yolo/test/DPRK/977863ca8d60a13e33c23ece51b51f38.jpg: 640x640 (no detections), 10.2ms\n",
      "image 582/1048 /content/gdrive/MyDrive/Colab Notebooks/yolo/test/DPRK/97ae493368e58f2041fad5e55541fa3a.jpg: 640x640 1 agricultural labourer, 9.7ms\n",
      "image 583/1048 /content/gdrive/MyDrive/Colab Notebooks/yolo/test/DPRK/97b4fefa8ca2e200cf854f75e4249b89.jpg: 640x640 (no detections), 9.7ms\n",
      "image 584/1048 /content/gdrive/MyDrive/Colab Notebooks/yolo/test/DPRK/97c85920196c62112ea40834fbb08409.jpg: 640x640 1 agricultural labourer, 1 factory worker, 1 headscarf, 10.0ms\n",
      "image 585/1048 /content/gdrive/MyDrive/Colab Notebooks/yolo/test/DPRK/97ccce97ceda9322dc999d0e48578dbe.jpg: 640x640 1 flag, 17.1ms\n",
      "image 586/1048 /content/gdrive/MyDrive/Colab Notebooks/yolo/test/DPRK/9852ba98f1719d2219fa7c5ac0641bc6.jpg: 640x640 2 agricultural labourers, 1 headscarf, 10.4ms\n",
      "image 587/1048 /content/gdrive/MyDrive/Colab Notebooks/yolo/test/DPRK/987f58e2309a9d0bf851bf7694801e09.jpg: 640x640 1 agricultural labourer, 10.0ms\n",
      "image 588/1048 /content/gdrive/MyDrive/Colab Notebooks/yolo/test/DPRK/9884a441e2fd4d238b6e5d7d1cd24581.jpg: 640x640 1 factory worker, 1 military, 10.5ms\n",
      "image 589/1048 /content/gdrive/MyDrive/Colab Notebooks/yolo/test/DPRK/989060f17da9e509a6355d40e277ddb9.jpg: 640x640 (no detections), 10.8ms\n",
      "image 590/1048 /content/gdrive/MyDrive/Colab Notebooks/yolo/test/DPRK/98be5cbabef0fde8996442e1b16ed5c1.jpg: 640x640 1 factory worker, 2 flags, 10.6ms\n",
      "image 591/1048 /content/gdrive/MyDrive/Colab Notebooks/yolo/test/DPRK/98be75af82efe0ea44a8852e8a226551.jpg: 640x640 1 agricultural labourer, 1 factory worker, 10.2ms\n",
      "image 592/1048 /content/gdrive/MyDrive/Colab Notebooks/yolo/test/DPRK/98c53948e73e369338ad8c0daf94af77.jpg: 640x640 2 agricultural labourers, 10.8ms\n",
      "image 593/1048 /content/gdrive/MyDrive/Colab Notebooks/yolo/test/DPRK/994e28d69e406a4f8b47ba07b9e6109a.jpg: 640x640 (no detections), 11.9ms\n",
      "image 594/1048 /content/gdrive/MyDrive/Colab Notebooks/yolo/test/DPRK/9a4b40400c9ec8d5eb808bb295c02adb.jpg: 640x640 3 factory workers, 1 military, 10.1ms\n",
      "image 595/1048 /content/gdrive/MyDrive/Colab Notebooks/yolo/test/DPRK/9a7e3aee38167d63eab5e943fc3bc4fd.jpg: 640x640 1 agricultural labourer, 1 factory worker, 1 sky, 16.0ms\n",
      "image 596/1048 /content/gdrive/MyDrive/Colab Notebooks/yolo/test/DPRK/9a7f161e2f1c2086d4b9d867d216afbd.jpg: 640x640 2 agricultural labourers, 1 headscarf, 1 weapon, 15.3ms\n",
      "image 597/1048 /content/gdrive/MyDrive/Colab Notebooks/yolo/test/DPRK/9ac63c4ab56816640207ea601af3e0d3.jpg: 640x640 1 agricultural labourer, 1 factory worker, 13.6ms\n",
      "image 598/1048 /content/gdrive/MyDrive/Colab Notebooks/yolo/test/DPRK/9b17f31dff808e546152f9e046f34d4f.jpg: 640x640 (no detections), 9.5ms\n",
      "image 599/1048 /content/gdrive/MyDrive/Colab Notebooks/yolo/test/DPRK/9b2bb14ac1fbda563292b36481f78528.jpg: 640x640 1 factory worker, 1 headscarf, 10.4ms\n",
      "image 600/1048 /content/gdrive/MyDrive/Colab Notebooks/yolo/test/DPRK/9b6f6987cd5796901d004a766dccc28a.jpg: 640x640 1 machinery, 11.0ms\n",
      "image 601/1048 /content/gdrive/MyDrive/Colab Notebooks/yolo/test/DPRK/9b78166c2c0eb49e8c8780eb87c89936.jpg: 640x640 (no detections), 10.7ms\n",
      "image 602/1048 /content/gdrive/MyDrive/Colab Notebooks/yolo/test/DPRK/9b8da148f245ec84414114197566ad93.jpg: 640x640 1 weapon, 12.5ms\n",
      "image 603/1048 /content/gdrive/MyDrive/Colab Notebooks/yolo/test/DPRK/9be36f06a1fe28b4a2ace61ac70d78b3.jpg: 640x640 2 agricultural labourers, 11.4ms\n",
      "image 604/1048 /content/gdrive/MyDrive/Colab Notebooks/yolo/test/DPRK/9c31be96378d0c3a799cc7fe0f0956bc.jpg: 640x640 2 factory workers, 10.8ms\n",
      "image 605/1048 /content/gdrive/MyDrive/Colab Notebooks/yolo/test/DPRK/9c33921812cb36178b11a3a2fdeca7bd.jpg: 640x640 2 agricultural labourers, 1 headscarf, 10.8ms\n",
      "image 606/1048 /content/gdrive/MyDrive/Colab Notebooks/yolo/test/DPRK/9c47f5cc3b9fc667cc7c26419f61abfd.jpg: 640x640 (no detections), 10.6ms\n",
      "image 607/1048 /content/gdrive/MyDrive/Colab Notebooks/yolo/test/DPRK/9c68e9921e38c7bf0bc7d92423efb496.jpg: 640x640 1 agricultural labourer, 10.7ms\n",
      "image 608/1048 /content/gdrive/MyDrive/Colab Notebooks/yolo/test/DPRK/9ca70f316ac0984b36f08951c02136ee.jpg: 640x640 (no detections), 10.3ms\n",
      "image 609/1048 /content/gdrive/MyDrive/Colab Notebooks/yolo/test/DPRK/9d4ef608f995f8c37be4e4d72adb067e.jpg: 640x640 1 flag, 10.5ms\n",
      "image 610/1048 /content/gdrive/MyDrive/Colab Notebooks/yolo/test/DPRK/9d828aa423d896360f029d7571ae0809.jpg: 640x640 (no detections), 10.8ms\n",
      "image 611/1048 /content/gdrive/MyDrive/Colab Notebooks/yolo/test/DPRK/9d8d77e0d9c679aa016045fa8184dd7d.jpg: 640x640 3 agricultural labourers, 10.4ms\n",
      "image 612/1048 /content/gdrive/MyDrive/Colab Notebooks/yolo/test/DPRK/9dcedafbe4856d8976a701b948394239.jpg: 640x640 1 sky, 10.8ms\n",
      "image 613/1048 /content/gdrive/MyDrive/Colab Notebooks/yolo/test/DPRK/9e113f4edf009e63e347f01553e98557.jpg: 640x640 1 agricultural labourer, 10.7ms\n",
      "image 614/1048 /content/gdrive/MyDrive/Colab Notebooks/yolo/test/DPRK/9e334ebbadf8941f7453bc98c99507db.jpg: 640x640 3 agricultural labourers, 2 headscarfs, 11.0ms\n",
      "image 615/1048 /content/gdrive/MyDrive/Colab Notebooks/yolo/test/DPRK/9e4bfd045adfd670d8ed6135067320f1.jpg: 640x640 1 agricultural labourer, 1 factory worker, 11.1ms\n",
      "image 616/1048 /content/gdrive/MyDrive/Colab Notebooks/yolo/test/DPRK/9e4faa4bc62da003c11fcd5fb5450d0c.jpg: 640x640 (no detections), 11.1ms\n",
      "image 617/1048 /content/gdrive/MyDrive/Colab Notebooks/yolo/test/DPRK/9e5ddee0a86dc7463424458375f5e0bd.jpg: 640x640 (no detections), 11.1ms\n",
      "image 618/1048 /content/gdrive/MyDrive/Colab Notebooks/yolo/test/DPRK/9e8bc0314581ddc9cf565bfa8bdde9ec.jpg: 640x640 1 agricultural labourer, 11.1ms\n",
      "image 619/1048 /content/gdrive/MyDrive/Colab Notebooks/yolo/test/DPRK/9ebd9b0ebf67af7a9d581941687d7d80.jpg: 640x640 (no detections), 13.3ms\n",
      "image 620/1048 /content/gdrive/MyDrive/Colab Notebooks/yolo/test/DPRK/9eecefbb2e520b73b84af80d1af34e60.jpg: 640x640 2 agricultural labourers, 16.3ms\n",
      "image 621/1048 /content/gdrive/MyDrive/Colab Notebooks/yolo/test/DPRK/9f27044d546388b9ca0ddcc0651c2498.jpg: 640x640 1 factory worker, 1 weapon, 11.0ms\n",
      "image 622/1048 /content/gdrive/MyDrive/Colab Notebooks/yolo/test/DPRK/9fbae5892e1c960a2191ed3d5412994c.jpg: 640x640 2 agricultural labourers, 1 headscarf, 10.3ms\n",
      "image 623/1048 /content/gdrive/MyDrive/Colab Notebooks/yolo/test/DPRK/9fd1f896db73b662bedd7f11fe573374.jpg: 640x640 1 book, 1 factory worker, 1 sickle, 17.1ms\n",
      "image 624/1048 /content/gdrive/MyDrive/Colab Notebooks/yolo/test/DPRK/a020b78dfe3c2ff5059512a1a307a9ec.jpg: 640x640 1 flag, 1 military, 1 plane, 11.7ms\n",
      "image 625/1048 /content/gdrive/MyDrive/Colab Notebooks/yolo/test/DPRK/a03bedb2847b0af7cfb30f462be442cf.jpg: 640x640 2 agricultural labourers, 2 factory workers, 1 military, 1 weapon, 10.6ms\n",
      "image 626/1048 /content/gdrive/MyDrive/Colab Notebooks/yolo/test/DPRK/a08039b6404cc1cdb90adce90da7cafe.jpg: 640x640 1 agricultural labourer, 1 headscarf, 10.8ms\n",
      "image 627/1048 /content/gdrive/MyDrive/Colab Notebooks/yolo/test/DPRK/a10e28c173ca6c051b72452fe4686872.jpg: 640x640 (no detections), 10.5ms\n",
      "image 628/1048 /content/gdrive/MyDrive/Colab Notebooks/yolo/test/DPRK/a10e3f22141b92c7d4ccc61ae7a883fc.jpg: 640x640 (no detections), 13.5ms\n",
      "image 629/1048 /content/gdrive/MyDrive/Colab Notebooks/yolo/test/DPRK/a1531554355475816191bf9cec6c40ae.jpg: 640x640 1 agricultural labourer, 3 headscarfs, 10.7ms\n",
      "image 630/1048 /content/gdrive/MyDrive/Colab Notebooks/yolo/test/DPRK/a1634b8af83e72d4061368ba94cc62a8.jpg: 640x640 1 book, 11.8ms\n",
      "image 631/1048 /content/gdrive/MyDrive/Colab Notebooks/yolo/test/DPRK/a1c22ded18633da6d62d3ad8bfdb22da.jpg: 640x640 1 factory worker, 14.9ms\n",
      "image 632/1048 /content/gdrive/MyDrive/Colab Notebooks/yolo/test/DPRK/a1e82b9f8e6645793ce88fd3c08b0a85.jpg: 640x640 (no detections), 15.1ms\n",
      "image 633/1048 /content/gdrive/MyDrive/Colab Notebooks/yolo/test/DPRK/a1ecb110c4a4a41808bc7cb78d7a772b.jpg: 640x640 1 flag, 1 sickle, 10.6ms\n",
      "image 634/1048 /content/gdrive/MyDrive/Colab Notebooks/yolo/test/DPRK/a2227d273a1b123568da167deed3aaa0.jpg: 640x640 1 agricultural labourer, 1 factory worker, 11.2ms\n",
      "image 635/1048 /content/gdrive/MyDrive/Colab Notebooks/yolo/test/DPRK/a28f7739c6fa8c628a0343ce454448d2.jpg: 640x640 1 building, 10.6ms\n",
      "image 636/1048 /content/gdrive/MyDrive/Colab Notebooks/yolo/test/DPRK/a2ce199a812ca59574eb9fc7fd078732.jpg: 640x640 1 agricultural labourer, 10.6ms\n",
      "image 637/1048 /content/gdrive/MyDrive/Colab Notebooks/yolo/test/DPRK/a32e7884c2823283418484ab14c34cfc.jpg: 640x640 1 factory worker, 1 flag, 1 headscarf, 12.9ms\n",
      "image 638/1048 /content/gdrive/MyDrive/Colab Notebooks/yolo/test/DPRK/a35c94d404ffdcdcc6dac00521dc968a.jpg: 640x640 2 agricultural labourers, 1 factory worker, 10.7ms\n",
      "image 639/1048 /content/gdrive/MyDrive/Colab Notebooks/yolo/test/DPRK/a36185cfe902afaed24929a34c935930.jpg: 640x640 1 agricultural labourer, 1 headscarf, 10.5ms\n",
      "image 640/1048 /content/gdrive/MyDrive/Colab Notebooks/yolo/test/DPRK/a472017be64735d921e91dc07ce37e66.jpg: 640x640 (no detections), 10.6ms\n",
      "image 641/1048 /content/gdrive/MyDrive/Colab Notebooks/yolo/test/DPRK/a4e6fe5b6e8d54af841311627b22dffa.jpg: 640x640 3 agricultural labourers, 1 flag, 1 office worker, 10.5ms\n",
      "image 642/1048 /content/gdrive/MyDrive/Colab Notebooks/yolo/test/DPRK/a4fb9e858073cf48123b5eb345f1c995.jpg: 640x640 2 militarys, 11.4ms\n",
      "image 643/1048 /content/gdrive/MyDrive/Colab Notebooks/yolo/test/DPRK/a52eccb22f3784aac8df19ed938631a0.jpg: 640x640 1 agricultural labourer, 13.4ms\n",
      "image 644/1048 /content/gdrive/MyDrive/Colab Notebooks/yolo/test/DPRK/a53b073c19d836f2672e5b162f4c582f.jpg: 640x640 1 factory worker, 1 flag, 10.7ms\n",
      "image 645/1048 /content/gdrive/MyDrive/Colab Notebooks/yolo/test/DPRK/a59cc7be28fad8ef00f655d981d6f8c4.jpg: 640x640 4 agricultural labourers, 11.4ms\n",
      "image 646/1048 /content/gdrive/MyDrive/Colab Notebooks/yolo/test/DPRK/a5c860d9a1ccb7116fd03d272ebea622.jpg: 640x640 1 agricultural labourer, 10.7ms\n",
      "image 647/1048 /content/gdrive/MyDrive/Colab Notebooks/yolo/test/DPRK/a60e8d0113bc241798849c58c1c6f9c1.jpg: 640x640 1 agricultural labourer, 12.1ms\n",
      "image 648/1048 /content/gdrive/MyDrive/Colab Notebooks/yolo/test/DPRK/a61ba5724c65b3aa6b32a56493904cc1.jpg: 640x640 1 factory worker, 11.3ms\n",
      "image 649/1048 /content/gdrive/MyDrive/Colab Notebooks/yolo/test/DPRK/a64b76cbb61e731b4dbb5cc2adfc138f.jpg: 640x640 (no detections), 12.5ms\n",
      "image 650/1048 /content/gdrive/MyDrive/Colab Notebooks/yolo/test/DPRK/a69799bbe0139350b912a026af2c3506.jpg: 640x640 (no detections), 10.4ms\n",
      "image 651/1048 /content/gdrive/MyDrive/Colab Notebooks/yolo/test/DPRK/a6c6212992514053a8d5ca1b7ad50873.jpg: 640x640 1 building, 1 factory worker, 11.2ms\n",
      "image 652/1048 /content/gdrive/MyDrive/Colab Notebooks/yolo/test/DPRK/a735e9f451402e9220bd34ff5f836ffc.jpg: 640x640 1 flag, 12.5ms\n",
      "image 653/1048 /content/gdrive/MyDrive/Colab Notebooks/yolo/test/DPRK/a73c7a98ecb1b00352009fef9bb9d919.jpg: 640x640 1 office worker, 11.2ms\n",
      "image 654/1048 /content/gdrive/MyDrive/Colab Notebooks/yolo/test/DPRK/a744e05d475e5176872393d045841982.jpg: 640x640 1 agricultural labourer, 1 factory worker, 1 headscarf, 10.5ms\n",
      "image 655/1048 /content/gdrive/MyDrive/Colab Notebooks/yolo/test/DPRK/a74ca85b1456d69235057b0b61dc5733.jpg: 640x640 1 agricultural labourer, 10.6ms\n",
      "image 656/1048 /content/gdrive/MyDrive/Colab Notebooks/yolo/test/DPRK/a751ac6e6280448fb8cbd1601633b8cf.jpg: 640x640 (no detections), 11.3ms\n",
      "image 657/1048 /content/gdrive/MyDrive/Colab Notebooks/yolo/test/DPRK/a7adf3030741be4b1362821d0a8b6b2e.jpg: 640x640 (no detections), 11.2ms\n",
      "image 658/1048 /content/gdrive/MyDrive/Colab Notebooks/yolo/test/DPRK/a92ce25ea010728b0cab2cfc3c942756.jpg: 640x640 (no detections), 11.3ms\n",
      "image 659/1048 /content/gdrive/MyDrive/Colab Notebooks/yolo/test/DPRK/a96ed0f22f4e01d834bd4c99a85fb7c9.jpg: 640x640 3 agricultural labourers, 1 wheat, 16.4ms\n",
      "image 660/1048 /content/gdrive/MyDrive/Colab Notebooks/yolo/test/DPRK/a9bbac530e4e51b5ba6be020be3c3e08.jpg: 640x640 1 agricultural labourer, 3 headscarfs, 1 wheat, 13.5ms\n",
      "image 661/1048 /content/gdrive/MyDrive/Colab Notebooks/yolo/test/DPRK/aafb830683c8e54eb8f0bc499641afa7.jpg: 640x640 1 flag, 11.0ms\n",
      "image 662/1048 /content/gdrive/MyDrive/Colab Notebooks/yolo/test/DPRK/ab5a697c22f8848b655fb4ae2c0b23ec.jpg: 640x640 1 military, 10.8ms\n",
      "image 663/1048 /content/gdrive/MyDrive/Colab Notebooks/yolo/test/DPRK/ab8e9afd3e6355b96fd8381b13798d25.jpg: 640x640 3 agricultural labourers, 1 headscarf, 10.8ms\n",
      "image 664/1048 /content/gdrive/MyDrive/Colab Notebooks/yolo/test/DPRK/ab9f10e49c767cbc9a3dfae14334d063.jpg: 640x640 1 agricultural labourer, 10.4ms\n",
      "image 665/1048 /content/gdrive/MyDrive/Colab Notebooks/yolo/test/DPRK/abba7194be212129519ff4ada9343bff.jpg: 640x640 (no detections), 10.7ms\n",
      "image 666/1048 /content/gdrive/MyDrive/Colab Notebooks/yolo/test/DPRK/abd1a5a6f6fb1873c3e7c05c4e2d4762.jpg: 640x640 2 agricultural labourers, 12.4ms\n",
      "image 667/1048 /content/gdrive/MyDrive/Colab Notebooks/yolo/test/DPRK/abeb1656fe5bbeab50671824e1cd8a42.jpg: 640x640 1 crane, 1 factory worker, 1 flag, 15.7ms\n",
      "image 668/1048 /content/gdrive/MyDrive/Colab Notebooks/yolo/test/DPRK/abf1f5c030506772fb65c3a1aa25529b.jpg: 640x640 1 agricultural labourer, 1 factory worker, 15.8ms\n",
      "image 669/1048 /content/gdrive/MyDrive/Colab Notebooks/yolo/test/DPRK/ac890545c3ef0a6d219d26f74c8a557d.jpg: 640x640 1 flag, 1 weapon, 10.4ms\n",
      "image 670/1048 /content/gdrive/MyDrive/Colab Notebooks/yolo/test/DPRK/acdd190819e252f0dddf59f9de43a159.jpg: 640x640 2 agricultural labourers, 10.4ms\n",
      "image 671/1048 /content/gdrive/MyDrive/Colab Notebooks/yolo/test/DPRK/acef60c67d21c9bea0759bd2b6b4deed.jpg: 640x640 1 agricultural labourer, 11.1ms\n",
      "image 672/1048 /content/gdrive/MyDrive/Colab Notebooks/yolo/test/DPRK/acf1f2d7b3a04d3b80186c6f85c9881f.jpg: 640x640 2 agricultural labourers, 1 factory worker, 10.8ms\n",
      "image 673/1048 /content/gdrive/MyDrive/Colab Notebooks/yolo/test/DPRK/acf67d44bd6261da10a8ba73dfbf1f89.jpg: 640x640 1 agricultural labourer, 13.3ms\n",
      "image 674/1048 /content/gdrive/MyDrive/Colab Notebooks/yolo/test/DPRK/ad1198487df153d76dc4fe0b4a8d47dd.jpg: 640x640 1 agricultural labourer, 1 flag, 10.4ms\n",
      "image 675/1048 /content/gdrive/MyDrive/Colab Notebooks/yolo/test/DPRK/ad1ac1444ba3325fd1bbe1d7a400bc37.jpg: 640x640 1 agricultural labourer, 1 headscarf, 1 machinery, 1 weapon, 11.0ms\n",
      "image 676/1048 /content/gdrive/MyDrive/Colab Notebooks/yolo/test/DPRK/ad5d47f376450b147809e218aa6873c2.jpg: 640x640 1 agricultural labourer, 10.6ms\n",
      "image 677/1048 /content/gdrive/MyDrive/Colab Notebooks/yolo/test/DPRK/ada6801a88a955d71ee8957205955087.jpg: 640x640 1 agricultural labourer, 11.1ms\n",
      "image 678/1048 /content/gdrive/MyDrive/Colab Notebooks/yolo/test/DPRK/adbade799b1159c78ec5e6b52c2e09d7.jpg: 640x640 2 agricultural labourers, 1 flag, 1 headscarf, 12.7ms\n",
      "image 679/1048 /content/gdrive/MyDrive/Colab Notebooks/yolo/test/DPRK/adbde8c55d7b568bc93421265692b99f.jpg: 640x640 2 factory workers, 12.1ms\n",
      "image 680/1048 /content/gdrive/MyDrive/Colab Notebooks/yolo/test/DPRK/addd18a8f99c9e56019dbb8a818d7e42.jpg: 640x640 1 agricultural labourer, 1 factory worker, 11.1ms\n",
      "image 681/1048 /content/gdrive/MyDrive/Colab Notebooks/yolo/test/DPRK/adea65a4b671bcd242c09feac62b59c9.jpg: 640x640 2 factory workers, 10.8ms\n",
      "image 682/1048 /content/gdrive/MyDrive/Colab Notebooks/yolo/test/DPRK/ae0019abd81b6535751a8901c24da576.jpg: 640x640 2 agricultural labourers, 11.1ms\n",
      "image 683/1048 /content/gdrive/MyDrive/Colab Notebooks/yolo/test/DPRK/ae14a5fee1cd12c2abb6d503a8052b01.jpg: 640x640 1 agricultural labourer, 10.9ms\n",
      "image 684/1048 /content/gdrive/MyDrive/Colab Notebooks/yolo/test/DPRK/aecff1230f2abdcea5433d644649d316.jpg: 640x640 1 agricultural labourer, 11.1ms\n",
      "image 685/1048 /content/gdrive/MyDrive/Colab Notebooks/yolo/test/DPRK/af44ea399cd667413110a141c59f05b9.jpg: 640x640 (no detections), 12.2ms\n",
      "image 686/1048 /content/gdrive/MyDrive/Colab Notebooks/yolo/test/DPRK/af68c37a831e776f8993427ca63334ea.jpg: 640x640 (no detections), 12.1ms\n",
      "image 687/1048 /content/gdrive/MyDrive/Colab Notebooks/yolo/test/DPRK/b03bf615aa97b5a4ae34eb871aed7ac4.jpg: 640x640 (no detections), 10.1ms\n",
      "image 688/1048 /content/gdrive/MyDrive/Colab Notebooks/yolo/test/DPRK/b07eaedd3d3af4b731ecc81c10f13549.jpg: 640x640 1 agricultural labourer, 1 flag, 12.0ms\n",
      "image 689/1048 /content/gdrive/MyDrive/Colab Notebooks/yolo/test/DPRK/b08baf7b2bc36c7cbf2685dba3a166ea.jpg: 640x640 (no detections), 10.7ms\n",
      "image 690/1048 /content/gdrive/MyDrive/Colab Notebooks/yolo/test/DPRK/b09c0d39b5ffc4aa672b65c83c991075.jpg: 640x640 1 factory worker, 11.1ms\n",
      "image 691/1048 /content/gdrive/MyDrive/Colab Notebooks/yolo/test/DPRK/b0d8f44463773188e12b4be891a9b212.jpg: 640x640 1 agricultural labourer, 1 machinery, 10.3ms\n",
      "image 692/1048 /content/gdrive/MyDrive/Colab Notebooks/yolo/test/DPRK/b11e0f94f8e51101adbca1121e991153.jpg: 640x640 1 agricultural labourer, 10.3ms\n",
      "image 693/1048 /content/gdrive/MyDrive/Colab Notebooks/yolo/test/DPRK/b1516f271a7a1ddd255e95d6530b95a1.jpg: 640x640 (no detections), 10.5ms\n",
      "image 694/1048 /content/gdrive/MyDrive/Colab Notebooks/yolo/test/DPRK/b1d4e8c2b67e2ef482090dcb091c5140.jpg: 640x640 1 agricultural labourer, 1 sky, 10.9ms\n",
      "image 695/1048 /content/gdrive/MyDrive/Colab Notebooks/yolo/test/DPRK/b27de2607e96d69cc57d7405c3d15d83.jpg: 640x640 (no detections), 10.5ms\n",
      "image 696/1048 /content/gdrive/MyDrive/Colab Notebooks/yolo/test/DPRK/b30ff2747a6cdcac899c476603e2f91b.jpg: 640x640 1 agricultural labourer, 15.7ms\n",
      "image 697/1048 /content/gdrive/MyDrive/Colab Notebooks/yolo/test/DPRK/b3165b9f69d7128399f9c7ffec94a5ec.jpg: 640x640 2 factory workers, 2 weapons, 19.1ms\n",
      "image 698/1048 /content/gdrive/MyDrive/Colab Notebooks/yolo/test/DPRK/b33b4659379600d8c256e28fd745616a.jpg: 640x640 2 agricultural labourers, 1 flag, 10.6ms\n",
      "image 699/1048 /content/gdrive/MyDrive/Colab Notebooks/yolo/test/DPRK/b3e7043e59bc2b012f0be095ce074742.jpg: 640x640 (no detections), 9.9ms\n",
      "image 700/1048 /content/gdrive/MyDrive/Colab Notebooks/yolo/test/DPRK/b41c6694c5812f362d673ab1e97ec251.jpg: 640x640 1 agricultural labourer, 1 factory worker, 1 hammer, 10.3ms\n",
      "image 701/1048 /content/gdrive/MyDrive/Colab Notebooks/yolo/test/DPRK/b4383df70884d71e94ccd7364ea1ba25.jpg: 640x640 2 flags, 12.1ms\n",
      "image 702/1048 /content/gdrive/MyDrive/Colab Notebooks/yolo/test/DPRK/b4b48ac7508917aed8f7d7f5635bd2d1.jpg: 640x640 (no detections), 16.0ms\n",
      "image 703/1048 /content/gdrive/MyDrive/Colab Notebooks/yolo/test/DPRK/b4da1c7e79fc380b3ad8bb68efb2ca1a.jpg: 640x640 (no detections), 14.6ms\n",
      "image 704/1048 /content/gdrive/MyDrive/Colab Notebooks/yolo/test/DPRK/b598060ab819ddddfac98ec851f92db8.jpg: 640x640 (no detections), 13.1ms\n",
      "image 705/1048 /content/gdrive/MyDrive/Colab Notebooks/yolo/test/DPRK/b5bc02a9a4c43ce0ebcd1bd3779fb0f7.jpg: 640x640 1 agricultural labourer, 1 headscarf, 12.4ms\n",
      "image 706/1048 /content/gdrive/MyDrive/Colab Notebooks/yolo/test/DPRK/b5be895dba0c7e41ce9b1caf8470c97d.jpg: 640x640 4 agricultural labourers, 3 weapons, 11.4ms\n",
      "image 707/1048 /content/gdrive/MyDrive/Colab Notebooks/yolo/test/DPRK/b5f70c039144a39cdfd2bde20853b7c2.jpg: 640x640 1 agricultural labourer, 1 sky, 10.0ms\n",
      "image 708/1048 /content/gdrive/MyDrive/Colab Notebooks/yolo/test/DPRK/b608a8153bf8a75f90b40c7194f019f2.jpg: 640x640 1 agricultural labourer, 1 factory worker, 2 flags, 1 hammer, 1 office worker, 1 sickle, 1 wheat, 10.4ms\n",
      "image 709/1048 /content/gdrive/MyDrive/Colab Notebooks/yolo/test/DPRK/b6567d7f2f40112dc5deb48a2315a936.jpg: 640x640 (no detections), 10.3ms\n",
      "image 710/1048 /content/gdrive/MyDrive/Colab Notebooks/yolo/test/DPRK/b69fe36a9b7e0e67dad684fd7299dc5d.jpg: 640x640 1 agricultural labourer, 1 factory worker, 10.0ms\n",
      "image 711/1048 /content/gdrive/MyDrive/Colab Notebooks/yolo/test/DPRK/b6a8e4cee4d0cc1896c7a16db6b192e6.jpg: 640x640 1 military, 9.7ms\n",
      "image 712/1048 /content/gdrive/MyDrive/Colab Notebooks/yolo/test/DPRK/b70be7cda7bc0e5f3f3929c2f9cf4af0.jpg: 640x640 1 factory worker, 9.7ms\n",
      "image 713/1048 /content/gdrive/MyDrive/Colab Notebooks/yolo/test/DPRK/b7cbf068bff16a40615bdaa114c69bb6.jpg: 640x640 1 factory worker, 9.9ms\n",
      "image 714/1048 /content/gdrive/MyDrive/Colab Notebooks/yolo/test/DPRK/b83d645bb93335c75f4679b4331cd16c.jpg: 640x640 (no detections), 9.3ms\n",
      "image 715/1048 /content/gdrive/MyDrive/Colab Notebooks/yolo/test/DPRK/b8c91973b6c7daf99178249e419ec126.jpg: 640x640 1 agricultural labourer, 1 building, 3 factory workers, 9.4ms\n",
      "image 716/1048 /content/gdrive/MyDrive/Colab Notebooks/yolo/test/DPRK/b956bfe5fd4eb2aa6c65543a4bdfb747.jpg: 640x640 1 agricultural labourer, 1 headscarf, 9.8ms\n",
      "image 717/1048 /content/gdrive/MyDrive/Colab Notebooks/yolo/test/DPRK/b98fc877ffcd6e461d5f87c20736bc4f.jpg: 640x640 1 agricultural labourer, 1 machinery, 11.8ms\n",
      "image 718/1048 /content/gdrive/MyDrive/Colab Notebooks/yolo/test/DPRK/b9a0ce3f1378d93045d2d9404611937f.jpg: 640x640 2 agricultural labourers, 4 headscarfs, 9.9ms\n",
      "image 719/1048 /content/gdrive/MyDrive/Colab Notebooks/yolo/test/DPRK/ba023246110abec7cb7bb0a316fafdcb.jpg: 640x640 (no detections), 11.0ms\n",
      "image 720/1048 /content/gdrive/MyDrive/Colab Notebooks/yolo/test/DPRK/bae709fd3ddc8a6f09981602cf026ccc.jpg: 640x640 (no detections), 9.4ms\n",
      "image 721/1048 /content/gdrive/MyDrive/Colab Notebooks/yolo/test/DPRK/bb0035305x_4.jpg: 640x640 1 factory worker, 9.6ms\n",
      "image 722/1048 /content/gdrive/MyDrive/Colab Notebooks/yolo/test/DPRK/bb0308344g_4.jpg: 640x640 3 cranes, 9.5ms\n",
      "image 723/1048 /content/gdrive/MyDrive/Colab Notebooks/yolo/test/DPRK/bb03766057_4.jpg: 640x640 1 factory worker, 1 office worker, 1 weapon, 10.7ms\n",
      "image 724/1048 /content/gdrive/MyDrive/Colab Notebooks/yolo/test/DPRK/bb0649646t_4.jpg: 640x640 (no detections), 10.5ms\n",
      "image 725/1048 /content/gdrive/MyDrive/Colab Notebooks/yolo/test/DPRK/bb0717904k_4.jpg: 640x640 (no detections), 9.4ms\n",
      "image 726/1048 /content/gdrive/MyDrive/Colab Notebooks/yolo/test/DPRK/bb0990946c_4.jpg: 640x640 1 flag, 1 military, 1 sickle, 9.8ms\n",
      "image 727/1048 /content/gdrive/MyDrive/Colab Notebooks/yolo/test/DPRK/bb0c23cee627161adcfbe7b48ac1cceb.jpg: 640x640 2 agricultural labourers, 1 flag, 1 hammer, 1 headscarf, 1 sickle, 10.1ms\n",
      "image 728/1048 /content/gdrive/MyDrive/Colab Notebooks/yolo/test/DPRK/bb1025075w_4.jpg: 640x640 1 agricultural labourer, 1 headscarf, 1 wheat, 9.8ms\n",
      "image 729/1048 /content/gdrive/MyDrive/Colab Notebooks/yolo/test/DPRK/bb12639869_4.jpg: 640x640 1 factory worker, 1 plane, 9.5ms\n",
      "image 730/1048 /content/gdrive/MyDrive/Colab Notebooks/yolo/test/DPRK/bb13322440_4.jpg: 640x640 (no detections), 9.3ms\n",
      "image 731/1048 /content/gdrive/MyDrive/Colab Notebooks/yolo/test/DPRK/bb1605287m_4.jpg: 640x640 2 militarys, 9.2ms\n",
      "image 732/1048 /content/gdrive/MyDrive/Colab Notebooks/yolo/test/DPRK/bb16735449_4.jpg: 640x640 2 factory workers, 3 flags, 1 weapon, 9.9ms\n",
      "image 733/1048 /content/gdrive/MyDrive/Colab Notebooks/yolo/test/DPRK/bb1946586d_4.jpg: 640x640 (no detections), 11.6ms\n",
      "image 734/1048 /content/gdrive/MyDrive/Colab Notebooks/yolo/test/DPRK/bb2014845j_4.jpg: 640x640 1 factory worker, 15.1ms\n",
      "image 735/1048 /content/gdrive/MyDrive/Colab Notebooks/yolo/test/DPRK/bb22878852_4.jpg: 640x640 (no detections), 9.4ms\n",
      "image 736/1048 /content/gdrive/MyDrive/Colab Notebooks/yolo/test/DPRK/bb2322014k_4.jpg: 640x640 1 factory worker, 9.5ms\n",
      "image 737/1048 /content/gdrive/MyDrive/Colab Notebooks/yolo/test/DPRK/bb25609271_4.jpg: 640x640 (no detections), 9.8ms\n",
      "image 738/1048 /content/gdrive/MyDrive/Colab Notebooks/yolo/test/DPRK/bb2629184b_4.jpg: 640x640 (no detections), 13.5ms\n",
      "image 739/1048 /content/gdrive/MyDrive/Colab Notebooks/yolo/test/DPRK/bb2902225s_4.jpg: 640x640 (no detections), 13.8ms\n",
      "image 740/1048 /content/gdrive/MyDrive/Colab Notebooks/yolo/test/DPRK/bb2970484w_4.jpg: 640x640 (no detections), 13.9ms\n",
      "image 741/1048 /content/gdrive/MyDrive/Colab Notebooks/yolo/test/DPRK/bb3243525z_4.jpg: 640x640 (no detections), 12.2ms\n",
      "image 742/1048 /content/gdrive/MyDrive/Colab Notebooks/yolo/test/DPRK/bb3277655n_4.jpg: 640x640 (no detections), 9.7ms\n",
      "image 743/1048 /content/gdrive/MyDrive/Colab Notebooks/yolo/test/DPRK/bb35848258_4.jpg: 640x640 (no detections), 9.8ms\n",
      "image 744/1048 /content/gdrive/MyDrive/Colab Notebooks/yolo/test/DPRK/bb36189561_4.jpg: 640x640 (no detections), 10.2ms\n",
      "image 745/1048 /content/gdrive/MyDrive/Colab Notebooks/yolo/test/DPRK/bb3857865b_4.jpg: 640x640 1 agricultural labourer, 4 weapons, 12.6ms\n",
      "image 746/1048 /content/gdrive/MyDrive/Colab Notebooks/yolo/test/DPRK/bb3926126k_4.jpg: 640x640 1 factory worker, 10.9ms\n",
      "image 747/1048 /content/gdrive/MyDrive/Colab Notebooks/yolo/test/DPRK/bb4199164x_4.jpg: 640x640 1 factory worker, 1 military, 11.1ms\n",
      "image 748/1048 /content/gdrive/MyDrive/Colab Notebooks/yolo/test/DPRK/bb4233295x_4.jpg: 640x640 (no detections), 10.3ms\n",
      "image 749/1048 /content/gdrive/MyDrive/Colab Notebooks/yolo/test/DPRK/bb4540465j_4.jpg: 640x640 1 factory worker, 1 military, 1 office worker, 10.7ms\n",
      "image 750/1048 /content/gdrive/MyDrive/Colab Notebooks/yolo/test/DPRK/bb4574596r_4.jpg: 640x640 (no detections), 12.2ms\n",
      "image 751/1048 /content/gdrive/MyDrive/Colab Notebooks/yolo/test/DPRK/bb4813506r_4.jpg: 640x640 (no detections), 10.7ms\n",
      "image 752/1048 /content/gdrive/MyDrive/Colab Notebooks/yolo/test/DPRK/bb4881766c_4.jpg: 640x640 (no detections), 10.4ms\n",
      "image 753/1048 /content/gdrive/MyDrive/Colab Notebooks/yolo/test/DPRK/bb4915896m_4.jpg: 640x640 (no detections), 10.4ms\n",
      "image 754/1048 /content/gdrive/MyDrive/Colab Notebooks/yolo/test/DPRK/bb5154804w_4.jpg: 640x640 (no detections), 10.7ms\n",
      "image 755/1048 /content/gdrive/MyDrive/Colab Notebooks/yolo/test/DPRK/bb51889353_4.jpg: 640x640 1 flag, 9.7ms\n",
      "image 756/1048 /content/gdrive/MyDrive/Colab Notebooks/yolo/test/DPRK/bb54961044_4.jpg: 640x640 1 factory worker, 9.7ms\n",
      "image 757/1048 /content/gdrive/MyDrive/Colab Notebooks/yolo/test/DPRK/bb55302375_4.jpg: 640x640 1 factory worker, 1 military, 1 weapon, 10.2ms\n",
      "image 758/1048 /content/gdrive/MyDrive/Colab Notebooks/yolo/test/DPRK/bb58374061_4.jpg: 640x640 2 militarys, 3 weapons, 10.3ms\n",
      "image 759/1048 /content/gdrive/MyDrive/Colab Notebooks/yolo/test/DPRK/bb5871536z_4.jpg: 640x640 2 militarys, 10.4ms\n",
      "image 760/1048 /content/gdrive/MyDrive/Colab Notebooks/yolo/test/DPRK/bb61104445_4.jpg: 640x640 (no detections), 12.2ms\n",
      "image 761/1048 /content/gdrive/MyDrive/Colab Notebooks/yolo/test/DPRK/bb6144574v_4.jpg: 640x640 (no detections), 10.1ms\n",
      "image 762/1048 /content/gdrive/MyDrive/Colab Notebooks/yolo/test/DPRK/bb62128355_4.jpg: 640x640 (no detections), 9.6ms\n",
      "image 763/1048 /content/gdrive/MyDrive/Colab Notebooks/yolo/test/DPRK/bb6451744g_4.jpg: 640x640 1 factory worker, 10.6ms\n",
      "image 764/1048 /content/gdrive/MyDrive/Colab Notebooks/yolo/test/DPRK/bb6485877q_4.jpg: 640x640 1 factory worker, 10.5ms\n",
      "image 765/1048 /content/gdrive/MyDrive/Colab Notebooks/yolo/test/DPRK/bb6793044q_4.jpg: 640x640 1 agricultural labourer, 10.7ms\n",
      "image 766/1048 /content/gdrive/MyDrive/Colab Notebooks/yolo/test/DPRK/bb68271781_4.jpg: 640x640 1 military, 10.1ms\n",
      "image 767/1048 /content/gdrive/MyDrive/Colab Notebooks/yolo/test/DPRK/bb7100214r_4.jpg: 640x640 1 factory worker, 10.5ms\n",
      "image 768/1048 /content/gdrive/MyDrive/Colab Notebooks/yolo/test/DPRK/bb71684744_4.jpg: 640x640 1 factory worker, 10.6ms\n",
      "image 769/1048 /content/gdrive/MyDrive/Colab Notebooks/yolo/test/DPRK/bb7407384h_4.jpg: 640x640 2 agricultural labourers, 3 factory workers, 1 headscarf, 1 weapon, 10.6ms\n",
      "image 770/1048 /content/gdrive/MyDrive/Colab Notebooks/yolo/test/DPRK/bb7441515k_4.jpg: 640x640 1 factory worker, 11.8ms\n",
      "image 771/1048 /content/gdrive/MyDrive/Colab Notebooks/yolo/test/DPRK/bb75097740_4.jpg: 640x640 1 agricultural labourer, 2 flags, 10.4ms\n",
      "image 772/1048 /content/gdrive/MyDrive/Colab Notebooks/yolo/test/DPRK/bb7748685b_4.jpg: 640x640 1 military, 10.7ms\n",
      "image 773/1048 /content/gdrive/MyDrive/Colab Notebooks/yolo/test/DPRK/bb7782817x_4.jpg: 640x640 (no detections), 10.3ms\n",
      "image 774/1048 /content/gdrive/MyDrive/Colab Notebooks/yolo/test/DPRK/bb80558549_4.jpg: 640x640 (no detections), 17.0ms\n",
      "image 775/1048 /content/gdrive/MyDrive/Colab Notebooks/yolo/test/DPRK/bb81241162_4.jpg: 640x640 (no detections), 10.1ms\n",
      "image 776/1048 /content/gdrive/MyDrive/Colab Notebooks/yolo/test/DPRK/bb8397156k_4.jpg: 640x640 1 headscarf, 1 weapon, 10.1ms\n",
      "image 777/1048 /content/gdrive/MyDrive/Colab Notebooks/yolo/test/DPRK/bb8465414b_4.jpg: 640x640 1 flag, 15.0ms\n",
      "image 778/1048 /content/gdrive/MyDrive/Colab Notebooks/yolo/test/DPRK/bb8704324q_4.jpg: 640x640 (no detections), 14.0ms\n",
      "image 779/1048 /content/gdrive/MyDrive/Colab Notebooks/yolo/test/DPRK/bb8738457z_4.jpg: 640x640 1 agricultural labourer, 12.9ms\n",
      "image 780/1048 /content/gdrive/MyDrive/Colab Notebooks/yolo/test/DPRK/bb88067146_4.jpg: 640x640 (no detections), 9.2ms\n",
      "image 781/1048 /content/gdrive/MyDrive/Colab Notebooks/yolo/test/DPRK/bb9011494k_4.jpg: 640x640 (no detections), 9.3ms\n",
      "image 782/1048 /content/gdrive/MyDrive/Colab Notebooks/yolo/test/DPRK/bb9079756m_4.jpg: 640x640 1 factory worker, 10.8ms\n",
      "image 783/1048 /content/gdrive/MyDrive/Colab Notebooks/yolo/test/DPRK/bb9352795d_4.jpg: 640x640 1 weapon, 11.1ms\n",
      "image 784/1048 /content/gdrive/MyDrive/Colab Notebooks/yolo/test/DPRK/bb94210554_4.jpg: 640x640 2 weapons, 10.6ms\n",
      "image 785/1048 /content/gdrive/MyDrive/Colab Notebooks/yolo/test/DPRK/bb96940986_4.jpg: 640x640 2 agricultural labourers, 10.3ms\n",
      "image 786/1048 /content/gdrive/MyDrive/Colab Notebooks/yolo/test/DPRK/bb9762353d_4.jpg: 640x640 1 factory worker, 10.0ms\n",
      "image 787/1048 /content/gdrive/MyDrive/Colab Notebooks/yolo/test/DPRK/bb9967135b_4.jpg: 640x640 2 factory workers, 9.7ms\n",
      "image 788/1048 /content/gdrive/MyDrive/Colab Notebooks/yolo/test/DPRK/bc0217a79306f71f81f0cd6f19f1c53a.jpg: 640x640 1 factory worker, 9.9ms\n",
      "image 789/1048 /content/gdrive/MyDrive/Colab Notebooks/yolo/test/DPRK/bc1913cd6ea34e5ae3b0aa84527fb290.jpg: 640x640 1 factory worker, 10.3ms\n",
      "image 790/1048 /content/gdrive/MyDrive/Colab Notebooks/yolo/test/DPRK/bc48c1a8569e49ed9396ccef113a5580.jpg: 640x640 1 factory worker, 10.7ms\n",
      "image 791/1048 /content/gdrive/MyDrive/Colab Notebooks/yolo/test/DPRK/bca20ecdaaaf3b106c276cb5f3d34788.jpg: 640x640 1 factory worker, 10.4ms\n",
      "image 792/1048 /content/gdrive/MyDrive/Colab Notebooks/yolo/test/DPRK/bce3630ade2bc4ea9a94a326d2f21fc5.jpg: 640x640 2 hammers, 8 planes, 10.5ms\n",
      "image 793/1048 /content/gdrive/MyDrive/Colab Notebooks/yolo/test/DPRK/beb20169a93e67bcd8e05db937e2e0ec.jpg: 640x640 1 agricultural labourer, 1 factory worker, 10.3ms\n",
      "image 794/1048 /content/gdrive/MyDrive/Colab Notebooks/yolo/test/DPRK/beebb32f80918a852217de404701e2b5.jpg: 640x640 (no detections), 10.0ms\n",
      "image 795/1048 /content/gdrive/MyDrive/Colab Notebooks/yolo/test/DPRK/bef92e5a23598149f58af294fee84757.jpg: 640x640 (no detections), 10.1ms\n",
      "image 796/1048 /content/gdrive/MyDrive/Colab Notebooks/yolo/test/DPRK/bf53f3755c9528e0af114cfa6ac40587.jpg: 640x640 2 agricultural labourers, 1 headscarf, 10.2ms\n",
      "image 797/1048 /content/gdrive/MyDrive/Colab Notebooks/yolo/test/DPRK/bf66818475aae5cc1d698bd639739356.jpg: 640x640 1 agricultural labourer, 11.5ms\n",
      "image 798/1048 /content/gdrive/MyDrive/Colab Notebooks/yolo/test/DPRK/bf6a1296601125d84962b784c124170b.jpg: 640x640 2 flags, 11.2ms\n",
      "image 799/1048 /content/gdrive/MyDrive/Colab Notebooks/yolo/test/DPRK/bfb6fe85c261be118643c8d420aae0ca.jpg: 640x640 (no detections), 10.2ms\n",
      "image 800/1048 /content/gdrive/MyDrive/Colab Notebooks/yolo/test/DPRK/bfc0d866cd57291dac40ef4093114447.jpg: 640x640 1 agricultural labourer, 9.7ms\n",
      "image 801/1048 /content/gdrive/MyDrive/Colab Notebooks/yolo/test/DPRK/bfe00cf406012752698360381b419776.jpg: 640x640 1 agricultural labourer, 1 weapon, 10.0ms\n",
      "image 802/1048 /content/gdrive/MyDrive/Colab Notebooks/yolo/test/DPRK/c0047dc8d121e780a29d42a09509f0a8.jpg: 640x640 1 factory worker, 9.8ms\n",
      "image 803/1048 /content/gdrive/MyDrive/Colab Notebooks/yolo/test/DPRK/c0220a9c0de38f8bfd50cf6d4ed8f425.jpg: 640x640 1 agricultural labourer, 10.3ms\n",
      "image 804/1048 /content/gdrive/MyDrive/Colab Notebooks/yolo/test/DPRK/c08972fd86f4c586cbf3267ec2fa0e76.jpg: 640x640 1 sickle, 10.1ms\n",
      "image 805/1048 /content/gdrive/MyDrive/Colab Notebooks/yolo/test/DPRK/c0d884bb2bf60a677ee768487ffe37a3.jpg: 640x640 1 agricultural labourer, 2 factory workers, 11.7ms\n",
      "image 806/1048 /content/gdrive/MyDrive/Colab Notebooks/yolo/test/DPRK/c0e283330b45323b68abe55de367625b.jpg: 640x640 1 agricultural labourer, 9.9ms\n",
      "image 807/1048 /content/gdrive/MyDrive/Colab Notebooks/yolo/test/DPRK/c0f7eecfc5bd54b0993e5292a85bd81d.jpg: 640x640 1 factory worker, 9.5ms\n",
      "image 808/1048 /content/gdrive/MyDrive/Colab Notebooks/yolo/test/DPRK/c103008df26f1d26a49d2f34c8c5693f.jpg: 640x640 (no detections), 9.8ms\n",
      "image 809/1048 /content/gdrive/MyDrive/Colab Notebooks/yolo/test/DPRK/c194140ad7abea16abb4dac3959dfe31.jpg: 640x640 2 factory workers, 1 headscarf, 9.7ms\n",
      "image 810/1048 /content/gdrive/MyDrive/Colab Notebooks/yolo/test/DPRK/c1ffffc2831b4bdbdbfc2d93823fcb8f.jpg: 640x640 (no detections), 9.6ms\n",
      "image 811/1048 /content/gdrive/MyDrive/Colab Notebooks/yolo/test/DPRK/c24c58561e26d86de48b75535a3da3b0.jpg: 640x640 1 agricultural labourer, 2 headscarfs, 9.8ms\n",
      "image 812/1048 /content/gdrive/MyDrive/Colab Notebooks/yolo/test/DPRK/c308113dbec4277f7edfb9622d5aafb2.jpg: 640x640 1 agricultural labourer, 1 factory worker, 1 headscarf, 9.7ms\n",
      "image 813/1048 /content/gdrive/MyDrive/Colab Notebooks/yolo/test/DPRK/c31584b90041d2f61f111f8961549c18.jpg: 640x640 1 agricultural labourer, 11.5ms\n",
      "image 814/1048 /content/gdrive/MyDrive/Colab Notebooks/yolo/test/DPRK/c3376a6ae095f304ec9472812be4eaa3.jpg: 640x640 1 agricultural labourer, 14.3ms\n",
      "image 815/1048 /content/gdrive/MyDrive/Colab Notebooks/yolo/test/DPRK/c3689a9bd805072323885ad6507da5ad.jpg: 640x640 1 factory worker, 13.5ms\n",
      "image 816/1048 /content/gdrive/MyDrive/Colab Notebooks/yolo/test/DPRK/c386dd24cc8e11614a6c63ab9f332e48.jpg: 640x640 3 agricultural labourers, 2 flags, 1 plane, 14.5ms\n",
      "image 817/1048 /content/gdrive/MyDrive/Colab Notebooks/yolo/test/DPRK/c38772d5d4da4c2c79c62789724861cb.jpg: 640x640 1 agricultural labourer, 1 factory worker, 1 headscarf, 13.3ms\n",
      "image 818/1048 /content/gdrive/MyDrive/Colab Notebooks/yolo/test/DPRK/c3e0a510168ea874f7da3b5c038f75cd.jpg: 640x640 2 factory workers, 1 flag, 1 military, 13.1ms\n",
      "image 819/1048 /content/gdrive/MyDrive/Colab Notebooks/yolo/test/DPRK/c44162fb38a526170e68350703432e2b.jpg: 640x640 2 agricultural labourers, 1 factory worker, 9.5ms\n",
      "image 820/1048 /content/gdrive/MyDrive/Colab Notebooks/yolo/test/DPRK/c4581436890f4bcfff2fc173f307855f.jpg: 640x640 2 agricultural labourers, 9.7ms\n",
      "image 821/1048 /content/gdrive/MyDrive/Colab Notebooks/yolo/test/DPRK/c4ad446b1812b5e88225ff09b56eb713.jpg: 640x640 1 factory worker, 2 flags, 10.6ms\n",
      "image 822/1048 /content/gdrive/MyDrive/Colab Notebooks/yolo/test/DPRK/c597e808b6a8c70e4782fa50169b8f1b.jpg: 640x640 (no detections), 10.2ms\n",
      "image 823/1048 /content/gdrive/MyDrive/Colab Notebooks/yolo/test/DPRK/c603e5df1a553c22ce9244e98ddee0cc.jpg: 640x640 (no detections), 10.2ms\n",
      "image 824/1048 /content/gdrive/MyDrive/Colab Notebooks/yolo/test/DPRK/c608ce47f456923ec3c7c3516fe37979.jpg: 640x640 2 agricultural labourers, 10.4ms\n",
      "image 825/1048 /content/gdrive/MyDrive/Colab Notebooks/yolo/test/DPRK/c64c685986123208c8ba4e6f2d143e02.jpg: 640x640 1 agricultural labourer, 1 flag, 2 headscarfs, 11.0ms\n",
      "image 826/1048 /content/gdrive/MyDrive/Colab Notebooks/yolo/test/DPRK/c66a126ad312b67d0a094339878434a1.jpg: 640x640 1 agricultural labourer, 10.5ms\n",
      "image 827/1048 /content/gdrive/MyDrive/Colab Notebooks/yolo/test/DPRK/c79e99d8c013c6b36970b641dda5aaa1.jpg: 640x640 (no detections), 10.2ms\n",
      "image 828/1048 /content/gdrive/MyDrive/Colab Notebooks/yolo/test/DPRK/c7e9f7b49a4bde76e74afddcd9ace13e.jpg: 640x640 2 agricultural labourers, 10.3ms\n",
      "image 829/1048 /content/gdrive/MyDrive/Colab Notebooks/yolo/test/DPRK/c81edaf1b632c1f36471dfb0ce62b5ac.jpg: 640x640 1 agricultural labourer, 1 building, 1 factory worker, 3 flags, 12.3ms\n",
      "image 830/1048 /content/gdrive/MyDrive/Colab Notebooks/yolo/test/DPRK/c84f88544c6792e4f44d041e1c95baa7.jpg: 640x640 1 agricultural labourer, 10.6ms\n",
      "image 831/1048 /content/gdrive/MyDrive/Colab Notebooks/yolo/test/DPRK/c8a861e6cf01ffbcb66abd0da675df6c.jpg: 640x640 2 agricultural labourers, 1 headscarf, 10.6ms\n",
      "image 832/1048 /content/gdrive/MyDrive/Colab Notebooks/yolo/test/DPRK/c94424f74dd79d72903d837230f1d798.jpg: 640x640 1 agricultural labourer, 2 factory workers, 10.1ms\n",
      "image 833/1048 /content/gdrive/MyDrive/Colab Notebooks/yolo/test/DPRK/c9879e04c9beace089a5ac56e1cd999d.jpg: 640x640 1 agricultural labourer, 1 factory worker, 9.7ms\n",
      "image 834/1048 /content/gdrive/MyDrive/Colab Notebooks/yolo/test/DPRK/ca404d1d03c2f49b73b1cd84bd2c6335.jpg: 640x640 1 agricultural labourer, 3 factory workers, 2 militarys, 1 office worker, 9.7ms\n",
      "image 835/1048 /content/gdrive/MyDrive/Colab Notebooks/yolo/test/DPRK/ca6231165e6d00415974fcc0b494adf0.jpg: 640x640 2 agricultural labourers, 1 factory worker, 10.0ms\n",
      "image 836/1048 /content/gdrive/MyDrive/Colab Notebooks/yolo/test/DPRK/ca867d26be3a56ef44b169e97be3a289.jpg: 640x640 2 agricultural labourers, 1 headscarf, 9.7ms\n",
      "image 837/1048 /content/gdrive/MyDrive/Colab Notebooks/yolo/test/DPRK/ca87935c415cb227444713de582c70c6.jpg: 640x640 1 agricultural labourer, 1 factory worker, 1 office worker, 10.0ms\n",
      "image 838/1048 /content/gdrive/MyDrive/Colab Notebooks/yolo/test/DPRK/caf69cff50a0176ee19acb2cb9aa5f2a.jpg: 640x640 1 factory worker, 9.5ms\n",
      "image 839/1048 /content/gdrive/MyDrive/Colab Notebooks/yolo/test/DPRK/cb4b0e3d240d75fa54a42d5e9c732187.jpg: 640x640 (no detections), 9.2ms\n",
      "image 840/1048 /content/gdrive/MyDrive/Colab Notebooks/yolo/test/DPRK/cbf1576b7d0b1e93545d7323a5243853.jpg: 640x640 2 agricultural labourers, 9.1ms\n",
      "image 841/1048 /content/gdrive/MyDrive/Colab Notebooks/yolo/test/DPRK/cc6956bf1c6d4726641b956231b07749.jpg: 640x640 (no detections), 10.5ms\n",
      "image 842/1048 /content/gdrive/MyDrive/Colab Notebooks/yolo/test/DPRK/cc95c668666a4b44526ba4e3531d3c8b.jpg: 640x640 2 hammers, 6 planes, 9.6ms\n",
      "image 843/1048 /content/gdrive/MyDrive/Colab Notebooks/yolo/test/DPRK/ccbb34cfd26c51da06c6084957f0d854.jpg: 640x640 1 factory worker, 9.9ms\n",
      "image 844/1048 /content/gdrive/MyDrive/Colab Notebooks/yolo/test/DPRK/ccf081047193d7ceb324bdc01eb38660.jpg: 640x640 1 agricultural labourer, 1 flag, 9.8ms\n",
      "image 845/1048 /content/gdrive/MyDrive/Colab Notebooks/yolo/test/DPRK/cd33e0fb60c4d4c8bf1f45992ac47d42.jpg: 640x640 (no detections), 9.7ms\n",
      "image 846/1048 /content/gdrive/MyDrive/Colab Notebooks/yolo/test/DPRK/cd6469e147ad41d599ca3204776a99ca.jpg: 640x640 2 agricultural labourers, 19.5ms\n",
      "image 847/1048 /content/gdrive/MyDrive/Colab Notebooks/yolo/test/DPRK/cd88844cd4f0b57d0a4af7f9617f3b74.jpg: 640x640 1 agricultural labourer, 12.1ms\n",
      "image 848/1048 /content/gdrive/MyDrive/Colab Notebooks/yolo/test/DPRK/cdce1a79ca11a0253db2684ea3b2a7f5.jpg: 640x640 2 agricultural labourers, 10.7ms\n",
      "image 849/1048 /content/gdrive/MyDrive/Colab Notebooks/yolo/test/DPRK/cde8a65b3ca240986f6b551fff1d7db8.jpg: 640x640 (no detections), 11.0ms\n",
      "image 850/1048 /content/gdrive/MyDrive/Colab Notebooks/yolo/test/DPRK/ce172a2843234636c2e645877cfaee0a.jpg: 640x640 1 agricultural labourer, 1 headscarf, 10.9ms\n",
      "image 851/1048 /content/gdrive/MyDrive/Colab Notebooks/yolo/test/DPRK/ce36bf324ae1046cdf117a5476dd953a.jpg: 640x640 2 factory workers, 10.4ms\n",
      "image 852/1048 /content/gdrive/MyDrive/Colab Notebooks/yolo/test/DPRK/cf4bbdb77c820dcefbeb2ad2d73ade5d.jpg: 640x640 1 agricultural labourer, 10.4ms\n",
      "image 853/1048 /content/gdrive/MyDrive/Colab Notebooks/yolo/test/DPRK/cf7e7f77214d9f6f3e9eaaf28a81e225.jpg: 640x640 (no detections), 16.3ms\n",
      "image 854/1048 /content/gdrive/MyDrive/Colab Notebooks/yolo/test/DPRK/cfabca7812a4dbe1bafeb320ad78d778.jpg: 640x640 2 factory workers, 17.9ms\n",
      "image 855/1048 /content/gdrive/MyDrive/Colab Notebooks/yolo/test/DPRK/cfe163a1da3693edc2c2c5baa517a7b5.jpg: 640x640 1 factory worker, 1 flag, 1 star, 12.7ms\n",
      "image 856/1048 /content/gdrive/MyDrive/Colab Notebooks/yolo/test/DPRK/d0604155f46256a2d5e5f8f0c3ccd26d.jpg: 640x640 1 agricultural labourer, 13.2ms\n",
      "image 857/1048 /content/gdrive/MyDrive/Colab Notebooks/yolo/test/DPRK/d092fc7d55e1534eb7cc04581415f76d.jpg: 640x640 2 agricultural labourers, 2 flags, 13.7ms\n",
      "image 858/1048 /content/gdrive/MyDrive/Colab Notebooks/yolo/test/DPRK/d0bc915946fa704779712136b8cf2b8f.jpg: 640x640 (no detections), 10.3ms\n",
      "image 859/1048 /content/gdrive/MyDrive/Colab Notebooks/yolo/test/DPRK/d0d60f8f9a672ff692294b5357899ee6.jpg: 640x640 2 agricultural labourers, 10.0ms\n",
      "image 860/1048 /content/gdrive/MyDrive/Colab Notebooks/yolo/test/DPRK/d14d23c99ff8bd634f223050dce9bf2c.jpg: 640x640 2 factory workers, 9.9ms\n",
      "image 861/1048 /content/gdrive/MyDrive/Colab Notebooks/yolo/test/DPRK/d1529d3dbb58c74f6c37c2bfb7355df3.jpg: 640x640 1 agricultural labourer, 10.0ms\n",
      "image 862/1048 /content/gdrive/MyDrive/Colab Notebooks/yolo/test/DPRK/d163b99f98bb043fcd1cd8e6d707afde.jpg: 640x640 1 agricultural labourer, 1 factory worker, 1 flag, 1 plane, 11.6ms\n",
      "image 863/1048 /content/gdrive/MyDrive/Colab Notebooks/yolo/test/DPRK/d193e38c71dfbcc03566f5de3402fdc5.jpg: 640x640 (no detections), 10.6ms\n",
      "image 864/1048 /content/gdrive/MyDrive/Colab Notebooks/yolo/test/DPRK/d1ca4064ceed5de318b4144fb8f3ff21.jpg: 640x640 1 agricultural labourer, 1 factory worker, 9.4ms\n",
      "image 865/1048 /content/gdrive/MyDrive/Colab Notebooks/yolo/test/DPRK/d22a8f69eaf80b38b6477b4181158a93.jpg: 640x640 1 flag, 1 plane, 9.8ms\n",
      "image 866/1048 /content/gdrive/MyDrive/Colab Notebooks/yolo/test/DPRK/d235b08d77a154e0d8d8d50b8ef88757.jpg: 640x640 1 agricultural labourer, 9.8ms\n",
      "image 867/1048 /content/gdrive/MyDrive/Colab Notebooks/yolo/test/DPRK/d237ef663bccad58d94a744d0c3158b5.jpg: 640x640 1 agricultural labourer, 1 headscarf, 9.9ms\n",
      "image 868/1048 /content/gdrive/MyDrive/Colab Notebooks/yolo/test/DPRK/d29c994e644734463a6dbf9b0049c06f.jpg: 640x640 (no detections), 9.6ms\n",
      "image 869/1048 /content/gdrive/MyDrive/Colab Notebooks/yolo/test/DPRK/d2d3657c31c59fe91b638c8207cbd51c.jpg: 640x640 (no detections), 10.7ms\n",
      "image 870/1048 /content/gdrive/MyDrive/Colab Notebooks/yolo/test/DPRK/d3159265027be5bcd6d8f8d47a77f2b8.jpg: 640x640 2 agricultural labourers, 9.8ms\n",
      "image 871/1048 /content/gdrive/MyDrive/Colab Notebooks/yolo/test/DPRK/d3295ae94950df49f1c2459933efdbf4.jpg: 640x640 2 agricultural labourers, 1 factory worker, 5 flags, 9.6ms\n",
      "image 872/1048 /content/gdrive/MyDrive/Colab Notebooks/yolo/test/DPRK/d33f0d290b4872c5ec18b143d7877af3.jpg: 640x640 (no detections), 9.5ms\n",
      "image 873/1048 /content/gdrive/MyDrive/Colab Notebooks/yolo/test/DPRK/d36319edf8e8b56ab3daf1f9629ef49c.jpg: 640x640 1 agricultural labourer, 9.4ms\n",
      "image 874/1048 /content/gdrive/MyDrive/Colab Notebooks/yolo/test/DPRK/d36c21098dbed60d687e70119180a00a.jpg: 640x640 1 agricultural labourer, 9.5ms\n",
      "image 875/1048 /content/gdrive/MyDrive/Colab Notebooks/yolo/test/DPRK/d37ef063ea9e6f208934ad9b827ab524.jpg: 640x640 (no detections), 11.1ms\n",
      "image 876/1048 /content/gdrive/MyDrive/Colab Notebooks/yolo/test/DPRK/d3adc4999f92f02dde20dd39dfbe23c6.jpg: 640x640 2 agricultural labourers, 1 factory worker, 1 horse, 9.9ms\n",
      "image 877/1048 /content/gdrive/MyDrive/Colab Notebooks/yolo/test/DPRK/d3f06ac313f0b7ac2c6ad7e87e181c5d.jpg: 640x640 4 agricultural labourers, 10.2ms\n",
      "image 878/1048 /content/gdrive/MyDrive/Colab Notebooks/yolo/test/DPRK/d3fe5e0fac9e719b16b886d02086da4c.jpg: 640x640 2 flags, 1 horse, 10.5ms\n",
      "image 879/1048 /content/gdrive/MyDrive/Colab Notebooks/yolo/test/DPRK/d4933c5c793daa7931f66ec1b0a6ee45.jpg: 640x640 1 agricultural labourer, 9.1ms\n",
      "image 880/1048 /content/gdrive/MyDrive/Colab Notebooks/yolo/test/DPRK/d54b332a1a0a32a884d3fba813a50ccd.jpg: 640x640 1 agricultural labourer, 9.2ms\n",
      "image 881/1048 /content/gdrive/MyDrive/Colab Notebooks/yolo/test/DPRK/d5771ced715c0fd51a4088606abdcd8e.jpg: 640x640 (no detections), 10.3ms\n",
      "image 882/1048 /content/gdrive/MyDrive/Colab Notebooks/yolo/test/DPRK/d5799a45bacd29e931889d86de736a39.jpg: 640x640 1 flag, 10.3ms\n",
      "image 883/1048 /content/gdrive/MyDrive/Colab Notebooks/yolo/test/DPRK/d62eb3ff13a0621cd430a6099d9efa12.jpg: 640x640 (no detections), 9.5ms\n",
      "image 884/1048 /content/gdrive/MyDrive/Colab Notebooks/yolo/test/DPRK/d6a4c93c0ef18e7caad11627582d8c04.jpg: 640x640 2 factory workers, 1 headscarf, 10.1ms\n",
      "image 885/1048 /content/gdrive/MyDrive/Colab Notebooks/yolo/test/DPRK/d71376e9568415e01148a092d97decd1.jpg: 640x640 2 agricultural labourers, 1 factory worker, 1 star, 10.2ms\n",
      "image 886/1048 /content/gdrive/MyDrive/Colab Notebooks/yolo/test/DPRK/d727a21318025dd0547f2831637b471e.jpg: 640x640 (no detections), 10.1ms\n",
      "image 887/1048 /content/gdrive/MyDrive/Colab Notebooks/yolo/test/DPRK/d73c443ebd3cb3b20c08b8696d188240.jpg: 640x640 (no detections), 9.8ms\n",
      "image 888/1048 /content/gdrive/MyDrive/Colab Notebooks/yolo/test/DPRK/d7b73326c8644c8fef8c30920558a5df.jpg: 640x640 (no detections), 10.0ms\n",
      "image 889/1048 /content/gdrive/MyDrive/Colab Notebooks/yolo/test/DPRK/d82280f6471ecb6a2011a1afb4a6c0d4.jpg: 640x640 1 factory worker, 10.0ms\n",
      "image 890/1048 /content/gdrive/MyDrive/Colab Notebooks/yolo/test/DPRK/d8798687864c2dce226058195680ad2b.jpg: 640x640 (no detections), 10.9ms\n",
      "image 891/1048 /content/gdrive/MyDrive/Colab Notebooks/yolo/test/DPRK/d8865cd3eed91a0660ad65fe53778be5.jpg: 640x640 (no detections), 9.9ms\n",
      "image 892/1048 /content/gdrive/MyDrive/Colab Notebooks/yolo/test/DPRK/d8a110e798d192dddc926a40ec49ecda.jpg: 640x640 2 factory workers, 10.2ms\n",
      "image 893/1048 /content/gdrive/MyDrive/Colab Notebooks/yolo/test/DPRK/d8d0e75dee4bf703a4982b748fd6c0ab.jpg: 640x640 1 agricultural labourer, 9.9ms\n",
      "image 894/1048 /content/gdrive/MyDrive/Colab Notebooks/yolo/test/DPRK/d8e19d8cb581ae1b6dfdd6448ad7bacf.jpg: 640x640 2 agricultural labourers, 2 factory workers, 1 flag, 13.5ms\n",
      "image 895/1048 /content/gdrive/MyDrive/Colab Notebooks/yolo/test/DPRK/d8ee3d063e216689680783460c732c4b.jpg: 640x640 1 agricultural labourer, 20.4ms\n",
      "image 896/1048 /content/gdrive/MyDrive/Colab Notebooks/yolo/test/DPRK/d91f1361b82464ba9075c3e5fe6d7ee6.jpg: 640x640 2 agricultural labourers, 9.4ms\n",
      "image 897/1048 /content/gdrive/MyDrive/Colab Notebooks/yolo/test/DPRK/d97783c6f2ada2e180f30b9dfd92ca5e.jpg: 640x640 1 agricultural labourer, 9.3ms\n",
      "image 898/1048 /content/gdrive/MyDrive/Colab Notebooks/yolo/test/DPRK/d98c97f04bd4f37aaf218e55ad4996f8.jpg: 640x640 3 agricultural labourers, 1 military, 10.3ms\n",
      "image 899/1048 /content/gdrive/MyDrive/Colab Notebooks/yolo/test/DPRK/d9c7d9422386e73b950bb884c85ba889.jpg: 640x640 1 book, 2 factory workers, 1 office worker, 10.6ms\n",
      "image 900/1048 /content/gdrive/MyDrive/Colab Notebooks/yolo/test/DPRK/da51968c1d1e5d6bdce8e77e8001e7ae.jpg: 640x640 (no detections), 9.9ms\n",
      "image 901/1048 /content/gdrive/MyDrive/Colab Notebooks/yolo/test/DPRK/da6e7047e40bbea49bb1899901106d54.jpg: 640x640 1 factory worker, 10.2ms\n",
      "image 902/1048 /content/gdrive/MyDrive/Colab Notebooks/yolo/test/DPRK/da7ed447c1a80cb5d4cc1e0ef09f4a75.jpg: 640x640 (no detections), 12.2ms\n",
      "image 903/1048 /content/gdrive/MyDrive/Colab Notebooks/yolo/test/DPRK/da88c23b778e8ed4ceef16579285b67f.jpg: 640x640 1 agricultural labourer, 9.6ms\n",
      "image 904/1048 /content/gdrive/MyDrive/Colab Notebooks/yolo/test/DPRK/dab54195704ce6fd139cd9b921eaeb57.jpg: 640x640 (no detections), 9.4ms\n",
      "image 905/1048 /content/gdrive/MyDrive/Colab Notebooks/yolo/test/DPRK/daef13eb14f2f2c22041186437277849.jpg: 640x640 1 factory worker, 9.4ms\n",
      "image 906/1048 /content/gdrive/MyDrive/Colab Notebooks/yolo/test/DPRK/db24cbb78fc27718c89b0e96402f15b9.jpg: 640x640 1 agricultural labourer, 9.7ms\n",
      "image 907/1048 /content/gdrive/MyDrive/Colab Notebooks/yolo/test/DPRK/db429e41b07c521eccb4dccfac22fa75.jpg: 640x640 (no detections), 10.3ms\n",
      "image 908/1048 /content/gdrive/MyDrive/Colab Notebooks/yolo/test/DPRK/db9f47fa8cf805f0e436d265bee73a0d.jpg: 640x640 1 military, 10.2ms\n",
      "image 909/1048 /content/gdrive/MyDrive/Colab Notebooks/yolo/test/DPRK/dc17241930a8a5ecc07d4959306301bf.jpg: 640x640 (no detections), 10.8ms\n",
      "image 910/1048 /content/gdrive/MyDrive/Colab Notebooks/yolo/test/DPRK/dc70e6d11b2a3c93b4544011eb81e607.jpg: 640x640 (no detections), 10.3ms\n",
      "image 911/1048 /content/gdrive/MyDrive/Colab Notebooks/yolo/test/DPRK/dd01f2e3d7e33399b350c8d971d94344.jpg: 640x640 3 factory workers, 9.5ms\n",
      "image 912/1048 /content/gdrive/MyDrive/Colab Notebooks/yolo/test/DPRK/dd30ad56a0dd23bd6325d776d2a37633.jpg: 640x640 1 agricultural labourer, 1 factory worker, 10.7ms\n",
      "image 913/1048 /content/gdrive/MyDrive/Colab Notebooks/yolo/test/DPRK/dd8fff79059fa026df5202e92cf4c786.jpg: 640x640 1 agricultural labourer, 1 factory worker, 1 military, 10.1ms\n",
      "image 914/1048 /content/gdrive/MyDrive/Colab Notebooks/yolo/test/DPRK/ddc774f84575a739b52e5f171584dd10.jpg: 640x640 1 agricultural labourer, 1 headscarf, 10.2ms\n",
      "image 915/1048 /content/gdrive/MyDrive/Colab Notebooks/yolo/test/DPRK/dde8fe4813a3834c2ae0c5ed389e0874.jpg: 640x640 1 agricultural labourer, 18.6ms\n",
      "image 916/1048 /content/gdrive/MyDrive/Colab Notebooks/yolo/test/DPRK/ddeb300dec7a804ab126eb8fbd38f098.jpg: 640x640 2 agricultural labourers, 17.5ms\n",
      "image 917/1048 /content/gdrive/MyDrive/Colab Notebooks/yolo/test/DPRK/de0a36a5450b2d8fe6440c488f2bb0ad.jpg: 640x640 1 agricultural labourer, 16.8ms\n",
      "image 918/1048 /content/gdrive/MyDrive/Colab Notebooks/yolo/test/DPRK/deb79a157d8f7c02e7af2f8417f91b12.jpg: 640x640 1 factory worker, 16.3ms\n",
      "image 919/1048 /content/gdrive/MyDrive/Colab Notebooks/yolo/test/DPRK/df2fd7622342ff16b675cbb372aa6230.jpg: 640x640 1 factory worker, 12.6ms\n",
      "image 920/1048 /content/gdrive/MyDrive/Colab Notebooks/yolo/test/DPRK/df97e825ba3eaec60580a7692c9c0341.jpg: 640x640 1 agricultural labourer, 19.1ms\n",
      "image 921/1048 /content/gdrive/MyDrive/Colab Notebooks/yolo/test/DPRK/e02813da1a4ffeea5c6c949f259bde58.jpg: 640x640 1 agricultural labourer, 1 headscarf, 13.1ms\n",
      "image 922/1048 /content/gdrive/MyDrive/Colab Notebooks/yolo/test/DPRK/e04dfd3dc14def63caf6275724e727b2.jpg: 640x640 1 agricultural labourer, 1 headscarf, 14.8ms\n",
      "image 923/1048 /content/gdrive/MyDrive/Colab Notebooks/yolo/test/DPRK/e07cd4a7ca00199bbe3ed3d5c4d4a77b.jpg: 640x640 3 agricultural labourers, 1 weapon, 13.3ms\n",
      "image 924/1048 /content/gdrive/MyDrive/Colab Notebooks/yolo/test/DPRK/e0adca6d8ae20d7003e80a1b23ba199b.jpg: 640x640 2 agricultural labourers, 1 hammer, 19.0ms\n",
      "image 925/1048 /content/gdrive/MyDrive/Colab Notebooks/yolo/test/DPRK/e1209679850cf7fd1cbe1f67295af913.jpg: 640x640 1 agricultural labourer, 17.0ms\n",
      "image 926/1048 /content/gdrive/MyDrive/Colab Notebooks/yolo/test/DPRK/e1264261102c6bbd9261e52d20ee02a0.jpg: 640x640 1 agricultural labourer, 2 factory workers, 13.5ms\n",
      "image 927/1048 /content/gdrive/MyDrive/Colab Notebooks/yolo/test/DPRK/e1813a46603f3e0c173ee92701f62479.jpg: 640x640 1 agricultural labourer, 15.7ms\n",
      "image 928/1048 /content/gdrive/MyDrive/Colab Notebooks/yolo/test/DPRK/e20232f1d6db14a211a9fdabb3b7959f.jpg: 640x640 1 agricultural labourer, 17.3ms\n",
      "image 929/1048 /content/gdrive/MyDrive/Colab Notebooks/yolo/test/DPRK/e26d074474f6199e6dbb66468582e54d.jpg: 640x640 1 agricultural labourer, 1 headscarf, 18.9ms\n",
      "image 930/1048 /content/gdrive/MyDrive/Colab Notebooks/yolo/test/DPRK/e327c11855ffa320b032f0218f8a445f.jpg: 640x640 (no detections), 18.1ms\n",
      "image 931/1048 /content/gdrive/MyDrive/Colab Notebooks/yolo/test/DPRK/e348080ad33fd8bc3e9576afc2ee4aba.jpg: 640x640 (no detections), 14.7ms\n",
      "image 932/1048 /content/gdrive/MyDrive/Colab Notebooks/yolo/test/DPRK/e3649190855595a19c83d664e4b4dcee.jpg: 640x640 1 agricultural labourer, 13.7ms\n",
      "image 933/1048 /content/gdrive/MyDrive/Colab Notebooks/yolo/test/DPRK/e3c7506033d8ec0bd550d180948a1eb5.jpg: 640x640 1 factory worker, 14.5ms\n",
      "image 934/1048 /content/gdrive/MyDrive/Colab Notebooks/yolo/test/DPRK/e3fb97163e423792d2e38f912ba423af.jpg: 640x640 3 agricultural labourers, 1 factory worker, 1 headscarf, 14.2ms\n",
      "image 935/1048 /content/gdrive/MyDrive/Colab Notebooks/yolo/test/DPRK/e4357aecbc8b5b78c4cdcb35e2d03949.jpg: 640x640 1 agricultural labourer, 1 factory worker, 13.0ms\n",
      "image 936/1048 /content/gdrive/MyDrive/Colab Notebooks/yolo/test/DPRK/e43ca5837fac44c920873a28abc36992.jpg: 640x640 (no detections), 13.6ms\n",
      "image 937/1048 /content/gdrive/MyDrive/Colab Notebooks/yolo/test/DPRK/e4538cc0bd6a6865289d1c26145a503f.jpg: 640x640 (no detections), 13.2ms\n",
      "image 938/1048 /content/gdrive/MyDrive/Colab Notebooks/yolo/test/DPRK/e45df6fa2d661920849833e528012b68.jpg: 640x640 1 military, 13.4ms\n",
      "image 939/1048 /content/gdrive/MyDrive/Colab Notebooks/yolo/test/DPRK/e4e31c4d23bc33cf5581cf118b9f3808.jpg: 640x640 2 agricultural labourers, 13.5ms\n",
      "image 940/1048 /content/gdrive/MyDrive/Colab Notebooks/yolo/test/DPRK/e4f23439649f0ea0ac6bb6c8170b6506.jpg: 640x640 (no detections), 13.0ms\n",
      "image 941/1048 /content/gdrive/MyDrive/Colab Notebooks/yolo/test/DPRK/e519119524e4754bbcf3f8f83778111e.jpg: 640x640 1 flag, 13.2ms\n",
      "image 942/1048 /content/gdrive/MyDrive/Colab Notebooks/yolo/test/DPRK/e5721fd9cd578aaf319f4f5f66cc69ef.jpg: 640x640 2 agricultural labourers, 14.4ms\n",
      "image 943/1048 /content/gdrive/MyDrive/Colab Notebooks/yolo/test/DPRK/e6058b07a3b60b7d515e99020c57b9bc.jpg: 640x640 1 agricultural labourer, 14.6ms\n",
      "image 944/1048 /content/gdrive/MyDrive/Colab Notebooks/yolo/test/DPRK/e6b9e2de30471c4d9d2073b0528e17fd.jpg: 640x640 1 military, 12.7ms\n",
      "image 945/1048 /content/gdrive/MyDrive/Colab Notebooks/yolo/test/DPRK/e81c257ebd0d3e7641737a80a9f227fd.jpg: 640x640 1 agricultural labourer, 18.0ms\n",
      "image 946/1048 /content/gdrive/MyDrive/Colab Notebooks/yolo/test/DPRK/e88bd91a3359a7aa76f8b94928b6515d.jpg: 640x640 5 agricultural labourers, 12.8ms\n",
      "image 947/1048 /content/gdrive/MyDrive/Colab Notebooks/yolo/test/DPRK/e8a5bf975baf6cd726370025f145aec0.jpg: 640x640 1 agricultural labourer, 1 factory worker, 12.3ms\n",
      "image 948/1048 /content/gdrive/MyDrive/Colab Notebooks/yolo/test/DPRK/e8a7efbc0defff787f324a7556f88569.jpg: 640x640 2 agricultural labourers, 1 factory worker, 12.3ms\n",
      "image 949/1048 /content/gdrive/MyDrive/Colab Notebooks/yolo/test/DPRK/e8f9529962d5d740dc3767c63620151c.jpg: 640x640 1 agricultural labourer, 1 factory worker, 12.6ms\n",
      "image 950/1048 /content/gdrive/MyDrive/Colab Notebooks/yolo/test/DPRK/e95a5e9b5026793fb7c3428e61043685.jpg: 640x640 1 agricultural labourer, 12.7ms\n",
      "image 951/1048 /content/gdrive/MyDrive/Colab Notebooks/yolo/test/DPRK/e96108aa493cad676287580d87265212.jpg: 640x640 1 agricultural labourer, 1 crane, 1 factory worker, 12.5ms\n",
      "image 952/1048 /content/gdrive/MyDrive/Colab Notebooks/yolo/test/DPRK/e9db4f0c23c9387856129ccc69f716bb.jpg: 640x640 1 agricultural labourer, 15.8ms\n",
      "image 953/1048 /content/gdrive/MyDrive/Colab Notebooks/yolo/test/DPRK/ea140973e60092c8c1141d97e15be6d1.jpg: 640x640 1 factory worker, 1 flag, 12.8ms\n",
      "image 954/1048 /content/gdrive/MyDrive/Colab Notebooks/yolo/test/DPRK/ea23a9e3e72b1645f6a862b7c87fff15.jpg: 640x640 1 agricultural labourer, 2 flags, 1 star, 11.8ms\n",
      "image 955/1048 /content/gdrive/MyDrive/Colab Notebooks/yolo/test/DPRK/ea28412505c78cb624a2111804cdfb8e.jpg: 640x640 (no detections), 14.5ms\n",
      "image 956/1048 /content/gdrive/MyDrive/Colab Notebooks/yolo/test/DPRK/ea36e0a777c340fabc02f523a639b2a4.jpg: 640x640 1 factory worker, 1 weapon, 14.7ms\n",
      "image 957/1048 /content/gdrive/MyDrive/Colab Notebooks/yolo/test/DPRK/eabcaffe95244aeed1345d510c8c855b.jpg: 640x640 2 agricultural labourers, 1 flag, 15.3ms\n",
      "image 958/1048 /content/gdrive/MyDrive/Colab Notebooks/yolo/test/DPRK/eb2bff857fcb7644277ca8061f436f4d.jpg: 640x640 2 agricultural labourers, 1 flag, 1 headscarf, 1 horse, 1 machinery, 1 weapon, 12.7ms\n",
      "image 959/1048 /content/gdrive/MyDrive/Colab Notebooks/yolo/test/DPRK/eb2e5cd989f23a3c0a6cfb5cd571dfbf.jpg: 640x640 1 agricultural labourer, 24.9ms\n",
      "image 960/1048 /content/gdrive/MyDrive/Colab Notebooks/yolo/test/DPRK/eb68dfc60a89dbcfd871c5fdce63477f.jpg: 640x640 1 agricultural labourer, 14.6ms\n",
      "image 961/1048 /content/gdrive/MyDrive/Colab Notebooks/yolo/test/DPRK/eb7419681ee6c5155382d29e7ccad055.jpg: 640x640 (no detections), 17.6ms\n",
      "image 962/1048 /content/gdrive/MyDrive/Colab Notebooks/yolo/test/DPRK/eb958571dab3e547a4c04ba5ece2036d.jpg: 640x640 1 agricultural labourer, 17.9ms\n",
      "image 963/1048 /content/gdrive/MyDrive/Colab Notebooks/yolo/test/DPRK/ec316532d6f6e5d65e50b60c93a8f1ce.jpg: 640x640 1 star, 17.9ms\n",
      "image 964/1048 /content/gdrive/MyDrive/Colab Notebooks/yolo/test/DPRK/ec9184cdbc42bcd488ae2b16b6fcfc27.jpg: 640x640 1 agricultural labourer, 13.2ms\n",
      "image 965/1048 /content/gdrive/MyDrive/Colab Notebooks/yolo/test/DPRK/ecbebcf388d27650bf81d95506c9bf0b.jpg: 640x640 (no detections), 13.1ms\n",
      "image 966/1048 /content/gdrive/MyDrive/Colab Notebooks/yolo/test/DPRK/ecec9be3e66c7e4552d97653ed180243.jpg: 640x640 1 agricultural labourer, 12.7ms\n",
      "image 967/1048 /content/gdrive/MyDrive/Colab Notebooks/yolo/test/DPRK/ed2278aabd8b0cd60a8e931bbd2dcb16.jpg: 640x640 1 factory worker, 12.8ms\n",
      "image 968/1048 /content/gdrive/MyDrive/Colab Notebooks/yolo/test/DPRK/ed686bbc23ab2918b59ef3bbffc15fb7.jpg: 640x640 (no detections), 12.8ms\n",
      "image 969/1048 /content/gdrive/MyDrive/Colab Notebooks/yolo/test/DPRK/edd4af855a4e21c6fc0f3aff8e83d074.jpg: 640x640 (no detections), 13.2ms\n",
      "image 970/1048 /content/gdrive/MyDrive/Colab Notebooks/yolo/test/DPRK/ede80cc3ba0729bcb445c0cca7fee9d9.jpg: 640x640 1 agricultural labourer, 13.2ms\n",
      "image 971/1048 /content/gdrive/MyDrive/Colab Notebooks/yolo/test/DPRK/ee33bd9e39b371b0e554b75a48df8c1e.jpg: 640x640 3 agricultural labourers, 1 sky, 66.2ms\n",
      "image 972/1048 /content/gdrive/MyDrive/Colab Notebooks/yolo/test/DPRK/ee53aa6458ce018b2dc02c1ac57d7049.jpg: 640x640 2 agricultural labourers, 65.2ms\n",
      "image 973/1048 /content/gdrive/MyDrive/Colab Notebooks/yolo/test/DPRK/ee58f01bc0b4a592c190702a0be279f0.jpg: 640x640 1 flag, 80.2ms\n",
      "image 974/1048 /content/gdrive/MyDrive/Colab Notebooks/yolo/test/DPRK/eeabeeed8728d6b076b08d843df31168.jpg: 640x640 1 military, 80.1ms\n",
      "image 975/1048 /content/gdrive/MyDrive/Colab Notebooks/yolo/test/DPRK/ef5e74fa6df7f742901c2680054c6cc2.jpg: 640x640 (no detections), 23.6ms\n",
      "image 976/1048 /content/gdrive/MyDrive/Colab Notebooks/yolo/test/DPRK/efa92d15bc60f1bdfb2d9bbe7791a9bf.jpg: 640x640 2 factory workers, 1 headscarf, 91.9ms\n",
      "image 977/1048 /content/gdrive/MyDrive/Colab Notebooks/yolo/test/DPRK/f01268df37d3a0ac59f60a334c330023.jpg: 640x640 2 agricultural labourers, 3 headscarfs, 1 sky, 74.9ms\n",
      "image 978/1048 /content/gdrive/MyDrive/Colab Notebooks/yolo/test/DPRK/f16c9a8cca8e836de0d98610b1f38498.jpg: 640x640 (no detections), 55.3ms\n",
      "image 979/1048 /content/gdrive/MyDrive/Colab Notebooks/yolo/test/DPRK/f1b6bf267c2e36c5a24d908142f1aa9e.jpg: 640x640 1 factory worker, 70.6ms\n",
      "image 980/1048 /content/gdrive/MyDrive/Colab Notebooks/yolo/test/DPRK/f1c50bcc41961e7896a910a8e3a85476.jpg: 640x640 1 factory worker, 44.5ms\n",
      "image 981/1048 /content/gdrive/MyDrive/Colab Notebooks/yolo/test/DPRK/f28b1d30416ce79b4663931d454c6bc9.jpg: 640x640 2 agricultural labourers, 1 factory worker, 52.0ms\n",
      "image 982/1048 /content/gdrive/MyDrive/Colab Notebooks/yolo/test/DPRK/f296188ce42a4601e0cf3913e13fa8ce.jpg: 640x640 2 agricultural labourers, 54.0ms\n",
      "image 983/1048 /content/gdrive/MyDrive/Colab Notebooks/yolo/test/DPRK/f2a492de9da74171328da958272b0a2a.jpg: 640x640 1 agricultural labourer, 1 factory worker, 16.5ms\n",
      "image 984/1048 /content/gdrive/MyDrive/Colab Notebooks/yolo/test/DPRK/f2ca6748f6d2263c70a48728d8e1e5f1.jpg: 640x640 1 crane, 1 factory worker, 16.8ms\n",
      "image 985/1048 /content/gdrive/MyDrive/Colab Notebooks/yolo/test/DPRK/f2e6e14e8684522bf39d8ce0c07d9d30.jpg: 640x640 (no detections), 19.3ms\n",
      "image 986/1048 /content/gdrive/MyDrive/Colab Notebooks/yolo/test/DPRK/f2ff926921b90ec4cde93d568126f0af.jpg: 640x640 1 agricultural labourer, 18.4ms\n",
      "image 987/1048 /content/gdrive/MyDrive/Colab Notebooks/yolo/test/DPRK/f30e04aa6f851f0d1d077675fedcab9a.jpg: 640x640 (no detections), 18.2ms\n",
      "image 988/1048 /content/gdrive/MyDrive/Colab Notebooks/yolo/test/DPRK/f369df0fb1f389a1ff41d46c09ba82dd.jpg: 640x640 1 factory worker, 1 weapon, 20.0ms\n",
      "image 989/1048 /content/gdrive/MyDrive/Colab Notebooks/yolo/test/DPRK/f37517ba9a1f7459053d0da4a4796144.jpg: 640x640 4 cranes, 20.0ms\n",
      "image 990/1048 /content/gdrive/MyDrive/Colab Notebooks/yolo/test/DPRK/f377d09b8e74d62899143cb34171a736.jpg: 640x640 (no detections), 17.4ms\n",
      "image 991/1048 /content/gdrive/MyDrive/Colab Notebooks/yolo/test/DPRK/f4a21cda536e022207b3dbec84d64b49.jpg: 640x640 1 agricultural labourer, 1 grass, 1 wheat, 17.9ms\n",
      "image 992/1048 /content/gdrive/MyDrive/Colab Notebooks/yolo/test/DPRK/f4ab707fb53da7d7d2d24e8f8db7d99e.jpg: 640x640 1 factory worker, 16.1ms\n",
      "image 993/1048 /content/gdrive/MyDrive/Colab Notebooks/yolo/test/DPRK/f4c0c7b5ea1a8d5d05f627423507d7a9.jpg: 640x640 1 factory worker, 2 skys, 9.7ms\n",
      "image 994/1048 /content/gdrive/MyDrive/Colab Notebooks/yolo/test/DPRK/f4d13a97900c79666526673f551eeb03.jpg: 640x640 1 weapon, 10.6ms\n",
      "image 995/1048 /content/gdrive/MyDrive/Colab Notebooks/yolo/test/DPRK/f4dca32746f3de8c993baa836e117a60.jpg: 640x640 5 agricultural labourers, 1 flag, 1 sky, 9.7ms\n",
      "image 996/1048 /content/gdrive/MyDrive/Colab Notebooks/yolo/test/DPRK/f54ed123752359631dec93e6ac705866.jpg: 640x640 2 agricultural labourers, 9.8ms\n",
      "image 997/1048 /content/gdrive/MyDrive/Colab Notebooks/yolo/test/DPRK/f580bd727daf91ea8975a55f5a3ff274.jpg: 640x640 1 agricultural labourer, 9.3ms\n",
      "image 998/1048 /content/gdrive/MyDrive/Colab Notebooks/yolo/test/DPRK/f5a0ee1482028ae322698455b4b306d9.jpg: 640x640 (no detections), 9.0ms\n",
      "image 999/1048 /content/gdrive/MyDrive/Colab Notebooks/yolo/test/DPRK/f5b5cc0ec5b4e88634fb7799006d982f.jpg: 640x640 1 factory worker, 10.0ms\n",
      "image 1000/1048 /content/gdrive/MyDrive/Colab Notebooks/yolo/test/DPRK/f5fcdc643750ed36367a21396f44972c.jpg: 640x640 1 agricultural labourer, 1 headscarf, 10.5ms\n",
      "image 1001/1048 /content/gdrive/MyDrive/Colab Notebooks/yolo/test/DPRK/f60bb73883ec0b546dd52633b6b32628.jpg: 640x640 1 office worker, 1 weapon, 9.7ms\n",
      "image 1002/1048 /content/gdrive/MyDrive/Colab Notebooks/yolo/test/DPRK/f615afc114ba3393cf12321dbe866448.jpg: 640x640 1 agricultural labourer, 1 factory worker, 10.1ms\n",
      "image 1003/1048 /content/gdrive/MyDrive/Colab Notebooks/yolo/test/DPRK/f63a7be179638cd059c50ed67aae342c.jpg: 640x640 1 agricultural labourer, 9.9ms\n",
      "image 1004/1048 /content/gdrive/MyDrive/Colab Notebooks/yolo/test/DPRK/f659a89f47efdc063ee574f70a2f3aba.jpg: 640x640 1 factory worker, 1 plane, 9.7ms\n",
      "image 1005/1048 /content/gdrive/MyDrive/Colab Notebooks/yolo/test/DPRK/f65bee3933d0d0b753f8ef758b2a9840.jpg: 640x640 1 sky, 10.3ms\n",
      "image 1006/1048 /content/gdrive/MyDrive/Colab Notebooks/yolo/test/DPRK/f7290e39eba38292a3028fd1f7f0f409.jpg: 640x640 (no detections), 10.0ms\n",
      "image 1007/1048 /content/gdrive/MyDrive/Colab Notebooks/yolo/test/DPRK/f798d92a4a7337fd690e25dc8ce486b6.jpg: 640x640 2 agricultural labourers, 1 flag, 9.8ms\n",
      "image 1008/1048 /content/gdrive/MyDrive/Colab Notebooks/yolo/test/DPRK/f79b4bd0fa7c4eb25fd308ed1774d5bb.jpg: 640x640 1 agricultural labourer, 1 factory worker, 1 headscarf, 15.1ms\n",
      "image 1009/1048 /content/gdrive/MyDrive/Colab Notebooks/yolo/test/DPRK/f7d34cd623169bc41860170628d279cd.jpg: 640x640 1 factory worker, 14.0ms\n",
      "image 1010/1048 /content/gdrive/MyDrive/Colab Notebooks/yolo/test/DPRK/f7dfe64b772fd9b35a62ee44bc910f2b.jpg: 640x640 2 agricultural labourers, 1 factory worker, 16.9ms\n",
      "image 1011/1048 /content/gdrive/MyDrive/Colab Notebooks/yolo/test/DPRK/f81fa7d770306aa781bba16644b12120.jpg: 640x640 1 agricultural labourer, 1 factory worker, 1 flag, 2 stars, 16.7ms\n",
      "image 1012/1048 /content/gdrive/MyDrive/Colab Notebooks/yolo/test/DPRK/f83453a4c08125eb6bb58d98c3a1bebe.jpg: 640x640 3 agricultural labourers, 10.1ms\n",
      "image 1013/1048 /content/gdrive/MyDrive/Colab Notebooks/yolo/test/DPRK/f89000496162430f6f35f160de871ea5.jpg: 640x640 (no detections), 11.6ms\n",
      "image 1014/1048 /content/gdrive/MyDrive/Colab Notebooks/yolo/test/DPRK/f8d90c3b56de4120ad890ab603587311.jpg: 640x640 2 agricultural labourers, 1 factory worker, 11.1ms\n",
      "image 1015/1048 /content/gdrive/MyDrive/Colab Notebooks/yolo/test/DPRK/f8fcb6d6fe177b12e1f49b4c7caec94a.jpg: 640x640 (no detections), 10.6ms\n",
      "image 1016/1048 /content/gdrive/MyDrive/Colab Notebooks/yolo/test/DPRK/f95a79c85715e1cfcc38afdbc48f524e.jpg: 640x640 1 weapon, 19.3ms\n",
      "image 1017/1048 /content/gdrive/MyDrive/Colab Notebooks/yolo/test/DPRK/f9c1936ab7cadfe96e2ee7566cb41e74.jpg: 640x640 2 agricultural labourers, 1 headscarf, 9.6ms\n",
      "image 1018/1048 /content/gdrive/MyDrive/Colab Notebooks/yolo/test/DPRK/fa25b5db24d6f274bd5497019ed454ef.jpg: 640x640 1 agricultural labourer, 1 factory worker, 9.7ms\n",
      "image 1019/1048 /content/gdrive/MyDrive/Colab Notebooks/yolo/test/DPRK/fa93a3f23b786055b1b71e75bffeb57a.jpg: 640x640 1 crane, 2 factory workers, 10.0ms\n",
      "image 1020/1048 /content/gdrive/MyDrive/Colab Notebooks/yolo/test/DPRK/fa9f78d23edd81f14c6650ba3ab9fa09.jpg: 640x640 (no detections), 10.3ms\n",
      "image 1021/1048 /content/gdrive/MyDrive/Colab Notebooks/yolo/test/DPRK/fb32f7b21863110cf0c054a526d2d2c0.jpg: 640x640 2 agricultural labourers, 10.9ms\n",
      "image 1022/1048 /content/gdrive/MyDrive/Colab Notebooks/yolo/test/DPRK/fb64ab6267b316516a9e5eec219e5df6.jpg: 640x640 1 agricultural labourer, 11.1ms\n",
      "image 1023/1048 /content/gdrive/MyDrive/Colab Notebooks/yolo/test/DPRK/fb6e04e58732ac364cf377a9f446074e.jpg: 640x640 1 factory worker, 9.8ms\n",
      "image 1024/1048 /content/gdrive/MyDrive/Colab Notebooks/yolo/test/DPRK/fb7bb56d3ccfa0d9be903619a011d1a3.jpg: 640x640 (no detections), 10.5ms\n",
      "image 1025/1048 /content/gdrive/MyDrive/Colab Notebooks/yolo/test/DPRK/fbd3ca9e4441e277d6b6e3776c6b2d65.jpg: 640x640 2 agricultural labourers, 10.9ms\n",
      "image 1026/1048 /content/gdrive/MyDrive/Colab Notebooks/yolo/test/DPRK/fbe34c9e6338ad79cf1d9a0e9be53025.jpg: 640x640 (no detections), 12.0ms\n",
      "image 1027/1048 /content/gdrive/MyDrive/Colab Notebooks/yolo/test/DPRK/fc1f1e6fc5f01b9bf15efb191a6e4447.jpg: 640x640 1 agricultural labourer, 10.1ms\n",
      "image 1028/1048 /content/gdrive/MyDrive/Colab Notebooks/yolo/test/DPRK/fc3e5df5d714556f87d3919e4ed90a7f.jpg: 640x640 1 agricultural labourer, 1 factory worker, 11.7ms\n",
      "image 1029/1048 /content/gdrive/MyDrive/Colab Notebooks/yolo/test/DPRK/fc46db991b76b126a04c43733fcf108c.jpg: 640x640 (no detections), 9.1ms\n",
      "image 1030/1048 /content/gdrive/MyDrive/Colab Notebooks/yolo/test/DPRK/fc4b3669ca084f3f298e716d7d941c51.jpg: 640x640 1 agricultural labourer, 1 crane, 1 flag, 9.6ms\n",
      "image 1031/1048 /content/gdrive/MyDrive/Colab Notebooks/yolo/test/DPRK/fc7954c362563c820afb21858108580a.jpg: 640x640 1 agricultural labourer, 1 headscarf, 9.9ms\n",
      "image 1032/1048 /content/gdrive/MyDrive/Colab Notebooks/yolo/test/DPRK/fc801eda045c35d8b57ceb6b1958145b.jpg: 640x640 1 agricultural labourer, 10.5ms\n",
      "image 1033/1048 /content/gdrive/MyDrive/Colab Notebooks/yolo/test/DPRK/fc9ef9d600d0e60e75c2f38de23f0c0f.jpg: 640x640 3 agricultural labourers, 12.0ms\n",
      "image 1034/1048 /content/gdrive/MyDrive/Colab Notebooks/yolo/test/DPRK/fce5408783d1dd5941c7a82998310554.jpg: 640x640 3 agricultural labourers, 10.0ms\n",
      "image 1035/1048 /content/gdrive/MyDrive/Colab Notebooks/yolo/test/DPRK/fcf36cbe219dce3385acc7a8b3575bab.jpg: 640x640 2 agricultural labourers, 2 headscarfs, 9.9ms\n",
      "image 1036/1048 /content/gdrive/MyDrive/Colab Notebooks/yolo/test/DPRK/fcf4871378ec05fcb354b7950a3f8aac.jpg: 640x640 3 factory workers, 13.0ms\n",
      "image 1037/1048 /content/gdrive/MyDrive/Colab Notebooks/yolo/test/DPRK/fd0fb0279baa54a4683f20cc83803c4a.jpg: 640x640 2 agricultural labourers, 1 sky, 11.1ms\n",
      "image 1038/1048 /content/gdrive/MyDrive/Colab Notebooks/yolo/test/DPRK/fd1b9324447cbeb624d84736b48ffeda.jpg: 640x640 1 factory worker, 12.0ms\n",
      "image 1039/1048 /content/gdrive/MyDrive/Colab Notebooks/yolo/test/DPRK/fd93302eed8069e3fff8ac0fe98fdd1b.jpg: 640x640 1 agricultural labourer, 10.1ms\n",
      "image 1040/1048 /content/gdrive/MyDrive/Colab Notebooks/yolo/test/DPRK/fdab11c6c6b5c76978e8b94e0a805f52.jpg: 640x640 1 flag, 1 weapon, 10.1ms\n",
      "image 1041/1048 /content/gdrive/MyDrive/Colab Notebooks/yolo/test/DPRK/fe5d5144dd5833b9713b196e0abd88ae.jpg: 640x640 1 agricultural labourer, 10.2ms\n",
      "image 1042/1048 /content/gdrive/MyDrive/Colab Notebooks/yolo/test/DPRK/fe9a2f979236740dfe5dc147f3c482eb.jpg: 640x640 2 agricultural labourers, 10.1ms\n",
      "image 1043/1048 /content/gdrive/MyDrive/Colab Notebooks/yolo/test/DPRK/fed977217f5ffd0534064d0ef64d0ba3.jpg: 640x640 1 agricultural labourer, 1 sky, 10.3ms\n",
      "image 1044/1048 /content/gdrive/MyDrive/Colab Notebooks/yolo/test/DPRK/fedb29743f5c385fc27207f6d088fe53.jpg: 640x640 1 agricultural labourer, 2 factory workers, 1 flag, 9.7ms\n",
      "image 1045/1048 /content/gdrive/MyDrive/Colab Notebooks/yolo/test/DPRK/ff70b2583859d462d4a1914e62d0201a.jpg: 640x640 1 factory worker, 14.4ms\n",
      "image 1046/1048 /content/gdrive/MyDrive/Colab Notebooks/yolo/test/DPRK/ff7d71a9820a0f8378adcbbab5374167.jpg: 640x640 (no detections), 13.7ms\n",
      "image 1047/1048 /content/gdrive/MyDrive/Colab Notebooks/yolo/test/DPRK/ffbffd635191e75ca89962b9170153ea.jpg: 640x640 1 agricultural labourer, 14.1ms\n",
      "image 1048/1048 /content/gdrive/MyDrive/Colab Notebooks/yolo/test/DPRK/ffeaa2dbcbad8a6a5664e1acd73abfae.jpg: 640x640 2 hammers, 10 planes, 9.9ms\n",
      "Speed: 2.4ms preprocess, 12.9ms inference, 1.5ms postprocess per image at shape (1, 3, 640, 640)\n",
      "Results saved to \u001b[1mruns/detect/train3\u001b[0m\n",
      "CSV-Datei '/content/gdrive/MyDrive/Colab Notebooks/yolo/detections_DPRK.csv' wurde erfolgreich erstellt.\n"
     ]
    }
   ],
   "source": [
    "results_1 = model(\"/home/sc.uni-leipzig.de/lj25vapa/Cultural Analytics/yolo/test/DPRK\", save=True, stream=True)\n",
    "\n",
    "save_detections_to_csv(results_1, \"/home/sc.uni-leipzig.de/lj25vapa/Cultural Analytics/yolo/detections_DPRK.csv\")"
   ]
  },
  {
   "cell_type": "code",
   "execution_count": null,
   "id": "YddB078folID",
   "metadata": {
    "colab": {
     "base_uri": "https://localhost:8080/",
     "height": 847
    },
    "executionInfo": {
     "elapsed": 885,
     "status": "ok",
     "timestamp": 1742257452971,
     "user": {
      "displayName": "Simona Simoni",
      "userId": "03680606385837659687"
     },
     "user_tz": -60
    },
    "id": "YddB078folID",
    "outputId": "4f25eb89-54b1-42f8-af4f-445f95c8790f"
   },
   "outputs": [
    {
     "data": {
      "image/png": "[encoded data removed]",
      "text/plain": [
       "<Figure size 1000x800 with 2 Axes>"
      ]
     },
     "metadata": {},
     "output_type": "display_data"
    }
   ],
   "source": [
    "csv_file_DPRK = \"/home/sc.uni-leipzig.de/lj25vapa/Cultural Analytics/yolo/detections_DPRK.csv\"\n",
    "correlation_matrix_USSR = detect_class_correlations(csv_file_DPRK )"
   ]
  },
  {
   "cell_type": "code",
   "execution_count": null,
   "id": "828a85d8-89dd-44bb-9b4f-97884d1e5e2b",
   "metadata": {
    "id": "828a85d8-89dd-44bb-9b4f-97884d1e5e2b"
   },
   "outputs": [],
   "source": [
    "# @software{yolo11_ultralytics,\n",
    "#  author = {Glenn Jocher and Jing Qiu},\n",
    "#  title = {Ultralytics YOLO11},\n",
    "#  version = {11.0.0},\n",
    "#  year = {2024},\n",
    "#  url = {https://github.com/ultralytics/ultralytics},\n",
    "#  orcid = {0000-0001-5950-6979, 0000-0002-7603-6750, 0000-0003-3783-7069},\n",
    "#  license = {AGPL-3.0}\n",
    "#}"
   ]
  }
 ],
 "metadata": {
  "accelerator": "GPU",
  "colab": {
   "gpuType": "T4",
   "provenance": []
  },
  "kernelspec": {
   "display_name": "Cultural Analytics",
   "language": "python",
   "name": "culturalanalytics"
  },
  "language_info": {
   "codemirror_mode": {
    "name": "ipython",
    "version": 3
   },
   "file_extension": ".py",
   "mimetype": "text/x-python",
   "name": "python",
   "nbconvert_exporter": "python",
   "pygments_lexer": "ipython3",
   "version": "3.13.2"
  }
 },
 "nbformat": 4,
 "nbformat_minor": 5
}
