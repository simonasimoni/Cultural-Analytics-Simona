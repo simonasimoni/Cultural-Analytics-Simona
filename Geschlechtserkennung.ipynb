{
 "cells": [
  {
   "cell_type": "markdown",
   "id": "0005ce4e-1e0f-456d-9ec9-3599ea1485f4",
   "metadata": {},
   "source": [
    "# Geschlechtserkennung"
   ]
  },
  {
   "cell_type": "markdown",
   "id": "dfff6d6e-cfc6-41bd-bf64-a7d24446c47b",
   "metadata": {},
   "source": [
    "## Erkennung der Geschlechter mit CLIP auf den politischen Plakaten"
   ]
  },
  {
   "cell_type": "code",
   "execution_count": 1,
   "id": "57753edd-3ef6-42e0-a954-820d8e64ecbd",
   "metadata": {},
   "outputs": [],
   "source": [
    "# Die benötigten Pakete importieren\n",
    "import os\n",
    "import torch\n",
    "from PIL import Image\n",
    "import pandas as pd\n",
    "from transformers import CLIPProcessor, CLIPModel\n",
    "import torch.optim as optim\n",
    "from torch import nn\n",
    "from torchvision import transforms\n",
    "from sklearn.model_selection import train_test_split\n",
    "import numpy as np\n",
    "import cv2\n",
    "import csv\n",
    "import matplotlib.pyplot as plt\n",
    "from sklearn.model_selection import KFold\n",
    "from torch.utils.data import Dataset, DataLoader"
   ]
  },
  {
   "cell_type": "code",
   "execution_count": 2,
   "id": "bea21e65-da84-49d9-966d-7350c6946ff9",
   "metadata": {},
   "outputs": [],
   "source": [
    "# Die CSV-Datei laden\n",
    "csv_file = '/home/sc.uni-leipzig.de/lj25vapa/Cultural Analytics/CLIP/train/_classes.csv'\n",
    "df = pd.read_csv(csv_file)"
   ]
  },
  {
   "cell_type": "code",
   "execution_count": 3,
   "id": "71627de3-5a38-4ed0-97d8-72e306d5c1a4",
   "metadata": {},
   "outputs": [],
   "source": [
    "# Pfad zu allen Bildern\n",
    "image_folder = '/home/sc.uni-leipzig.de/lj25vapa/Cultural Analytics/CLIP/test'\n",
    "images = [os.path.join(image_folder, img) for img in os.listdir(image_folder) if img.endswith(('.jpg', '.jpeg', '.png'))]"
   ]
  },
  {
   "cell_type": "code",
   "execution_count": 4,
   "id": "92733378-b36d-462a-9c73-498f6c94fbab",
   "metadata": {},
   "outputs": [],
   "source": [
    "# Pfad zu den Bilder von der Sowjetunion\n",
    "image_folder_USSR = '/home/sc.uni-leipzig.de/lj25vapa/Cultural Analytics/USSR'\n",
    "images_USSR = [os.path.join(image_folder_USSR, img) for img in os.listdir(image_folder_USSR) if img.endswith(('.jpg', '.jpeg', '.png'))]"
   ]
  },
  {
   "cell_type": "code",
   "execution_count": 5,
   "id": "feeed451-3ac4-47ec-9009-b732f9ce7736",
   "metadata": {},
   "outputs": [],
   "source": [
    "# Pfad zu den Bilder von Nordkorea\n",
    "image_folder_DPRK = '/home/sc.uni-leipzig.de/lj25vapa/Cultural Analytics/DPRK'\n",
    "images_DPRK = [os.path.join(image_folder_DPRK, img) for img in os.listdir(image_folder_DPRK) if img.endswith(('.jpg', '.jpeg', '.png'))]"
   ]
  },
  {
   "cell_type": "code",
   "execution_count": 6,
   "id": "51936e2d-17d3-4584-8801-151750a327f0",
   "metadata": {},
   "outputs": [],
   "source": [
    "# Pfad zu den Bildern, die zum Trainieren benutzt werden\n",
    "train_image_folder ='/home/sc.uni-leipzig.de/lj25vapa/Cultural Analytics/CLIP/train' "
   ]
  },
  {
   "cell_type": "code",
   "execution_count": 7,
   "id": "a39082fd-31b3-47e0-9537-54e9acb849ed",
   "metadata": {},
   "outputs": [],
   "source": [
    "# Bildtransformationen definieren\n",
    "transform = transforms.Compose([\n",
    "    transforms.RandomHorizontalFlip(),\n",
    "    transforms.RandomRotation(10),\n",
    "    transforms.Resize((224, 224)),\n",
    "    transforms.ToTensor()])"
   ]
  },
  {
   "cell_type": "code",
   "execution_count": 8,
   "id": "590e29f8-5655-4289-8245-067ce7982057",
   "metadata": {},
   "outputs": [],
   "source": [
    "# Das vortrainierte CLIP-Model und den -Prozessor laden\n",
    "model = CLIPModel.from_pretrained(\"openai/clip-vit-base-patch16\")\n",
    "processor = CLIPProcessor.from_pretrained(\"openai/clip-vit-base-patch16\")"
   ]
  },
  {
   "cell_type": "code",
   "execution_count": 9,
   "id": "c9de6acb-f96b-41c5-8b66-34b444419890",
   "metadata": {},
   "outputs": [
    {
     "name": "stdout",
     "output_type": "stream",
     "text": [
      "Labels array shape: (65, 2)\n"
     ]
    }
   ],
   "source": [
    "# Die Geschlechtslabels definieren\n",
    "labels_array = df[['man', 'woman']].values.astype(np.float32)\n",
    "print(f\"Labels array shape: {labels_array.shape}\")"
   ]
  },
  {
   "cell_type": "code",
   "execution_count": 10,
   "id": "4c9502b6-d091-4d33-89ab-2e9163d3c762",
   "metadata": {},
   "outputs": [
    {
     "name": "stdout",
     "output_type": "stream",
     "text": [
      "Labels tensor shape: torch.Size([65, 2])\n"
     ]
    }
   ],
   "source": [
    "# Den labels-Tensor erstellen\n",
    "labels = torch.tensor(labels_array)\n",
    "print(f\"Labels tensor shape: {labels.shape}\")"
   ]
  },
  {
   "cell_type": "code",
   "execution_count": 11,
   "id": "d38dfe47-0c74-4848-a9b6-535cd5be3a7c",
   "metadata": {},
   "outputs": [],
   "source": [
    "class MyDataset(Dataset):\n",
    "    def __init__(self, image_paths, labels, transform=None, processor=None, model=None):\n",
    "        self.image_paths = image_paths\n",
    "        self.labels = labels\n",
    "        self.transform = transform\n",
    "        self.processor = processor\n",
    "        self.model = model\n",
    "\n",
    "    def __len__(self):\n",
    "        return len(self.image_paths)\n",
    "\n",
    "    def __getitem__(self, idx):\n",
    "        image_path = self.image_paths[idx]\n",
    "        image = Image.open(image_path).convert(\"RGB\")\n",
    "        if self.transform:\n",
    "            image = self.transform(image)\n",
    "        inputs = self.processor(images=image, return_tensors=\"pt\", do_rescale=False)\n",
    "\n",
    "        with torch.no_grad():\n",
    "            image_embedding = self.model.get_image_features(**inputs)\n",
    "            \n",
    "        if self.labels is not None:\n",
    "            label = self.labels[idx]\n",
    "            return {'image_embedding': image_embedding.squeeze(0), 'labels': label}\n",
    "        else:\n",
    "            return {'image_embedding': image_embedding.squeeze(0)}"
   ]
  },
  {
   "cell_type": "code",
   "execution_count": 12,
   "id": "389df5fc-c688-4882-b4f5-45e4ef731942",
   "metadata": {},
   "outputs": [],
   "source": [
    "train_images = [os.path.join(train_image_folder, filename) for filename in df['filename']]"
   ]
  },
  {
   "cell_type": "code",
   "execution_count": 13,
   "id": "07130c53-264c-4b74-8b0a-3fd6facee780",
   "metadata": {},
   "outputs": [],
   "source": [
    "# Einen Multilabel-CLassifier definieren\n",
    "class MultiLabelClassifier(nn.Module):\n",
    "    def __init__(self, input_dim):\n",
    "        super(MultiLabelClassifier, self).__init__()\n",
    "        self.linear = nn.Linear(input_dim, 2)\n",
    "        self.sigmoid = nn.Sigmoid()\n",
    "\n",
    "    def forward(self, x):\n",
    "        x = self.linear(x.view(x.size(0), -1))\n",
    "        return self.sigmoid(x)"
   ]
  },
  {
   "cell_type": "code",
   "execution_count": 14,
   "id": "848c8b13-422f-4911-929b-ecc80d7cd434",
   "metadata": {},
   "outputs": [],
   "source": [
    "# k-Fold Kreuzvalidierung\n",
    "k = 5\n",
    "kf = KFold(n_splits=k, shuffle=True, random_state=42)"
   ]
  },
  {
   "cell_type": "code",
   "execution_count": 15,
   "id": "e1902d07-f1fb-461f-ad56-3a64db0c0fe3",
   "metadata": {},
   "outputs": [],
   "source": [
    "best_classifier = None\n",
    "best_val_loss = float('inf')\n",
    "best_classifier_save_path = '/home/sc.uni-leipzig.de/lj25vapa/Cultural Analytics/gender_classifier.pth'"
   ]
  },
  {
   "cell_type": "code",
   "execution_count": 16,
   "id": "d92ae2cd-24dc-48b7-95ef-882dae444d05",
   "metadata": {},
   "outputs": [],
   "source": [
    "train_images_array = np.array(train_images)"
   ]
  },
  {
   "cell_type": "code",
   "execution_count": 17,
   "id": "0bcab6d0-ab1d-4bfe-93ae-9ee2a24efc3b",
   "metadata": {},
   "outputs": [
    {
     "name": "stdout",
     "output_type": "stream",
     "text": [
      "Fold 1/5\n",
      "Number of train samples: 52\n",
      "Number of validation samples: 13\n",
      "labels shape: torch.Size([65, 2])\n",
      "X_train_fold length: 52\n",
      "X_val_fold length: 13\n",
      "y_train_fold shape: torch.Size([52, 2])\n",
      "y_val_fold shape: torch.Size([13, 2])\n",
      "Validationsloss für Fold 1: 0.8237\n",
      "Classifier für Fold 1 als bester Classifier gespeichert.\n",
      "Fold 2/5\n",
      "Number of train samples: 52\n",
      "Number of validation samples: 13\n",
      "labels shape: torch.Size([65, 2])\n",
      "X_train_fold length: 52\n",
      "X_val_fold length: 13\n",
      "y_train_fold shape: torch.Size([52, 2])\n",
      "y_val_fold shape: torch.Size([13, 2])\n",
      "Validationsloss für Fold 2: 0.7448\n",
      "Classifier für Fold 2 als bester Classifier gespeichert.\n",
      "Fold 3/5\n",
      "Number of train samples: 52\n",
      "Number of validation samples: 13\n",
      "labels shape: torch.Size([65, 2])\n",
      "X_train_fold length: 52\n",
      "X_val_fold length: 13\n",
      "y_train_fold shape: torch.Size([52, 2])\n",
      "y_val_fold shape: torch.Size([13, 2])\n",
      "Validationsloss für Fold 3: 0.7612\n",
      "Fold 4/5\n",
      "Number of train samples: 52\n",
      "Number of validation samples: 13\n",
      "labels shape: torch.Size([65, 2])\n",
      "X_train_fold length: 52\n",
      "X_val_fold length: 13\n",
      "y_train_fold shape: torch.Size([52, 2])\n",
      "y_val_fold shape: torch.Size([13, 2])\n",
      "Validationsloss für Fold 4: 0.6996\n",
      "Classifier für Fold 4 als bester Classifier gespeichert.\n",
      "Fold 5/5\n",
      "Number of train samples: 52\n",
      "Number of validation samples: 13\n",
      "labels shape: torch.Size([65, 2])\n",
      "X_train_fold length: 52\n",
      "X_val_fold length: 13\n",
      "y_train_fold shape: torch.Size([52, 2])\n",
      "y_val_fold shape: torch.Size([13, 2])\n",
      "Validationsloss für Fold 5: 0.7177\n",
      "Der beste Classifier ist auf: /home/sc.uni-leipzig.de/lj25vapa/Cultural Analytics/gender_classifier.pth\n"
     ]
    }
   ],
   "source": [
    "for fold, (train_index, val_index) in enumerate(kf.split(train_images)):\n",
    "    print(f'Fold {fold + 1}/{k}')\n",
    "\n",
    "    print(f\"Number of train samples: {len(train_index)}\")\n",
    "    print(f\"Number of validation samples: {len(val_index)}\")\n",
    "\n",
    "    labels = torch.tensor(labels_array)\n",
    "\n",
    "    print(f\"labels shape: {labels.shape}\")\n",
    "    \n",
    "    X_train_fold = [train_images[i] for i in train_index]\n",
    "    X_val_fold = [train_images[i] for i in val_index]\n",
    "    y_train_fold = labels[train_index]\n",
    "    y_val_fold = labels[val_index]\n",
    "\n",
    "    print(f\"X_train_fold length: {len(X_train_fold)}\")\n",
    "    print(f\"X_val_fold length: {len(X_val_fold)}\")\n",
    "    print(f\"y_train_fold shape: {y_train_fold.shape}\")\n",
    "    print(f\"y_val_fold shape: {y_val_fold.shape}\")\n",
    "\n",
    "    train_dataset = MyDataset(X_train_fold, y_train_fold, transform=transform, processor=processor, model=model)\n",
    "    val_dataset = MyDataset(X_val_fold, y_val_fold, transform=transform, processor=processor, model=model)\n",
    "    \n",
    "    train_loader = DataLoader(train_dataset, batch_size=32, shuffle=True)\n",
    "    val_loader = DataLoader(val_dataset, batch_size=32, shuffle=False)\n",
    "\n",
    "    # Den Classifier, den Optimizer und die Verlustfunktion initialisieren\n",
    "    classifier = MultiLabelClassifier(input_dim=512)\n",
    "    optimizer = optim.Adam(model.parameters(), lr=1e-5)\n",
    "    criterion = nn.BCELoss()\n",
    "\n",
    "    # Training\n",
    "    classifier.train()\n",
    "    for epoch in range(10):\n",
    "        for batch in train_loader:\n",
    "            image_embeddings = batch['image_embedding']\n",
    "            labels = batch['labels']\n",
    "            optimizer.zero_grad()\n",
    "            predictions = classifier(image_embeddings)\n",
    "            loss = criterion(predictions, labels)\n",
    "            loss.backward()\n",
    "            optimizer.step()\n",
    "            \n",
    "    # Evaluierung\n",
    "    classifier.eval()\n",
    "    val_loss = 0.0\n",
    "    with torch.no_grad():\n",
    "        for batch in val_loader:\n",
    "            image_embeddings = batch['image_embedding']\n",
    "            labels = batch['labels']\n",
    "            predictions = classifier(image_embeddings)\n",
    "            loss = criterion(predictions, labels)\n",
    "            val_loss += loss.item()\n",
    "\n",
    "    avg_val_loss = val_loss / len(val_loader)\n",
    "    print(f'Validationsloss für Fold {fold + 1}: {avg_val_loss:.4f}')\n",
    "\n",
    "    # Das trainierte Model speichern\n",
    "    if avg_val_loss < best_val_loss:\n",
    "        best_val_loss = avg_val_loss\n",
    "        best_classifier = classifier.state_dict()\n",
    "        torch.save(best_classifier, best_classifier_save_path)\n",
    "        print(f\"Classifier für Fold {fold + 1} als bester Classifier gespeichert.\")\n",
    "\n",
    "print(f\"Der beste Classifier ist auf: {best_classifier_save_path}\")"
   ]
  },
  {
   "cell_type": "code",
   "execution_count": 18,
   "id": "acb92e4d-44df-4e30-bb65-961f2ff2e2d5",
   "metadata": {},
   "outputs": [],
   "source": [
    "def evaluate_dataset(images, dataset_name, transform, processor, model, classifier, best_classifier_save_path):\n",
    "    classifier.load_state_dict(torch.load(best_classifier_save_path))\n",
    "    classifier.eval()\n",
    "    \n",
    "    dataset = MyDataset(images, labels=None, transform=transform, processor=processor, model=model)\n",
    "    dataloader = DataLoader(dataset, batch_size=32, shuffle=False)\n",
    "\n",
    "    threshold = 0.5\n",
    "    results = []\n",
    "\n",
    "    with torch.no_grad():\n",
    "        for batch_idx, batch in enumerate(dataloader):\n",
    "            image_embeddings = batch['image_embedding']\n",
    "            \n",
    "            predictions = classifier(image_embeddings)\n",
    "            probabilities = predictions.sigmoid().cpu().numpy()\n",
    "\n",
    "            for i, probability in enumerate(probabilities):\n",
    "                man_probability = probability[0]\n",
    "                woman_probability = probability[1]\n",
    "    \n",
    "                if man_probability >= threshold and man_probability > woman_probability:\n",
    "                    category = \"Man\"\n",
    "                elif woman_probability >= threshold and woman_probability > man_probability:\n",
    "                    category = \"Woman\"\n",
    "                else:\n",
    "                    category = \"Neither\"\n",
    "\n",
    "                image_idx = batch_idx * 32 + i\n",
    "                if image_idx < len(images):\n",
    "                    results.append({\n",
    "                        \"Image\": images[image_idx],\n",
    "                        \"Predicted Category\": category,\n",
    "                        \"Man Probability\": man_probability, \n",
    "                        \"Woman Probability\": woman_probability\n",
    "                    })\n",
    "\n",
    "    results_file = f'{dataset_name}_gender_detection_results.csv'\n",
    "    with open(results_file, mode='w', newline='') as file:\n",
    "        writer = csv.DictWriter(file, fieldnames=results[0].keys())\n",
    "        writer.writeheader()\n",
    "        writer.writerows(results)\n",
    "\n",
    "    print(f\"Ergebnis auf {results_file} gespeichert\")\n",
    "\n",
    "    df = pd.read_csv(results_file)\n",
    "    counts = df['Predicted Category'].value_counts()\n",
    "    counts = counts.reindex(['Man', 'Woman', 'Neither'], fill_value=0)\n",
    "    percentages = (counts / counts.sum()) * 100\n",
    "\n",
    "    plt.figure(figsize=(8, 6))\n",
    "    plt.bar(percentages.index, percentages.values)\n",
    "    plt.xlabel(\"Vorhergesagte Kategorie\")\n",
    "    plt.ylabel(\"Prozentsatz\")\n",
    "    plt.title(\"Verteilung der vorhergesagten Geschlechterkategorien\")\n",
    "    plt.show()"
   ]
  },
  {
   "cell_type": "markdown",
   "id": "6fba7796-67fb-4600-93c5-434782ec3092",
   "metadata": {},
   "source": [
    "## Alle Bilder"
   ]
  },
  {
   "cell_type": "code",
   "execution_count": 19,
   "id": "8f499da5-09a1-460e-bc86-eca89b8f1035",
   "metadata": {},
   "outputs": [
    {
     "name": "stdout",
     "output_type": "stream",
     "text": [
      "Ergebnis auf Alle_gender_detection_results.csv gespeichert\n"
     ]
    },
    {
     "data": {
      "image/png": "[encoded data removed]",
      "text/plain": [
       "<Figure size 800x600 with 1 Axes>"
      ]
     },
     "metadata": {},
     "output_type": "display_data"
    }
   ],
   "source": [
    "evaluate_dataset(images, \"Alle\", transform, processor, model, classifier, best_classifier_save_path)"
   ]
  },
  {
   "cell_type": "markdown",
   "id": "7fb2028f-3810-4331-a991-e1507c6b3b70",
   "metadata": {},
   "source": [
    "## Sowjetunion"
   ]
  },
  {
   "cell_type": "code",
   "execution_count": 20,
   "id": "cdcd297f-0a30-4eca-9ec2-fcfa364c0821",
   "metadata": {},
   "outputs": [
    {
     "name": "stdout",
     "output_type": "stream",
     "text": [
      "Ergebnis auf USSR_gender_detection_results.csv gespeichert\n"
     ]
    },
    {
     "data": {
      "image/png": "[encoded data removed]",
      "text/plain": [
       "<Figure size 800x600 with 1 Axes>"
      ]
     },
     "metadata": {},
     "output_type": "display_data"
    }
   ],
   "source": [
    "evaluate_dataset(images_USSR, \"USSR\", transform, processor, model, classifier, best_classifier_save_path)"
   ]
  },
  {
   "cell_type": "markdown",
   "id": "1ed8bd5a-f42d-49eb-a150-87710edf9b9b",
   "metadata": {},
   "source": [
    "## Nordkorea"
   ]
  },
  {
   "cell_type": "code",
   "execution_count": 21,
   "id": "dd49598b-7bbf-481d-9bc4-232491a284aa",
   "metadata": {},
   "outputs": [
    {
     "name": "stdout",
     "output_type": "stream",
     "text": [
      "Ergebnis auf DPRK_gender_detection_results.csv gespeichert\n"
     ]
    },
    {
     "data": {
      "image/png": "[encoded data removed]",
      "text/plain": [
       "<Figure size 800x600 with 1 Axes>"
      ]
     },
     "metadata": {},
     "output_type": "display_data"
    }
   ],
   "source": [
    "evaluate_dataset(images_DPRK, \"DPRK\", transform, processor, model, classifier, best_classifier_save_path)"
   ]
  }
 ],
 "metadata": {
  "kernelspec": {
   "display_name": "Cultural Analytics",
   "language": "python",
   "name": "culturalanalytics"
  },
  "language_info": {
   "codemirror_mode": {
    "name": "ipython",
    "version": 3
   },
   "file_extension": ".py",
   "mimetype": "text/x-python",
   "name": "python",
   "nbconvert_exporter": "python",
   "pygments_lexer": "ipython3",
   "version": "3.13.2"
  }
 },
 "nbformat": 4,
 "nbformat_minor": 5
}
