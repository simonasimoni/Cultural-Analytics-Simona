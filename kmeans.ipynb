{
 "cells": [
  {
   "cell_type": "markdown",
   "id": "b9b46c85-71a0-463e-8138-5b7fcee2ffb4",
   "metadata": {},
   "source": [
    "# K-Means Clustering"
   ]
  },
  {
   "cell_type": "markdown",
   "id": "0e4d46d4-514d-431e-9e75-d90272b453e8",
   "metadata": {},
   "source": [
    "## Einsetzung des k-Means-Algorithmus zur Farbenerkennung"
   ]
  },
  {
   "cell_type": "code",
   "execution_count": 1,
   "id": "72bcf029-6495-4453-8a9a-4fedba3e350f",
   "metadata": {},
   "outputs": [],
   "source": [
    "# Die benötigten Pakete importieren\n",
    "import os\n",
    "from PIL import Image\n",
    "import numpy as np\n",
    "import matplotlib.pyplot as plt\n",
    "from sklearn.cluster import KMeans"
   ]
  },
  {
   "cell_type": "code",
   "execution_count": 2,
   "id": "4e32f790-4aa7-4fd6-bbd4-a6ab5b380699",
   "metadata": {},
   "outputs": [],
   "source": [
    "# Eine Funktion erstellen, um die vorherrschende Farben für die Datensätze zu finden\n",
    "# Sowohl für die sowjetischen als auch für die nordkoreanischen Bilder\n",
    "def create_palette(image_folder, k):\n",
    "    pixels = []\n",
    "    images = [os.path.join(image_folder, img) for img in os.listdir(image_folder) if img.endswith(('jpg', 'jpeg', 'png'))]\n",
    "\n",
    "    for image in images:\n",
    "        path = os.path.join(image_folder, image)\n",
    "        img = Image.open(path).convert(\"RGB\")\n",
    "        img = img.resize((100, 100))\n",
    "        \n",
    "        data = np.array(img)\n",
    "        pix = data.reshape(-1,3)\n",
    "        pixels.extend(pix)\n",
    "\n",
    "    kmeans = KMeans(n_clusters=k, random_state=10)\n",
    "    kmeans.fit(pixels)\n",
    "    colours = kmeans.cluster_centers_.astype(int)\n",
    "\n",
    "    return colours"
   ]
  },
  {
   "cell_type": "code",
   "execution_count": 3,
   "id": "285ba337-c8c9-4194-aed7-f33e8a367460",
   "metadata": {},
   "outputs": [],
   "source": [
    "# Funktion, um die Farben zu visualisieren\n",
    "def visualise_colour_palette(colours, dataset):\n",
    "    plt.figure(figsize=(8, 2))\n",
    "    plt.title(dataset, fontsize=12)\n",
    "    plt.axis(\"off\")\n",
    "    plt.imshow([colours])\n",
    "    plt.show()"
   ]
  },
  {
   "cell_type": "code",
   "execution_count": 4,
   "id": "c7b312c0-d77c-4170-a02e-6bdec9571b86",
   "metadata": {},
   "outputs": [
    {
     "data": {
      "image/png": "[encoded data removed]",
      "text/plain": [
       "<Figure size 800x200 with 1 Axes>"
      ]
     },
     "metadata": {},
     "output_type": "display_data"
    }
   ],
   "source": [
    "# Datensatz: Sowjetunion\n",
    "images_USSR = '/home/sc.uni-leipzig.de/lj25vapa/Cultural Analytics/Sowjetunion'\n",
    "colours_USSR = create_palette(images_USSR, k=6)\n",
    "visualise_colour_palette(colours_USSR, dataset=\"Farbpalette Sowjetunion\")"
   ]
  },
  {
   "cell_type": "code",
   "execution_count": 5,
   "id": "9832e2b8-26b6-4fd3-96d1-e170b0f13860",
   "metadata": {},
   "outputs": [
    {
     "data": {
      "image/png": "[encoded data removed]",
      "text/plain": [
       "<Figure size 800x200 with 1 Axes>"
      ]
     },
     "metadata": {},
     "output_type": "display_data"
    }
   ],
   "source": [
    "# Datensatz: Nordkorea\n",
    "images_DPRK = '/home/sc.uni-leipzig.de/lj25vapa/Cultural Analytics/Nordkorea'\n",
    "colours_DPRK = create_palette(images_DPRK, k=6)\n",
    "visualise_colour_palette(colours_DPRK, dataset=\"Farbpalette Nordkorea\")"
   ]
  }
 ],
 "metadata": {
  "kernelspec": {
   "display_name": "Cultural Analytics",
   "language": "python",
   "name": "culturalanalytics"
  },
  "language_info": {
   "codemirror_mode": {
    "name": "ipython",
    "version": 3
   },
   "file_extension": ".py",
   "mimetype": "text/x-python",
   "name": "python",
   "nbconvert_exporter": "python",
   "pygments_lexer": "ipython3",
   "version": "3.13.2"
  }
 },
 "nbformat": 4,
 "nbformat_minor": 5
}
